{
 "cells": [
  {
   "cell_type": "code",
   "execution_count": 3,
   "metadata": {},
   "outputs": [],
   "source": [
    "import pandas as pd\n",
    "import matplotlib.pyplot as plt\n",
    "import seaborn as sns\n",
    "%matplotlib inline\n",
    "\n",
    "import statsmodels.api as sm\n",
    "import patsy\n",
    "\n",
    "import numpy as np"
   ]
  },
  {
   "cell_type": "code",
   "execution_count": 4,
   "metadata": {},
   "outputs": [],
   "source": [
    "sns.set_style(\"white\")"
   ]
  },
  {
   "cell_type": "markdown",
   "metadata": {},
   "source": [
    "# Descriptive analysis"
   ]
  },
  {
   "cell_type": "code",
   "execution_count": 5,
   "metadata": {},
   "outputs": [
    {
     "name": "stdout",
     "output_type": "stream",
     "text": [
      "12733\n",
      "      opid  indeg  outdeg  age  year  nuniqs      bows      sems      word\n",
      "0    88651      0       0  145  1873     416  4.540803  4.251326    bonded\n",
      "1  2311398      1       8   21  1997     457  3.347616  7.172658  circuits\n",
      "2  2129397      0       7   27  1991     565  2.213153      -inf       UNK\n",
      "3992\n"
     ]
    }
   ],
   "source": [
    "df_ops = pd.read_csv('../data/frames/ops.final')\n",
    "print (len (df_ops))\n",
    "print(df_ops.head(3))\n",
    "print(df_ops['indeg'].max())"
   ]
  },
  {
   "cell_type": "code",
   "execution_count": 6,
   "metadata": {},
   "outputs": [
    {
     "name": "stdout",
     "output_type": "stream",
     "text": [
      "693554\n"
     ]
    },
    {
     "data": {
      "text/html": [
       "<div>\n",
       "<style scoped>\n",
       "    .dataframe tbody tr th:only-of-type {\n",
       "        vertical-align: middle;\n",
       "    }\n",
       "\n",
       "    .dataframe tbody tr th {\n",
       "        vertical-align: top;\n",
       "    }\n",
       "\n",
       "    .dataframe thead th {\n",
       "        text-align: right;\n",
       "    }\n",
       "</style>\n",
       "<table border=\"1\" class=\"dataframe\">\n",
       "  <thead>\n",
       "    <tr style=\"text-align: right;\">\n",
       "      <th></th>\n",
       "      <th>indeg</th>\n",
       "      <th>outdeg</th>\n",
       "      <th>year</th>\n",
       "      <th>authors</th>\n",
       "      <th>nuniqs</th>\n",
       "      <th>bows</th>\n",
       "      <th>lang</th>\n",
       "      <th>word</th>\n",
       "      <th>sems</th>\n",
       "      <th>age</th>\n",
       "      <th>isunk</th>\n",
       "    </tr>\n",
       "  </thead>\n",
       "  <tbody>\n",
       "    <tr>\n",
       "      <th>0</th>\n",
       "      <td>29</td>\n",
       "      <td>3</td>\n",
       "      <td>1998</td>\n",
       "      <td>2</td>\n",
       "      <td>51</td>\n",
       "      <td>21.359490</td>\n",
       "      <td>en</td>\n",
       "      <td>UNK</td>\n",
       "      <td>-inf</td>\n",
       "      <td>20</td>\n",
       "      <td>1</td>\n",
       "    </tr>\n",
       "    <tr>\n",
       "      <th>1</th>\n",
       "      <td>19</td>\n",
       "      <td>2</td>\n",
       "      <td>1999</td>\n",
       "      <td>5</td>\n",
       "      <td>69</td>\n",
       "      <td>13.925706</td>\n",
       "      <td>en</td>\n",
       "      <td>UNK</td>\n",
       "      <td>-inf</td>\n",
       "      <td>19</td>\n",
       "      <td>1</td>\n",
       "    </tr>\n",
       "    <tr>\n",
       "      <th>2</th>\n",
       "      <td>20</td>\n",
       "      <td>17</td>\n",
       "      <td>2007</td>\n",
       "      <td>3</td>\n",
       "      <td>83</td>\n",
       "      <td>27.623942</td>\n",
       "      <td>en</td>\n",
       "      <td>UNK</td>\n",
       "      <td>-inf</td>\n",
       "      <td>11</td>\n",
       "      <td>1</td>\n",
       "    </tr>\n",
       "  </tbody>\n",
       "</table>\n",
       "</div>"
      ],
      "text/plain": [
       "   indeg  outdeg  year  authors  nuniqs       bows lang word  sems  age  isunk\n",
       "0     29       3  1998        2      51  21.359490   en  UNK  -inf   20      1\n",
       "1     19       2  1999        5      69  13.925706   en  UNK  -inf   19      1\n",
       "2     20      17  2007        3      83  27.623942   en  UNK  -inf   11      1"
      ]
     },
     "execution_count": 6,
     "metadata": {},
     "output_type": "execute_result"
    }
   ],
   "source": [
    "df_dblp = pd.read_csv('../data/frames/dblp.final')\n",
    "print (len (df_dblp))\n",
    "df_dblp.head(3)"
   ]
  },
  {
   "cell_type": "code",
   "execution_count": 7,
   "metadata": {},
   "outputs": [
    {
     "name": "stdout",
     "output_type": "stream",
     "text": [
      "7544\n",
      "62474\n"
     ]
    }
   ],
   "source": [
    "# for simplicity, let's remove docs which don't hit the lexicon\n",
    "# i think we may have to do this inevitably\n",
    "# where we can add a dummy variable.\n",
    "exclude_list = [\"UNK\"] # when no innovation is present, for dblp only, i keep the word field to be UNK\n",
    "drop_misses = True\n",
    "if drop_misses:\n",
    "    df_ops = df_ops[(~df_ops['word'].isin(exclude_list))]\n",
    "    df_dblp = df_dblp[(~df_dblp['word'].isin(exclude_list))]\n",
    "print (len(df_ops))\n",
    "print (len(df_dblp))"
   ]
  },
  {
   "cell_type": "markdown",
   "metadata": {},
   "source": [
    "Let's make the plots of indegree vs semantic innovativeness quartiles."
   ]
  },
  {
   "cell_type": "code",
   "execution_count": 8,
   "metadata": {},
   "outputs": [],
   "source": [
    "# quartile-ish bins of the innovation feature  \n",
    "df_ops['sem_q'] = pd.qcut(df_ops['sems'],4,labels=[\"<25\", \"<50\", \"<75\", \"<100\"], duplicates='drop')\n",
    "df_dblp['sem_q'] = pd.qcut(df_dblp['sems'],4, labels=[\"<25\", \"<50\", \"<75\", \"<100\"], duplicates='drop')"
   ]
  },
  {
   "cell_type": "code",
   "execution_count": 9,
   "metadata": {},
   "outputs": [
    {
     "data": {
      "text/plain": [
       "Text(0,0.5,'')"
      ]
     },
     "execution_count": 9,
     "metadata": {},
     "output_type": "execute_result"
    },
    {
     "data": {
      "image/png": "[encoded data removed]",
      "text/plain": [
       "<Figure size 504x144 with 2 Axes>"
      ]
     },
     "metadata": {},
     "output_type": "display_data"
    }
   ],
   "source": [
    "sns.set_context(\"paper\")\n",
    "fig,ax = plt.subplots(1,2,figsize=[7,2],sharey=True)\n",
    "\n",
    "sns.barplot(y='indeg',x='sem_q',data=df_ops,ax=ax[0]);\n",
    "ax[0].set_title('Legal opinions')\n",
    "ax[0].set_xlabel('Quantiles')\n",
    "ax[0].set_ylabel('Citations')\n",
    "sns.barplot(y='indeg',x='sem_q',data=df_dblp,ax=ax[1]);\n",
    "ax[1].set_title('Scientific articles');\n",
    "ax[1].set_xlabel('Quantiles')\n",
    "ax[1].set_ylabel('')"
   ]
  },
  {
   "cell_type": "markdown",
   "metadata": {},
   "source": [
    "For **OPS**: Already looks pretty decent!\n",
    "\n",
    "For **DBLP**: I tried different quantiles, but the story remains consistent: highly progressive *as well as* highly conservative papers get more citations! \n",
    "\n",
    "My guess is that the conservative papers are dominated by older seminal papers. Let's draw a histogram of the years in the lower quartile."
   ]
  },
  {
   "cell_type": "markdown",
   "metadata": {},
   "source": [
    "Not entirely conclusive, but there is a slight tendency towards the later years. Correction for age might be necessary. Let's look at the 2000's.\n",
    "\n",
    "### Correction for age: DBLP (2000's only) "
   ]
  },
  {
   "cell_type": "code",
   "execution_count": 11,
   "metadata": {},
   "outputs": [
    {
     "name": "stdout",
     "output_type": "stream",
     "text": [
      "15207\n"
     ]
    }
   ],
   "source": [
    "df_dblp_2000s = df_dblp[(df_dblp[\"year\"] > 2000) & (df_dblp[\"year\"] <= 2010)]\n",
    "print (len(df_dblp_2000s))"
   ]
  },
  {
   "cell_type": "code",
   "execution_count": 12,
   "metadata": {},
   "outputs": [
    {
     "data": {
      "image/png": "[encoded data removed]",
      "text/plain": [
       "<Figure size 432x252 with 1 Axes>"
      ]
     },
     "metadata": {},
     "output_type": "display_data"
    }
   ],
   "source": [
    "sns.set_context(\"paper\")\n",
    "fig,ax = plt.subplots(1,1,figsize=[6,3.5])\n",
    "sns.barplot(y='indeg',x='sem_q',data=df_dblp_2000s,ax=ax);\n",
    "ax.set_title('Scientific articles');"
   ]
  },
  {
   "cell_type": "markdown",
   "metadata": {},
   "source": [
    "I also tried other decades: 90's and 2010's. The plot look reasonable. If you go more in the past, there are less progressive papers so the variance is high."
   ]
  },
  {
   "cell_type": "markdown",
   "metadata": {},
   "source": [
    "Lets also try something like that for OPS!"
   ]
  },
  {
   "cell_type": "code",
   "execution_count": 17,
   "metadata": {},
   "outputs": [
    {
     "name": "stdout",
     "output_type": "stream",
     "text": [
      "5178\n"
     ]
    }
   ],
   "source": [
    "df_ops_80s_to_2010s = df_ops[(df_ops[\"year\"] > 1980) & (df_ops[\"year\"] <= 2010)]\n",
    "print (len(df_ops_80s_to_2010s))"
   ]
  },
  {
   "cell_type": "code",
   "execution_count": 18,
   "metadata": {},
   "outputs": [
    {
     "data": {
      "image/png": "[encoded data removed]",
      "text/plain": [
       "<Figure size 432x252 with 1 Axes>"
      ]
     },
     "metadata": {},
     "output_type": "display_data"
    }
   ],
   "source": [
    "sns.set_context(\"paper\")\n",
    "fig,ax = plt.subplots(1,1,figsize=[6,3.5])\n",
    "sns.barplot(y='indeg',x='sem_q',data=df_ops_80s_to_2010s,ax=ax);\n",
    "ax.set_title('Legal opinions');"
   ]
  },
  {
   "cell_type": "markdown",
   "metadata": {},
   "source": [
    "Again, other periods all look decent!"
   ]
  },
  {
   "cell_type": "markdown",
   "metadata": {},
   "source": [
    "Lets keep it consistent for both and draw a shared plot."
   ]
  },
  {
   "cell_type": "code",
   "execution_count": 18,
   "metadata": {},
   "outputs": [
    {
     "data": {
      "text/plain": [
       "(-0.5900000000000001, 3.5900000000000003, 0.0, 148.17603060233162)"
      ]
     },
     "execution_count": 18,
     "metadata": {},
     "output_type": "execute_result"
    },
    {
     "data": {
      "image/png": "[encoded data removed]",
      "text/plain": [
       "<Figure size 432x129.6 with 2 Axes>"
      ]
     },
     "metadata": {},
     "output_type": "display_data"
    }
   ],
   "source": [
    "FROM=1980\n",
    "TO=2010\n",
    "\n",
    "df_ops[\"logdeg\"] = np.log1p(df_ops[\"indeg\"])\n",
    "\n",
    "sns.set_context (\"paper\")\n",
    "fig,ax = plt.subplots (1,2, figsize=(6,1.8), sharey=False)\n",
    "sns.barplot (y=\"indeg\", x=\"sem_q\", data=df_ops[(df_ops[\"year\"] > FROM) & (df_ops[\"year\"] <= TO)], ax=ax[0], color='green')\n",
    "ax[0].set_title (\"Legal opinions\")\n",
    "ax[0].set_ylabel (\"Number of citations\")\n",
    "ax[0].set_xlabel (\"Progressiveness quantile\")\n",
    "\n",
    "df_dblp[\"logdeg\"] = np.log1p(df_dblp[\"indeg\"])\n",
    "sns.barplot (y=\"indeg\", x=\"sem_q\", data=df_dblp[(df_dblp[\"year\"] > FROM) & (df_dblp[\"year\"] <= TO)], ax=ax[1], color='brown')\n",
    "ax[1].set_title (\"Scientific articles\")\n",
    "ax[1].set_ylabel (\"Number of citations\")\n",
    "ax[1].set_xlabel (\"Progressiveness quantile\")\n",
    "\n",
    "plt.subplots_adjust(wspace=.3)\n",
    "plt.axis('tight')\n",
    "#plt.savefig('cites-by-progressiveness.pdf', bbox_inches='tight')\n"
   ]
  },
  {
   "cell_type": "markdown",
   "metadata": {},
   "source": [
    "# Regression"
   ]
  },
  {
   "cell_type": "code",
   "execution_count": 76,
   "metadata": {},
   "outputs": [],
   "source": [
    "from scipy.stats.distributions import chi2"
   ]
  },
  {
   "cell_type": "markdown",
   "metadata": {},
   "source": [
    "## OPS"
   ]
  },
  {
   "cell_type": "code",
   "execution_count": 68,
   "metadata": {},
   "outputs": [],
   "source": [
    "formulas_ops = [\"indeg ~ age + outdeg + nuniqs\"]\n",
    "formulas_ops.append(formulas_ops[0]+\" + bows\")\n",
    "formulas_ops.append(formulas_ops[1]+\" + sems\")\n",
    "formulas_ops.append(formulas_ops[1]+\" + sem_q\")"
   ]
  },
  {
   "cell_type": "code",
   "execution_count": 69,
   "metadata": {},
   "outputs": [],
   "source": [
    "results_ops = []\n",
    "for formula in formulas_ops:\n",
    "    Y,X = patsy.dmatrices(formula,data=df_ops)\n",
    "    results_ops.append(sm.GLM(Y, X, family=sm.families.Poisson()).fit())"
   ]
  },
  {
   "cell_type": "code",
   "execution_count": 73,
   "metadata": {},
   "outputs": [
    {
     "name": "stdout",
     "output_type": "stream",
     "text": [
      "[-231777.6622467888, -228538.42492873129, -228535.20149221225, -227663.12367789674]\n"
     ]
    }
   ],
   "source": [
    "lls = [result.llf for result in results_ops]\n",
    "print(lls)"
   ]
  },
  {
   "cell_type": "code",
   "execution_count": 75,
   "metadata": {},
   "outputs": [
    {
     "name": "stdout",
     "output_type": "stream",
     "text": [
      "1 0 \\chi^2_1 = 3239.24, p < 0.000e+00\n",
      "2 0 \\chi^2_2 = 3242.46, p < 0.000e+00\n",
      "2 1 \\chi^2_1 = 3.22, p < 7.259e-02\n",
      "3 0 \\chi^2_4 = 4114.54, p < 0.000e+00\n",
      "3 1 \\chi^2_3 = 875.30, p < 2.015e-189\n",
      "3 2 \\chi^2_2 = 872.08, p < 4.273e-190\n"
     ]
    }
   ],
   "source": [
    "for i,ll_0 in enumerate(lls):\n",
    "    for j,ll_1 in enumerate(lls[:i]):\n",
    "        chi2_score = ll_0-ll_1\n",
    "        dof = len(formulas_ops[i].split(\"+\")) - len(formulas_ops[j].split('+'))\n",
    "        if i == 3: dof += 2 #quartiles\n",
    "        print(i,j,f'\\\\chi^2_{dof} = {chi2_score:.2f}, p < {chi2.sf(chi2_score, dof):.3e}')"
   ]
  },
  {
   "cell_type": "code",
   "execution_count": 77,
   "metadata": {},
   "outputs": [
    {
     "name": "stdout",
     "output_type": "stream",
     "text": [
      "                 Generalized Linear Model Regression Results                  \n",
      "==============================================================================\n",
      "Dep. Variable:                  indeg   No. Observations:                 7544\n",
      "Model:                            GLM   Df Residuals:                     7536\n",
      "Model Family:                 Poisson   Df Model:                            7\n",
      "Link Function:                    log   Scale:                          1.0000\n",
      "Method:                          IRLS   Log-Likelihood:            -2.2766e+05\n",
      "Date:                Mon, 10 Dec 2018   Deviance:                   4.3342e+05\n",
      "Time:                        17:09:33   Pearson chi2:                 2.49e+06\n",
      "No. Iterations:                     8   Covariance Type:             nonrobust\n",
      "=================================================================================\n",
      "                    coef    std err          z      P>|z|      [0.025      0.975]\n",
      "---------------------------------------------------------------------------------\n",
      "Intercept         1.6911      0.008    208.694      0.000       1.675       1.707\n",
      "sem_q[T.<50]      0.2007      0.008     25.459      0.000       0.185       0.216\n",
      "sem_q[T.<75]      0.2566      0.008     31.423      0.000       0.241       0.273\n",
      "sem_q[T.<100]     0.3336      0.008     40.534      0.000       0.318       0.350\n",
      "age               0.0156   8.84e-05    176.568      0.000       0.015       0.016\n",
      "outdeg            0.0086      0.000     49.961      0.000       0.008       0.009\n",
      "nuniqs            0.0004   4.11e-06     89.055      0.000       0.000       0.000\n",
      "bows              0.0002      3e-06     75.655      0.000       0.000       0.000\n",
      "=================================================================================\n"
     ]
    }
   ],
   "source": [
    "print(results_ops[3].summary())"
   ]
  },
  {
   "cell_type": "markdown",
   "metadata": {},
   "source": [
    "## DBLP"
   ]
  },
  {
   "cell_type": "code",
   "execution_count": 38,
   "metadata": {},
   "outputs": [],
   "source": [
    "formulas_dblp = [\"indeg ~ age + outdeg + authors + nuniqs\"]\n",
    "formulas_dblp.append(formulas_dblp[0]+\" + bows\")\n",
    "formulas_dblp.append(formulas_dblp[1]+\" + sems\")\n",
    "formulas_dblp.append(formulas_dblp[1]+\" + sem_q\")"
   ]
  },
  {
   "cell_type": "code",
   "execution_count": 40,
   "metadata": {},
   "outputs": [],
   "source": [
    "results_dblp = []\n",
    "for formula in formulas_dblp:\n",
    "    Y,X = patsy.dmatrices(formula,data=df_dblp)\n",
    "    results_dblp.append(sm.GLM(Y, X, family=sm.families.Poisson()).fit())"
   ]
  },
  {
   "cell_type": "code",
   "execution_count": 67,
   "metadata": {},
   "outputs": [
    {
     "name": "stdout",
     "output_type": "stream",
     "text": [
      "[-3085945.1291966727, -3085890.6035801102, -3057183.8619055743, -3050473.686447588]\n"
     ]
    }
   ],
   "source": [
    "lls = [result.llf for result in results_dblp]\n",
    "print(lls)"
   ]
  },
  {
   "cell_type": "code",
   "execution_count": 65,
   "metadata": {},
   "outputs": [
    {
     "name": "stdout",
     "output_type": "stream",
     "text": [
      "1 0 \\chi^2_1 = 55, p < 1.534e-13\n",
      "2 0 \\chi^2_2 = 28761, p < 0.000e+00\n",
      "2 1 \\chi^2_1 = 28707, p < 0.000e+00\n",
      "3 0 \\chi^2_4 = 35471, p < 0.000e+00\n",
      "3 1 \\chi^2_3 = 35417, p < 0.000e+00\n",
      "3 2 \\chi^2_2 = 6710, p < 0.000e+00\n"
     ]
    }
   ],
   "source": [
    "for i,ll_0 in enumerate(lls):\n",
    "    for j,ll_1 in enumerate(lls[:i]):\n",
    "        chi2_score = ll_0-ll_1\n",
    "        dof = len(formulas_dblp[i].split(\"+\")) - len(formulas_dblp[j].split('+'))\n",
    "        if i == 3: dof += 2 #quartiles\n",
    "        print(i,j,f'\\\\chi^2_{dof} = {chi2_score:.0f}, p < {chi2.sf(chi2_score, dof):.3e}')"
   ]
  },
  {
   "cell_type": "markdown",
   "metadata": {},
   "source": [
    "The coefficients are statistically significant, plus the improvement in goodness of fit is high."
   ]
  },
  {
   "cell_type": "markdown",
   "metadata": {},
   "source": [
    "**Write the results as Latex tables**"
   ]
  },
  {
   "cell_type": "code",
   "execution_count": 114,
   "metadata": {},
   "outputs": [],
   "source": [
    "def get_latex_table_string (model_results, coeff):\n",
    "    goodnames = {\n",
    "        \"Intercept\": \"Constant\",\n",
    "        \"sem_q[T.<50]\": \"Prog. Q2\",\n",
    "        \"sem_q[T.<75]\": \"Prog. Q3\",\n",
    "        \"sem_q[T.<100]\": \"Prog. Q4\",\n",
    "        \"age\": \"Age\",\n",
    "        \"outdeg\": \"Outdegree\",\n",
    "        \"bows\": \"BoWs\",\n",
    "        \"nuniqs\": \"Length\",\n",
    "        \"authors\": \"No. of Authors\",\n",
    "        \"sems\": \"Progressiveness\"\n",
    "    }\n",
    "    cols = [\" \" \n",
    "            if coeff not in model_result.model.exog_names \n",
    "            else \"{0:.4f}\".format(round(model_result.params[model_result.model.exog_names.index(coeff)], 4)) \n",
    "            for model_result in model_results]\n",
    "    return \"&\".join ([goodnames[coeff]] + cols) + \"\\\\\\\\\"\n",
    "\n",
    "def get_latex_stderror_string (model_results, coeff):\n",
    "    goodnames = {\n",
    "        \"Intercept\": \"Constant\",\n",
    "        \"sem_q[T.<50]\": \"Prog. Q2\",\n",
    "        \"sem_q[T.<75]\": \"Prog. Q3\",\n",
    "        \"sem_q[T.<100]\": \"Prog. Q4\",\n",
    "        \"age\": \"Age\",\n",
    "        \"outdeg\": \"Outdegree\",\n",
    "        \"bows\": \"BoWs\",\n",
    "        \"nuniqs\": \"Length\",\n",
    "        \"authors\": \"No. of Authors\",\n",
    "        \"sems\": \"Progressiveness\"\n",
    "    }\n",
    "    cols = [\" \" \n",
    "            if coeff not in model_result.model.exog_names \n",
    "            else \"({0:.4f})\".format(round(model_result.bse[model_result.model.exog_names.index(coeff)], 4)) \n",
    "            for model_result in model_results]\n",
    "    \n",
    "    #cols = list (map (lambda x:\"({0})\".format (x), cols))\n",
    "    \n",
    "    return \"&\".join ([\" \"] + cols) + \"\\\\\\\\[4pt]\"\n",
    "\n",
    "def get_latex_ll_string (model_results):\n",
    "    cols = [\"{0}\".format(str(int(round(model_result.llf)))) for model_result in model_results]\n",
    "    return \"&\".join ([\"Log Likelihood\"] + cols) "
   ]
  },
  {
   "cell_type": "code",
   "execution_count": 115,
   "metadata": {},
   "outputs": [],
   "source": [
    "def ops_latex(model_results, coeffs_order):    \n",
    "    print (\"\\\\begin{table*}[t!]\\n\")\n",
    "    print (\"\\centering\")\n",
    "    print (\"\\small\\n\")\n",
    "    # header part\n",
    "    print (\"\\\\begin{tabular}{lrrrr}\")\n",
    "    print (\"\\\\toprule\\n\")\n",
    "    print (\"& & Models & &\\\\\\\\\\n\")\n",
    "    print (\"\\midrule\\n\")\n",
    "    print (\"Predictors & M1 & M2 & M3 & M4 \\\\\\\\\\n\")\n",
    "    print (\"\\\\toprule\\n\")\n",
    "    # core part\n",
    "    \n",
    "    for coeff in coeffs_order:\n",
    "        print (get_latex_table_string(model_results , coeff))\n",
    "        print (get_latex_stderror_string (model_results, coeff))\n",
    "    \n",
    "    print (get_latex_ll_string (model_results))    \n",
    "    print (\"\\\\\\\\\")\n",
    "    print (\"\\\\bottomrule\\n\")\n",
    "    print (\"\\\\end{tabular}\\n\")\n",
    "    print (\"\\caption{The results from regressions to predict the number of citations that a legal opinion receives.}\\n\")\n",
    "    print (\"\\label{tab:legal-regression}\\n\")\n",
    "    \n",
    "    print (\"\\end{table*}\\n\")"
   ]
  },
  {
   "cell_type": "code",
   "execution_count": 116,
   "metadata": {},
   "outputs": [
    {
     "name": "stdout",
     "output_type": "stream",
     "text": [
      "\\begin{table*}[t!]\n",
      "\n",
      "\\centering\n",
      "\\small\n",
      "\n",
      "\\begin{tabular}{lrrrr}\n",
      "\\toprule\n",
      "\n",
      "& & Models & &\\\\\n",
      "\n",
      "\\midrule\n",
      "\n",
      "Predictors & M1 & M2 & M3 & M4 \\\\\n",
      "\n",
      "\\toprule\n",
      "\n",
      "Constant&1.8171&1.9246&1.9210&1.6911\\\\\n",
      " &(0.0051)&(0.0053)&(0.0055)&(0.0081)\\\\[4pt]\n",
      "Outdegree&0.0150&0.0089&0.0088&0.0086\\\\\n",
      " &(0.0001)&(0.0002)&(0.0002)&(0.0002)\\\\[4pt]\n",
      "Age&0.0155&0.0140&0.0141&0.0156\\\\\n",
      " &(0.0001)&(0.0001)&(0.0001)&(0.0001)\\\\[4pt]\n",
      "Length&0.0003&0.0004&0.0004&0.0004\\\\\n",
      " &(0.0000)&(0.0000)&(0.0000)&(0.0000)\\\\[4pt]\n",
      "BoWs& &0.0002&0.0002&0.0002\\\\\n",
      " & &(0.0000)&(0.0000)&(0.0000)\\\\[4pt]\n",
      "Progressiveness& & &0.0002& \\\\\n",
      " & & &(0.0001)& \\\\[4pt]\n",
      "Prog. Q2& & & &0.2007\\\\\n",
      " & & & &(0.0079)\\\\[4pt]\n",
      "Prog. Q3& & & &0.2566\\\\\n",
      " & & & &(0.0082)\\\\[4pt]\n",
      "Prog. Q4& & & &0.3336\\\\\n",
      " & & & &(0.0082)\\\\[4pt]\n",
      "Log Likelihood&-231778&-228538&-228535&-227663\n",
      "\\\\\n",
      "\\bottomrule\n",
      "\n",
      "\\end{tabular}\n",
      "\n",
      "\\caption{The results from regressions to predict the number of citations that a legal opinion receives.}\n",
      "\n",
      "\\label{tab:legal-regression}\n",
      "\n",
      "\\end{table*}\n",
      "\n"
     ]
    }
   ],
   "source": [
    "ops_latex ([ops_po_results1, ops_po_results2, ops_po_results3, ops_po_results4], \n",
    "           [\"Intercept\", \"outdeg\", \"age\", \"nuniqs\", \"bows\", \"sems\", \"sem_q[T.<50]\", \"sem_q[T.<75]\", \"sem_q[T.<100]\"])"
   ]
  },
  {
   "cell_type": "code",
   "execution_count": 122,
   "metadata": {},
   "outputs": [],
   "source": [
    "def dblp_latex(model_results, coeffs_order):    \n",
    "    print (\"\\\\begin{table*}[t!]\\n\")\n",
    "    print (\"\\centering\\n\")\n",
    "    print (\"\\small\\n\")\n",
    "    # header part\n",
    "    print (\"\\\\begin{tabular}{lrrrr}\")\n",
    "    print (\"\\\\toprule\\n\")\n",
    "    print (\"& & Models & &\\\\\\\\\\n\")\n",
    "    print (\"\\midrule\\n\")\n",
    "    print (\"Predictors & (1) & (2) & (3) & (4) \\\\\\\\\\n\")\n",
    "    print (\"\\\\toprule\\n\")\n",
    "    # core part\n",
    "    \n",
    "    for coeff in coeffs_order:\n",
    "        print (get_latex_table_string(model_results , coeff))\n",
    "        print (get_latex_stderror_string (model_results, coeff))\n",
    "    \n",
    "    print (get_latex_ll_string (model_results))    \n",
    "    print (\"\\\\\\\\\")\n",
    "    print (\"\\\\bottomrule\\n\")\n",
    "    print (\"\\\\end{tabular}\\n\")\n",
    "    print (\"\\caption{The results from regressions to predict the number of citations that a scientific article receives.}\\n\")\n",
    "    print (\"\\label{tab:legal-abstracts}\\n\")\n",
    "    \n",
    "    print (\"\\end{table*}\\n\")"
   ]
  },
  {
   "cell_type": "code",
   "execution_count": 134,
   "metadata": {},
   "outputs": [],
   "source": [
    "import datetime"
   ]
  },
  {
   "cell_type": "code",
   "execution_count": 137,
   "metadata": {},
   "outputs": [
    {
     "name": "stdout",
     "output_type": "stream",
     "text": [
      "2018-12-10 20:08:33.797486\n"
     ]
    }
   ],
   "source": [
    "print(datetime.datetime.now())"
   ]
  },
  {
   "cell_type": "code",
   "execution_count": 133,
   "metadata": {},
   "outputs": [
    {
     "data": {
      "text/plain": [
       "0.8883897749052874"
      ]
     },
     "execution_count": 133,
     "metadata": {},
     "output_type": "execute_result"
    }
   ],
   "source": [
    "chi2.cdf(6,3)"
   ]
  },
  {
   "cell_type": "code",
   "execution_count": 132,
   "metadata": {},
   "outputs": [
    {
     "data": {
      "text/plain": [
       "0.8883897749052874"
      ]
     },
     "execution_count": 132,
     "metadata": {},
     "output_type": "execute_result"
    }
   ],
   "source": [
    "1 - chi2.sf(6,3)"
   ]
  },
  {
   "cell_type": "code",
   "execution_count": 124,
   "metadata": {},
   "outputs": [
    {
     "name": "stdout",
     "output_type": "stream",
     "text": [
      "{foo}\n"
     ]
    }
   ],
   "source": [
    "print(\"{%s}\"%('foo'))"
   ]
  },
  {
   "cell_type": "code",
   "execution_count": 123,
   "metadata": {},
   "outputs": [
    {
     "name": "stdout",
     "output_type": "stream",
     "text": [
      "\\begin{table*}[t!]\n",
      "\n",
      "\\centering\n",
      "\n",
      "\\small\n",
      "\n",
      "\\begin{tabular}{lrrrr}\n",
      "\\toprule\n",
      "\n",
      "& & Models & &\\\\\n",
      "\n",
      "\\midrule\n",
      "\n",
      "Predictors & (1) & (2) & (3) & (4) \\\\\n",
      "\n",
      "\\toprule\n",
      "\n",
      "Constant&1.7929&1.7964&1.6389&1.4181\\\\\n",
      " &(0.0025)&(0.0026)&(0.0027)&(0.0031)\\\\[4pt]\n",
      "Outdegree&0.0166&0.0166&0.0165&0.0162\\\\\n",
      " &(0.0000)&(0.0000)&(0.0000)&(0.0000)\\\\[4pt]\n",
      "Age&0.0863&0.0863&0.0933&0.0973\\\\\n",
      " &(0.0001)&(0.0001)&(0.0001)&(0.0001)\\\\[4pt]\n",
      "Length&0.0047&0.0047&0.0045&0.0047\\\\\n",
      " &(0.0000)&(0.0000)&(0.0000)&(0.0000)\\\\[4pt]\n",
      "No. of Authors&0.0406&0.0406&0.0418&0.0421\\\\\n",
      " &(0.0002)&(0.0002)&(0.0002)&(0.0002)\\\\[4pt]\n",
      "BoWs& &0.0000&0.0000&0.0000\\\\\n",
      " & &(0.0000)&(0.0000)&(0.0000)\\\\[4pt]\n",
      "Progressiveness& & &0.0138& \\\\\n",
      " & & &(0.0001)& \\\\[4pt]\n",
      "Prog. Q2& & & &0.1876\\\\\n",
      " & & & &(0.0021)\\\\[4pt]\n",
      "Prog. Q3& & & &0.4200\\\\\n",
      " & & & &(0.0023)\\\\[4pt]\n",
      "Prog. Q4& & & &0.5862\\\\\n",
      " & & & &(0.0023)\\\\[4pt]\n",
      "Log Likelihood&-3085945&-3085891&-3057184&-3050474\n",
      "\\\\\n",
      "\\bottomrule\n",
      "\n",
      "\\end{tabular}\n",
      "\n",
      "\\caption{The results from regressions to predict the number of citations that a scientific article receives.}\n",
      "\n",
      "\\label{tab:legal-abstracts}\n",
      "\n",
      "\\end{table*}\n",
      "\n"
     ]
    }
   ],
   "source": [
    "dblp_latex (results_dblp, \n",
    "           [\"Intercept\", \"outdeg\", \"age\", \"nuniqs\", \"authors\", \"bows\", \"sems\", \"sem_q[T.<50]\", \"sem_q[T.<75]\", \"sem_q[T.<100]\"])"
   ]
  }
 ],
 "metadata": {
  "kernelspec": {
   "display_name": "Python 3",
   "language": "python",
   "name": "python3"
  },
  "language_info": {
   "codemirror_mode": {
    "name": "ipython",
    "version": 3
   },
   "file_extension": ".py",
   "mimetype": "text/x-python",
   "name": "python",
   "nbconvert_exporter": "python",
   "pygments_lexer": "ipython3",
   "version": "3.6.5"
  }
 },
 "nbformat": 4,
 "nbformat_minor": 2
}
