{
 "cells": [
  {
   "cell_type": "code",
   "execution_count": 1,
   "metadata": {},
   "outputs": [],
   "source": [
    "# imports needed and set up logging\n",
    "import gzip\n",
    "import gensim \n",
    "import logging\n",
    "\n",
    "logging.basicConfig(format='%(asctime)s : %(levelname)s : %(message)s', level=logging.INFO)"
   ]
  },
  {
   "cell_type": "code",
   "execution_count": 14,
   "metadata": {},
   "outputs": [],
   "source": [
    "from gensim.models.callbacks import CallbackAny2Vec"
   ]
  },
  {
   "cell_type": "code",
   "execution_count": 19,
   "metadata": {},
   "outputs": [],
   "source": [
    "class EpochLogger(CallbackAny2Vec):\n",
    "    '''Callback to log information about training'''\n",
    "    def __init__(self):\n",
    "        self.epoch = 0\n",
    "        self.losses = list ()\n",
    "    def on_epoch_begin(self, model):\n",
    "        print(\"Epoch #{} start\".format(self.epoch))\n",
    "\n",
    "    def on_epoch_end(self, model):\n",
    "        print(\"Epoch #{} end\".format(self.epoch))\n",
    "        print(\"Loss: {0}\".format (model.get_latest_training_loss()))\n",
    "        self.epoch += 1\n",
    "        self.losses.append (model.get_latest_training_loss())"
   ]
  },
  {
   "cell_type": "code",
   "execution_count": 3,
   "metadata": {},
   "outputs": [],
   "source": [
    "data_file=\"reviews_data.txt.gz\""
   ]
  },
  {
   "cell_type": "code",
   "execution_count": 4,
   "metadata": {},
   "outputs": [
    {
     "name": "stderr",
     "output_type": "stream",
     "text": [
      "2018-10-10 18:02:22,874 : INFO : reading file reviews_data.txt.gz...this may take a while\n",
      "2018-10-10 18:02:22,877 : INFO : read 0 reviews\n",
      "2018-10-10 18:02:26,103 : INFO : read 10000 reviews\n",
      "2018-10-10 18:02:29,134 : INFO : read 20000 reviews\n",
      "2018-10-10 18:02:32,881 : INFO : read 30000 reviews\n",
      "2018-10-10 18:02:36,218 : INFO : read 40000 reviews\n",
      "2018-10-10 18:02:40,193 : INFO : read 50000 reviews\n",
      "2018-10-10 18:02:44,740 : INFO : read 60000 reviews\n",
      "2018-10-10 18:02:47,754 : INFO : read 70000 reviews\n",
      "2018-10-10 18:02:50,454 : INFO : read 80000 reviews\n",
      "2018-10-10 18:02:53,343 : INFO : read 90000 reviews\n",
      "2018-10-10 18:02:56,366 : INFO : read 100000 reviews\n",
      "2018-10-10 18:02:59,340 : INFO : read 110000 reviews\n",
      "2018-10-10 18:03:02,313 : INFO : read 120000 reviews\n",
      "2018-10-10 18:03:05,371 : INFO : read 130000 reviews\n",
      "2018-10-10 18:03:08,617 : INFO : read 140000 reviews\n",
      "2018-10-10 18:03:11,434 : INFO : read 150000 reviews\n",
      "2018-10-10 18:03:15,467 : INFO : read 160000 reviews\n",
      "2018-10-10 18:03:18,612 : INFO : read 170000 reviews\n",
      "2018-10-10 18:03:21,638 : INFO : read 180000 reviews\n",
      "2018-10-10 18:03:24,540 : INFO : read 190000 reviews\n",
      "2018-10-10 18:03:27,960 : INFO : read 200000 reviews\n",
      "2018-10-10 18:03:31,247 : INFO : read 210000 reviews\n",
      "2018-10-10 18:03:34,329 : INFO : read 220000 reviews\n",
      "2018-10-10 18:03:37,140 : INFO : read 230000 reviews\n",
      "2018-10-10 18:03:40,074 : INFO : read 240000 reviews\n",
      "2018-10-10 18:03:45,247 : INFO : read 250000 reviews\n",
      "2018-10-10 18:03:46,806 : INFO : Done reading data file\n"
     ]
    }
   ],
   "source": [
    "def read_input(input_file):\n",
    "    \"\"\"This method reads the input file which is in gzip format\"\"\"\n",
    "    \n",
    "    logging.info(\"reading file {0}...this may take a while\".format(input_file))\n",
    "    \n",
    "    with gzip.open (input_file, 'rb') as f:\n",
    "        for i, line in enumerate (f): \n",
    "\n",
    "            if (i%10000==0):\n",
    "                logging.info (\"read {0} reviews\".format (i))\n",
    "            # do some pre-processing and return a list of words for each review text\n",
    "            yield gensim.utils.simple_preprocess (line)\n",
    "\n",
    "# read the tokenized reviews into a list\n",
    "# each review item becomes a serries of words\n",
    "# so this becomes a list of lists\n",
    "documents = list (read_input (data_file))\n",
    "logging.info (\"Done reading data file\")"
   ]
  },
  {
   "cell_type": "code",
   "execution_count": 23,
   "metadata": {},
   "outputs": [
    {
     "name": "stderr",
     "output_type": "stream",
     "text": [
      "2018-10-10 18:45:23,295 : WARNING : consider setting layer size to a multiple of 4 for greater performance\n",
      "2018-10-10 18:45:23,297 : INFO : collecting all words and their counts\n",
      "2018-10-10 18:45:23,299 : INFO : PROGRESS: at sentence #0, processed 0 words, keeping 0 word types\n",
      "2018-10-10 18:45:23,738 : INFO : PROGRESS: at sentence #10000, processed 1655714 words, keeping 25777 word types\n",
      "2018-10-10 18:45:24,163 : INFO : PROGRESS: at sentence #20000, processed 3317863 words, keeping 35016 word types\n",
      "2018-10-10 18:45:24,641 : INFO : PROGRESS: at sentence #30000, processed 5264072 words, keeping 47518 word types\n",
      "2018-10-10 18:45:25,083 : INFO : PROGRESS: at sentence #40000, processed 7081746 words, keeping 56675 word types\n",
      "2018-10-10 18:45:25,566 : INFO : PROGRESS: at sentence #50000, processed 9089491 words, keeping 63744 word types\n",
      "2018-10-10 18:45:26,030 : INFO : PROGRESS: at sentence #60000, processed 11013723 words, keeping 76781 word types\n",
      "2018-10-10 18:45:26,434 : INFO : PROGRESS: at sentence #70000, processed 12637525 words, keeping 83194 word types\n",
      "2018-10-10 18:45:26,804 : INFO : PROGRESS: at sentence #80000, processed 14099751 words, keeping 88454 word types\n",
      "2018-10-10 18:45:27,194 : INFO : PROGRESS: at sentence #90000, processed 15662149 words, keeping 93352 word types\n",
      "2018-10-10 18:45:27,572 : INFO : PROGRESS: at sentence #100000, processed 17164487 words, keeping 97881 word types\n",
      "2018-10-10 18:45:27,945 : INFO : PROGRESS: at sentence #110000, processed 18652292 words, keeping 102127 word types\n",
      "2018-10-10 18:45:28,320 : INFO : PROGRESS: at sentence #120000, processed 20152529 words, keeping 105918 word types\n",
      "2018-10-10 18:45:28,699 : INFO : PROGRESS: at sentence #130000, processed 21684330 words, keeping 110099 word types\n",
      "2018-10-10 18:45:29,107 : INFO : PROGRESS: at sentence #140000, processed 23330206 words, keeping 114103 word types\n",
      "2018-10-10 18:45:29,485 : INFO : PROGRESS: at sentence #150000, processed 24838754 words, keeping 118169 word types\n",
      "2018-10-10 18:45:29,872 : INFO : PROGRESS: at sentence #160000, processed 26390910 words, keeping 118665 word types\n",
      "2018-10-10 18:45:30,255 : INFO : PROGRESS: at sentence #170000, processed 27913916 words, keeping 123350 word types\n",
      "2018-10-10 18:45:30,668 : INFO : PROGRESS: at sentence #180000, processed 29535612 words, keeping 126742 word types\n",
      "2018-10-10 18:45:31,078 : INFO : PROGRESS: at sentence #190000, processed 31096459 words, keeping 129841 word types\n",
      "2018-10-10 18:45:31,509 : INFO : PROGRESS: at sentence #200000, processed 32805271 words, keeping 133249 word types\n",
      "2018-10-10 18:45:31,921 : INFO : PROGRESS: at sentence #210000, processed 34434198 words, keeping 136358 word types\n",
      "2018-10-10 18:45:32,339 : INFO : PROGRESS: at sentence #220000, processed 36083482 words, keeping 139412 word types\n",
      "2018-10-10 18:45:32,753 : INFO : PROGRESS: at sentence #230000, processed 37571762 words, keeping 142393 word types\n",
      "2018-10-10 18:45:33,159 : INFO : PROGRESS: at sentence #240000, processed 39138190 words, keeping 145226 word types\n",
      "2018-10-10 18:45:33,559 : INFO : PROGRESS: at sentence #250000, processed 40695049 words, keeping 147960 word types\n",
      "2018-10-10 18:45:33,769 : INFO : collected 150053 word types from a corpus of 41519355 raw words and 255404 sentences\n",
      "2018-10-10 18:45:33,770 : INFO : Loading a fresh vocabulary\n",
      "2018-10-10 18:45:34,109 : INFO : effective_min_count=2 retains 70538 unique words (47% of original 150053, drops 79515)\n",
      "2018-10-10 18:45:34,110 : INFO : effective_min_count=2 leaves 41439840 word corpus (99% of original 41519355, drops 79515)\n",
      "2018-10-10 18:45:34,537 : INFO : deleting the raw counts dictionary of 150053 items\n",
      "2018-10-10 18:45:34,545 : INFO : sample=0.001 downsamples 55 most-common words\n",
      "2018-10-10 18:45:34,547 : INFO : downsampling leaves estimated 30349255 word corpus (73.2% of prior 41439840)\n",
      "2018-10-10 18:45:34,881 : INFO : estimated required memory for 70538 words and 50 dimensions: 63484200 bytes\n",
      "2018-10-10 18:45:34,882 : INFO : resetting layer weights\n",
      "2018-10-10 18:45:36,610 : INFO : training model with 10 workers on 70538 vocabulary and 50 features, using sg=1 hs=0 sample=0.001 negative=10 window=5\n"
     ]
    },
    {
     "name": "stdout",
     "output_type": "stream",
     "text": [
      "Epoch #0 start\n"
     ]
    },
    {
     "name": "stderr",
     "output_type": "stream",
     "text": [
      "2018-10-10 18:45:37,682 : INFO : EPOCH 1 - PROGRESS: at 0.22% examples, 68816 words/s, in_qsize 20, out_qsize 0\n",
      "2018-10-10 18:45:38,745 : INFO : EPOCH 1 - PROGRESS: at 1.68% examples, 249172 words/s, in_qsize 19, out_qsize 0\n",
      "2018-10-10 18:45:39,749 : INFO : EPOCH 1 - PROGRESS: at 3.31% examples, 330272 words/s, in_qsize 19, out_qsize 0\n",
      "2018-10-10 18:45:40,768 : INFO : EPOCH 1 - PROGRESS: at 4.68% examples, 348549 words/s, in_qsize 19, out_qsize 0\n",
      "2018-10-10 18:45:41,770 : INFO : EPOCH 1 - PROGRESS: at 5.95% examples, 357348 words/s, in_qsize 19, out_qsize 0\n",
      "2018-10-10 18:45:42,812 : INFO : EPOCH 1 - PROGRESS: at 7.31% examples, 364590 words/s, in_qsize 18, out_qsize 1\n",
      "2018-10-10 18:45:43,828 : INFO : EPOCH 1 - PROGRESS: at 8.65% examples, 371096 words/s, in_qsize 18, out_qsize 1\n",
      "2018-10-10 18:45:44,831 : INFO : EPOCH 1 - PROGRESS: at 9.74% examples, 373783 words/s, in_qsize 19, out_qsize 0\n",
      "2018-10-10 18:45:45,838 : INFO : EPOCH 1 - PROGRESS: at 10.81% examples, 376821 words/s, in_qsize 19, out_qsize 0\n",
      "2018-10-10 18:45:46,857 : INFO : EPOCH 1 - PROGRESS: at 11.88% examples, 380005 words/s, in_qsize 19, out_qsize 0\n",
      "2018-10-10 18:45:47,871 : INFO : EPOCH 1 - PROGRESS: at 12.96% examples, 380299 words/s, in_qsize 19, out_qsize 0\n",
      "2018-10-10 18:45:48,879 : INFO : EPOCH 1 - PROGRESS: at 14.16% examples, 381910 words/s, in_qsize 19, out_qsize 0\n",
      "2018-10-10 18:45:49,888 : INFO : EPOCH 1 - PROGRESS: at 15.36% examples, 383335 words/s, in_qsize 19, out_qsize 0\n",
      "2018-10-10 18:45:50,896 : INFO : EPOCH 1 - PROGRESS: at 16.53% examples, 385586 words/s, in_qsize 19, out_qsize 0\n",
      "2018-10-10 18:45:51,953 : INFO : EPOCH 1 - PROGRESS: at 17.61% examples, 385343 words/s, in_qsize 19, out_qsize 0\n",
      "2018-10-10 18:45:52,958 : INFO : EPOCH 1 - PROGRESS: at 18.78% examples, 387559 words/s, in_qsize 19, out_qsize 0\n",
      "2018-10-10 18:45:53,969 : INFO : EPOCH 1 - PROGRESS: at 19.79% examples, 388056 words/s, in_qsize 19, out_qsize 0\n",
      "2018-10-10 18:45:54,970 : INFO : EPOCH 1 - PROGRESS: at 20.84% examples, 389573 words/s, in_qsize 19, out_qsize 0\n",
      "2018-10-10 18:45:55,987 : INFO : EPOCH 1 - PROGRESS: at 22.28% examples, 391252 words/s, in_qsize 20, out_qsize 1\n",
      "2018-10-10 18:45:57,001 : INFO : EPOCH 1 - PROGRESS: at 23.37% examples, 392660 words/s, in_qsize 19, out_qsize 0\n",
      "2018-10-10 18:45:58,018 : INFO : EPOCH 1 - PROGRESS: at 24.47% examples, 394149 words/s, in_qsize 19, out_qsize 0\n",
      "2018-10-10 18:45:59,053 : INFO : EPOCH 1 - PROGRESS: at 25.95% examples, 394628 words/s, in_qsize 18, out_qsize 1\n",
      "2018-10-10 18:46:00,057 : INFO : EPOCH 1 - PROGRESS: at 27.54% examples, 395597 words/s, in_qsize 19, out_qsize 0\n",
      "2018-10-10 18:46:01,060 : INFO : EPOCH 1 - PROGRESS: at 29.05% examples, 396201 words/s, in_qsize 19, out_qsize 0\n",
      "2018-10-10 18:46:02,063 : INFO : EPOCH 1 - PROGRESS: at 30.39% examples, 396160 words/s, in_qsize 19, out_qsize 0\n",
      "2018-10-10 18:46:03,071 : INFO : EPOCH 1 - PROGRESS: at 32.02% examples, 397168 words/s, in_qsize 19, out_qsize 0\n",
      "2018-10-10 18:46:04,077 : INFO : EPOCH 1 - PROGRESS: at 33.42% examples, 397299 words/s, in_qsize 19, out_qsize 0\n",
      "2018-10-10 18:46:05,084 : INFO : EPOCH 1 - PROGRESS: at 34.75% examples, 397496 words/s, in_qsize 19, out_qsize 0\n",
      "2018-10-10 18:46:06,088 : INFO : EPOCH 1 - PROGRESS: at 36.21% examples, 397669 words/s, in_qsize 20, out_qsize 0\n",
      "2018-10-10 18:46:07,109 : INFO : EPOCH 1 - PROGRESS: at 37.67% examples, 398513 words/s, in_qsize 19, out_qsize 0\n",
      "2018-10-10 18:46:08,110 : INFO : EPOCH 1 - PROGRESS: at 39.23% examples, 399111 words/s, in_qsize 19, out_qsize 0\n",
      "2018-10-10 18:46:09,119 : INFO : EPOCH 1 - PROGRESS: at 40.62% examples, 399362 words/s, in_qsize 19, out_qsize 0\n",
      "2018-10-10 18:46:10,157 : INFO : EPOCH 1 - PROGRESS: at 42.28% examples, 399863 words/s, in_qsize 19, out_qsize 0\n",
      "2018-10-10 18:46:11,169 : INFO : EPOCH 1 - PROGRESS: at 43.82% examples, 400701 words/s, in_qsize 19, out_qsize 0\n",
      "2018-10-10 18:46:12,181 : INFO : EPOCH 1 - PROGRESS: at 45.42% examples, 401240 words/s, in_qsize 19, out_qsize 0\n",
      "2018-10-10 18:46:13,192 : INFO : EPOCH 1 - PROGRESS: at 46.91% examples, 402352 words/s, in_qsize 20, out_qsize 0\n",
      "2018-10-10 18:46:14,194 : INFO : EPOCH 1 - PROGRESS: at 48.28% examples, 402191 words/s, in_qsize 19, out_qsize 0\n",
      "2018-10-10 18:46:15,199 : INFO : EPOCH 1 - PROGRESS: at 49.70% examples, 402152 words/s, in_qsize 19, out_qsize 0\n",
      "2018-10-10 18:46:16,272 : INFO : EPOCH 1 - PROGRESS: at 51.14% examples, 401802 words/s, in_qsize 19, out_qsize 0\n",
      "2018-10-10 18:46:17,292 : INFO : EPOCH 1 - PROGRESS: at 52.57% examples, 402296 words/s, in_qsize 19, out_qsize 0\n",
      "2018-10-10 18:46:18,312 : INFO : EPOCH 1 - PROGRESS: at 53.91% examples, 402486 words/s, in_qsize 19, out_qsize 0\n",
      "2018-10-10 18:46:19,317 : INFO : EPOCH 1 - PROGRESS: at 55.37% examples, 402505 words/s, in_qsize 20, out_qsize 0\n",
      "2018-10-10 18:46:20,318 : INFO : EPOCH 1 - PROGRESS: at 56.71% examples, 402217 words/s, in_qsize 20, out_qsize 0\n",
      "2018-10-10 18:46:21,327 : INFO : EPOCH 1 - PROGRESS: at 58.20% examples, 402814 words/s, in_qsize 20, out_qsize 0\n",
      "2018-10-10 18:46:22,350 : INFO : EPOCH 1 - PROGRESS: at 59.75% examples, 403463 words/s, in_qsize 20, out_qsize 0\n",
      "2018-10-10 18:46:23,376 : INFO : EPOCH 1 - PROGRESS: at 61.38% examples, 404860 words/s, in_qsize 19, out_qsize 0\n",
      "2018-10-10 18:46:24,419 : INFO : EPOCH 1 - PROGRESS: at 62.97% examples, 405699 words/s, in_qsize 19, out_qsize 0\n",
      "2018-10-10 18:46:25,449 : INFO : EPOCH 1 - PROGRESS: at 64.84% examples, 406880 words/s, in_qsize 19, out_qsize 0\n",
      "2018-10-10 18:46:26,467 : INFO : EPOCH 1 - PROGRESS: at 66.24% examples, 407634 words/s, in_qsize 19, out_qsize 0\n",
      "2018-10-10 18:46:27,469 : INFO : EPOCH 1 - PROGRESS: at 67.68% examples, 407774 words/s, in_qsize 19, out_qsize 0\n",
      "2018-10-10 18:46:28,474 : INFO : EPOCH 1 - PROGRESS: at 69.21% examples, 408773 words/s, in_qsize 19, out_qsize 0\n",
      "2018-10-10 18:46:29,504 : INFO : EPOCH 1 - PROGRESS: at 70.53% examples, 408709 words/s, in_qsize 19, out_qsize 0\n",
      "2018-10-10 18:46:30,527 : INFO : EPOCH 1 - PROGRESS: at 71.95% examples, 409139 words/s, in_qsize 19, out_qsize 0\n",
      "2018-10-10 18:46:31,583 : INFO : EPOCH 1 - PROGRESS: at 73.53% examples, 409006 words/s, in_qsize 19, out_qsize 0\n",
      "2018-10-10 18:46:32,598 : INFO : EPOCH 1 - PROGRESS: at 75.05% examples, 409804 words/s, in_qsize 19, out_qsize 0\n",
      "2018-10-10 18:46:33,618 : INFO : EPOCH 1 - PROGRESS: at 76.40% examples, 410324 words/s, in_qsize 19, out_qsize 0\n",
      "2018-10-10 18:46:34,626 : INFO : EPOCH 1 - PROGRESS: at 77.80% examples, 410757 words/s, in_qsize 19, out_qsize 0\n",
      "2018-10-10 18:46:35,639 : INFO : EPOCH 1 - PROGRESS: at 79.25% examples, 411142 words/s, in_qsize 19, out_qsize 0\n",
      "2018-10-10 18:46:36,695 : INFO : EPOCH 1 - PROGRESS: at 80.73% examples, 411698 words/s, in_qsize 19, out_qsize 0\n",
      "2018-10-10 18:46:37,702 : INFO : EPOCH 1 - PROGRESS: at 82.21% examples, 412101 words/s, in_qsize 19, out_qsize 0\n",
      "2018-10-10 18:46:38,715 : INFO : EPOCH 1 - PROGRESS: at 83.71% examples, 412687 words/s, in_qsize 19, out_qsize 0\n",
      "2018-10-10 18:46:39,721 : INFO : EPOCH 1 - PROGRESS: at 85.04% examples, 412922 words/s, in_qsize 19, out_qsize 0\n",
      "2018-10-10 18:46:40,728 : INFO : EPOCH 1 - PROGRESS: at 86.58% examples, 413285 words/s, in_qsize 19, out_qsize 0\n",
      "2018-10-10 18:46:41,730 : INFO : EPOCH 1 - PROGRESS: at 88.22% examples, 413899 words/s, in_qsize 19, out_qsize 0\n",
      "2018-10-10 18:46:42,740 : INFO : EPOCH 1 - PROGRESS: at 89.76% examples, 414246 words/s, in_qsize 20, out_qsize 0\n",
      "2018-10-10 18:46:43,747 : INFO : EPOCH 1 - PROGRESS: at 91.37% examples, 414716 words/s, in_qsize 20, out_qsize 0\n",
      "2018-10-10 18:46:44,753 : INFO : EPOCH 1 - PROGRESS: at 92.83% examples, 414940 words/s, in_qsize 20, out_qsize 0\n",
      "2018-10-10 18:46:45,776 : INFO : EPOCH 1 - PROGRESS: at 94.38% examples, 415385 words/s, in_qsize 19, out_qsize 0\n",
      "2018-10-10 18:46:46,782 : INFO : EPOCH 1 - PROGRESS: at 95.86% examples, 415613 words/s, in_qsize 19, out_qsize 0\n",
      "2018-10-10 18:46:47,796 : INFO : EPOCH 1 - PROGRESS: at 97.41% examples, 415943 words/s, in_qsize 19, out_qsize 0\n",
      "2018-10-10 18:46:48,803 : INFO : EPOCH 1 - PROGRESS: at 98.92% examples, 416141 words/s, in_qsize 19, out_qsize 0\n",
      "2018-10-10 18:46:49,391 : INFO : worker thread finished; awaiting finish of 9 more threads\n",
      "2018-10-10 18:46:49,407 : INFO : worker thread finished; awaiting finish of 8 more threads\n"
     ]
    },
    {
     "name": "stderr",
     "output_type": "stream",
     "text": [
      "2018-10-10 18:46:49,410 : INFO : worker thread finished; awaiting finish of 7 more threads\n",
      "2018-10-10 18:46:49,435 : INFO : worker thread finished; awaiting finish of 6 more threads\n",
      "2018-10-10 18:46:49,462 : INFO : worker thread finished; awaiting finish of 5 more threads\n",
      "2018-10-10 18:46:49,469 : INFO : worker thread finished; awaiting finish of 4 more threads\n",
      "2018-10-10 18:46:49,481 : INFO : worker thread finished; awaiting finish of 3 more threads\n",
      "2018-10-10 18:46:49,486 : INFO : worker thread finished; awaiting finish of 2 more threads\n",
      "2018-10-10 18:46:49,513 : INFO : worker thread finished; awaiting finish of 1 more threads\n",
      "2018-10-10 18:46:49,526 : INFO : worker thread finished; awaiting finish of 0 more threads\n",
      "2018-10-10 18:46:49,527 : INFO : EPOCH - 1 : training on 41519355 raw words (30349990 effective words) took 72.9s, 416311 effective words/s\n"
     ]
    },
    {
     "name": "stdout",
     "output_type": "stream",
     "text": [
      "Epoch #0 end\n",
      "Loss: 37190996.0\n",
      "Epoch #1 start\n"
     ]
    },
    {
     "name": "stderr",
     "output_type": "stream",
     "text": [
      "2018-10-10 18:46:50,550 : INFO : EPOCH 2 - PROGRESS: at 1.34% examples, 423690 words/s, in_qsize 19, out_qsize 0\n",
      "2018-10-10 18:46:51,562 : INFO : EPOCH 2 - PROGRESS: at 2.84% examples, 439539 words/s, in_qsize 19, out_qsize 0\n",
      "2018-10-10 18:46:52,586 : INFO : EPOCH 2 - PROGRESS: at 4.32% examples, 436265 words/s, in_qsize 19, out_qsize 0\n",
      "2018-10-10 18:46:53,599 : INFO : EPOCH 2 - PROGRESS: at 5.72% examples, 433934 words/s, in_qsize 19, out_qsize 0\n",
      "2018-10-10 18:46:54,615 : INFO : EPOCH 2 - PROGRESS: at 7.10% examples, 430738 words/s, in_qsize 19, out_qsize 0\n",
      "2018-10-10 18:46:55,639 : INFO : EPOCH 2 - PROGRESS: at 8.38% examples, 425414 words/s, in_qsize 19, out_qsize 0\n",
      "2018-10-10 18:46:56,642 : INFO : EPOCH 2 - PROGRESS: at 9.59% examples, 424028 words/s, in_qsize 20, out_qsize 0\n",
      "2018-10-10 18:46:57,655 : INFO : EPOCH 2 - PROGRESS: at 10.61% examples, 418161 words/s, in_qsize 19, out_qsize 0\n",
      "2018-10-10 18:46:58,659 : INFO : EPOCH 2 - PROGRESS: at 11.64% examples, 416264 words/s, in_qsize 19, out_qsize 0\n",
      "2018-10-10 18:46:59,679 : INFO : EPOCH 2 - PROGRESS: at 12.68% examples, 414013 words/s, in_qsize 19, out_qsize 0\n",
      "2018-10-10 18:47:00,682 : INFO : EPOCH 2 - PROGRESS: at 14.10% examples, 418083 words/s, in_qsize 19, out_qsize 0\n",
      "2018-10-10 18:47:01,686 : INFO : EPOCH 2 - PROGRESS: at 15.41% examples, 419746 words/s, in_qsize 19, out_qsize 0\n",
      "2018-10-10 18:47:02,705 : INFO : EPOCH 2 - PROGRESS: at 16.68% examples, 422315 words/s, in_qsize 19, out_qsize 0\n",
      "2018-10-10 18:47:03,723 : INFO : EPOCH 2 - PROGRESS: at 17.94% examples, 425085 words/s, in_qsize 19, out_qsize 0\n",
      "2018-10-10 18:47:04,751 : INFO : EPOCH 2 - PROGRESS: at 19.23% examples, 427839 words/s, in_qsize 19, out_qsize 0\n",
      "2018-10-10 18:47:05,768 : INFO : EPOCH 2 - PROGRESS: at 20.41% examples, 429355 words/s, in_qsize 19, out_qsize 0\n",
      "2018-10-10 18:47:06,768 : INFO : EPOCH 2 - PROGRESS: at 21.92% examples, 432237 words/s, in_qsize 19, out_qsize 0\n",
      "2018-10-10 18:47:07,775 : INFO : EPOCH 2 - PROGRESS: at 23.10% examples, 433226 words/s, in_qsize 20, out_qsize 0\n",
      "2018-10-10 18:47:08,780 : INFO : EPOCH 2 - PROGRESS: at 24.22% examples, 433393 words/s, in_qsize 20, out_qsize 0\n",
      "2018-10-10 18:47:09,782 : INFO : EPOCH 2 - PROGRESS: at 25.72% examples, 434020 words/s, in_qsize 19, out_qsize 0\n",
      "2018-10-10 18:47:10,794 : INFO : EPOCH 2 - PROGRESS: at 27.39% examples, 434415 words/s, in_qsize 19, out_qsize 0\n",
      "2018-10-10 18:47:11,821 : INFO : EPOCH 2 - PROGRESS: at 29.08% examples, 434797 words/s, in_qsize 19, out_qsize 0\n",
      "2018-10-10 18:47:12,836 : INFO : EPOCH 2 - PROGRESS: at 30.70% examples, 435998 words/s, in_qsize 19, out_qsize 0\n",
      "2018-10-10 18:47:13,871 : INFO : EPOCH 2 - PROGRESS: at 32.52% examples, 437567 words/s, in_qsize 19, out_qsize 0\n",
      "2018-10-10 18:47:14,881 : INFO : EPOCH 2 - PROGRESS: at 34.15% examples, 439526 words/s, in_qsize 19, out_qsize 0\n",
      "2018-10-10 18:47:15,890 : INFO : EPOCH 2 - PROGRESS: at 35.76% examples, 440272 words/s, in_qsize 20, out_qsize 0\n",
      "2018-10-10 18:47:16,910 : INFO : EPOCH 2 - PROGRESS: at 37.43% examples, 441238 words/s, in_qsize 19, out_qsize 0\n",
      "2018-10-10 18:47:17,913 : INFO : EPOCH 2 - PROGRESS: at 39.06% examples, 441361 words/s, in_qsize 19, out_qsize 0\n",
      "2018-10-10 18:47:18,917 : INFO : EPOCH 2 - PROGRESS: at 40.55% examples, 440988 words/s, in_qsize 19, out_qsize 0\n",
      "2018-10-10 18:47:19,963 : INFO : EPOCH 2 - PROGRESS: at 42.26% examples, 440478 words/s, in_qsize 19, out_qsize 0\n",
      "2018-10-10 18:47:20,982 : INFO : EPOCH 2 - PROGRESS: at 43.96% examples, 441382 words/s, in_qsize 19, out_qsize 0\n",
      "2018-10-10 18:47:22,023 : INFO : EPOCH 2 - PROGRESS: at 45.59% examples, 440744 words/s, in_qsize 19, out_qsize 0\n",
      "2018-10-10 18:47:23,033 : INFO : EPOCH 2 - PROGRESS: at 47.16% examples, 441445 words/s, in_qsize 19, out_qsize 0\n",
      "2018-10-10 18:47:24,050 : INFO : EPOCH 2 - PROGRESS: at 48.70% examples, 441179 words/s, in_qsize 19, out_qsize 0\n",
      "2018-10-10 18:47:25,055 : INFO : EPOCH 2 - PROGRESS: at 50.25% examples, 441058 words/s, in_qsize 19, out_qsize 0\n",
      "2018-10-10 18:47:26,092 : INFO : EPOCH 2 - PROGRESS: at 51.78% examples, 440922 words/s, in_qsize 19, out_qsize 0\n",
      "2018-10-10 18:47:27,097 : INFO : EPOCH 2 - PROGRESS: at 53.15% examples, 440800 words/s, in_qsize 19, out_qsize 0\n",
      "2018-10-10 18:47:28,101 : INFO : EPOCH 2 - PROGRESS: at 54.67% examples, 441163 words/s, in_qsize 19, out_qsize 0\n",
      "2018-10-10 18:47:29,162 : INFO : EPOCH 2 - PROGRESS: at 56.31% examples, 440615 words/s, in_qsize 19, out_qsize 0\n",
      "2018-10-10 18:47:30,172 : INFO : EPOCH 2 - PROGRESS: at 57.91% examples, 441067 words/s, in_qsize 19, out_qsize 0\n",
      "2018-10-10 18:47:31,239 : INFO : EPOCH 2 - PROGRESS: at 59.47% examples, 440515 words/s, in_qsize 19, out_qsize 0\n",
      "2018-10-10 18:47:32,244 : INFO : EPOCH 2 - PROGRESS: at 60.94% examples, 440181 words/s, in_qsize 20, out_qsize 0\n",
      "2018-10-10 18:47:33,265 : INFO : EPOCH 2 - PROGRESS: at 62.50% examples, 440312 words/s, in_qsize 20, out_qsize 0\n",
      "2018-10-10 18:47:34,277 : INFO : EPOCH 2 - PROGRESS: at 64.08% examples, 439570 words/s, in_qsize 20, out_qsize 0\n",
      "2018-10-10 18:47:35,295 : INFO : EPOCH 2 - PROGRESS: at 65.63% examples, 439840 words/s, in_qsize 20, out_qsize 0\n",
      "2018-10-10 18:47:36,298 : INFO : EPOCH 2 - PROGRESS: at 67.21% examples, 440508 words/s, in_qsize 20, out_qsize 0\n",
      "2018-10-10 18:47:37,302 : INFO : EPOCH 2 - PROGRESS: at 68.72% examples, 440604 words/s, in_qsize 19, out_qsize 0\n",
      "2018-10-10 18:47:38,314 : INFO : EPOCH 2 - PROGRESS: at 70.09% examples, 440449 words/s, in_qsize 19, out_qsize 0\n",
      "2018-10-10 18:47:39,328 : INFO : EPOCH 2 - PROGRESS: at 71.59% examples, 440478 words/s, in_qsize 19, out_qsize 0\n",
      "2018-10-10 18:47:40,331 : INFO : EPOCH 2 - PROGRESS: at 73.06% examples, 440141 words/s, in_qsize 19, out_qsize 0\n",
      "2018-10-10 18:47:41,338 : INFO : EPOCH 2 - PROGRESS: at 74.62% examples, 440207 words/s, in_qsize 19, out_qsize 0\n",
      "2018-10-10 18:47:42,338 : INFO : EPOCH 2 - PROGRESS: at 76.11% examples, 441006 words/s, in_qsize 19, out_qsize 0\n",
      "2018-10-10 18:47:43,356 : INFO : EPOCH 2 - PROGRESS: at 77.58% examples, 441347 words/s, in_qsize 18, out_qsize 1\n",
      "2018-10-10 18:47:44,373 : INFO : EPOCH 2 - PROGRESS: at 78.93% examples, 440905 words/s, in_qsize 19, out_qsize 0\n",
      "2018-10-10 18:47:45,376 : INFO : EPOCH 2 - PROGRESS: at 80.51% examples, 441645 words/s, in_qsize 19, out_qsize 0\n",
      "2018-10-10 18:47:46,460 : INFO : EPOCH 2 - PROGRESS: at 82.14% examples, 441824 words/s, in_qsize 19, out_qsize 0\n",
      "2018-10-10 18:47:47,464 : INFO : EPOCH 2 - PROGRESS: at 83.80% examples, 442874 words/s, in_qsize 19, out_qsize 0\n",
      "2018-10-10 18:47:48,474 : INFO : EPOCH 2 - PROGRESS: at 85.29% examples, 443320 words/s, in_qsize 20, out_qsize 0\n",
      "2018-10-10 18:47:49,497 : INFO : EPOCH 2 - PROGRESS: at 87.01% examples, 443807 words/s, in_qsize 20, out_qsize 0\n",
      "2018-10-10 18:47:50,506 : INFO : EPOCH 2 - PROGRESS: at 88.77% examples, 444403 words/s, in_qsize 19, out_qsize 0\n",
      "2018-10-10 18:47:51,529 : INFO : EPOCH 2 - PROGRESS: at 90.40% examples, 444645 words/s, in_qsize 19, out_qsize 0\n",
      "2018-10-10 18:47:52,532 : INFO : EPOCH 2 - PROGRESS: at 91.96% examples, 444679 words/s, in_qsize 19, out_qsize 0\n",
      "2018-10-10 18:47:53,561 : INFO : EPOCH 2 - PROGRESS: at 93.52% examples, 444850 words/s, in_qsize 19, out_qsize 0\n",
      "2018-10-10 18:47:54,615 : INFO : EPOCH 2 - PROGRESS: at 95.20% examples, 445081 words/s, in_qsize 19, out_qsize 0\n",
      "2018-10-10 18:47:55,617 : INFO : EPOCH 2 - PROGRESS: at 96.77% examples, 445329 words/s, in_qsize 20, out_qsize 0\n",
      "2018-10-10 18:47:56,619 : INFO : EPOCH 2 - PROGRESS: at 98.41% examples, 445751 words/s, in_qsize 20, out_qsize 0\n",
      "2018-10-10 18:47:57,543 : INFO : worker thread finished; awaiting finish of 9 more threads\n",
      "2018-10-10 18:47:57,553 : INFO : worker thread finished; awaiting finish of 8 more threads\n",
      "2018-10-10 18:47:57,577 : INFO : worker thread finished; awaiting finish of 7 more threads\n",
      "2018-10-10 18:47:57,580 : INFO : worker thread finished; awaiting finish of 6 more threads\n",
      "2018-10-10 18:47:57,584 : INFO : worker thread finished; awaiting finish of 5 more threads\n",
      "2018-10-10 18:47:57,585 : INFO : worker thread finished; awaiting finish of 4 more threads\n",
      "2018-10-10 18:47:57,588 : INFO : worker thread finished; awaiting finish of 3 more threads\n",
      "2018-10-10 18:47:57,605 : INFO : worker thread finished; awaiting finish of 2 more threads\n"
     ]
    },
    {
     "name": "stderr",
     "output_type": "stream",
     "text": [
      "2018-10-10 18:47:57,624 : INFO : EPOCH 2 - PROGRESS: at 99.98% examples, 445687 words/s, in_qsize 1, out_qsize 1\n",
      "2018-10-10 18:47:57,624 : INFO : worker thread finished; awaiting finish of 1 more threads\n",
      "2018-10-10 18:47:57,631 : INFO : worker thread finished; awaiting finish of 0 more threads\n",
      "2018-10-10 18:47:57,632 : INFO : EPOCH - 2 : training on 41519355 raw words (30350596 effective words) took 68.1s, 445738 effective words/s\n"
     ]
    },
    {
     "name": "stdout",
     "output_type": "stream",
     "text": [
      "Epoch #1 end\n",
      "Loss: 67386632.0\n",
      "Epoch #2 start\n"
     ]
    },
    {
     "name": "stderr",
     "output_type": "stream",
     "text": [
      "2018-10-10 18:47:58,651 : INFO : EPOCH 3 - PROGRESS: at 1.44% examples, 462971 words/s, in_qsize 19, out_qsize 0\n",
      "2018-10-10 18:47:59,659 : INFO : EPOCH 3 - PROGRESS: at 2.84% examples, 441909 words/s, in_qsize 19, out_qsize 0\n",
      "2018-10-10 18:48:00,677 : INFO : EPOCH 3 - PROGRESS: at 4.41% examples, 448424 words/s, in_qsize 19, out_qsize 0\n",
      "2018-10-10 18:48:01,691 : INFO : EPOCH 3 - PROGRESS: at 5.94% examples, 455123 words/s, in_qsize 19, out_qsize 0\n",
      "2018-10-10 18:48:02,700 : INFO : EPOCH 3 - PROGRESS: at 7.46% examples, 455359 words/s, in_qsize 19, out_qsize 0\n",
      "2018-10-10 18:48:03,702 : INFO : EPOCH 3 - PROGRESS: at 8.89% examples, 457165 words/s, in_qsize 19, out_qsize 0\n",
      "2018-10-10 18:48:04,716 : INFO : EPOCH 3 - PROGRESS: at 10.10% examples, 455615 words/s, in_qsize 19, out_qsize 0\n",
      "2018-10-10 18:48:05,723 : INFO : EPOCH 3 - PROGRESS: at 11.39% examples, 456586 words/s, in_qsize 19, out_qsize 0\n",
      "2018-10-10 18:48:06,742 : INFO : EPOCH 3 - PROGRESS: at 12.48% examples, 453621 words/s, in_qsize 19, out_qsize 0\n",
      "2018-10-10 18:48:07,761 : INFO : EPOCH 3 - PROGRESS: at 13.87% examples, 453446 words/s, in_qsize 19, out_qsize 0\n",
      "2018-10-10 18:48:08,792 : INFO : EPOCH 3 - PROGRESS: at 15.13% examples, 450343 words/s, in_qsize 19, out_qsize 0\n",
      "2018-10-10 18:48:09,829 : INFO : EPOCH 3 - PROGRESS: at 16.43% examples, 448732 words/s, in_qsize 19, out_qsize 0\n",
      "2018-10-10 18:48:10,848 : INFO : EPOCH 3 - PROGRESS: at 17.61% examples, 447459 words/s, in_qsize 19, out_qsize 0\n",
      "2018-10-10 18:48:11,876 : INFO : EPOCH 3 - PROGRESS: at 18.85% examples, 446415 words/s, in_qsize 19, out_qsize 0\n",
      "2018-10-10 18:48:12,918 : INFO : EPOCH 3 - PROGRESS: at 19.95% examples, 444530 words/s, in_qsize 19, out_qsize 0\n",
      "2018-10-10 18:48:13,932 : INFO : EPOCH 3 - PROGRESS: at 21.03% examples, 443727 words/s, in_qsize 19, out_qsize 0\n",
      "2018-10-10 18:48:14,937 : INFO : EPOCH 3 - PROGRESS: at 22.51% examples, 443148 words/s, in_qsize 19, out_qsize 0\n",
      "2018-10-10 18:48:15,944 : INFO : EPOCH 3 - PROGRESS: at 23.60% examples, 442370 words/s, in_qsize 19, out_qsize 0\n",
      "2018-10-10 18:48:16,983 : INFO : EPOCH 3 - PROGRESS: at 24.81% examples, 441677 words/s, in_qsize 19, out_qsize 0\n",
      "2018-10-10 18:48:17,993 : INFO : EPOCH 3 - PROGRESS: at 26.66% examples, 443863 words/s, in_qsize 19, out_qsize 0\n",
      "2018-10-10 18:48:18,999 : INFO : EPOCH 3 - PROGRESS: at 28.31% examples, 443946 words/s, in_qsize 19, out_qsize 0\n",
      "2018-10-10 18:48:20,042 : INFO : EPOCH 3 - PROGRESS: at 29.92% examples, 443526 words/s, in_qsize 20, out_qsize 0\n",
      "2018-10-10 18:48:21,052 : INFO : EPOCH 3 - PROGRESS: at 31.65% examples, 444168 words/s, in_qsize 19, out_qsize 0\n",
      "2018-10-10 18:48:22,065 : INFO : EPOCH 3 - PROGRESS: at 33.07% examples, 442550 words/s, in_qsize 19, out_qsize 0\n",
      "2018-10-10 18:48:23,066 : INFO : EPOCH 3 - PROGRESS: at 34.47% examples, 441369 words/s, in_qsize 19, out_qsize 0\n",
      "2018-10-10 18:48:24,072 : INFO : EPOCH 3 - PROGRESS: at 35.97% examples, 441263 words/s, in_qsize 19, out_qsize 0\n",
      "2018-10-10 18:48:25,072 : INFO : EPOCH 3 - PROGRESS: at 37.57% examples, 441958 words/s, in_qsize 19, out_qsize 0\n",
      "2018-10-10 18:48:26,088 : INFO : EPOCH 3 - PROGRESS: at 39.30% examples, 442629 words/s, in_qsize 19, out_qsize 0\n",
      "2018-10-10 18:48:27,092 : INFO : EPOCH 3 - PROGRESS: at 40.89% examples, 443224 words/s, in_qsize 19, out_qsize 0\n",
      "2018-10-10 18:48:28,092 : INFO : EPOCH 3 - PROGRESS: at 42.58% examples, 443543 words/s, in_qsize 19, out_qsize 0\n",
      "2018-10-10 18:48:29,104 : INFO : EPOCH 3 - PROGRESS: at 44.32% examples, 444205 words/s, in_qsize 18, out_qsize 1\n",
      "2018-10-10 18:48:30,123 : INFO : EPOCH 3 - PROGRESS: at 45.99% examples, 444460 words/s, in_qsize 19, out_qsize 0\n",
      "2018-10-10 18:48:31,173 : INFO : EPOCH 3 - PROGRESS: at 47.58% examples, 444719 words/s, in_qsize 19, out_qsize 0\n",
      "2018-10-10 18:48:32,219 : INFO : EPOCH 3 - PROGRESS: at 49.32% examples, 445229 words/s, in_qsize 19, out_qsize 0\n",
      "2018-10-10 18:48:33,232 : INFO : EPOCH 3 - PROGRESS: at 50.97% examples, 446111 words/s, in_qsize 19, out_qsize 0\n",
      "2018-10-10 18:48:34,236 : INFO : EPOCH 3 - PROGRESS: at 52.39% examples, 445617 words/s, in_qsize 19, out_qsize 0\n",
      "2018-10-10 18:48:35,250 : INFO : EPOCH 3 - PROGRESS: at 53.81% examples, 445477 words/s, in_qsize 19, out_qsize 0\n",
      "2018-10-10 18:48:36,275 : INFO : EPOCH 3 - PROGRESS: at 55.37% examples, 444909 words/s, in_qsize 19, out_qsize 0\n",
      "2018-10-10 18:48:37,288 : INFO : EPOCH 3 - PROGRESS: at 57.02% examples, 445591 words/s, in_qsize 19, out_qsize 0\n",
      "2018-10-10 18:48:38,300 : INFO : EPOCH 3 - PROGRESS: at 58.46% examples, 444957 words/s, in_qsize 19, out_qsize 0\n",
      "2018-10-10 18:48:39,334 : INFO : EPOCH 3 - PROGRESS: at 60.00% examples, 444517 words/s, in_qsize 18, out_qsize 1\n",
      "2018-10-10 18:48:40,417 : INFO : EPOCH 3 - PROGRESS: at 61.59% examples, 444103 words/s, in_qsize 19, out_qsize 0\n",
      "2018-10-10 18:48:41,430 : INFO : EPOCH 3 - PROGRESS: at 63.10% examples, 443576 words/s, in_qsize 19, out_qsize 0\n",
      "2018-10-10 18:48:42,460 : INFO : EPOCH 3 - PROGRESS: at 64.79% examples, 443020 words/s, in_qsize 19, out_qsize 0\n",
      "2018-10-10 18:48:43,474 : INFO : EPOCH 3 - PROGRESS: at 66.13% examples, 442621 words/s, in_qsize 19, out_qsize 0\n",
      "2018-10-10 18:48:44,475 : INFO : EPOCH 3 - PROGRESS: at 67.56% examples, 442165 words/s, in_qsize 19, out_qsize 0\n",
      "2018-10-10 18:48:45,485 : INFO : EPOCH 3 - PROGRESS: at 69.01% examples, 441721 words/s, in_qsize 19, out_qsize 0\n",
      "2018-10-10 18:48:46,491 : INFO : EPOCH 3 - PROGRESS: at 70.25% examples, 440861 words/s, in_qsize 19, out_qsize 0\n",
      "2018-10-10 18:48:47,502 : INFO : EPOCH 3 - PROGRESS: at 71.81% examples, 441481 words/s, in_qsize 20, out_qsize 0\n",
      "2018-10-10 18:48:48,509 : INFO : EPOCH 3 - PROGRESS: at 73.60% examples, 442369 words/s, in_qsize 19, out_qsize 0\n",
      "2018-10-10 18:48:49,539 : INFO : EPOCH 3 - PROGRESS: at 75.05% examples, 442045 words/s, in_qsize 19, out_qsize 0\n",
      "2018-10-10 18:48:50,590 : INFO : EPOCH 3 - PROGRESS: at 76.36% examples, 441434 words/s, in_qsize 19, out_qsize 0\n",
      "2018-10-10 18:48:51,616 : INFO : EPOCH 3 - PROGRESS: at 77.72% examples, 441031 words/s, in_qsize 19, out_qsize 0\n",
      "2018-10-10 18:48:52,627 : INFO : EPOCH 3 - PROGRESS: at 79.21% examples, 441175 words/s, in_qsize 19, out_qsize 0\n",
      "2018-10-10 18:48:53,629 : INFO : EPOCH 3 - PROGRESS: at 80.58% examples, 440883 words/s, in_qsize 19, out_qsize 0\n",
      "2018-10-10 18:48:54,638 : INFO : EPOCH 3 - PROGRESS: at 82.07% examples, 440902 words/s, in_qsize 19, out_qsize 0\n",
      "2018-10-10 18:48:55,661 : INFO : EPOCH 3 - PROGRESS: at 83.63% examples, 441192 words/s, in_qsize 19, out_qsize 0\n",
      "2018-10-10 18:48:56,673 : INFO : EPOCH 3 - PROGRESS: at 85.04% examples, 441396 words/s, in_qsize 19, out_qsize 0\n",
      "2018-10-10 18:48:57,692 : INFO : EPOCH 3 - PROGRESS: at 86.58% examples, 441218 words/s, in_qsize 19, out_qsize 0\n",
      "2018-10-10 18:48:58,693 : INFO : EPOCH 3 - PROGRESS: at 88.24% examples, 441543 words/s, in_qsize 19, out_qsize 0\n",
      "2018-10-10 18:48:59,746 : INFO : EPOCH 3 - PROGRESS: at 89.92% examples, 441631 words/s, in_qsize 19, out_qsize 0\n",
      "2018-10-10 18:49:00,758 : INFO : EPOCH 3 - PROGRESS: at 91.51% examples, 441766 words/s, in_qsize 19, out_qsize 0\n",
      "2018-10-10 18:49:01,771 : INFO : EPOCH 3 - PROGRESS: at 92.95% examples, 441533 words/s, in_qsize 19, out_qsize 0\n",
      "2018-10-10 18:49:02,782 : INFO : EPOCH 3 - PROGRESS: at 94.46% examples, 441335 words/s, in_qsize 19, out_qsize 0\n",
      "2018-10-10 18:49:03,794 : INFO : EPOCH 3 - PROGRESS: at 95.90% examples, 441033 words/s, in_qsize 19, out_qsize 0\n",
      "2018-10-10 18:49:04,800 : INFO : EPOCH 3 - PROGRESS: at 97.38% examples, 440639 words/s, in_qsize 19, out_qsize 0\n",
      "2018-10-10 18:49:05,827 : INFO : EPOCH 3 - PROGRESS: at 99.06% examples, 441195 words/s, in_qsize 19, out_qsize 0\n",
      "2018-10-10 18:49:06,242 : INFO : worker thread finished; awaiting finish of 9 more threads\n",
      "2018-10-10 18:49:06,301 : INFO : worker thread finished; awaiting finish of 8 more threads\n",
      "2018-10-10 18:49:06,304 : INFO : worker thread finished; awaiting finish of 7 more threads\n",
      "2018-10-10 18:49:06,326 : INFO : worker thread finished; awaiting finish of 6 more threads\n",
      "2018-10-10 18:49:06,334 : INFO : worker thread finished; awaiting finish of 5 more threads\n",
      "2018-10-10 18:49:06,343 : INFO : worker thread finished; awaiting finish of 4 more threads\n",
      "2018-10-10 18:49:06,344 : INFO : worker thread finished; awaiting finish of 3 more threads\n"
     ]
    },
    {
     "name": "stderr",
     "output_type": "stream",
     "text": [
      "2018-10-10 18:49:06,353 : INFO : worker thread finished; awaiting finish of 2 more threads\n",
      "2018-10-10 18:49:06,361 : INFO : worker thread finished; awaiting finish of 1 more threads\n",
      "2018-10-10 18:49:06,367 : INFO : worker thread finished; awaiting finish of 0 more threads\n",
      "2018-10-10 18:49:06,368 : INFO : EPOCH - 3 : training on 41519355 raw words (30349703 effective words) took 68.7s, 441657 effective words/s\n"
     ]
    },
    {
     "name": "stdout",
     "output_type": "stream",
     "text": [
      "Epoch #2 end\n",
      "Loss: 69895328.0\n",
      "Epoch #3 start\n"
     ]
    },
    {
     "name": "stderr",
     "output_type": "stream",
     "text": [
      "2018-10-10 18:49:07,427 : INFO : EPOCH 4 - PROGRESS: at 1.14% examples, 352477 words/s, in_qsize 19, out_qsize 0\n",
      "2018-10-10 18:49:08,429 : INFO : EPOCH 4 - PROGRESS: at 2.64% examples, 404786 words/s, in_qsize 19, out_qsize 0\n",
      "2018-10-10 18:49:09,454 : INFO : EPOCH 4 - PROGRESS: at 4.14% examples, 415549 words/s, in_qsize 19, out_qsize 0\n",
      "2018-10-10 18:49:10,470 : INFO : EPOCH 4 - PROGRESS: at 5.60% examples, 421393 words/s, in_qsize 19, out_qsize 0\n",
      "2018-10-10 18:49:11,504 : INFO : EPOCH 4 - PROGRESS: at 7.07% examples, 424817 words/s, in_qsize 19, out_qsize 0\n",
      "2018-10-10 18:49:12,524 : INFO : EPOCH 4 - PROGRESS: at 8.63% examples, 433810 words/s, in_qsize 19, out_qsize 0\n",
      "2018-10-10 18:49:13,535 : INFO : EPOCH 4 - PROGRESS: at 9.88% examples, 438740 words/s, in_qsize 20, out_qsize 0\n",
      "2018-10-10 18:49:14,542 : INFO : EPOCH 4 - PROGRESS: at 11.17% examples, 442691 words/s, in_qsize 19, out_qsize 0\n",
      "2018-10-10 18:49:15,553 : INFO : EPOCH 4 - PROGRESS: at 12.39% examples, 444757 words/s, in_qsize 19, out_qsize 0\n",
      "2018-10-10 18:49:16,582 : INFO : EPOCH 4 - PROGRESS: at 13.81% examples, 447242 words/s, in_qsize 19, out_qsize 0\n",
      "2018-10-10 18:49:17,630 : INFO : EPOCH 4 - PROGRESS: at 15.22% examples, 448515 words/s, in_qsize 19, out_qsize 0\n",
      "2018-10-10 18:49:18,638 : INFO : EPOCH 4 - PROGRESS: at 16.60% examples, 451092 words/s, in_qsize 19, out_qsize 0\n",
      "2018-10-10 18:49:19,649 : INFO : EPOCH 4 - PROGRESS: at 17.98% examples, 455317 words/s, in_qsize 19, out_qsize 0\n",
      "2018-10-10 18:49:20,654 : INFO : EPOCH 4 - PROGRESS: at 19.34% examples, 459303 words/s, in_qsize 19, out_qsize 0\n",
      "2018-10-10 18:49:21,661 : INFO : EPOCH 4 - PROGRESS: at 20.51% examples, 458659 words/s, in_qsize 19, out_qsize 0\n",
      "2018-10-10 18:49:22,671 : INFO : EPOCH 4 - PROGRESS: at 22.10% examples, 460915 words/s, in_qsize 20, out_qsize 0\n",
      "2018-10-10 18:49:23,675 : INFO : EPOCH 4 - PROGRESS: at 23.22% examples, 459185 words/s, in_qsize 19, out_qsize 0\n",
      "2018-10-10 18:49:24,680 : INFO : EPOCH 4 - PROGRESS: at 24.36% examples, 458317 words/s, in_qsize 19, out_qsize 0\n",
      "2018-10-10 18:49:25,702 : INFO : EPOCH 4 - PROGRESS: at 25.99% examples, 458319 words/s, in_qsize 19, out_qsize 0\n",
      "2018-10-10 18:49:26,719 : INFO : EPOCH 4 - PROGRESS: at 27.84% examples, 459204 words/s, in_qsize 19, out_qsize 0\n",
      "2018-10-10 18:49:27,721 : INFO : EPOCH 4 - PROGRESS: at 29.50% examples, 459897 words/s, in_qsize 19, out_qsize 0\n",
      "2018-10-10 18:49:28,723 : INFO : EPOCH 4 - PROGRESS: at 31.22% examples, 460350 words/s, in_qsize 19, out_qsize 0\n",
      "2018-10-10 18:49:29,733 : INFO : EPOCH 4 - PROGRESS: at 32.93% examples, 460459 words/s, in_qsize 19, out_qsize 0\n",
      "2018-10-10 18:49:30,733 : INFO : EPOCH 4 - PROGRESS: at 34.42% examples, 459992 words/s, in_qsize 19, out_qsize 0\n",
      "2018-10-10 18:49:31,748 : INFO : EPOCH 4 - PROGRESS: at 36.10% examples, 460674 words/s, in_qsize 19, out_qsize 0\n",
      "2018-10-10 18:49:32,759 : INFO : EPOCH 4 - PROGRESS: at 37.76% examples, 461276 words/s, in_qsize 19, out_qsize 0\n",
      "2018-10-10 18:49:33,760 : INFO : EPOCH 4 - PROGRESS: at 39.48% examples, 461785 words/s, in_qsize 19, out_qsize 0\n",
      "2018-10-10 18:49:34,806 : INFO : EPOCH 4 - PROGRESS: at 41.24% examples, 461798 words/s, in_qsize 19, out_qsize 0\n",
      "2018-10-10 18:49:35,818 : INFO : EPOCH 4 - PROGRESS: at 42.94% examples, 462289 words/s, in_qsize 19, out_qsize 0\n",
      "2018-10-10 18:49:36,823 : INFO : EPOCH 4 - PROGRESS: at 44.76% examples, 462668 words/s, in_qsize 20, out_qsize 0\n",
      "2018-10-10 18:49:37,828 : INFO : EPOCH 4 - PROGRESS: at 46.34% examples, 462105 words/s, in_qsize 19, out_qsize 0\n",
      "2018-10-10 18:49:38,832 : INFO : EPOCH 4 - PROGRESS: at 47.87% examples, 461786 words/s, in_qsize 19, out_qsize 0\n",
      "2018-10-10 18:49:39,832 : INFO : EPOCH 4 - PROGRESS: at 49.49% examples, 461534 words/s, in_qsize 19, out_qsize 0\n",
      "2018-10-10 18:49:40,838 : INFO : EPOCH 4 - PROGRESS: at 51.08% examples, 461636 words/s, in_qsize 20, out_qsize 0\n",
      "2018-10-10 18:49:41,841 : INFO : EPOCH 4 - PROGRESS: at 52.67% examples, 462340 words/s, in_qsize 20, out_qsize 0\n",
      "2018-10-10 18:49:42,868 : INFO : EPOCH 4 - PROGRESS: at 54.35% examples, 463384 words/s, in_qsize 19, out_qsize 0\n",
      "2018-10-10 18:49:43,886 : INFO : EPOCH 4 - PROGRESS: at 56.11% examples, 463710 words/s, in_qsize 20, out_qsize 0\n",
      "2018-10-10 18:49:44,895 : INFO : EPOCH 4 - PROGRESS: at 57.76% examples, 464144 words/s, in_qsize 20, out_qsize 0\n",
      "2018-10-10 18:49:45,900 : INFO : EPOCH 4 - PROGRESS: at 59.35% examples, 464039 words/s, in_qsize 20, out_qsize 1\n",
      "2018-10-10 18:49:46,928 : INFO : EPOCH 4 - PROGRESS: at 61.05% examples, 464272 words/s, in_qsize 19, out_qsize 0\n",
      "2018-10-10 18:49:47,949 : INFO : EPOCH 4 - PROGRESS: at 62.70% examples, 464515 words/s, in_qsize 20, out_qsize 0\n",
      "2018-10-10 18:49:48,980 : INFO : EPOCH 4 - PROGRESS: at 64.59% examples, 464624 words/s, in_qsize 20, out_qsize 0\n",
      "2018-10-10 18:49:50,001 : INFO : EPOCH 4 - PROGRESS: at 66.11% examples, 464782 words/s, in_qsize 20, out_qsize 0\n",
      "2018-10-10 18:49:51,003 : INFO : EPOCH 4 - PROGRESS: at 67.68% examples, 464609 words/s, in_qsize 20, out_qsize 0\n",
      "2018-10-10 18:49:52,011 : INFO : EPOCH 4 - PROGRESS: at 69.32% examples, 465226 words/s, in_qsize 20, out_qsize 0\n",
      "2018-10-10 18:49:53,013 : INFO : EPOCH 4 - PROGRESS: at 70.85% examples, 465596 words/s, in_qsize 20, out_qsize 0\n",
      "2018-10-10 18:49:54,019 : INFO : EPOCH 4 - PROGRESS: at 72.46% examples, 465769 words/s, in_qsize 19, out_qsize 0\n",
      "2018-10-10 18:49:55,044 : INFO : EPOCH 4 - PROGRESS: at 74.17% examples, 465716 words/s, in_qsize 19, out_qsize 0\n",
      "2018-10-10 18:49:56,046 : INFO : EPOCH 4 - PROGRESS: at 75.77% examples, 466479 words/s, in_qsize 20, out_qsize 0\n",
      "2018-10-10 18:49:57,051 : INFO : EPOCH 4 - PROGRESS: at 77.24% examples, 466571 words/s, in_qsize 20, out_qsize 0\n",
      "2018-10-10 18:49:58,067 : INFO : EPOCH 4 - PROGRESS: at 78.80% examples, 466854 words/s, in_qsize 19, out_qsize 0\n",
      "2018-10-10 18:49:59,075 : INFO : EPOCH 4 - PROGRESS: at 80.35% examples, 466835 words/s, in_qsize 19, out_qsize 0\n",
      "2018-10-10 18:50:00,080 : INFO : EPOCH 4 - PROGRESS: at 81.82% examples, 466515 words/s, in_qsize 19, out_qsize 0\n",
      "2018-10-10 18:50:01,080 : INFO : EPOCH 4 - PROGRESS: at 83.33% examples, 466148 words/s, in_qsize 19, out_qsize 0\n",
      "2018-10-10 18:50:02,088 : INFO : EPOCH 4 - PROGRESS: at 84.70% examples, 465714 words/s, in_qsize 19, out_qsize 0\n",
      "2018-10-10 18:50:03,098 : INFO : EPOCH 4 - PROGRESS: at 86.24% examples, 465517 words/s, in_qsize 19, out_qsize 0\n",
      "2018-10-10 18:50:04,101 : INFO : EPOCH 4 - PROGRESS: at 88.11% examples, 466307 words/s, in_qsize 20, out_qsize 0\n",
      "2018-10-10 18:50:05,110 : INFO : EPOCH 4 - PROGRESS: at 89.79% examples, 466432 words/s, in_qsize 20, out_qsize 0\n",
      "2018-10-10 18:50:06,116 : INFO : EPOCH 4 - PROGRESS: at 91.58% examples, 467047 words/s, in_qsize 19, out_qsize 0\n",
      "2018-10-10 18:50:07,126 : INFO : EPOCH 4 - PROGRESS: at 93.20% examples, 467351 words/s, in_qsize 19, out_qsize 0\n",
      "2018-10-10 18:50:08,127 : INFO : EPOCH 4 - PROGRESS: at 94.81% examples, 467273 words/s, in_qsize 19, out_qsize 0\n",
      "2018-10-10 18:50:09,132 : INFO : EPOCH 4 - PROGRESS: at 96.42% examples, 467159 words/s, in_qsize 19, out_qsize 0\n",
      "2018-10-10 18:50:10,137 : INFO : EPOCH 4 - PROGRESS: at 97.99% examples, 466996 words/s, in_qsize 19, out_qsize 0\n",
      "2018-10-10 18:50:11,148 : INFO : EPOCH 4 - PROGRESS: at 99.57% examples, 466738 words/s, in_qsize 17, out_qsize 0\n",
      "2018-10-10 18:50:11,240 : INFO : worker thread finished; awaiting finish of 9 more threads\n",
      "2018-10-10 18:50:11,250 : INFO : worker thread finished; awaiting finish of 8 more threads\n",
      "2018-10-10 18:50:11,295 : INFO : worker thread finished; awaiting finish of 7 more threads\n",
      "2018-10-10 18:50:11,315 : INFO : worker thread finished; awaiting finish of 6 more threads\n",
      "2018-10-10 18:50:11,317 : INFO : worker thread finished; awaiting finish of 5 more threads\n",
      "2018-10-10 18:50:11,319 : INFO : worker thread finished; awaiting finish of 4 more threads\n",
      "2018-10-10 18:50:11,338 : INFO : worker thread finished; awaiting finish of 3 more threads\n",
      "2018-10-10 18:50:11,355 : INFO : worker thread finished; awaiting finish of 2 more threads\n",
      "2018-10-10 18:50:11,358 : INFO : worker thread finished; awaiting finish of 1 more threads\n",
      "2018-10-10 18:50:11,372 : INFO : worker thread finished; awaiting finish of 0 more threads\n"
     ]
    },
    {
     "name": "stderr",
     "output_type": "stream",
     "text": [
      "2018-10-10 18:50:11,374 : INFO : EPOCH - 4 : training on 41519355 raw words (30349402 effective words) took 65.0s, 466945 effective words/s\n"
     ]
    },
    {
     "name": "stdout",
     "output_type": "stream",
     "text": [
      "Epoch #3 end\n",
      "Loss: 72454664.0\n",
      "Epoch #4 start\n"
     ]
    },
    {
     "name": "stderr",
     "output_type": "stream",
     "text": [
      "2018-10-10 18:50:12,390 : INFO : EPOCH 5 - PROGRESS: at 1.00% examples, 324337 words/s, in_qsize 19, out_qsize 0\n",
      "2018-10-10 18:50:13,392 : INFO : EPOCH 5 - PROGRESS: at 2.19% examples, 345771 words/s, in_qsize 19, out_qsize 0\n",
      "2018-10-10 18:50:14,408 : INFO : EPOCH 5 - PROGRESS: at 3.46% examples, 356044 words/s, in_qsize 19, out_qsize 0\n",
      "2018-10-10 18:50:15,428 : INFO : EPOCH 5 - PROGRESS: at 4.65% examples, 355759 words/s, in_qsize 19, out_qsize 0\n",
      "2018-10-10 18:50:16,441 : INFO : EPOCH 5 - PROGRESS: at 5.81% examples, 355338 words/s, in_qsize 19, out_qsize 0\n",
      "2018-10-10 18:50:17,455 : INFO : EPOCH 5 - PROGRESS: at 7.07% examples, 358881 words/s, in_qsize 19, out_qsize 0\n",
      "2018-10-10 18:50:18,460 : INFO : EPOCH 5 - PROGRESS: at 8.35% examples, 365757 words/s, in_qsize 20, out_qsize 0\n",
      "2018-10-10 18:50:19,468 : INFO : EPOCH 5 - PROGRESS: at 9.44% examples, 365592 words/s, in_qsize 19, out_qsize 0\n",
      "2018-10-10 18:50:20,470 : INFO : EPOCH 5 - PROGRESS: at 10.65% examples, 375191 words/s, in_qsize 19, out_qsize 0\n",
      "2018-10-10 18:50:21,471 : INFO : EPOCH 5 - PROGRESS: at 11.69% examples, 379300 words/s, in_qsize 18, out_qsize 1\n",
      "2018-10-10 18:50:22,474 : INFO : EPOCH 5 - PROGRESS: at 12.99% examples, 386429 words/s, in_qsize 19, out_qsize 0\n",
      "2018-10-10 18:50:23,493 : INFO : EPOCH 5 - PROGRESS: at 14.26% examples, 389520 words/s, in_qsize 19, out_qsize 0\n",
      "2018-10-10 18:50:24,502 : INFO : EPOCH 5 - PROGRESS: at 15.63% examples, 394249 words/s, in_qsize 19, out_qsize 0\n",
      "2018-10-10 18:50:25,505 : INFO : EPOCH 5 - PROGRESS: at 16.61% examples, 392300 words/s, in_qsize 19, out_qsize 0\n",
      "2018-10-10 18:50:26,515 : INFO : EPOCH 5 - PROGRESS: at 17.61% examples, 390466 words/s, in_qsize 19, out_qsize 0\n",
      "2018-10-10 18:50:27,526 : INFO : EPOCH 5 - PROGRESS: at 18.67% examples, 389613 words/s, in_qsize 19, out_qsize 0\n",
      "2018-10-10 18:50:28,560 : INFO : EPOCH 5 - PROGRESS: at 19.71% examples, 390285 words/s, in_qsize 19, out_qsize 0\n",
      "2018-10-10 18:50:29,595 : INFO : EPOCH 5 - PROGRESS: at 20.84% examples, 392539 words/s, in_qsize 19, out_qsize 0\n",
      "2018-10-10 18:50:30,618 : INFO : EPOCH 5 - PROGRESS: at 22.37% examples, 395824 words/s, in_qsize 19, out_qsize 0\n",
      "2018-10-10 18:50:31,628 : INFO : EPOCH 5 - PROGRESS: at 23.54% examples, 398845 words/s, in_qsize 19, out_qsize 0\n",
      "2018-10-10 18:50:32,636 : INFO : EPOCH 5 - PROGRESS: at 25.07% examples, 404943 words/s, in_qsize 19, out_qsize 0\n",
      "2018-10-10 18:50:33,646 : INFO : EPOCH 5 - PROGRESS: at 27.16% examples, 411907 words/s, in_qsize 19, out_qsize 0\n",
      "2018-10-10 18:50:34,656 : INFO : EPOCH 5 - PROGRESS: at 29.10% examples, 416659 words/s, in_qsize 19, out_qsize 0\n",
      "2018-10-10 18:50:35,658 : INFO : EPOCH 5 - PROGRESS: at 31.11% examples, 422677 words/s, in_qsize 19, out_qsize 0\n",
      "2018-10-10 18:50:36,668 : INFO : EPOCH 5 - PROGRESS: at 33.15% examples, 428237 words/s, in_qsize 19, out_qsize 0\n",
      "2018-10-10 18:50:37,681 : INFO : EPOCH 5 - PROGRESS: at 34.93% examples, 432151 words/s, in_qsize 19, out_qsize 0\n",
      "2018-10-10 18:50:38,686 : INFO : EPOCH 5 - PROGRESS: at 36.89% examples, 436552 words/s, in_qsize 19, out_qsize 0\n",
      "2018-10-10 18:50:39,690 : INFO : EPOCH 5 - PROGRESS: at 38.90% examples, 441154 words/s, in_qsize 19, out_qsize 0\n",
      "2018-10-10 18:50:40,700 : INFO : EPOCH 5 - PROGRESS: at 40.90% examples, 445163 words/s, in_qsize 19, out_qsize 0\n",
      "2018-10-10 18:50:41,700 : INFO : EPOCH 5 - PROGRESS: at 42.97% examples, 449232 words/s, in_qsize 19, out_qsize 0\n",
      "2018-10-10 18:50:42,714 : INFO : EPOCH 5 - PROGRESS: at 45.01% examples, 451941 words/s, in_qsize 19, out_qsize 0\n",
      "2018-10-10 18:50:43,718 : INFO : EPOCH 5 - PROGRESS: at 46.91% examples, 455054 words/s, in_qsize 19, out_qsize 0\n",
      "2018-10-10 18:50:44,734 : INFO : EPOCH 5 - PROGRESS: at 48.73% examples, 456767 words/s, in_qsize 19, out_qsize 0\n",
      "2018-10-10 18:50:45,774 : INFO : EPOCH 5 - PROGRESS: at 50.30% examples, 455900 words/s, in_qsize 19, out_qsize 0\n",
      "2018-10-10 18:50:46,778 : INFO : EPOCH 5 - PROGRESS: at 52.01% examples, 457381 words/s, in_qsize 19, out_qsize 0\n",
      "2018-10-10 18:50:47,804 : INFO : EPOCH 5 - PROGRESS: at 53.85% examples, 460315 words/s, in_qsize 19, out_qsize 0\n",
      "2018-10-10 18:50:48,813 : INFO : EPOCH 5 - PROGRESS: at 55.94% examples, 463368 words/s, in_qsize 19, out_qsize 0\n",
      "2018-10-10 18:50:49,823 : INFO : EPOCH 5 - PROGRESS: at 57.81% examples, 465474 words/s, in_qsize 19, out_qsize 0\n",
      "2018-10-10 18:50:50,827 : INFO : EPOCH 5 - PROGRESS: at 59.68% examples, 467194 words/s, in_qsize 19, out_qsize 0\n",
      "2018-10-10 18:50:51,836 : INFO : EPOCH 5 - PROGRESS: at 61.42% examples, 468277 words/s, in_qsize 19, out_qsize 0\n",
      "2018-10-10 18:50:52,864 : INFO : EPOCH 5 - PROGRESS: at 63.41% examples, 470105 words/s, in_qsize 19, out_qsize 0\n",
      "2018-10-10 18:50:53,866 : INFO : EPOCH 5 - PROGRESS: at 65.46% examples, 472387 words/s, in_qsize 19, out_qsize 0\n",
      "2018-10-10 18:50:54,876 : INFO : EPOCH 5 - PROGRESS: at 67.10% examples, 472933 words/s, in_qsize 19, out_qsize 0\n",
      "2018-10-10 18:50:55,879 : INFO : EPOCH 5 - PROGRESS: at 68.85% examples, 473782 words/s, in_qsize 19, out_qsize 0\n",
      "2018-10-10 18:50:56,940 : INFO : EPOCH 5 - PROGRESS: at 70.57% examples, 474747 words/s, in_qsize 19, out_qsize 0\n",
      "2018-10-10 18:50:57,953 : INFO : EPOCH 5 - PROGRESS: at 72.28% examples, 475442 words/s, in_qsize 19, out_qsize 0\n",
      "2018-10-10 18:50:58,982 : INFO : EPOCH 5 - PROGRESS: at 74.00% examples, 474972 words/s, in_qsize 19, out_qsize 0\n",
      "2018-10-10 18:50:59,992 : INFO : EPOCH 5 - PROGRESS: at 75.50% examples, 474907 words/s, in_qsize 20, out_qsize 0\n",
      "2018-10-10 18:51:01,004 : INFO : EPOCH 5 - PROGRESS: at 77.13% examples, 475806 words/s, in_qsize 19, out_qsize 0\n",
      "2018-10-10 18:51:02,013 : INFO : EPOCH 5 - PROGRESS: at 78.75% examples, 476400 words/s, in_qsize 19, out_qsize 0\n",
      "2018-10-10 18:51:03,018 : INFO : EPOCH 5 - PROGRESS: at 80.12% examples, 475230 words/s, in_qsize 19, out_qsize 0\n",
      "2018-10-10 18:51:04,020 : INFO : EPOCH 5 - PROGRESS: at 81.56% examples, 474660 words/s, in_qsize 19, out_qsize 0\n",
      "2018-10-10 18:51:05,027 : INFO : EPOCH 5 - PROGRESS: at 83.22% examples, 474748 words/s, in_qsize 19, out_qsize 0\n",
      "2018-10-10 18:51:06,040 : INFO : EPOCH 5 - PROGRESS: at 84.83% examples, 475404 words/s, in_qsize 19, out_qsize 0\n",
      "2018-10-10 18:51:07,062 : INFO : EPOCH 5 - PROGRESS: at 86.75% examples, 476755 words/s, in_qsize 19, out_qsize 0\n",
      "2018-10-10 18:51:08,081 : INFO : EPOCH 5 - PROGRESS: at 88.72% examples, 477617 words/s, in_qsize 19, out_qsize 0\n",
      "2018-10-10 18:51:09,101 : INFO : EPOCH 5 - PROGRESS: at 90.56% examples, 478452 words/s, in_qsize 19, out_qsize 0\n",
      "2018-10-10 18:51:10,107 : INFO : EPOCH 5 - PROGRESS: at 92.51% examples, 479704 words/s, in_qsize 19, out_qsize 0\n",
      "2018-10-10 18:51:11,117 : INFO : EPOCH 5 - PROGRESS: at 94.31% examples, 480536 words/s, in_qsize 19, out_qsize 0\n",
      "2018-10-10 18:51:12,141 : INFO : EPOCH 5 - PROGRESS: at 96.26% examples, 481944 words/s, in_qsize 19, out_qsize 0\n",
      "2018-10-10 18:51:13,146 : INFO : EPOCH 5 - PROGRESS: at 97.87% examples, 481543 words/s, in_qsize 19, out_qsize 0\n",
      "2018-10-10 18:51:14,149 : INFO : EPOCH 5 - PROGRESS: at 99.35% examples, 480653 words/s, in_qsize 19, out_qsize 0\n",
      "2018-10-10 18:51:14,463 : INFO : worker thread finished; awaiting finish of 9 more threads\n",
      "2018-10-10 18:51:14,466 : INFO : worker thread finished; awaiting finish of 8 more threads\n",
      "2018-10-10 18:51:14,467 : INFO : worker thread finished; awaiting finish of 7 more threads\n",
      "2018-10-10 18:51:14,499 : INFO : worker thread finished; awaiting finish of 6 more threads\n",
      "2018-10-10 18:51:14,509 : INFO : worker thread finished; awaiting finish of 5 more threads\n",
      "2018-10-10 18:51:14,530 : INFO : worker thread finished; awaiting finish of 4 more threads\n",
      "2018-10-10 18:51:14,534 : INFO : worker thread finished; awaiting finish of 3 more threads\n",
      "2018-10-10 18:51:14,538 : INFO : worker thread finished; awaiting finish of 2 more threads\n",
      "2018-10-10 18:51:14,541 : INFO : worker thread finished; awaiting finish of 1 more threads\n",
      "2018-10-10 18:51:14,546 : INFO : worker thread finished; awaiting finish of 0 more threads\n",
      "2018-10-10 18:51:14,547 : INFO : EPOCH - 5 : training on 41519355 raw words (30349176 effective words) took 63.2s, 480516 effective words/s\n",
      "2018-10-10 18:51:14,549 : INFO : training on a 207596775 raw words (151748867 effective words) took 337.9s, 449044 effective words/s\n"
     ]
    },
    {
     "name": "stdout",
     "output_type": "stream",
     "text": [
      "Epoch #4 end\n",
      "Loss: 75034864.0\n"
     ]
    }
   ],
   "source": [
    "epoch_logger = EpochLogger()\n",
    "model = gensim.models.Word2Vec (documents, size=50, window=5, min_count=2, workers=10, compute_loss=True, sg=1, negative=10, callbacks=[epoch_logger])"
   ]
  },
  {
   "cell_type": "code",
   "execution_count": 27,
   "metadata": {},
   "outputs": [
    {
     "name": "stdout",
     "output_type": "stream",
     "text": [
      "37190996.0\n",
      "30195636.0\n",
      "2508696.0\n",
      "2559336.0\n",
      "2580200.0\n"
     ]
    }
   ],
   "source": [
    "print (epoch_logger.losses[0])\n",
    "print (epoch_logger.losses[1] - epoch_logger.losses[0])\n",
    "print (epoch_logger.losses[2] - epoch_logger.losses[1])\n",
    "print (epoch_logger.losses[3] - epoch_logger.losses[2])\n",
    "print (epoch_logger.losses[4] - epoch_logger.losses[3])"
   ]
  },
  {
   "cell_type": "code",
   "execution_count": 8,
   "metadata": {},
   "outputs": [
    {
     "name": "stderr",
     "output_type": "stream",
     "text": [
      "2018-10-10 18:13:59,731 : INFO : precomputing L2-norms of word weight vectors\n",
      "/nethome/ssoni30/venvs/py36/lib/python3.6/site-packages/gensim/matutils.py:737: FutureWarning: Conversion of the second argument of issubdtype from `int` to `np.signedinteger` is deprecated. In future, it will be treated as `np.int64 == np.dtype(int).type`.\n",
      "  if np.issubdtype(vec.dtype, np.int):\n"
     ]
    },
    {
     "data": {
      "text/plain": [
       "[('filthy', 0.9375041127204895),\n",
       " ('grubby', 0.885326087474823),\n",
       " ('dusty', 0.8807424306869507),\n",
       " ('unclean', 0.8704223036766052),\n",
       " ('stained', 0.8664363622665405),\n",
       " ('grimy', 0.8569716811180115),\n",
       " ('dingy', 0.8497437238693237),\n",
       " ('moldy', 0.848162829875946),\n",
       " ('smelly', 0.8481365442276001),\n",
       " ('threadbare', 0.847484290599823)]"
      ]
     },
     "execution_count": 8,
     "metadata": {},
     "output_type": "execute_result"
    }
   ],
   "source": [
    "w1 = \"dirty\"\n",
    "model.wv.most_similar (positive=w1)"
   ]
  },
  {
   "cell_type": "code",
   "execution_count": 9,
   "metadata": {},
   "outputs": [
    {
     "name": "stderr",
     "output_type": "stream",
     "text": [
      "/nethome/ssoni30/venvs/py36/lib/python3.6/site-packages/gensim/matutils.py:737: FutureWarning: Conversion of the second argument of issubdtype from `int` to `np.signedinteger` is deprecated. In future, it will be treated as `np.int64 == np.dtype(int).type`.\n",
      "  if np.issubdtype(vec.dtype, np.int):\n"
     ]
    },
    {
     "data": {
      "text/plain": [
       "[('courteous', 0.9687690734863281),\n",
       " ('curteous', 0.9472550749778748),\n",
       " ('cordial', 0.9467061758041382),\n",
       " ('curtious', 0.9369388818740845),\n",
       " ('professional', 0.9234247207641602),\n",
       " ('friendly', 0.9214097261428833)]"
      ]
     },
     "execution_count": 9,
     "metadata": {},
     "output_type": "execute_result"
    }
   ],
   "source": [
    "# look up top 6 words similar to 'polite'\n",
    "w1 = [\"polite\"]\n",
    "model.wv.most_similar (positive=w1,topn=6)"
   ]
  },
  {
   "cell_type": "code",
   "execution_count": 12,
   "metadata": {},
   "outputs": [
    {
     "name": "stderr",
     "output_type": "stream",
     "text": [
      "/nethome/ssoni30/venvs/py36/lib/python3.6/site-packages/gensim/matutils.py:737: FutureWarning: Conversion of the second argument of issubdtype from `int` to `np.signedinteger` is deprecated. In future, it will be treated as `np.int64 == np.dtype(int).type`.\n",
      "  if np.issubdtype(vec.dtype, np.int):\n"
     ]
    },
    {
     "data": {
      "text/plain": [
       "[('barclays', 0.6669918298721313),\n",
       " ('expedition', 0.65492182970047),\n",
       " ('charleston', 0.6254096031188965),\n",
       " ('zion', 0.6123912334442139),\n",
       " ('mission', 0.6088446378707886),\n",
       " ('coast', 0.6049933433532715),\n",
       " ('sedona', 0.6008588075637817),\n",
       " ('cutty', 0.5940651297569275),\n",
       " ('consulate', 0.5903049111366272),\n",
       " ('expo', 0.5848873257637024)]"
      ]
     },
     "execution_count": 12,
     "metadata": {},
     "output_type": "execute_result"
    }
   ],
   "source": [
    "# get everything related to stuff on the bed\n",
    "w1 = [\"bank\"]\n",
    "model.wv.most_similar (positive=w1,topn=10)"
   ]
  },
  {
   "cell_type": "code",
   "execution_count": 13,
   "metadata": {},
   "outputs": [
    {
     "name": "stderr",
     "output_type": "stream",
     "text": [
      "/nethome/ssoni30/venvs/py36/lib/python3.6/site-packages/gensim/matutils.py:737: FutureWarning: Conversion of the second argument of issubdtype from `int` to `np.signedinteger` is deprecated. In future, it will be treated as `np.int64 == np.dtype(int).type`.\n",
      "  if np.issubdtype(vec.dtype, np.int):\n"
     ]
    },
    {
     "data": {
      "text/plain": [
       "[('client', 0.607180655002594),\n",
       " ('expire', 0.5592370629310608),\n",
       " ('presenting', 0.5585870146751404),\n",
       " ('emailing', 0.5563965439796448),\n",
       " ('yearly', 0.5540558695793152),\n",
       " ('completing', 0.5474334955215454),\n",
       " ('pending', 0.5394956469535828),\n",
       " ('swiping', 0.5350539088249207),\n",
       " ('visa', 0.5329407453536987),\n",
       " ('bankrupt', 0.5328477025032043)]"
      ]
     },
     "execution_count": 13,
     "metadata": {},
     "output_type": "execute_result"
    }
   ],
   "source": [
    "# get everything related to stuff on the bed\n",
    "w1 = [\"bank\",]\n",
    "w2 = ['river']\n",
    "model.wv.most_similar (positive=w1,negative=w2,topn=10)"
   ]
  }
 ],
 "metadata": {
  "kernelspec": {
   "display_name": "Python 3",
   "language": "python",
   "name": "python3"
  },
  "language_info": {
   "codemirror_mode": {
    "name": "ipython",
    "version": 3
   },
   "file_extension": ".py",
   "mimetype": "text/x-python",
   "name": "python",
   "nbconvert_exporter": "python",
   "pygments_lexer": "ipython3",
   "version": "3.6.5"
  }
 },
 "nbformat": 4,
 "nbformat_minor": 2
}
