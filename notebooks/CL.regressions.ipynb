{
 "cells": [
  {
   "cell_type": "code",
   "execution_count": 1,
   "metadata": {},
   "outputs": [],
   "source": [
    "import os\n",
    "import numpy as np\n",
    "import statsmodels.api as sm\n",
    "import pandas as pd\n",
    "from collections import Counter"
   ]
  },
  {
   "cell_type": "code",
   "execution_count": 95,
   "metadata": {},
   "outputs": [],
   "source": [
    "from sklearn.metrics import mean_squared_log_error"
   ]
  },
  {
   "cell_type": "code",
   "execution_count": 2,
   "metadata": {},
   "outputs": [],
   "source": [
    "import matplotlib.pyplot as plt\n",
    "import seaborn as sns\n",
    "%matplotlib inline"
   ]
  },
  {
   "cell_type": "code",
   "execution_count": 176,
   "metadata": {},
   "outputs": [],
   "source": [
    "STATS_DIR = \"/hg191/corpora/legaldata/data/stats/\"\n",
    "COURTS_CATEGORIES_FILE = \"/hg191/corpora/legaldata/data/court.categories\"\n",
    "CURRENT_YEAR = 2018\n",
    "NOBS = 50000\n",
    "TRAIN_OBS_RANGE = (0,int(0.95*NOBS))\n",
    "TEST_OBS_RANGE = (int(0.95*NOBS),NOBS)"
   ]
  },
  {
   "cell_type": "code",
   "execution_count": 4,
   "metadata": {},
   "outputs": [],
   "source": [
    "with open (os.path.join (STATS_DIR, \"ops.list\")) as fin:\n",
    "    ids = [(i, int(line.strip())) for i,line in enumerate (fin)]"
   ]
  },
  {
   "cell_type": "code",
   "execution_count": 177,
   "metadata": {},
   "outputs": [],
   "source": [
    "# initialize a seed for repeatability\n",
    "np.random.seed(100)\n",
    "indices = np.random.choice(len(ids), NOBS, replace=False)"
   ]
  },
  {
   "cell_type": "code",
   "execution_count": 6,
   "metadata": {},
   "outputs": [],
   "source": [
    "outd = pd.read_csv (os.path.join (STATS_DIR, \"ops.outd\"), sep=\",\", header=None, names=[\"id\", \"outd\"])\n",
    "ind = pd.read_csv (os.path.join (STATS_DIR, \"ops.ind\"), sep=\",\", header=None, names=[\"id\", \"ind\"])\n",
    "dates = pd.read_csv (os.path.join (STATS_DIR, \"ops.dates\"), sep=\",\", header=None, names=[\"id\", \"date\"])\n",
    "precedents = pd.read_csv (os.path.join (STATS_DIR, \"ops.pubs\"), sep=\",\", header=None, names=[\"id\", \"isPub\"])\n",
    "nPages = pd.read_csv (os.path.join (STATS_DIR, \"ops.pages\"), sep=\",\", header=None, names=[\"id\", \"npages\"])\n",
    "nUniqs = pd.read_csv (os.path.join (STATS_DIR, \"ops.nuniqs\"), sep=\",\", header=None, names=[\"id\", \"nuniqs\"])\n",
    "nTokens = pd.read_csv (os.path.join (STATS_DIR, \"ops.ntokens\"), sep=\",\", header=None, names=[\"id\", \"ntokens\"])\n",
    "courts = pd.read_csv (os.path.join (STATS_DIR, \"ops.courts\"), sep=\",\", header=None, names=[\"id\", \"courts\"])\n",
    "types = pd.read_csv (os.path.join (STATS_DIR, \"ops.types\"), sep=\",\", header=None, names=[\"id\", \"optype\"])\n",
    "semfeats = pd.read_csv (os.path.join (STATS_DIR, \"ops.temp.semfeat\"), sep=\",\", header=None, names=[\"id\", \"semfeat\"])\n",
    "bowfeats = pd.read_csv (os.path.join (STATS_DIR, \"ops.temp.bowfeat\"), sep=\",\", header=None, names=[\"id\", \"bowfeat\"])"
   ]
  },
  {
   "cell_type": "code",
   "execution_count": 7,
   "metadata": {},
   "outputs": [],
   "source": [
    "def df2dict (df, key, val):\n",
    "    keys = df[key].values\n",
    "    vals = df[val].values\n",
    "    \n",
    "    assert (len(keys) == len (vals))\n",
    "    return {keys[i]: vals[i] for i in range (len(keys))}"
   ]
  },
  {
   "cell_type": "code",
   "execution_count": 8,
   "metadata": {},
   "outputs": [],
   "source": [
    "O = df2dict (outd, \"id\", \"outd\")\n",
    "I = df2dict (ind, \"id\", \"ind\")\n",
    "D = df2dict (dates, \"id\", \"date\")\n",
    "P = df2dict (precedents, \"id\", \"isPub\")\n",
    "nP = df2dict (nPages, \"id\", \"npages\")\n",
    "nU = df2dict (nUniqs, \"id\", \"nuniqs\")\n",
    "nT = df2dict (nTokens, \"id\", \"ntokens\")\n",
    "C = df2dict (courts, \"id\", \"courts\")\n",
    "T = df2dict (types, \"id\", \"optype\")\n",
    "S = df2dict (semfeats, \"id\", \"semfeat\")\n",
    "B = df2dict (bowfeats, \"id\", \"bowfeat\")"
   ]
  },
  {
   "cell_type": "markdown",
   "metadata": {},
   "source": [
    "**1. Dependent variable**"
   ]
  },
  {
   "cell_type": "code",
   "execution_count": 178,
   "metadata": {},
   "outputs": [],
   "source": [
    "y = np.array ([I[ids[index][1]] for index in indices])\n",
    "tr_y = y[TRAIN_OBS_RANGE[0]:TRAIN_OBS_RANGE[1]]\n",
    "te_y = y[TEST_OBS_RANGE[0]:TEST_OBS_RANGE[1]]"
   ]
  },
  {
   "cell_type": "markdown",
   "metadata": {},
   "source": [
    "**2. Independent variables**"
   ]
  },
  {
   "cell_type": "markdown",
   "metadata": {},
   "source": [
    "(a) Outdegree model"
   ]
  },
  {
   "cell_type": "code",
   "execution_count": 179,
   "metadata": {},
   "outputs": [],
   "source": [
    "X_outd = np.array ([O[ids[index][1]] for index in indices])\n",
    "X = sm.add_constant (X_outd)"
   ]
  },
  {
   "cell_type": "code",
   "execution_count": 180,
   "metadata": {},
   "outputs": [],
   "source": [
    "trX = X[TRAIN_OBS_RANGE[0]:TRAIN_OBS_RANGE[1],:]\n",
    "teX = X[TEST_OBS_RANGE[0]:TEST_OBS_RANGE[1]]"
   ]
  },
  {
   "cell_type": "code",
   "execution_count": 11,
   "metadata": {},
   "outputs": [
    {
     "data": {
      "text/plain": [
       "<seaborn.axisgrid.JointGrid at 0x7f9df61ac4a8>"
      ]
     },
     "execution_count": 11,
     "metadata": {},
     "output_type": "execute_result"
    },
    {
     "data": {
      "image/png": "[encoded data removed]",
      "text/plain": [
       "<Figure size 432x432 with 3 Axes>"
      ]
     },
     "metadata": {
      "needs_background": "light"
     },
     "output_type": "display_data"
    }
   ],
   "source": [
    "sns.jointplot(x=X_outd, y=y, kind='scatter', joint_kws={\"s\": 0.5})"
   ]
  },
  {
   "cell_type": "code",
   "execution_count": 181,
   "metadata": {},
   "outputs": [
    {
     "name": "stdout",
     "output_type": "stream",
     "text": [
      "                 Generalized Linear Model Regression Results                  \n",
      "==============================================================================\n",
      "Dep. Variable:                      y   No. Observations:                47500\n",
      "Model:                            GLM   Df Residuals:                    47498\n",
      "Model Family:        NegativeBinomial   Df Model:                            1\n",
      "Link Function:                    log   Scale:                          1.0000\n",
      "Method:                          IRLS   Log-Likelihood:            -1.3293e+05\n",
      "Date:                Wed, 28 Nov 2018   Deviance:                   1.2075e+05\n",
      "Time:                        14:34:37   Pearson chi2:                 1.73e+06\n",
      "No. Iterations:                    19   Covariance Type:             nonrobust\n",
      "==============================================================================\n",
      "                 coef    std err          z      P>|z|      [0.025      0.975]\n",
      "------------------------------------------------------------------------------\n",
      "const          1.0626      0.006    168.582      0.000       1.050       1.075\n",
      "x1             0.0821      0.000    188.338      0.000       0.081       0.083\n",
      "==============================================================================\n",
      "MSLE: 2.1507963507011736\n"
     ]
    }
   ],
   "source": [
    "results = sm.GLM(tr_y,trX,family=sm.families.NegativeBinomial()).fit()\n",
    "print(results.summary())\n",
    "print(\"MSLE: {0}\".format (mean_squared_log_error(te_y, results.predict(teX))))"
   ]
  },
  {
   "cell_type": "markdown",
   "metadata": {},
   "source": [
    "(b) +age"
   ]
  },
  {
   "cell_type": "code",
   "execution_count": 182,
   "metadata": {},
   "outputs": [],
   "source": [
    "X_age = np.array ([CURRENT_YEAR - int(D[ids[index][1]].split(\"-\")[0]) for index in indices])\n",
    "X = np.array([X_outd, X_age]).T\n",
    "X = sm.add_constant(X)"
   ]
  },
  {
   "cell_type": "code",
   "execution_count": 183,
   "metadata": {},
   "outputs": [],
   "source": [
    "trX = X[TRAIN_OBS_RANGE[0]:TRAIN_OBS_RANGE[1],:]\n",
    "teX = X[TEST_OBS_RANGE[0]:TEST_OBS_RANGE[1]]"
   ]
  },
  {
   "cell_type": "code",
   "execution_count": 184,
   "metadata": {},
   "outputs": [
    {
     "name": "stdout",
     "output_type": "stream",
     "text": [
      "                 Generalized Linear Model Regression Results                  \n",
      "==============================================================================\n",
      "Dep. Variable:                      y   No. Observations:                47500\n",
      "Model:                            GLM   Df Residuals:                    47497\n",
      "Model Family:        NegativeBinomial   Df Model:                            2\n",
      "Link Function:                    log   Scale:                          1.0000\n",
      "Method:                          IRLS   Log-Likelihood:            -1.2529e+05\n",
      "Date:                Wed, 28 Nov 2018   Deviance:                   1.0548e+05\n",
      "Time:                        14:35:03   Pearson chi2:                 1.19e+06\n",
      "No. Iterations:                    26   Covariance Type:             nonrobust\n",
      "==============================================================================\n",
      "                 coef    std err          z      P>|z|      [0.025      0.975]\n",
      "------------------------------------------------------------------------------\n",
      "const         -0.1140      0.010    -11.995      0.000      -0.133      -0.095\n",
      "x1             0.1025      0.000    227.960      0.000       0.102       0.103\n",
      "x2             0.0263      0.000    150.144      0.000       0.026       0.027\n",
      "==============================================================================\n",
      "MSLE: 1.8517015093132398\n"
     ]
    }
   ],
   "source": [
    "results = sm.GLM(tr_y,trX,family=sm.families.NegativeBinomial()).fit()\n",
    "print(results.summary())\n",
    "print(\"MSLE: {0}\".format (mean_squared_log_error(te_y, results.predict(teX))))"
   ]
  },
  {
   "cell_type": "markdown",
   "metadata": {},
   "source": [
    "(c) + Age^2"
   ]
  },
  {
   "cell_type": "code",
   "execution_count": 188,
   "metadata": {},
   "outputs": [],
   "source": [
    "X_age2 = np.array ([(CURRENT_YEAR - int(D[ids[index][1]].split(\"-\")[0])) ** 2 for index in indices])\n",
    "X = np.array([X_outd, X_age, X_age2]).T\n",
    "X = sm.add_constant(X)"
   ]
  },
  {
   "cell_type": "code",
   "execution_count": 189,
   "metadata": {},
   "outputs": [],
   "source": [
    "trX = X[TRAIN_OBS_RANGE[0]:TRAIN_OBS_RANGE[1],:]\n",
    "teX = X[TEST_OBS_RANGE[0]:TEST_OBS_RANGE[1]]"
   ]
  },
  {
   "cell_type": "code",
   "execution_count": 190,
   "metadata": {},
   "outputs": [
    {
     "name": "stdout",
     "output_type": "stream",
     "text": [
      "                 Generalized Linear Model Regression Results                  \n",
      "==============================================================================\n",
      "Dep. Variable:                      y   No. Observations:                47500\n",
      "Model:                            GLM   Df Residuals:                    47496\n",
      "Model Family:        NegativeBinomial   Df Model:                            3\n",
      "Link Function:                    log   Scale:                          1.0000\n",
      "Method:                          IRLS   Log-Likelihood:            -1.2119e+05\n",
      "Date:                Wed, 28 Nov 2018   Deviance:                       97271.\n",
      "Time:                        14:36:37   Pearson chi2:                 9.66e+05\n",
      "No. Iterations:                    57   Covariance Type:             nonrobust\n",
      "==============================================================================\n",
      "                 coef    std err          z      P>|z|      [0.025      0.975]\n",
      "------------------------------------------------------------------------------\n",
      "const         -0.8465      0.013    -65.594      0.000      -0.872      -0.821\n",
      "x1             0.1017      0.000    223.082      0.000       0.101       0.103\n",
      "x2             0.0683      0.001    122.646      0.000       0.067       0.069\n",
      "x3            -0.0004   5.02e-06    -76.590      0.000      -0.000      -0.000\n",
      "==============================================================================\n",
      "MSLE: 1.660435436850883\n"
     ]
    }
   ],
   "source": [
    "results = sm.GLM(tr_y,trX,family=sm.families.NegativeBinomial()).fit()\n",
    "print(results.summary())\n",
    "print(\"MSLE: {0}\".format (mean_squared_log_error(te_y, results.predict(teX))))"
   ]
  },
  {
   "cell_type": "markdown",
   "metadata": {},
   "source": [
    "(d) Is a precedent"
   ]
  },
  {
   "cell_type": "code",
   "execution_count": 191,
   "metadata": {},
   "outputs": [],
   "source": [
    "X_prec, prec_featnames = sm.tools.categorical(np.array([P[ids[index][1]] if P[ids[index][1]]==\"Published\" else \"UnPublished\" for index in indices]), dictnames=True, drop=True)\n",
    "X = np.array([X_outd, X_age, X_age2]).T\n",
    "X = np.hstack ((X, X_prec))\n",
    "X = sm.add_constant(X)"
   ]
  },
  {
   "cell_type": "code",
   "execution_count": 192,
   "metadata": {},
   "outputs": [],
   "source": [
    "trX = X[TRAIN_OBS_RANGE[0]:TRAIN_OBS_RANGE[1],:]\n",
    "teX = X[TEST_OBS_RANGE[0]:TEST_OBS_RANGE[1]]"
   ]
  },
  {
   "cell_type": "code",
   "execution_count": 193,
   "metadata": {},
   "outputs": [
    {
     "name": "stdout",
     "output_type": "stream",
     "text": [
      "                 Generalized Linear Model Regression Results                  \n",
      "==============================================================================\n",
      "Dep. Variable:                      y   No. Observations:                47500\n",
      "Model:                            GLM   Df Residuals:                    47495\n",
      "Model Family:        NegativeBinomial   Df Model:                            4\n",
      "Link Function:                    log   Scale:                          1.0000\n",
      "Method:                          IRLS   Log-Likelihood:            -1.1414e+05\n",
      "Date:                Wed, 28 Nov 2018   Deviance:                       83181.\n",
      "Time:                        14:37:02   Pearson chi2:                 7.79e+05\n",
      "No. Iterations:                    62   Covariance Type:             nonrobust\n",
      "==============================================================================\n",
      "                 coef    std err          z      P>|z|      [0.025      0.975]\n",
      "------------------------------------------------------------------------------\n",
      "const         -3.0075      0.149    -20.137      0.000      -3.300      -2.715\n",
      "x1             0.0907      0.000    195.182      0.000       0.090       0.092\n",
      "x2             0.0563      0.001     99.791      0.000       0.055       0.057\n",
      "x3            -0.0003   4.99e-06    -64.287      0.000      -0.000      -0.000\n",
      "x4             2.6713      0.149     17.897      0.000       2.379       2.964\n",
      "x5            -5.6787      0.298    -19.037      0.000      -6.263      -5.094\n",
      "==============================================================================\n",
      "MSLE: 1.5087097283958868\n"
     ]
    }
   ],
   "source": [
    "results = sm.GLM(tr_y,trX,family=sm.families.NegativeBinomial()).fit()\n",
    "print(results.summary())\n",
    "print(\"MSLE: {0}\".format (mean_squared_log_error(te_y, results.predict(teX))))"
   ]
  },
  {
   "cell_type": "markdown",
   "metadata": {},
   "source": [
    "(e) number of pages (ntypes + ntokens)"
   ]
  },
  {
   "cell_type": "code",
   "execution_count": 194,
   "metadata": {},
   "outputs": [],
   "source": [
    "X_nuniqs = np.array ([nU[ids[index][1]] for index in indices])\n",
    "X_nuniqs = X_nuniqs.reshape(len(indices), 1)\n",
    "X = np.array([X_outd, X_age, X_age2]).T\n",
    "X = np.hstack ((X, X_prec, X_nuniqs))\n",
    "X = sm.add_constant(X)"
   ]
  },
  {
   "cell_type": "code",
   "execution_count": 195,
   "metadata": {},
   "outputs": [],
   "source": [
    "trX = X[TRAIN_OBS_RANGE[0]:TRAIN_OBS_RANGE[1],:]\n",
    "teX = X[TEST_OBS_RANGE[0]:TEST_OBS_RANGE[1]]"
   ]
  },
  {
   "cell_type": "code",
   "execution_count": 196,
   "metadata": {},
   "outputs": [
    {
     "name": "stdout",
     "output_type": "stream",
     "text": [
      "                 Generalized Linear Model Regression Results                  \n",
      "==============================================================================\n",
      "Dep. Variable:                      y   No. Observations:                47500\n",
      "Model:                            GLM   Df Residuals:                    47494\n",
      "Model Family:        NegativeBinomial   Df Model:                            5\n",
      "Link Function:                    log   Scale:                          1.0000\n",
      "Method:                          IRLS   Log-Likelihood:            -1.1234e+05\n",
      "Date:                Wed, 28 Nov 2018   Deviance:                       79571.\n",
      "Time:                        14:37:24   Pearson chi2:                 8.78e+05\n",
      "No. Iterations:                    53   Covariance Type:             nonrobust\n",
      "==============================================================================\n",
      "                 coef    std err          z      P>|z|      [0.025      0.975]\n",
      "------------------------------------------------------------------------------\n",
      "const         -3.3045      0.149    -22.115      0.000      -3.597      -3.012\n",
      "x1             0.0416      0.001     54.809      0.000       0.040       0.043\n",
      "x2             0.0580      0.001    100.588      0.000       0.057       0.059\n",
      "x3            -0.0003   5.11e-06    -66.911      0.000      -0.000      -0.000\n",
      "x4             2.4897      0.149     16.679      0.000       2.197       2.782\n",
      "x5            -5.7942      0.298    -19.425      0.000      -6.379      -5.210\n",
      "x6             0.0012   1.67e-05     74.112      0.000       0.001       0.001\n",
      "==============================================================================\n",
      "MSLE: 1.4197600001005357\n"
     ]
    }
   ],
   "source": [
    "results = sm.GLM(tr_y,trX,family=sm.families.NegativeBinomial()).fit()\n",
    "print(results.summary())\n",
    "print(\"MSLE: {0}\".format (mean_squared_log_error(te_y, results.predict(teX))))"
   ]
  },
  {
   "cell_type": "markdown",
   "metadata": {},
   "source": [
    "(f) courts"
   ]
  },
  {
   "cell_type": "code",
   "execution_count": 197,
   "metadata": {},
   "outputs": [],
   "source": [
    "court_cats = dict ()\n",
    "with open (COURTS_CATEGORIES_FILE) as fin:\n",
    "    for line in fin:\n",
    "        parts = line.strip().split()\n",
    "        court_cats[parts[0]] = parts[1]"
   ]
  },
  {
   "cell_type": "code",
   "execution_count": 198,
   "metadata": {},
   "outputs": [],
   "source": [
    "def get_court_prefix (category):\n",
    "    if category.startswith (\"F\"):\n",
    "        return \"F\"\n",
    "    elif category.startswith (\"S\"):\n",
    "        return \"S\"\n",
    "    else:\n",
    "        return \"O\""
   ]
  },
  {
   "cell_type": "code",
   "execution_count": 199,
   "metadata": {},
   "outputs": [],
   "source": [
    "court_prefixes = [get_court_prefix(court_cats[C[ids[index][1]]]) for index in indices]\n",
    "X_courts, court_features = sm.tools.categorical (np.array(court_prefixes), dictnames=True, drop=True)\n",
    "X = np.array([X_outd, X_age, X_age2]).T\n",
    "X = np.hstack ((X, X_prec, X_nuniqs, X_courts))\n",
    "X = sm.add_constant(X)"
   ]
  },
  {
   "cell_type": "code",
   "execution_count": 200,
   "metadata": {},
   "outputs": [],
   "source": [
    "trX = X[TRAIN_OBS_RANGE[0]:TRAIN_OBS_RANGE[1],:]\n",
    "teX = X[TEST_OBS_RANGE[0]:TEST_OBS_RANGE[1]]"
   ]
  },
  {
   "cell_type": "code",
   "execution_count": 201,
   "metadata": {},
   "outputs": [
    {
     "name": "stdout",
     "output_type": "stream",
     "text": [
      "                 Generalized Linear Model Regression Results                  \n",
      "==============================================================================\n",
      "Dep. Variable:                      y   No. Observations:                47500\n",
      "Model:                            GLM   Df Residuals:                    47492\n",
      "Model Family:        NegativeBinomial   Df Model:                            7\n",
      "Link Function:                    log   Scale:                          1.0000\n",
      "Method:                          IRLS   Log-Likelihood:            -1.1187e+05\n",
      "Date:                Wed, 28 Nov 2018   Deviance:                       78639.\n",
      "Time:                        14:38:14   Pearson chi2:                 6.53e+05\n",
      "No. Iterations:                   100   Covariance Type:             nonrobust\n",
      "==============================================================================\n",
      "                 coef    std err          z      P>|z|      [0.025      0.975]\n",
      "------------------------------------------------------------------------------\n",
      "const         -2.6527      0.134    -19.828      0.000      -2.915      -2.390\n",
      "x1             0.0406      0.001     53.234      0.000       0.039       0.042\n",
      "x2             0.0576      0.001     99.159      0.000       0.056       0.059\n",
      "x3            -0.0003   5.17e-06    -65.817      0.000      -0.000      -0.000\n",
      "x4             2.8607      0.165     17.333      0.000       2.537       3.184\n",
      "x5            -5.5133      0.286    -19.276      0.000      -6.074      -4.953\n",
      "x6             0.0012   1.67e-05     70.400      0.000       0.001       0.001\n",
      "x7            -0.7241      0.092     -7.902      0.000      -0.904      -0.544\n",
      "x8            -0.8402      0.222     -3.791      0.000      -1.275      -0.406\n",
      "x9            -1.0884      0.092    -11.893      0.000      -1.268      -0.909\n",
      "==============================================================================\n",
      "MSLE: 1.4230855027185654\n"
     ]
    }
   ],
   "source": [
    "results = sm.GLM(tr_y,trX,family=sm.families.NegativeBinomial()).fit()\n",
    "print(results.summary())\n",
    "print(\"MSLE: {0}\".format (mean_squared_log_error(te_y, results.predict(teX))))"
   ]
  },
  {
   "cell_type": "markdown",
   "metadata": {},
   "source": [
    "(g) opinion type"
   ]
  },
  {
   "cell_type": "code",
   "execution_count": 202,
   "metadata": {},
   "outputs": [],
   "source": [
    "X_types, type_features = sm.tools.categorical (np.array([T[ids[index][1]] for index in indices]), dictnames=True, drop=True)\n",
    "X = np.array([X_outd, X_age, X_age2]).T\n",
    "X = np.hstack ((X, X_prec, X_nuniqs, X_courts, X_types))\n",
    "X = sm.add_constant(X)"
   ]
  },
  {
   "cell_type": "code",
   "execution_count": 288,
   "metadata": {},
   "outputs": [
    {
     "data": {
      "text/plain": [
       "{0: '010combined',\n",
       " 1: '020lead',\n",
       " 2: '030concurrence',\n",
       " 3: '040dissent',\n",
       " 4: '050addendum'}"
      ]
     },
     "execution_count": 288,
     "metadata": {},
     "output_type": "execute_result"
    }
   ],
   "source": [
    "type_features"
   ]
  },
  {
   "cell_type": "code",
   "execution_count": 203,
   "metadata": {},
   "outputs": [],
   "source": [
    "trX = X[TRAIN_OBS_RANGE[0]:TRAIN_OBS_RANGE[1],:]\n",
    "teX = X[TEST_OBS_RANGE[0]:TEST_OBS_RANGE[1]]"
   ]
  },
  {
   "cell_type": "code",
   "execution_count": 204,
   "metadata": {},
   "outputs": [
    {
     "name": "stdout",
     "output_type": "stream",
     "text": [
      "                 Generalized Linear Model Regression Results                  \n",
      "==============================================================================\n",
      "Dep. Variable:                      y   No. Observations:                47500\n",
      "Model:                            GLM   Df Residuals:                    47488\n",
      "Model Family:        NegativeBinomial   Df Model:                           11\n",
      "Link Function:                    log   Scale:                          1.0000\n",
      "Method:                          IRLS   Log-Likelihood:            -1.1047e+05\n",
      "Date:                Wed, 28 Nov 2018   Deviance:                       75834.\n",
      "Time:                        14:38:30   Pearson chi2:                 4.86e+05\n",
      "No. Iterations:                    38   Covariance Type:             nonrobust\n",
      "==============================================================================\n",
      "                 coef    std err          z      P>|z|      [0.025      0.975]\n",
      "------------------------------------------------------------------------------\n",
      "const         -3.0109      0.123    -24.484      0.000      -3.252      -2.770\n",
      "x1             0.0364      0.001     47.561      0.000       0.035       0.038\n",
      "x2             0.0663      0.001    115.027      0.000       0.065       0.067\n",
      "x3            -0.0003   5.14e-06    -66.148      0.000      -0.000      -0.000\n",
      "x4             2.5697      0.171     15.026      0.000       2.234       2.905\n",
      "x5            -5.5805      0.280    -19.928      0.000      -6.129      -5.032\n",
      "x6             0.0012   1.68e-05     74.075      0.000       0.001       0.001\n",
      "x7            -0.9219      0.093     -9.876      0.000      -1.105      -0.739\n",
      "x8            -0.9935      0.223     -4.448      0.000      -1.431      -0.556\n",
      "x9            -1.0954      0.093    -11.764      0.000      -1.278      -0.913\n",
      "x10            0.5470      0.047     11.713      0.000       0.455       0.638\n",
      "x11           -0.6444      0.047    -13.858      0.000      -0.736      -0.553\n",
      "x12           -0.7971      0.126     -6.348      0.000      -1.043      -0.551\n",
      "x13           -0.8292      0.082    -10.080      0.000      -0.990      -0.668\n",
      "x14           -1.2871      0.106    -12.185      0.000      -1.494      -1.080\n",
      "==============================================================================\n",
      "MSLE: 1.3568567489510737\n"
     ]
    }
   ],
   "source": [
    "results = sm.GLM(tr_y,trX,family=sm.families.NegativeBinomial()).fit()\n",
    "print(results.summary())\n",
    "print(\"MSLE: {0}\".format (mean_squared_log_error(te_y, results.predict(teX))))"
   ]
  },
  {
   "cell_type": "markdown",
   "metadata": {},
   "source": [
    "(h) bow features"
   ]
  },
  {
   "cell_type": "code",
   "execution_count": 249,
   "metadata": {},
   "outputs": [],
   "source": [
    "X_bowfeat = np.array ([B[ids[index][1]] for index in indices])\n",
    "X_bowfeat = X_bowfeat.reshape(len(indices), 1)\n",
    "X = np.array([X_outd, X_age, X_age2]).T\n",
    "X = np.hstack ((X, X_prec, X_nuniqs, X_courts, X_types, X_bowfeat))\n",
    "X = sm.add_constant(X)"
   ]
  },
  {
   "cell_type": "code",
   "execution_count": 250,
   "metadata": {},
   "outputs": [],
   "source": [
    "trX = X[TRAIN_OBS_RANGE[0]:TRAIN_OBS_RANGE[1],:]\n",
    "teX = X[TEST_OBS_RANGE[0]:TEST_OBS_RANGE[1]]"
   ]
  },
  {
   "cell_type": "code",
   "execution_count": 256,
   "metadata": {},
   "outputs": [
    {
     "name": "stdout",
     "output_type": "stream",
     "text": [
      "                 Generalized Linear Model Regression Results                  \n",
      "==============================================================================\n",
      "Dep. Variable:                      y   No. Observations:                47500\n",
      "Model:                            GLM   Df Residuals:                    47486\n",
      "Model Family:        NegativeBinomial   Df Model:                           13\n",
      "Link Function:                    log   Scale:                          1.0000\n",
      "Method:                          IRLS   Log-Likelihood:            -1.0954e+05\n",
      "Date:                Wed, 28 Nov 2018   Deviance:                   1.1568e+06\n",
      "Time:                        15:00:10   Pearson chi2:                 5.14e+05\n",
      "No. Iterations:                   300   Covariance Type:             nonrobust\n",
      "==============================================================================\n",
      "                 coef    std err          z      P>|z|      [0.025      0.975]\n",
      "------------------------------------------------------------------------------\n",
      "const         -2.8659      0.123    -23.341      0.000      -3.107      -2.625\n",
      "x1             0.0333      0.001     43.138      0.000       0.032       0.035\n",
      "x2             0.0592      0.001    103.011      0.000       0.058       0.060\n",
      "x3            -0.0003   5.11e-06    -59.926      0.000      -0.000      -0.000\n",
      "x4             2.5700      0.171     15.029      0.000       2.235       2.905\n",
      "x5            -5.4360      0.280    -19.413      0.000      -5.985      -4.887\n",
      "x6             0.0010   1.68e-05     61.804      0.000       0.001       0.001\n",
      "x7            -0.8948      0.093     -9.665      0.000      -1.076      -0.713\n",
      "x8            -0.9335      0.221     -4.220      0.000      -1.367      -0.500\n",
      "x9            -1.0376      0.092    -11.236      0.000      -1.219      -0.857\n",
      "x10            0.4936      0.047     10.511      0.000       0.402       0.586\n",
      "x11           -0.5503      0.047    -11.765      0.000      -0.642      -0.459\n",
      "x12           -0.8201      0.127     -6.443      0.000      -1.070      -0.571\n",
      "x13           -0.8158      0.083     -9.831      0.000      -0.978      -0.653\n",
      "x14           -1.1734      0.106    -11.076      0.000      -1.381      -0.966\n",
      "x15            0.0249      0.000    213.407      0.000       0.025       0.025\n",
      "x16           -0.0038      0.003     -1.408      0.159      -0.009       0.002\n",
      "==============================================================================\n",
      "MSLE: 2.321911272526865\n"
     ]
    }
   ],
   "source": [
    "results = sm.GLM(tr_y,trX,family=sm.families.NegativeBinomial()).fit(maxiter=300)\n",
    "print(results.summary())\n",
    "print(\"MSLE: {0}\".format (mean_squared_log_error(te_y, results.predict(teX))))"
   ]
  },
  {
   "cell_type": "markdown",
   "metadata": {},
   "source": [
    "(i) semantic features"
   ]
  },
  {
   "cell_type": "code",
   "execution_count": 290,
   "metadata": {},
   "outputs": [],
   "source": [
    "X_semfeat = np.array ([min(5, S[ids[index][1]]) for index in indices])\n",
    "#X_semfeat[np.argmax(X_semfeat)] = 0\n",
    "#X_semfeat[np.argsort(-X_semfeat)[1]] = 0\n",
    "X_semfeat = (X_semfeat - np.mean(X_semfeat))/ np.std(X_semfeat)\n",
    "X_semfeat = X_semfeat.reshape(len(indices), 1)\n",
    "X = np.array([X_outd, X_age, X_age2]).T\n",
    "X = np.hstack ((X, X_prec, X_nuniqs, X_courts, X_types, X_bowfeat, X_semfeat))\n",
    "X = sm.add_constant(X)"
   ]
  },
  {
   "cell_type": "code",
   "execution_count": 291,
   "metadata": {},
   "outputs": [],
   "source": [
    "trX = X[TRAIN_OBS_RANGE[0]:TRAIN_OBS_RANGE[1],:]\n",
    "teX = X[TEST_OBS_RANGE[0]:TEST_OBS_RANGE[1]]"
   ]
  },
  {
   "cell_type": "code",
   "execution_count": 292,
   "metadata": {},
   "outputs": [
    {
     "name": "stdout",
     "output_type": "stream",
     "text": [
      "                 Generalized Linear Model Regression Results                  \n",
      "==============================================================================\n",
      "Dep. Variable:                      y   No. Observations:                47500\n",
      "Model:                            GLM   Df Residuals:                    47486\n",
      "Model Family:                 Poisson   Df Model:                           13\n",
      "Link Function:                    log   Scale:                          1.0000\n",
      "Method:                          IRLS   Log-Likelihood:            -4.7823e+05\n",
      "Date:                Wed, 28 Nov 2018   Deviance:                   8.6516e+05\n",
      "Time:                        15:29:10   Pearson chi2:                 4.23e+06\n",
      "No. Iterations:                    13   Covariance Type:             nonrobust\n",
      "==============================================================================\n",
      "                 coef    std err          z      P>|z|      [0.025      0.975]\n",
      "------------------------------------------------------------------------------\n",
      "const         -2.4227      0.113    -21.528      0.000      -2.643      -2.202\n",
      "x1             0.0135   9.44e-05    142.904      0.000       0.013       0.014\n",
      "x2             0.0447      0.000    230.754      0.000       0.044       0.045\n",
      "x3            -0.0002   1.82e-06   -133.468      0.000      -0.000      -0.000\n",
      "x4             3.1473      0.169     18.616      0.000       2.816       3.479\n",
      "x5            -5.5699      0.279    -19.975      0.000      -6.116      -5.023\n",
      "x6             0.0005   2.23e-06    214.177      0.000       0.000       0.000\n",
      "x7            -0.4492      0.052     -8.609      0.000      -0.551      -0.347\n",
      "x8            -1.1389      0.102    -11.122      0.000      -1.340      -0.938\n",
      "x9            -0.8347      0.052    -16.003      0.000      -0.937      -0.732\n",
      "x10            0.5745      0.029     19.947      0.000       0.518       0.631\n",
      "x11           -0.4398      0.029    -15.201      0.000      -0.496      -0.383\n",
      "x12           -0.6371      0.058    -10.986      0.000      -0.751      -0.523\n",
      "x13           -0.6782      0.041    -16.627      0.000      -0.758      -0.598\n",
      "x14           -1.2421      0.059    -20.913      0.000      -1.359      -1.126\n",
      "x15         2.822e-05   2.34e-06     12.083      0.000    2.36e-05    3.28e-05\n",
      "x16            0.0159      0.001     13.693      0.000       0.014       0.018\n",
      "==============================================================================\n",
      "MSLE: 1.5623967057095194\n"
     ]
    }
   ],
   "source": [
    "results = sm.GLM(tr_y,trX,family=sm.families.Poisson()).fit(maxiter=500)\n",
    "print(results.summary())\n",
    "print(\"MSLE: {0}\".format (mean_squared_log_error(te_y, results.predict(teX))))"
   ]
  },
  {
   "cell_type": "code",
   "execution_count": 294,
   "metadata": {},
   "outputs": [
    {
     "name": "stdout",
     "output_type": "stream",
     "text": [
      "\n",
      "C-T dispersion test: alpha = 1.875, 95% CI = (0.302, 3.448)\n"
     ]
    }
   ],
   "source": [
    "def estimate_overdispersion (orig_x, orig_y):\n",
    "    \"Calculates response observation for Cameron-Trivedi dispersion test\"\n",
    "    def ct_response (xx, yy):\n",
    "        return np.array([((yy[i] - xx[i])**2 - yy[i]) / xx[i] for i in range (len (xx))])\n",
    "    ct_results = sm.OLS (ct_response(orig_x, orig_y), orig_x).fit()\n",
    "    alpha_ci95 = ct_results.conf_int(0.05)\n",
    "    print('\\nC-T dispersion test: alpha = {:5.3f}, 95% CI = ({:5.3f}, {:5.3f})'\n",
    "        .format(ct_results.params[0], alpha_ci95[0,0], alpha_ci95[0,1]))\n",
    "    return ct_results.params[0]\n",
    "overdispersion = estimate_overdispersion (results.mu, tr_y)"
   ]
  },
  {
   "cell_type": "code",
   "execution_count": null,
   "metadata": {},
   "outputs": [],
   "source": [
    "results = sm.GLM(tr_y,trX,family=sm.families.Poisson()).fit(maxiter=500)\n",
    "print(results.summary())\n",
    "print(\"MSLE: {0}\".format (mean_squared_log_error(te_y, results.predict(teX))))"
   ]
  }
 ],
 "metadata": {
  "kernelspec": {
   "display_name": "Python 3",
   "language": "python",
   "name": "python3"
  },
  "language_info": {
   "codemirror_mode": {
    "name": "ipython",
    "version": 3
   },
   "file_extension": ".py",
   "mimetype": "text/x-python",
   "name": "python",
   "nbconvert_exporter": "python",
   "pygments_lexer": "ipython3",
   "version": "3.6.5"
  }
 },
 "nbformat": 4,
 "nbformat_minor": 2
}
