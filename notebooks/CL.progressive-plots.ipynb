{
 "cells": [
  {
   "cell_type": "code",
   "execution_count": 179,
   "metadata": {},
   "outputs": [],
   "source": [
    "import os\n",
    "import pandas as pd\n",
    "import numpy as np\n",
    "import matplotlib.pyplot as plt\n",
    "import seaborn as sns"
   ]
  },
  {
   "cell_type": "code",
   "execution_count": 180,
   "metadata": {},
   "outputs": [],
   "source": [
    "%matplotlib inline\n",
    "sns.set_style (\"darkgrid\")"
   ]
  },
  {
   "cell_type": "code",
   "execution_count": 181,
   "metadata": {},
   "outputs": [],
   "source": [
    "STATS_DIR = \"/hg191/corpora/legaldata/data/stats/\"\n",
    "texts_file = os.path.join (STATS_DIR, \"ops.texts\")\n",
    "dates_file = os.path.join (STATS_DIR, \"ops.dates\")"
   ]
  },
  {
   "cell_type": "code",
   "execution_count": 40,
   "metadata": {},
   "outputs": [],
   "source": [
    "def count_occurrences (filename, mentions):\n",
    "    isPresent = list()\n",
    "    with open (filename) as fin:\n",
    "        for i, line in enumerate (fin):\n",
    "            tokens = set (line.strip().lower().split(\" \"))\n",
    "            isPresent.append ([mention in tokens for mention in mentions])\n",
    "            if (i+1) % 1000000 == 0:\n",
    "                print (\"lines done: {0}\".format (i+1))\n",
    "    print (i+1)\n",
    "    return isPresent"
   ]
  },
  {
   "cell_type": "code",
   "execution_count": 182,
   "metadata": {},
   "outputs": [
    {
     "name": "stdout",
     "output_type": "stream",
     "text": [
      "lines done: 500000\n",
      "lines done: 1000000\n",
      "lines done: 1500000\n",
      "lines done: 2000000\n",
      "lines done: 2500000\n",
      "lines done: 3000000\n",
      "lines done: 3500000\n",
      "3854738\n"
     ]
    }
   ],
   "source": [
    "def readTexts (filename, mentions):\n",
    "    isPresent = list ()\n",
    "    with open (filename) as fin:\n",
    "        for i,line in enumerate (fin):\n",
    "            tokens = set (line.strip().split(\" \"))\n",
    "            isPresent.append ([mention in tokens for mention in mentions])\n",
    "            if (i+1) % 500000 == 0:\n",
    "                print (\"lines done: {0}\".format (i+1))\n",
    "    return isPresent\n",
    "mentionsPresent = readTexts (texts_file, [\"fertilization\", \"land\", \"soil\", \"seed\", \"womb\", \"pregnancy\", \"abortion\", \"women\",\n",
    "                                          \"laundering\", \"washing\", \"clothes\", \"cleaning\", \"money\", \"funds\", \"illegal\"])\n",
    "print (len (mentionsPresent))"
   ]
  },
  {
   "cell_type": "code",
   "execution_count": 183,
   "metadata": {},
   "outputs": [],
   "source": [
    "df = pd.DataFrame()\n",
    "df[\"years\"] = pd.Series (years)\n",
    "df[\"fertilization\"] = pd.Series ([item[0] for item in mentionsPresent])\n",
    "df[\"land\"] = pd.Series ([item[1] for item in mentionsPresent])\n",
    "df[\"soil\"] = pd.Series ([item[2] for item in mentionsPresent])\n",
    "df[\"seed\"] = pd.Series ([item[3] for item in mentionsPresent])\n",
    "df[\"womb\"] = pd.Series ([item[4] for item in mentionsPresent])\n",
    "df[\"pregnancy\"] = pd.Series ([item[5] for item in mentionsPresent])\n",
    "df[\"abortion\"] = pd.Series ([item[6] for item in mentionsPresent])\n",
    "df[\"women\"] = pd.Series ([item[7] for item in mentionsPresent])\n",
    "df[\"laundering\"] = pd.Series ([item[8] for item in mentionsPresent])\n",
    "df[\"washing\"] = pd.Series ([item[9] for item in mentionsPresent])\n",
    "df[\"clothes\"] = pd.Series ([item[10] for item in mentionsPresent])\n",
    "df[\"cleaning\"] = pd.Series ([item[11] for item in mentionsPresent])\n",
    "df[\"money\"] = pd.Series ([item[12] for item in mentionsPresent])\n",
    "df[\"funds\"] = pd.Series ([item[13] for item in mentionsPresent])\n",
    "df[\"illegal\"] = pd.Series ([item[14] for item in mentionsPresent])"
   ]
  },
  {
   "cell_type": "code",
   "execution_count": 184,
   "metadata": {},
   "outputs": [],
   "source": [
    "def aggregate_df (df, word1, word2, word3):\n",
    "    rows = list ()\n",
    "    grouped = df.groupby(by=\"years\")\n",
    "    for name, group in grouped:\n",
    "        row = list ()\n",
    "        row.append (name)\n",
    "        row.append (group[group[word1] == True].__len__ ())\n",
    "        row.append ((group[(group[word1] == True) & (group[word2] == True)]).__len__())\n",
    "        row.append ((group[(group[word1] == True) & (group[word3] == True)]).__len__())        \n",
    "        rows.append (row)\n",
    "    \n",
    "    agg = pd.DataFrame (rows, columns=[\"years\", \"nw1\", \"nw1&w2\", \"nw1&w3\"])\n",
    "    return agg"
   ]
  },
  {
   "cell_type": "code",
   "execution_count": 202,
   "metadata": {},
   "outputs": [],
   "source": [
    "fertilization_df = aggregate_df (df, \"fertilization\", \"land\", \"pregnancy\")\n",
    "fertilization_df = fertilization_df[fertilization_df[\"nw1\"] != 0]\n",
    "fertilization_df[\"pw2|w1\"] = fertilization_df[\"nw1&w2\"] / fertilization_df[\"nw1\"]\n",
    "fertilization_df[\"pw3|w1\"] = fertilization_df[\"nw1&w3\"] / fertilization_df[\"nw1\"]"
   ]
  },
  {
   "cell_type": "code",
   "execution_count": 205,
   "metadata": {},
   "outputs": [],
   "source": [
    "laundering_df = aggregate_df (df, \"laundering\", \"cleaning\", \"funds\")\n",
    "laundering_df = laundering_df[laundering_df[\"nw1\"] != 0]\n",
    "laundering_df[\"pw2|w1\"] = laundering_df[\"nw1&w2\"] / laundering_df[\"nw1\"]\n",
    "laundering_df[\"pw3|w1\"] = laundering_df[\"nw1&w3\"] / laundering_df[\"nw1\"]"
   ]
  },
  {
   "cell_type": "code",
   "execution_count": 214,
   "metadata": {},
   "outputs": [
    {
     "data": {
      "text/html": [
       "<div>\n",
       "<style scoped>\n",
       "    .dataframe tbody tr th:only-of-type {\n",
       "        vertical-align: middle;\n",
       "    }\n",
       "\n",
       "    .dataframe tbody tr th {\n",
       "        vertical-align: top;\n",
       "    }\n",
       "\n",
       "    .dataframe thead th {\n",
       "        text-align: right;\n",
       "    }\n",
       "</style>\n",
       "<table border=\"1\" class=\"dataframe\">\n",
       "  <thead>\n",
       "    <tr style=\"text-align: right;\">\n",
       "      <th></th>\n",
       "      <th>years</th>\n",
       "      <th>nw1</th>\n",
       "      <th>nw1&amp;w2</th>\n",
       "      <th>nw1&amp;w3</th>\n",
       "      <th>pw2|w1</th>\n",
       "      <th>pw3|w1</th>\n",
       "    </tr>\n",
       "  </thead>\n",
       "  <tbody>\n",
       "    <tr>\n",
       "      <th>203</th>\n",
       "      <td>1970</td>\n",
       "      <td>6</td>\n",
       "      <td>1</td>\n",
       "      <td>1</td>\n",
       "      <td>0.166667</td>\n",
       "      <td>0.166667</td>\n",
       "    </tr>\n",
       "    <tr>\n",
       "      <th>204</th>\n",
       "      <td>1971</td>\n",
       "      <td>5</td>\n",
       "      <td>1</td>\n",
       "      <td>1</td>\n",
       "      <td>0.200000</td>\n",
       "      <td>0.200000</td>\n",
       "    </tr>\n",
       "    <tr>\n",
       "      <th>205</th>\n",
       "      <td>1972</td>\n",
       "      <td>7</td>\n",
       "      <td>2</td>\n",
       "      <td>3</td>\n",
       "      <td>0.285714</td>\n",
       "      <td>0.428571</td>\n",
       "    </tr>\n",
       "    <tr>\n",
       "      <th>206</th>\n",
       "      <td>1973</td>\n",
       "      <td>7</td>\n",
       "      <td>2</td>\n",
       "      <td>1</td>\n",
       "      <td>0.285714</td>\n",
       "      <td>0.142857</td>\n",
       "    </tr>\n",
       "    <tr>\n",
       "      <th>207</th>\n",
       "      <td>1974</td>\n",
       "      <td>8</td>\n",
       "      <td>3</td>\n",
       "      <td>1</td>\n",
       "      <td>0.375000</td>\n",
       "      <td>0.125000</td>\n",
       "    </tr>\n",
       "    <tr>\n",
       "      <th>208</th>\n",
       "      <td>1975</td>\n",
       "      <td>7</td>\n",
       "      <td>1</td>\n",
       "      <td>2</td>\n",
       "      <td>0.142857</td>\n",
       "      <td>0.285714</td>\n",
       "    </tr>\n",
       "    <tr>\n",
       "      <th>209</th>\n",
       "      <td>1976</td>\n",
       "      <td>11</td>\n",
       "      <td>3</td>\n",
       "      <td>3</td>\n",
       "      <td>0.272727</td>\n",
       "      <td>0.272727</td>\n",
       "    </tr>\n",
       "    <tr>\n",
       "      <th>210</th>\n",
       "      <td>1977</td>\n",
       "      <td>7</td>\n",
       "      <td>0</td>\n",
       "      <td>3</td>\n",
       "      <td>0.000000</td>\n",
       "      <td>0.428571</td>\n",
       "    </tr>\n",
       "    <tr>\n",
       "      <th>211</th>\n",
       "      <td>1978</td>\n",
       "      <td>12</td>\n",
       "      <td>1</td>\n",
       "      <td>2</td>\n",
       "      <td>0.083333</td>\n",
       "      <td>0.166667</td>\n",
       "    </tr>\n",
       "    <tr>\n",
       "      <th>212</th>\n",
       "      <td>1979</td>\n",
       "      <td>8</td>\n",
       "      <td>4</td>\n",
       "      <td>3</td>\n",
       "      <td>0.500000</td>\n",
       "      <td>0.375000</td>\n",
       "    </tr>\n",
       "  </tbody>\n",
       "</table>\n",
       "</div>"
      ],
      "text/plain": [
       "     years  nw1  nw1&w2  nw1&w3    pw2|w1    pw3|w1\n",
       "203   1970    6       1       1  0.166667  0.166667\n",
       "204   1971    5       1       1  0.200000  0.200000\n",
       "205   1972    7       2       3  0.285714  0.428571\n",
       "206   1973    7       2       1  0.285714  0.142857\n",
       "207   1974    8       3       1  0.375000  0.125000\n",
       "208   1975    7       1       2  0.142857  0.285714\n",
       "209   1976   11       3       3  0.272727  0.272727\n",
       "210   1977    7       0       3  0.000000  0.428571\n",
       "211   1978   12       1       2  0.083333  0.166667\n",
       "212   1979    8       4       3  0.500000  0.375000"
      ]
     },
     "execution_count": 214,
     "metadata": {},
     "output_type": "execute_result"
    }
   ],
   "source": [
    "laundering_df[(laundering_df[\"years\"] >= 1970) & (laundering_df[\"years\"] < 1980)]"
   ]
  },
  {
   "cell_type": "code",
   "execution_count": 207,
   "metadata": {},
   "outputs": [
    {
     "data": {
      "text/plain": [
       "Text(0,0.5,'Probability')"
      ]
     },
     "execution_count": 207,
     "metadata": {},
     "output_type": "execute_result"
    },
    {
     "data": {
      "image/png": "[encoded data removed]",
      "text/plain": [
       "<Figure size 288x216 with 1 Axes>"
      ]
     },
     "metadata": {
      "needs_background": "light"
     },
     "output_type": "display_data"
    }
   ],
   "source": [
    "%matplotlib inline\n",
    "sns.set_context (\"paper\")\n",
    "fig, ax = plt.subplots(1, 1, figsize=(4,3))\n",
    "\n",
    "sns.lineplot(x=\"years\", y=\"pw2|w1\", data=laundering_df, ax=ax, color='blue')\n",
    "sns.lineplot(x=\"years\", y=\"pw3|w1\", data=laundering_df, ax=ax, color='red')\n",
    "ax.axvline(x=1975, c=\"black\")\n",
    "ax.set_xlabel(\"Years\")\n",
    "ax.legend((\"P(land | fertilization)\", \"P(abortion | fertilization)\"), fontsize=10, loc=\"upper center\")\n",
    "ax.set_ylabel(\"Probability\")"
   ]
  },
  {
   "cell_type": "code",
   "execution_count": 215,
   "metadata": {},
   "outputs": [],
   "source": [
    "fertilization_df = aggregate_df (df, \"fertilization\", \"land\", \"pregnancy\")\n",
    "fertilization_df.to_csv (\"../data/frames/fertilization.timeseries\", sep=\",\", header=True, index=False)"
   ]
  },
  {
   "cell_type": "code",
   "execution_count": 216,
   "metadata": {},
   "outputs": [],
   "source": [
    "laundering_df = aggregate_df (df, \"laundering\", \"cleaning\", \"funds\")\n",
    "laundering_df.to_csv (\"../data/frames/laundering.timeseries\", sep=\",\", header=True, index=False)"
   ]
  }
 ],
 "metadata": {
  "kernelspec": {
   "display_name": "Python 3",
   "language": "python",
   "name": "python3"
  },
  "language_info": {
   "codemirror_mode": {
    "name": "ipython",
    "version": 3
   },
   "file_extension": ".py",
   "mimetype": "text/x-python",
   "name": "python",
   "nbconvert_exporter": "python",
   "pygments_lexer": "ipython3",
   "version": "3.6.5"
  }
 },
 "nbformat": 4,
 "nbformat_minor": 2
}
