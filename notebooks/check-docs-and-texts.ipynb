{
 "cells": [
  {
   "cell_type": "code",
   "execution_count": 1,
   "metadata": {},
   "outputs": [],
   "source": [
    "textsfile = \"/hg191/corpora/legaldata/data/stats/ops.texts\"\n",
    "docsfile = \"/hg191/corpora/legaldata/data/stats/ops.docs\""
   ]
  },
  {
   "cell_type": "code",
   "execution_count": null,
   "metadata": {},
   "outputs": [
    {
     "name": "stdout",
     "output_type": "stream",
     "text": [
      "100000\n",
      "200000\n"
     ]
    }
   ],
   "source": [
    "match = 0\n",
    "no_matches = list ()\n",
    "i = 0\n",
    "with open(textsfile) as file1, open(docsfile) as file2: \n",
    "    for x, y in zip(file1, file2):\n",
    "        x = x.lower().strip()\n",
    "        y = y.lower().strip()\n",
    "        x = \"\".join(x.split())\n",
    "        y = \"\".join(y.split())\n",
    "        if (x == y): match += 1\n",
    "        if (x != y): no_matches.append (i+1)\n",
    "        i += 1\n",
    "        if i == 2000000: break\n",
    "        if i % 100000 == 0:\n",
    "            print (i)"
   ]
  },
  {
   "cell_type": "code",
   "execution_count": 19,
   "metadata": {},
   "outputs": [
    {
     "name": "stdout",
     "output_type": "stream",
     "text": [
      "232573\n",
      "1767427\n"
     ]
    }
   ],
   "source": [
    "print (len (no_matches))\n",
    "print (match)"
   ]
  },
  {
   "cell_type": "code",
   "execution_count": 25,
   "metadata": {},
   "outputs": [
    {
     "data": {
      "text/plain": [
       "[1767427,\n",
       " 1767428,\n",
       " 1767429,\n",
       " 1767430,\n",
       " 1767431,\n",
       " 1767432,\n",
       " 1767433,\n",
       " 1767434,\n",
       " 1767435,\n",
       " 1767436]"
      ]
     },
     "execution_count": 25,
     "metadata": {},
     "output_type": "execute_result"
    }
   ],
   "source": [
    "no_matches[0:10]"
   ]
  }
 ],
 "metadata": {
  "kernelspec": {
   "display_name": "Python 3",
   "language": "python",
   "name": "python3"
  },
  "language_info": {
   "codemirror_mode": {
    "name": "ipython",
    "version": 3
   },
   "file_extension": ".py",
   "mimetype": "text/x-python",
   "name": "python",
   "nbconvert_exporter": "python",
   "pygments_lexer": "ipython3",
   "version": "3.6.5"
  }
 },
 "nbformat": 4,
 "nbformat_minor": 2
}
