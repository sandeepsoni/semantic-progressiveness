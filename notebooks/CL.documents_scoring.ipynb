{
 "cells": [
  {
   "cell_type": "markdown",
   "metadata": {},
   "source": [
    "This notebook implements the function to score the document's semantic \"progressiveness\" with respect to a given linguistic feature (usually a word) that has been identified before to have semantically shifted in meaning. The scoring function assumes that two skipgram models have been trained. Please refer to the detailed derivation [in this note](https://github.gatech.edu/CompLingLab/semantic-lang-change/blob/master/notes/scoring.pdf)."
   ]
  },
  {
   "cell_type": "code",
   "execution_count": 53,
   "metadata": {},
   "outputs": [],
   "source": [
    "import numpy as np\n",
    "import scipy\n",
    "import os\n",
    "import sys\n",
    "from time import time\n",
    "from collections import defaultdict, Counter\n",
    "if \"../\" not in sys.path: sys.path.append (\"../\")\n",
    "from modules.semshift import embeddings, alignment, docscores"
   ]
  },
  {
   "cell_type": "code",
   "execution_count": 65,
   "metadata": {},
   "outputs": [],
   "source": [
    "MODELS_DIR = \"/hg191/corpora/legaldata/models/\"\n",
    "STATS_DIR = \"/hg191/corpora/legaldata/data/stats\"\n",
    "\n",
    "EARLY_MODEL = os.path.join (MODELS_DIR, \"sgns.500K.early.100.model\")\n",
    "LATER_MODEL = os.path.join (MODELS_DIR, \"sgns.500K.later.100.model\")\n",
    "FEATURES_FILE = os.path.join (STATS_DIR, \"ops.1K.feats_manual\")\n",
    "DOCS_FILE = os.path.join (STATS_DIR, \"ops.docs\")\n",
    "\n",
    "UNK = \"UNK\""
   ]
  },
  {
   "cell_type": "code",
   "execution_count": 55,
   "metadata": {},
   "outputs": [],
   "source": [
    "def alignTwoModels2 (first_model, second_model):\n",
    "    first_model.m, second_model.m = alignment.intersection_align_gensim (first_model.m, second_model.m)\n",
    "    return first_model, second_model"
   ]
  },
  {
   "cell_type": "code",
   "execution_count": 56,
   "metadata": {},
   "outputs": [],
   "source": [
    "def alignTwoModels (first_model, second_model):\n",
    "    second_model.m = alignment.smart_procrustes_align_gensim(first_model.m, second_model.m)\n",
    "    return first_model, second_model"
   ]
  },
  {
   "cell_type": "code",
   "execution_count": 57,
   "metadata": {},
   "outputs": [
    {
     "name": "stdout",
     "output_type": "stream",
     "text": [
      "0.08591904\n",
      "0.08591904\n"
     ]
    }
   ],
   "source": [
    "mE = embeddings.TrainedModel(EARLY_MODEL)\n",
    "mL = embeddings.TrainedModel(LATER_MODEL)\n",
    "\n",
    "print(np.dot(mE.m.wv.vectors[0,:], mL.m.wv.vectors[0,:])) #cosine-similarity before procrustes alignment.\n",
    "mE_, mL_ = alignTwoModels2 (mE, mL)\n",
    "print(np.dot(mE.m.wv.vectors[0,:], mL.m.wv.vectors[0,:])) #cosine-similarity after procrustes alignment (should increase)"
   ]
  },
  {
   "cell_type": "code",
   "execution_count": 58,
   "metadata": {},
   "outputs": [],
   "source": [
    "def readFeats (filename):\n",
    "    feats = list ()\n",
    "    with open (filename) as fin:\n",
    "        for line in fin:\n",
    "            feats.append (line.strip().split(\",\")[1])\n",
    "    return feats\n",
    "\n",
    "semantic_features = readFeats (FEATURES_FILE)"
   ]
  },
  {
   "cell_type": "code",
   "execution_count": 6,
   "metadata": {},
   "outputs": [],
   "source": [
    "def scoreDocs (filename, early_model, later_model, word, nLines=10, k=10):\n",
    "    scores = list ()\n",
    "    w2i, _ = early_model.index\n",
    "    scorer = docscores.Scorer (early_model, later_model, word)\n",
    "    with open (filename) as fin:\n",
    "        for i, line in enumerate (fin):\n",
    "            tokens = [token for token in line.strip().split(\" \") if token.isalpha()]\n",
    "            scores.append (scorer.score (tokens, w2i, window_size=k))\n",
    "            if (i+1) == nLines:\n",
    "                break\n",
    "    return scores"
   ]
  },
  {
   "cell_type": "code",
   "execution_count": 59,
   "metadata": {},
   "outputs": [],
   "source": [
    "def scoreMostProgressive (scorers, tokens, w2i, k=10):\n",
    "    tokenset = set (tokens)\n",
    "    scores_for_doc = [(UNK, -np.inf) if word not in tokenset else (word, scorers[word].score (tokens, w2i, window_size=k)) for word in scorers]\n",
    "    word, score = max (scores_for_doc, key=lambda x:x[1])\n",
    "    return word, score"
   ]
  },
  {
   "cell_type": "code",
   "execution_count": 63,
   "metadata": {},
   "outputs": [],
   "source": [
    "def multiScoreDocs (filename, early_model, later_model, words, linenums=[], k=10):\n",
    "    scores = dict ()\n",
    "    w2i, _ = early_model.index\n",
    "    linenums = set (list (linenums))\n",
    "    min_linenum = min (linenums)\n",
    "    max_linenum = max (linenums)\n",
    "    scorers = {word: docscores.Scorer (early_model, later_model, word) for word in words}\n",
    "    with open (filename) as fin:\n",
    "        for i, line in enumerate (fin):\n",
    "            if i < min_linenum:\n",
    "                continue\n",
    "            if i > max_linenum:\n",
    "                break\n",
    "            if i in linenums:\n",
    "                tokens = [token for token in line.strip().split(\" \") if token.isalpha()]\n",
    "                #scores[i] = {word: scorers[word].score (tokens, w2i, window_size=k) for word in words}\n",
    "                scores[i] = scoreMostProgressive (scorers, tokens, w2i, k=k)\n",
    "    return scores"
   ]
  },
  {
   "cell_type": "code",
   "execution_count": 61,
   "metadata": {},
   "outputs": [],
   "source": [
    "i2w = {i:w for i, w in enumerate (mE_.m.wv.index2word)}\n",
    "w2i = {w:i for i, w in enumerate (mE_.m.wv.index2word)}\n",
    "m_early = docscores.EmdsModel(mE_.m.trainables.syn1neg, mE_.m.wv.vectors, (w2i, i2w))\n",
    "m_later = docscores.EmdsModel(mL_.m.trainables.syn1neg, mL_.m.wv.vectors, (w2i, i2w))"
   ]
  },
  {
   "cell_type": "code",
   "execution_count": 11,
   "metadata": {},
   "outputs": [
    {
     "name": "stdout",
     "output_type": "stream",
     "text": [
      "Time taken: 0.10981211264928183\n"
     ]
    }
   ],
   "source": [
    "start_time = time ()\n",
    "scores = scoreDocs (DOCS_FILE, m_early, m_later, \"purgation\", nLines=10000, k=10)\n",
    "print (\"Time taken: {0}\".format ((time() - start_time)/60))"
   ]
  },
  {
   "cell_type": "code",
   "execution_count": 66,
   "metadata": {},
   "outputs": [
    {
     "name": "stdout",
     "output_type": "stream",
     "text": [
      "Time taken: 0.4949785510698954\n"
     ]
    }
   ],
   "source": [
    "start_time = time()\n",
    "scores = multiScoreDocs (DOCS_FILE, m_early, m_later, semantic_features[0:100], linenums=range(10000), k=10)\n",
    "print (\"Time taken: {0}\".format ((time() - start_time)/60))"
   ]
  },
  {
   "cell_type": "code",
   "execution_count": 67,
   "metadata": {},
   "outputs": [],
   "source": [
    "with open (os.path.join (STATS_DIR, \"ops.list\")) as fin:\n",
    "    ids = [(i, int(line.strip())) for i,line in enumerate (fin)]\n",
    "dict_ids = {elem[0]: elem[1] for elem in ids}"
   ]
  },
  {
   "cell_type": "code",
   "execution_count": 71,
   "metadata": {},
   "outputs": [],
   "source": [
    "# initialize a seed for repeatability\n",
    "np.random.seed(100)\n",
    "indices = np.random.choice(len(ids), 500000, replace=False)"
   ]
  },
  {
   "cell_type": "code",
   "execution_count": 72,
   "metadata": {},
   "outputs": [],
   "source": [
    "scores = multiScoreDocs (DOCS_FILE, m_early, m_later, semantic_features, linenums=indices, k=10)"
   ]
  },
  {
   "cell_type": "code",
   "execution_count": 70,
   "metadata": {},
   "outputs": [],
   "source": [
    "feats = [scores[i] for i in indices]\n",
    "ops = [dict_ids[i] for i in indices]\n",
    "\n",
    "#for i in indices:\n",
    "#    j = np.argmax (np.array(list(scores[i].values())))\n",
    "#    feats.append ((list(scores[i].keys())[j], list(scores[i].values())[j]))\n",
    "    \n",
    "#ops = [dict_ids[i] for i in indices]\n",
    "\n",
    "with open (os.path.join (STATS_DIR, \"ops.temp.semfeat\"), \"w\") as fout:\n",
    "    for i in range (len (feats)):\n",
    "        fout.write (\"{0},{1},{2}\\n\".format (ops[i], feats[i][0], feats[i][1]))"
   ]
  }
 ],
 "metadata": {
  "kernelspec": {
   "display_name": "Python 3",
   "language": "python",
   "name": "python3"
  },
  "language_info": {
   "codemirror_mode": {
    "name": "ipython",
    "version": 3
   },
   "file_extension": ".py",
   "mimetype": "text/x-python",
   "name": "python",
   "nbconvert_exporter": "python",
   "pygments_lexer": "ipython3",
   "version": "3.6.5"
  }
 },
 "nbformat": 4,
 "nbformat_minor": 2
}
