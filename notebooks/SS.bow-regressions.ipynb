{
 "cells": [
  {
   "cell_type": "markdown",
   "metadata": {},
   "source": [
    "We want to use the BoW representation as a competitive baseline to predict citations. However, there are two concerns:\n",
    "\n",
    "- The size of the corpus is in the millions. So we want sparse representations of the documents for speed and accuracy.\n",
    "- We don't care about the CI for the individual features. Instead, we just want to explain as much variance through these features.\n",
    "\n",
    "Thus, the strategy we use is as follows:\n",
    "\n",
    "Get a sample of the corpus (eg. 1 million documents) and divide into training and test set. Train the best regression model and then make predictions for all documents in the corpus. Use this as a feature in the downstream regression."
   ]
  },
  {
   "cell_type": "code",
   "execution_count": 1,
   "metadata": {},
   "outputs": [],
   "source": [
    "import numpy as np\n",
    "import os"
   ]
  },
  {
   "cell_type": "code",
   "execution_count": 65,
   "metadata": {},
   "outputs": [],
   "source": [
    "from sklearn.feature_extraction.text import CountVectorizer\n",
    "from sklearn.linear_model import LinearRegression\n",
    "from sklearn.model_selection import GridSearchCV, cross_validate\n",
    "from sklearn.pipeline import Pipeline"
   ]
  },
  {
   "cell_type": "code",
   "execution_count": 15,
   "metadata": {},
   "outputs": [],
   "source": [
    "MILLION = 1000000\n",
    "STATS_DIR = \"/hg191/corpora/academic-data/semantic-scholar/stats/\"\n",
    "INDEG_FILE = os.path.join (STATS_DIR, \"abs.ind\")\n",
    "DOCS_FILE = os.path.join (STATS_DIR, \"abs.docs\")\n",
    "LINENUMS_FILE = os.path.join (STATS_DIR, \"abs.bow-linenums\")"
   ]
  },
  {
   "cell_type": "code",
   "execution_count": 3,
   "metadata": {},
   "outputs": [],
   "source": [
    "with open (INDEG_FILE) as fin:\n",
    "    indegrees = [int(line.strip().split(\",\")[1]) for line in fin]        "
   ]
  },
  {
   "cell_type": "code",
   "execution_count": 10,
   "metadata": {},
   "outputs": [],
   "source": [
    "indices = set (np.random.choice (len(indegrees), MILLION, replace=False))"
   ]
  },
  {
   "cell_type": "code",
   "execution_count": 13,
   "metadata": {},
   "outputs": [],
   "source": [
    "def readCorpus (filename, indices, verbose=True):\n",
    "    corpus = list ()\n",
    "    for i, line in enumerate (fin):\n",
    "        if i in indices:\n",
    "            corpus.append (line.strip())\n",
    "        \n",
    "        if verbose and i % MILLION == 0:\n",
    "            print (\"Lines processed: {0}\".format (i))\n",
    "    return corpus"
   ]
  },
  {
   "cell_type": "code",
   "execution_count": null,
   "metadata": {},
   "outputs": [],
   "source": [
    "corpus = readCorpus (DOCS_FILE, indices)"
   ]
  },
  {
   "cell_type": "code",
   "execution_count": 11,
   "metadata": {},
   "outputs": [
    {
     "name": "stdout",
     "output_type": "stream",
     "text": [
      "Lines processed: 0\n",
      "Lines processed: 1000000\n",
      "Lines processed: 2000000\n",
      "Lines processed: 3000000\n",
      "Lines processed: 4000000\n",
      "Lines processed: 5000000\n",
      "Lines processed: 6000000\n",
      "Lines processed: 7000000\n",
      "Lines processed: 8000000\n",
      "Lines processed: 9000000\n",
      "Lines processed: 10000000\n",
      "Lines processed: 11000000\n",
      "Lines processed: 12000000\n",
      "Lines processed: 13000000\n",
      "Lines processed: 14000000\n",
      "Lines processed: 15000000\n",
      "Lines processed: 16000000\n",
      "Lines processed: 17000000\n",
      "Lines processed: 18000000\n",
      "Lines processed: 19000000\n",
      "Lines processed: 20000000\n",
      "Lines processed: 21000000\n",
      "Lines processed: 22000000\n",
      "Lines processed: 23000000\n",
      "Lines processed: 24000000\n",
      "Lines processed: 25000000\n",
      "Lines processed: 26000000\n",
      "Lines processed: 27000000\n"
     ]
    }
   ],
   "source": [
    "#corpus = list ()\n",
    "#with open (DOCS_FILE) as fin:\n",
    "#    for i, line in enumerate (fin):\n",
    "#        if i in indices:\n",
    "#            corpus.append (line.strip())\n",
    "#        \n",
    "#        if i % MILLION == 0:\n",
    "#            print (\"Lines processed: {0}\".format (i))"
   ]
  },
  {
   "cell_type": "code",
   "execution_count": 62,
   "metadata": {},
   "outputs": [],
   "source": [
    "y = np.array ([indegrees[i] for i in range (len(indegrees)) if i in indices])"
   ]
  },
  {
   "cell_type": "code",
   "execution_count": 16,
   "metadata": {},
   "outputs": [],
   "source": [
    "with open (LINENUMS_FILE, \"w\") as fout:\n",
    "    for index in indices:\n",
    "        fout.write (\"{0}\\n\".format (index))"
   ]
  },
  {
   "cell_type": "code",
   "execution_count": 68,
   "metadata": {},
   "outputs": [],
   "source": [
    "count_vect = CountVectorizer(max_features=10000, min_df=3, max_df=0.9)\n",
    "lm = LinearRegression()"
   ]
  },
  {
   "cell_type": "code",
   "execution_count": 73,
   "metadata": {},
   "outputs": [],
   "source": [
    "k=50000\n",
    "X = count_vect.fit_transform (corpus[:k])\n",
    "cv_results = cross_validate(lm, X, np.log (y[:k] + 1), cv=5,\n",
    "                            return_train_score=False)"
   ]
  },
  {
   "cell_type": "code",
   "execution_count": 74,
   "metadata": {},
   "outputs": [
    {
     "name": "stdout",
     "output_type": "stream",
     "text": [
      "-0.2462995478932446 0.17468092078831565\n"
     ]
    }
   ],
   "source": [
    "print (np.mean(cv_results[\"test_score\"]), np.std(cv_results[\"test_score\"]))"
   ]
  },
  {
   "cell_type": "code",
   "execution_count": 78,
   "metadata": {},
   "outputs": [
    {
     "data": {
      "text/plain": [
       "LinearRegression(copy_X=True, fit_intercept=True, n_jobs=1, normalize=False)"
      ]
     },
     "execution_count": 78,
     "metadata": {},
     "output_type": "execute_result"
    }
   ],
   "source": [
    "lm.fit(X, np.log (y[:k] + 1))"
   ]
  },
  {
   "cell_type": "code",
   "execution_count": 80,
   "metadata": {},
   "outputs": [
    {
     "data": {
      "text/plain": [
       "array([0.54827673])"
      ]
     },
     "execution_count": 80,
     "metadata": {},
     "output_type": "execute_result"
    }
   ],
   "source": [
    "lm.predict (count_vect.transform([corpus[0]]))"
   ]
  },
  {
   "cell_type": "code",
   "execution_count": 63,
   "metadata": {},
   "outputs": [
    {
     "data": {
      "text/plain": [
       "0.5273972302695069"
      ]
     },
     "execution_count": 63,
     "metadata": {},
     "output_type": "execute_result"
    }
   ],
   "source": [
    "lm.fit(X, np.log (y[:25000] + 1))\n",
    "lm.score(X,np.log (y[:25000] + 1))"
   ]
  }
 ],
 "metadata": {
  "kernelspec": {
   "display_name": "Python 3",
   "language": "python",
   "name": "python3"
  },
  "language_info": {
   "codemirror_mode": {
    "name": "ipython",
    "version": 3
   },
   "file_extension": ".py",
   "mimetype": "text/x-python",
   "name": "python",
   "nbconvert_exporter": "python",
   "pygments_lexer": "ipython3",
   "version": "3.6.5"
  }
 },
 "nbformat": 4,
 "nbformat_minor": 2
}
