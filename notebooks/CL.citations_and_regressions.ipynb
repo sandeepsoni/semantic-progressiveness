{
 "cells": [
  {
   "cell_type": "code",
   "execution_count": 1,
   "metadata": {},
   "outputs": [],
   "source": [
    "import pandas as pd\n",
    "import matplotlib.pyplot as plt\n",
    "import seaborn as sns\n",
    "%matplotlib inline\n",
    "\n",
    "import statsmodels.api as sm\n",
    "import patsy\n",
    "\n",
    "import numpy as np\n",
    "import os\n",
    "from collections import Counter\n",
    "from scipy.stats.distributions import chi2\n",
    "from scipy.stats import binom_test\n",
    "from scipy.stats import zscore"
   ]
  },
  {
   "cell_type": "code",
   "execution_count": 2,
   "metadata": {},
   "outputs": [],
   "source": [
    "## Old (for ACL'19)\n",
    "#ops_dir = \"/hg191/corpora/legaldata/data/stats/\"\n",
    "#ops_features_file = os.path.join (ops_dir, \"ops.feats_manual.complete\")\n",
    "\n",
    "ops_dir = \"/hg191/corpora/semantic-progressiveness/legal-data/processed/\"\n",
    "ops_features_file = os.path.join (ops_dir, \"ops.complete\")"
   ]
  },
  {
   "cell_type": "code",
   "execution_count": 3,
   "metadata": {},
   "outputs": [
    {
     "name": "stdout",
     "output_type": "stream",
     "text": [
      "3854738\n",
      "62255\n"
     ]
    },
    {
     "data": {
      "text/html": [
       "<div>\n",
       "<style scoped>\n",
       "    .dataframe tbody tr th:only-of-type {\n",
       "        vertical-align: middle;\n",
       "    }\n",
       "\n",
       "    .dataframe tbody tr th {\n",
       "        vertical-align: top;\n",
       "    }\n",
       "\n",
       "    .dataframe thead th {\n",
       "        text-align: right;\n",
       "    }\n",
       "</style>\n",
       "<table border=\"1\" class=\"dataframe\">\n",
       "  <thead>\n",
       "    <tr style=\"text-align: right;\">\n",
       "      <th></th>\n",
       "      <th>docid</th>\n",
       "      <th>indeg</th>\n",
       "      <th>outdeg</th>\n",
       "      <th>year</th>\n",
       "      <th>nuniqs</th>\n",
       "      <th>ntokens</th>\n",
       "      <th>bows</th>\n",
       "      <th>nprog</th>\n",
       "      <th>nreg</th>\n",
       "      <th>max_prog</th>\n",
       "      <th>...</th>\n",
       "      <th>nprog75</th>\n",
       "      <th>nprog50</th>\n",
       "      <th>nprog25</th>\n",
       "      <th>nreg99</th>\n",
       "      <th>nreg95</th>\n",
       "      <th>nreg90</th>\n",
       "      <th>nreg75</th>\n",
       "      <th>nreg50</th>\n",
       "      <th>nreg25</th>\n",
       "      <th>ninnovs</th>\n",
       "    </tr>\n",
       "  </thead>\n",
       "  <tbody>\n",
       "    <tr>\n",
       "      <td>0</td>\n",
       "      <td>84581</td>\n",
       "      <td>3</td>\n",
       "      <td>0</td>\n",
       "      <td>1754</td>\n",
       "      <td>83</td>\n",
       "      <td>175</td>\n",
       "      <td>1.777650</td>\n",
       "      <td>0</td>\n",
       "      <td>0</td>\n",
       "      <td>-inf</td>\n",
       "      <td>...</td>\n",
       "      <td>-inf</td>\n",
       "      <td>-inf</td>\n",
       "      <td>-inf</td>\n",
       "      <td>-inf</td>\n",
       "      <td>-inf</td>\n",
       "      <td>-inf</td>\n",
       "      <td>-inf</td>\n",
       "      <td>-inf</td>\n",
       "      <td>-inf</td>\n",
       "      <td>0</td>\n",
       "    </tr>\n",
       "    <tr>\n",
       "      <td>1</td>\n",
       "      <td>84581</td>\n",
       "      <td>3</td>\n",
       "      <td>0</td>\n",
       "      <td>1754</td>\n",
       "      <td>83</td>\n",
       "      <td>175</td>\n",
       "      <td>1.777650</td>\n",
       "      <td>0</td>\n",
       "      <td>0</td>\n",
       "      <td>-inf</td>\n",
       "      <td>...</td>\n",
       "      <td>-inf</td>\n",
       "      <td>-inf</td>\n",
       "      <td>-inf</td>\n",
       "      <td>-inf</td>\n",
       "      <td>-inf</td>\n",
       "      <td>-inf</td>\n",
       "      <td>-inf</td>\n",
       "      <td>-inf</td>\n",
       "      <td>-inf</td>\n",
       "      <td>0</td>\n",
       "    </tr>\n",
       "    <tr>\n",
       "      <td>2</td>\n",
       "      <td>84582</td>\n",
       "      <td>2</td>\n",
       "      <td>0</td>\n",
       "      <td>1759</td>\n",
       "      <td>58</td>\n",
       "      <td>84</td>\n",
       "      <td>1.691117</td>\n",
       "      <td>0</td>\n",
       "      <td>0</td>\n",
       "      <td>-inf</td>\n",
       "      <td>...</td>\n",
       "      <td>-inf</td>\n",
       "      <td>-inf</td>\n",
       "      <td>-inf</td>\n",
       "      <td>-inf</td>\n",
       "      <td>-inf</td>\n",
       "      <td>-inf</td>\n",
       "      <td>-inf</td>\n",
       "      <td>-inf</td>\n",
       "      <td>-inf</td>\n",
       "      <td>0</td>\n",
       "    </tr>\n",
       "  </tbody>\n",
       "</table>\n",
       "<p>3 rows × 26 columns</p>\n",
       "</div>"
      ],
      "text/plain": [
       "   docid  indeg  outdeg  year  nuniqs  ntokens      bows  nprog  nreg  \\\n",
       "0  84581      3       0  1754      83      175  1.777650      0     0   \n",
       "1  84581      3       0  1754      83      175  1.777650      0     0   \n",
       "2  84582      2       0  1759      58       84  1.691117      0     0   \n",
       "\n",
       "   max_prog  ... nprog75  nprog50 nprog25  nreg99  nreg95  nreg90  nreg75  \\\n",
       "0      -inf  ...    -inf     -inf    -inf    -inf    -inf    -inf    -inf   \n",
       "1      -inf  ...    -inf     -inf    -inf    -inf    -inf    -inf    -inf   \n",
       "2      -inf  ...    -inf     -inf    -inf    -inf    -inf    -inf    -inf   \n",
       "\n",
       "   nreg50  nreg25  ninnovs  \n",
       "0    -inf    -inf        0  \n",
       "1    -inf    -inf        0  \n",
       "2    -inf    -inf        0  \n",
       "\n",
       "[3 rows x 26 columns]"
      ]
     },
     "execution_count": 3,
     "metadata": {},
     "output_type": "execute_result"
    }
   ],
   "source": [
    "df_ops = pd.read_csv(ops_features_file)\n",
    "print (len (df_ops))\n",
    "print(df_ops['indeg'].max())\n",
    "df_ops.head(3)"
   ]
  },
  {
   "cell_type": "markdown",
   "metadata": {},
   "source": [
    "**Transform**\n",
    "- Add an extra column for age.\n",
    "- Add an extra column for not containing any semantic words."
   ]
  },
  {
   "cell_type": "code",
   "execution_count": 4,
   "metadata": {},
   "outputs": [],
   "source": [
    "df_ops[\"age\"] = 2019 - df_ops[\"year\"]\n",
    "df_ops[\"isUNK\"] = (df_ops[\"max_prog_word\"] == \"UNK\").astype(int)\n",
    "df_ops = df_ops[df_ops[\"year\"] >= 1785]"
   ]
  },
  {
   "cell_type": "code",
   "execution_count": 5,
   "metadata": {},
   "outputs": [
    {
     "name": "stdout",
     "output_type": "stream",
     "text": [
      "2624811\n"
     ]
    }
   ],
   "source": [
    "# for simplicity of descriptive analysis, let's remove docs which don't hit the lexicon\n",
    "# In the regression we will have to add a dummy variable to account for this.\n",
    "drop_misses = True\n",
    "if drop_misses:\n",
    "    df_ops = df_ops[df_ops[\"isUNK\"] == 0]\n",
    "print (len(df_ops))"
   ]
  },
  {
   "cell_type": "code",
   "execution_count": 6,
   "metadata": {},
   "outputs": [],
   "source": [
    "# quartile-ish bins of the innovation feature  \n",
    "df_ops['max_prog_q'] = pd.qcut(df_ops['max_prog'],4, labels=[\"<25\", \"<50\", \"<75\", \"<100\"], duplicates='drop')\n",
    "\n",
    "## Used to do this for ACL'19\n",
    "#df_ops['nprog50_q'] = pd.qcut(df_ops['nprog50'].rank(method=\"first\"), 4, labels=[\"<25\", \"<50\", \"<75\", \"<100\"], duplicates=\"drop\")\n",
    "#df_ops['nprog90_q'] = pd.qcut(df_ops['nprog90'].rank(method=\"first\"), 4, labels=[\"<25\", \"<50\", \"<75\", \"<100\"], duplicates=\"drop\")\n",
    "#df_ops['nprog95_q'] = pd.qcut(df_ops['nprog95'].rank(method=\"first\"), 4, labels=[\"<25\", \"<50\", \"<75\", \"<100\"], duplicates=\"drop\")\n",
    "#df_ops['nprog99_q'] = pd.qcut(df_ops['nprog99'].rank(method=\"first\"), 4, labels=[\"<25\", \"<50\", \"<75\", \"<100\"], duplicates=\"drop\")"
   ]
  },
  {
   "cell_type": "code",
   "execution_count": 7,
   "metadata": {},
   "outputs": [],
   "source": [
    "def give_me_zscores_per_year (frame, key):\n",
    "    years = frame.groupby(\"year\").size().reset_index(name=\"counts\")\n",
    "    years = list (years[years[\"counts\"] > 1].year.values)\n",
    "\n",
    "    zscore_lookup = dict ()\n",
    "    for year in years:\n",
    "        docids = frame[frame[\"year\"] == year][\"docid\"].values\n",
    "        zscores = zscore (frame[frame[\"year\"] == year][key].values)\n",
    "        for i in range (len (docids)):\n",
    "            zscore_lookup[docids[i]] = zscores[i]\n",
    "\n",
    "    docids = frame[\"docid\"].values\n",
    "    zscores = [zscore_lookup[docid] for docid in docids]\n",
    "    return zscores\n",
    "\n",
    "df_ops['max_progz'] = give_me_zscores_per_year (df_ops, 'max_prog')\n",
    "df_ops['max_progz_q'] = pd.qcut(df_ops['max_progz'], 4, labels=[\"<25\", \"<50\", \"<75\", \"<100\"], duplicates='drop')"
   ]
  },
  {
   "cell_type": "markdown",
   "metadata": {},
   "source": [
    "**Univariate analysis**"
   ]
  },
  {
   "cell_type": "code",
   "execution_count": 8,
   "metadata": {},
   "outputs": [
    {
     "name": "stdout",
     "output_type": "stream",
     "text": [
      "1399771\n"
     ]
    }
   ],
   "source": [
    "df_ops_since_1980s = df_ops[(df_ops[\"year\"] > 1980) & (df_ops[\"year\"] <= 2010)]\n",
    "print (len(df_ops_since_1980s))\n",
    "#df_ops_since_1980s.to_csv (\"../data/frames/emnlp/ops.univariate.csv\", sep=\",\", index=False)"
   ]
  },
  {
   "cell_type": "code",
   "execution_count": 9,
   "metadata": {},
   "outputs": [
    {
     "data": {
      "image/png": "[encoded data removed]",
      "text/plain": [
       "<Figure size 432x252 with 1 Axes>"
      ]
     },
     "metadata": {
      "needs_background": "light"
     },
     "output_type": "display_data"
    }
   ],
   "source": [
    "sns.set_context(\"paper\")\n",
    "fig,ax = plt.subplots(1,1,figsize=[6,3.5])\n",
    "sns.barplot(y='indeg',x='max_prog_q',data=df_ops_since_1980s,ax=ax);\n",
    "ax.set_title('Legal opinions');\n",
    "ax.set_xlabel('Quantiles');\n",
    "ax.set_ylabel('Citations');"
   ]
  },
  {
   "cell_type": "code",
   "execution_count": 10,
   "metadata": {},
   "outputs": [
    {
     "data": {
      "image/png": "[encoded data removed]",
      "text/plain": [
       "<Figure size 432x252 with 1 Axes>"
      ]
     },
     "metadata": {
      "needs_background": "light"
     },
     "output_type": "display_data"
    }
   ],
   "source": [
    "sns.set_context(\"paper\")\n",
    "fig,ax = plt.subplots(1,1,figsize=[6,3.5])\n",
    "sns.barplot(y='indeg',x='max_progz_q',data=df_ops_since_1980s,ax=ax);\n",
    "ax.set_title('Legal opinions');\n",
    "ax.set_xlabel('Quantiles');\n",
    "ax.set_ylabel('Citations');"
   ]
  },
  {
   "cell_type": "markdown",
   "metadata": {},
   "source": [
    "```python\n",
    "# Old (did this for ACL' 19)\n",
    "sns.set_context(\"paper\")\n",
    "fig,ax = plt.subplots(1,1,figsize=[6,3.5])\n",
    "sns.barplot(y='indeg',x='max_prog_q',data=df_ops_since_1980s,ax=ax);\n",
    "ax.set_title('Legal opinions');\n",
    "ax.set_xlabel('Quantiles');\n",
    "ax.set_ylabel('Citations');\n",
    "```"
   ]
  },
  {
   "cell_type": "markdown",
   "metadata": {},
   "source": [
    "```python\n",
    "# Old (did this for ACL' 19)\n",
    "sns.set_context(\"paper\")\n",
    "fig,ax = plt.subplots(1,1,figsize=[6,3.5],sharey=False)\n",
    "\n",
    "sns.barplot(y='indeg',x='nprog50_q',data=df_ops_since_1980s,ax=ax);\n",
    "ax.set_title('>50 percentile')\n",
    "ax.set_xlabel('Intervals')\n",
    "ax.set_ylabel('Citations')\n",
    "```"
   ]
  },
  {
   "cell_type": "markdown",
   "metadata": {},
   "source": [
    "**Multivariate regressions**"
   ]
  },
  {
   "cell_type": "code",
   "execution_count": 11,
   "metadata": {},
   "outputs": [],
   "source": [
    "formulas_ops = [\"indeg ~ age + outdeg + ntokens + bows + ninnovs\"]\n",
    "\n",
    "formulas_ops.append(formulas_ops[0]+\" + max_prog\")\n",
    "formulas_ops.append(formulas_ops[0]+\" + max_prog_q\")\n",
    "formulas_ops.append(formulas_ops[0]+\" + max_progz\")\n",
    "formulas_ops.append(formulas_ops[0]+\" + max_progz_q\")\n",
    "#formulas_ops.append(formulas_ops[0]+\" + nprog50\")\n",
    "#formulas_ops.append(formulas_ops[0]+\" + nprog50_q\")\n",
    "#formulas_ops.append(formulas_ops[1]+\" + nprog90\")\n",
    "#formulas_ops.append(formulas_ops[1]+\" + nprog90_q\")\n",
    "#formulas_ops.append(formulas_ops[1]+\" + nprog95\")\n",
    "#formulas_ops.append(formulas_ops[1]+\" + nprog95_q\")\n",
    "#formulas_ops.append(formulas_ops[1]+\" + nprog99\")\n",
    "#formulas_ops.append(formulas_ops[1]+\" + nprog99_q\")"
   ]
  },
  {
   "cell_type": "code",
   "execution_count": 12,
   "metadata": {},
   "outputs": [],
   "source": [
    "df_ops_sample = df_ops.sample (n=25000, axis=0)"
   ]
  },
  {
   "cell_type": "code",
   "execution_count": 13,
   "metadata": {},
   "outputs": [
    {
     "name": "stdout",
     "output_type": "stream",
     "text": [
      "6281\n",
      "6340\n",
      "6109\n",
      "6270\n",
      "25000\n"
     ]
    }
   ],
   "source": [
    "print(len(df_ops_sample[df_ops_sample[\"max_progz_q\"] == \"<25\"]))\n",
    "print(len(df_ops_sample[df_ops_sample[\"max_progz_q\"] == \"<50\"]))\n",
    "print(len(df_ops_sample[df_ops_sample[\"max_progz_q\"] == \"<75\"]))\n",
    "print(len(df_ops_sample[df_ops_sample[\"max_progz_q\"] == \"<100\"]))\n",
    "print(len(df_ops_sample))"
   ]
  },
  {
   "cell_type": "code",
   "execution_count": 42,
   "metadata": {},
   "outputs": [
    {
     "data": {
      "text/plain": [
       "Ks_2sampResult(statistic=0.22, pvalue=0.17858668181221732)"
      ]
     },
     "execution_count": 42,
     "metadata": {},
     "output_type": "execute_result"
    }
   ],
   "source": [
    "from scipy.stats import ks_2samp\n",
    "years = range (1960, 2010)\n",
    "x = [Counter(df_ops_sample[df_ops_sample[\"max_progz_q\"] == \"<25\"].year.values)[y] for y in years]\n",
    "y = [Counter(df_ops_sample[df_ops_sample[\"max_progz_q\"] == \"<100\"].year.values)[y] for y in years]\n",
    "#y = [item[1] for item in Counter(df_dblp_sample[df_dblp_sample[\"max_progz_q\"] == \"<50\"].year.values).most_common(10)]\n",
    "ks_2samp(x, y)"
   ]
  },
  {
   "cell_type": "code",
   "execution_count": 29,
   "metadata": {},
   "outputs": [
    {
     "name": "stdout",
     "output_type": "stream",
     "text": [
      "[1, 0, 1, 1, 2, 5, 4, 2, 3, 3, 3, 3, 4, 1, 6, 4, 7, 5, 3, 6, 2, 5, 1, 11, 8, 10, 10, 20, 12, 13, 10, 13, 12, 8, 7, 11, 17, 9, 11, 18, 13, 7, 18, 9, 16, 14, 10, 8, 11, 13, 14, 18, 14, 19, 8, 15, 10, 17, 5, 7, 8, 17, 18, 11, 12, 8, 16, 13, 7, 26, 10, 22, 28, 30, 55, 24, 29, 61, 41, 40, 30, 40, 60, 62, 59, 40, 73, 90, 88, 89, 121, 123, 116, 100, 134, 137, 144, 151, 163, 192, 170, 158, 200, 194, 151, 218, 210, 225, 259, 222]\n",
      "[12, 5, 14, 7, 9, 5, 5, 7, 10, 9, 12, 8, 22, 16, 5, 19, 11, 11, 11, 6, 13, 16, 15, 27, 28, 43, 57, 60, 40, 46, 53, 41, 36, 44, 40, 27, 38, 32, 34, 54, 35, 34, 34, 27, 24, 20, 22, 30, 26, 21, 23, 32, 17, 25, 31, 25, 18, 25, 23, 20, 26, 30, 27, 17, 24, 17, 18, 22, 26, 17, 30, 31, 24, 29, 37, 28, 36, 51, 42, 41, 41, 56, 45, 49, 61, 59, 60, 73, 68, 76, 67, 65, 90, 101, 101, 123, 110, 110, 115, 117, 133, 116, 125, 119, 138, 136, 141, 163, 153, 158]\n"
     ]
    }
   ],
   "source": [
    "print(x)\n",
    "print(y)"
   ]
  },
  {
   "cell_type": "markdown",
   "metadata": {},
   "source": [
    "```python\n",
    "## Old (for ACL' 19): I don't think this is even required. We moved this into a separate script.\n",
    "\n",
    "FROM=1980\n",
    "TO=2010\n",
    "\n",
    "#df_ops[\"logdeg\"] = np.log1p(df_ops[\"indeg\"])\n",
    "\n",
    "sns.set_context (\"paper\")\n",
    "fig,ax = plt.subplots (1,1, figsize=(6,1.8), sharey=False)\n",
    "sns.barplot (y=\"indeg\", x=\"nprog50_q\", \n",
    "             data=df_ops_sample[(df_ops_sample[\"year\"] > FROM) & (df_ops_sample[\"year\"] <= TO)], \n",
    "             ax=ax, color='green',\n",
    "             order=[\"<25\", \"<50\", \"<75\", \"<100\"])\n",
    "ax.set_title (\"Legal opinions\")\n",
    "ax.set_ylabel (\"Number of citations\")\n",
    "ax.set_xlabel (\"Num progressiveness quantile\")\n",
    "```"
   ]
  },
  {
   "cell_type": "code",
   "execution_count": 78,
   "metadata": {},
   "outputs": [],
   "source": [
    "results_ops = []\n",
    "for formula in formulas_ops:\n",
    "    Y,X = patsy.dmatrices(formula,data=df_ops_sample)\n",
    "    results_ops.append(sm.GLM(Y, X, family=sm.families.Poisson()).fit())"
   ]
  },
  {
   "cell_type": "code",
   "execution_count": 79,
   "metadata": {},
   "outputs": [
    {
     "name": "stdout",
     "output_type": "stream",
     "text": [
      "[-410601.43724993075, -410158.0165202357, -399593.39555124583, -406842.96235859056, -408030.8049823752]\n",
      "-399593.39555124583\n"
     ]
    }
   ],
   "source": [
    "lls = [result.llf for result in results_ops]\n",
    "print(lls)\n",
    "print (max(lls))"
   ]
  },
  {
   "cell_type": "code",
   "execution_count": 71,
   "metadata": {},
   "outputs": [
    {
     "name": "stdout",
     "output_type": "stream",
     "text": [
      "1 0 \\chi^2_1 = 464.50, p < 5.048e-103\n",
      "2 0 \\chi^2_1 = 5918.31, p < 0.000e+00\n",
      "2 1 \\chi^2_0 = 5453.81, p < nan\n",
      "3 0 \\chi^2_3 = 134.63, p < 5.432e-29\n",
      "3 1 \\chi^2_2 = -329.87, p < 1.000e+00\n",
      "3 2 \\chi^2_2 = -5783.67, p < 1.000e+00\n",
      "4 0 \\chi^2_1 = 2537.86, p < 0.000e+00\n",
      "4 1 \\chi^2_0 = 2073.36, p < nan\n",
      "4 2 \\chi^2_0 = -3380.45, p < nan\n",
      "4 3 \\chi^2_0 = 2403.23, p < nan\n"
     ]
    }
   ],
   "source": [
    "for i,ll_0 in enumerate(lls):\n",
    "    for j,ll_1 in enumerate(lls[:i]):\n",
    "        chi2_score = ll_0-ll_1\n",
    "        dof = len(formulas_ops[i].split(\"+\")) - len(formulas_ops[j].split('+'))\n",
    "        if i == 3: dof += 2 #quartiles\n",
    "        print(i,j,f'\\\\chi^2_{dof} = {chi2_score:.2f}, p < {chi2.sf(chi2_score, dof):.3e}')"
   ]
  },
  {
   "cell_type": "code",
   "execution_count": 80,
   "metadata": {},
   "outputs": [
    {
     "name": "stdout",
     "output_type": "stream",
     "text": [
      "                 Generalized Linear Model Regression Results                  \n",
      "==============================================================================\n",
      "Dep. Variable:                  indeg   No. Observations:                25000\n",
      "Model:                            GLM   Df Residuals:                    24994\n",
      "Model Family:                 Poisson   Df Model:                            5\n",
      "Link Function:                    log   Scale:                          1.0000\n",
      "Method:                          IRLS   Log-Likelihood:            -4.1060e+05\n",
      "Date:                Tue, 21 May 2019   Deviance:                   7.6693e+05\n",
      "Time:                        19:08:01   Pearson chi2:                 4.65e+06\n",
      "No. Iterations:                    16   Covariance Type:             nonrobust\n",
      "==============================================================================\n",
      "                 coef    std err          z      P>|z|      [0.025      0.975]\n",
      "------------------------------------------------------------------------------\n",
      "Intercept      1.4210      0.004    350.356      0.000       1.413       1.429\n",
      "age            0.0107   6.54e-05    163.930      0.000       0.011       0.011\n",
      "outdeg         0.0202   7.69e-05    262.821      0.000       0.020       0.020\n",
      "ntokens    -5.795e-06   4.19e-07    -13.832      0.000   -6.62e-06   -4.97e-06\n",
      "bows       -1.956e-07   4.71e-08     -4.156      0.000   -2.88e-07   -1.03e-07\n",
      "ninnovs        0.0544      0.001     98.647      0.000       0.053       0.056\n",
      "==============================================================================\n",
      "\n",
      "                 Generalized Linear Model Regression Results                  \n",
      "==============================================================================\n",
      "Dep. Variable:                  indeg   No. Observations:                25000\n",
      "Model:                            GLM   Df Residuals:                    24993\n",
      "Model Family:                 Poisson   Df Model:                            6\n",
      "Link Function:                    log   Scale:                          1.0000\n",
      "Method:                          IRLS   Log-Likelihood:            -4.1016e+05\n",
      "Date:                Tue, 21 May 2019   Deviance:                   7.6604e+05\n",
      "Time:                        19:08:01   Pearson chi2:                 4.63e+06\n",
      "No. Iterations:                    19   Covariance Type:             nonrobust\n",
      "==============================================================================\n",
      "                 coef    std err          z      P>|z|      [0.025      0.975]\n",
      "------------------------------------------------------------------------------\n",
      "Intercept      1.4143      0.004    347.947      0.000       1.406       1.422\n",
      "age            0.0109   6.57e-05    166.452      0.000       0.011       0.011\n",
      "outdeg         0.0204   7.85e-05    260.060      0.000       0.020       0.021\n",
      "ntokens     -6.75e-06   4.32e-07    -15.636      0.000    -7.6e-06    -5.9e-06\n",
      "bows       -1.946e-07   4.87e-08     -4.000      0.000    -2.9e-07   -9.93e-08\n",
      "ninnovs        0.0498      0.001     86.279      0.000       0.049       0.051\n",
      "max_prog       0.0002    6.5e-06     32.198      0.000       0.000       0.000\n",
      "==============================================================================\n",
      "\n",
      "                 Generalized Linear Model Regression Results                  \n",
      "==============================================================================\n",
      "Dep. Variable:                  indeg   No. Observations:                25000\n",
      "Model:                            GLM   Df Residuals:                    24991\n",
      "Model Family:                 Poisson   Df Model:                            8\n",
      "Link Function:                    log   Scale:                          1.0000\n",
      "Method:                          IRLS   Log-Likelihood:            -3.9959e+05\n",
      "Date:                Tue, 21 May 2019   Deviance:                   7.4491e+05\n",
      "Time:                        19:08:01   Pearson chi2:                 3.90e+06\n",
      "No. Iterations:                    24   Covariance Type:             nonrobust\n",
      "======================================================================================\n",
      "                         coef    std err          z      P>|z|      [0.025      0.975]\n",
      "--------------------------------------------------------------------------------------\n",
      "Intercept              0.3922      0.009     45.696      0.000       0.375       0.409\n",
      "max_prog_q[T.<50]      0.9902      0.007    134.294      0.000       0.976       1.005\n",
      "max_prog_q[T.<75]      1.0406      0.008    127.402      0.000       1.025       1.057\n",
      "max_prog_q[T.<100]     1.0346      0.009    117.564      0.000       1.017       1.052\n",
      "age                    0.0185   8.27e-05    223.403      0.000       0.018       0.019\n",
      "outdeg                 0.0202   7.78e-05    259.019      0.000       0.020       0.020\n",
      "ntokens            -1.157e-06   4.24e-07     -2.728      0.006   -1.99e-06   -3.26e-07\n",
      "bows               -2.039e-07   5.34e-08     -3.817      0.000   -3.09e-07   -9.92e-08\n",
      "ninnovs                0.0396      0.001     63.976      0.000       0.038       0.041\n",
      "======================================================================================\n",
      "\n",
      "                 Generalized Linear Model Regression Results                  \n",
      "==============================================================================\n",
      "Dep. Variable:                  indeg   No. Observations:                25000\n",
      "Model:                            GLM   Df Residuals:                    24993\n",
      "Model Family:                 Poisson   Df Model:                            6\n",
      "Link Function:                    log   Scale:                          1.0000\n",
      "Method:                          IRLS   Log-Likelihood:            -4.0684e+05\n",
      "Date:                Tue, 21 May 2019   Deviance:                   7.5941e+05\n",
      "Time:                        19:08:02   Pearson chi2:                 4.24e+06\n",
      "No. Iterations:                    23   Covariance Type:             nonrobust\n",
      "==============================================================================\n",
      "                 coef    std err          z      P>|z|      [0.025      0.975]\n",
      "------------------------------------------------------------------------------\n",
      "Intercept      1.4761      0.004    357.591      0.000       1.468       1.484\n",
      "age            0.0103   6.61e-05    155.722      0.000       0.010       0.010\n",
      "outdeg         0.0207   8.11e-05    254.867      0.000       0.021       0.021\n",
      "ntokens    -8.845e-06   4.56e-07    -19.383      0.000   -9.74e-06   -7.95e-06\n",
      "bows       -1.971e-07   5.51e-08     -3.578      0.000   -3.05e-07   -8.91e-08\n",
      "ninnovs        0.0445      0.001     77.138      0.000       0.043       0.046\n",
      "max_progz      0.0943      0.001    105.833      0.000       0.093       0.096\n",
      "==============================================================================\n",
      "\n",
      "                 Generalized Linear Model Regression Results                  \n",
      "==============================================================================\n",
      "Dep. Variable:                  indeg   No. Observations:                25000\n",
      "Model:                            GLM   Df Residuals:                    24991\n",
      "Model Family:                 Poisson   Df Model:                            8\n",
      "Link Function:                    log   Scale:                          1.0000\n",
      "Method:                          IRLS   Log-Likelihood:            -4.0803e+05\n",
      "Date:                Tue, 21 May 2019   Deviance:                   7.6178e+05\n",
      "Time:                        19:08:02   Pearson chi2:                 4.51e+06\n",
      "No. Iterations:                    17   Covariance Type:             nonrobust\n",
      "=======================================================================================\n",
      "                          coef    std err          z      P>|z|      [0.025      0.975]\n",
      "---------------------------------------------------------------------------------------\n",
      "Intercept               1.1682      0.006    194.021      0.000       1.156       1.180\n",
      "max_progz_q[T.<50]      0.3841      0.007     55.265      0.000       0.370       0.398\n",
      "max_progz_q[T.<75]      0.3822      0.007     55.516      0.000       0.369       0.396\n",
      "max_progz_q[T.<100]     0.4700      0.007     66.797      0.000       0.456       0.484\n",
      "age                     0.0096      7e-05    137.452      0.000       0.009       0.010\n",
      "outdeg                  0.0203   7.67e-05    264.275      0.000       0.020       0.020\n",
      "ntokens             -3.304e-06   4.23e-07     -7.804      0.000   -4.13e-06   -2.47e-06\n",
      "bows                -1.947e-07   4.64e-08     -4.197      0.000   -2.86e-07   -1.04e-07\n",
      "ninnovs                 0.0420      0.001     69.284      0.000       0.041       0.043\n",
      "=======================================================================================\n",
      "\n"
     ]
    }
   ],
   "source": [
    "for i in range (len (results_ops)):\n",
    "    print(results_ops[i].summary())\n",
    "    print ()"
   ]
  },
  {
   "cell_type": "code",
   "execution_count": 82,
   "metadata": {},
   "outputs": [],
   "source": [
    "df_ops_sample.to_csv (\"../data/frames/emnlp/ops.final\", sep=\",\", index=False)"
   ]
  }
 ],
 "metadata": {
  "kernelspec": {
   "display_name": "Python 3",
   "language": "python",
   "name": "python3"
  },
  "language_info": {
   "codemirror_mode": {
    "name": "ipython",
    "version": 3
   },
   "file_extension": ".py",
   "mimetype": "text/x-python",
   "name": "python",
   "nbconvert_exporter": "python",
   "pygments_lexer": "ipython3",
   "version": "3.7.4"
  }
 },
 "nbformat": 4,
 "nbformat_minor": 2
}
