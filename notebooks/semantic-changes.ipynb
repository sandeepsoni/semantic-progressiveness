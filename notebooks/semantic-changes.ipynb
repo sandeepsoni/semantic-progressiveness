{
 "cells": [
  {
   "cell_type": "code",
   "execution_count": 2,
   "metadata": {},
   "outputs": [],
   "source": [
    "import numpy as np\n",
    "import gensim"
   ]
  },
  {
   "cell_type": "code",
   "execution_count": 1,
   "metadata": {},
   "outputs": [],
   "source": [
    "import sys\n",
    "if \"../modules/\" not in sys.path: sys.path.append (\"../modules/\")\n",
    "from semshift import measures, embeddings, alignment"
   ]
  },
  {
   "cell_type": "code",
   "execution_count": 3,
   "metadata": {},
   "outputs": [],
   "source": [
    "early_model = embeddings.TrainedModel(\"/hg191/corpora/legaldata/sc-docs/0.model\")\n",
    "later_model = embeddings.TrainedModel(\"/hg191/corpora/legaldata/sc-docs/7.model\")"
   ]
  },
  {
   "cell_type": "code",
   "execution_count": 5,
   "metadata": {},
   "outputs": [],
   "source": [
    "aligned = alignment.smart_procrustes_align_gensim(early_model.m, later_model.m)"
   ]
  },
  {
   "cell_type": "code",
   "execution_count": 10,
   "metadata": {},
   "outputs": [],
   "source": [
    "vocab = set (list (early_model.m.wv.vocab.keys()))"
   ]
  },
  {
   "cell_type": "code",
   "execution_count": 11,
   "metadata": {},
   "outputs": [],
   "source": [
    "linguistic_drift_scores = {w: measures.HamiltonMeasures.linguistic_drift(early_model.m, later_model.m, w) for w in vocab}"
   ]
  },
  {
   "cell_type": "code",
   "execution_count": 12,
   "metadata": {},
   "outputs": [
    {
     "name": "stderr",
     "output_type": "stream",
     "text": [
      "/nethome/ssoni30/venvs/py36/lib/python3.6/site-packages/gensim/matutils.py:737: FutureWarning: Conversion of the second argument of issubdtype from `int` to `np.signedinteger` is deprecated. In future, it will be treated as `np.int64 == np.dtype(int).type`.\n",
      "  if np.issubdtype(vec.dtype, np.int):\n"
     ]
    }
   ],
   "source": [
    "k=25\n",
    "cultural_shift_scores = {w: measures.HamiltonMeasures.cultural_shift (early_model.m, later_model.m, w, k) for w in vocab}"
   ]
  },
  {
   "cell_type": "code",
   "execution_count": 13,
   "metadata": {},
   "outputs": [],
   "source": [
    "namefiles = [\"/hg191/corpora/legaldata/sc-docs/names.neural\", \"/hg191/corpora/legaldata/sc-docs/names.tagging\"]\n",
    "\n",
    "names = set ()\n",
    "for namefile in namefiles:\n",
    "    with open (namefile) as fin:\n",
    "        more_names = {line.strip() for line in fin}\n",
    "    names = names | more_names"
   ]
  },
  {
   "cell_type": "code",
   "execution_count": 23,
   "metadata": {},
   "outputs": [
    {
     "name": "stdout",
     "output_type": "stream",
     "text": [
      "91661\n",
      "47778\n",
      "43883\n"
     ]
    }
   ],
   "source": [
    "assert (len (linguistic_drift_scores) == len (cultural_shift_scores))\n",
    "print (len (linguistic_drift_scores))\n",
    "print (len(names & set (list (linguistic_drift_scores.keys()))))\n",
    "print (len (linguistic_drift_scores) - len(names & set (list (linguistic_drift_scores.keys()))))"
   ]
  },
  {
   "cell_type": "code",
   "execution_count": 26,
   "metadata": {},
   "outputs": [],
   "source": [
    "with open (\"/hg191/corpora/legaldata/sc-docs/vocab.linguistic_drift\", \"w\") as fout:\n",
    "    for word,score in sorted(linguistic_drift_scores.items(), key=lambda x:x[1], reverse=True):\n",
    "        if word not in names:\n",
    "            fout.write (\"{0}\\t{1}\\n\".format (word,score))"
   ]
  },
  {
   "cell_type": "code",
   "execution_count": 27,
   "metadata": {},
   "outputs": [],
   "source": [
    "with open (\"/hg191/corpora/legaldata/sc-docs/vocab.cultural_shift\", \"w\") as fout:\n",
    "    for word,score in sorted (cultural_shift_scores.items(), key=lambda x:x[1], reverse=True):\n",
    "        if word not in names:\n",
    "            fout.write (\"{0}\\t{1}\\n\".format (word,score))"
   ]
  }
 ],
 "metadata": {
  "kernelspec": {
   "display_name": "Python 3",
   "language": "python",
   "name": "python3"
  },
  "language_info": {
   "codemirror_mode": {
    "name": "ipython",
    "version": 3
   },
   "file_extension": ".py",
   "mimetype": "text/x-python",
   "name": "python",
   "nbconvert_exporter": "python",
   "pygments_lexer": "ipython3",
   "version": "3.6.5"
  }
 },
 "nbformat": 4,
 "nbformat_minor": 2
}
