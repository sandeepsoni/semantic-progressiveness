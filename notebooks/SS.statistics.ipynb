{
 "cells": [
  {
   "cell_type": "markdown",
   "metadata": {},
   "source": [
    "This notebook computes some simple statistics for the semantic scholar dataset."
   ]
  },
  {
   "cell_type": "code",
   "execution_count": 1,
   "metadata": {},
   "outputs": [],
   "source": [
    "import ujson\n",
    "import os\n",
    "import sys"
   ]
  },
  {
   "cell_type": "code",
   "execution_count": 2,
   "metadata": {},
   "outputs": [],
   "source": [
    "if \"../\" not in sys.path:\n",
    "    sys.path.append (\"../\")"
   ]
  },
  {
   "cell_type": "code",
   "execution_count": 3,
   "metadata": {},
   "outputs": [],
   "source": [
    "from modules import constants"
   ]
  },
  {
   "cell_type": "code",
   "execution_count": 4,
   "metadata": {},
   "outputs": [],
   "source": [
    "DATA_DIR = \"/hg191/corpora/academic-data/semantic-scholar\"\n",
    "ABSTRACTS_FILE = os.path.join (DATA_DIR, \"abstracts\" + \".tokenized\" + constants.JSONL_EXT)\n",
    "STATS_DIR = os.path.join (DATA_DIR, \"stats\")"
   ]
  },
  {
   "cell_type": "code",
   "execution_count": 5,
   "metadata": {},
   "outputs": [],
   "source": [
    "os.makedirs (STATS_DIR, exist_ok=True)"
   ]
  },
  {
   "cell_type": "code",
   "execution_count": 6,
   "metadata": {},
   "outputs": [],
   "source": [
    "def splitIntoStats (filename):\n",
    "    #IDS_FILE = os.path.join (STATS_DIR, \"abs.ids\")\n",
    "    #DATE_FILE = os.path.join (STATS_DIR, \"abs.years\")\n",
    "    #DOCS_FILE = os.path.join (STATS_DIR, \"abs.docs\")\n",
    "    #NUNIQS_FILE = os.path.join (STATS_DIR, \"abs.nuniqs\")\n",
    "    #NTOKENS_FILE = os.path.join (STATS_DIR, \"abs.ntokens\")\n",
    "    #NAUTHORS_FILE = os.path.join (STATS_DIR, \"abs.nauthors\")\n",
    "    #IND_FILE = os.path.join (STATS_DIR, \"abs.ind\")\n",
    "    #OUTD_FILE = os.path.join (STATS_DIR, \"abs.outd\")\n",
    "    PAGES_FILE = os.path.join (STATS_DIR, \"abs.npages\")\n",
    "    \n",
    "    with open (filename) as fin:\n",
    "        #fids = open (IDS_FILE, \"w\")\n",
    "        #fdates = open (DATE_FILE, \"w\")\n",
    "        #fdocs = open (DOCS_FILE, \"w\")\n",
    "        #fnuniqs = open (NUNIQS_FILE, \"w\")\n",
    "        #fntokens = open (NTOKENS_FILE, \"w\")\n",
    "        #fnauthors = open (NAUTHORS_FILE, \"w\")\n",
    "        #find = open (IND_FILE, \"w\")\n",
    "        #foutd = open (OUTD_FILE, \"w\")\n",
    "        fpages = open (PAGES_FILE, \"w\")\n",
    "        \n",
    "        for line in fin:\n",
    "            js = ujson.loads (line)\n",
    "            #fids.write (\"{0}\\n\".format (js[\"id\"]))\n",
    "            #fdates.write (\"{0},{1}\\n\".format (js[\"id\"], js[\"year\"]))\n",
    "            #tokens = [token.strip().lower() for token in js[\"tokens\"]]\n",
    "            #docs.write (\"{0}\\n\".format (\" \".join (tokens)))\n",
    "            #fnuniqs.write (\"{0},{1}\\n\".format (js[\"id\"], len (set (tokens))))\n",
    "            #fntokens.write (\"{0},{1}\\n\".format (js[\"id\"], len (tokens)))\n",
    "            #fnauthors.write (\"{0},{1}\\n\".format (js[\"id\"], js[\"nauthors\"]))\n",
    "            #find.write (\"{0},{1}\\n\".format (js[\"id\"], len(js[\"incites\"])))\n",
    "            #foutd.write (\"{0},{1}\\n\".format (js[\"id\"], len (js[\"outcites\"])))\n",
    "            if js[\"pages\"].count(\"\\n\") > 0:\n",
    "                pagestext = js[\"pages\"].replace('\\r', '').replace('\\n', '')\n",
    "            else:\n",
    "                pagestext = js[\"pages\"]\n",
    "            fpages.write (\"{0},{1}\\n\".format (js[\"id\"], pagestext))\n",
    "            \n",
    "        #fids.close()\n",
    "        #fdates.close()\n",
    "        #fdocs.close()\n",
    "        #fnuniqs.close()\n",
    "        #fntokens.close()\n",
    "        #fnauthors.close()\n",
    "        #find.close()\n",
    "        #foutd.close()\n",
    "        fpages.close()"
   ]
  },
  {
   "cell_type": "code",
   "execution_count": 7,
   "metadata": {},
   "outputs": [],
   "source": [
    "splitIntoStats (ABSTRACTS_FILE)"
   ]
  }
 ],
 "metadata": {
  "kernelspec": {
   "display_name": "Python 3",
   "language": "python",
   "name": "python3"
  },
  "language_info": {
   "codemirror_mode": {
    "name": "ipython",
    "version": 3
   },
   "file_extension": ".py",
   "mimetype": "text/x-python",
   "name": "python",
   "nbconvert_exporter": "python",
   "pygments_lexer": "ipython3",
   "version": "3.6.5"
  }
 },
 "nbformat": 4,
 "nbformat_minor": 2
}
