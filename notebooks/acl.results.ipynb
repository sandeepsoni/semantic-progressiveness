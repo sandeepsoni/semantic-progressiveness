{
 "cells": [
  {
   "cell_type": "code",
   "execution_count": 27,
   "metadata": {},
   "outputs": [],
   "source": [
    "import pandas as pd\n",
    "import numpy as np\n",
    "import matplotlib.pyplot as plt\n",
    "import seaborn as sns\n",
    "import statsmodels.api as sm\n",
    "import patsy\n",
    "from scipy.stats.distributions import chi2\n",
    "\n",
    "%matplotlib inline"
   ]
  },
  {
   "cell_type": "code",
   "execution_count": 21,
   "metadata": {},
   "outputs": [],
   "source": [
    "df_ops = pd.read_csv (\"../data/frames/acl/ops.final\", sep=\",\")\n",
    "df_dblp = pd.read_csv (\"../data/frames/acl/dblp.final\", sep=\",\")"
   ]
  },
  {
   "cell_type": "markdown",
   "metadata": {},
   "source": [
    "**Univariate plots**"
   ]
  },
  {
   "cell_type": "code",
   "execution_count": 92,
   "metadata": {},
   "outputs": [
    {
     "data": {
      "image/png": "[encoded data removed]",
      "text/plain": [
       "<Figure size 432x129.6 with 2 Axes>"
      ]
     },
     "metadata": {
      "needs_background": "light"
     },
     "output_type": "display_data"
    }
   ],
   "source": [
    "FROM=1980\n",
    "TO=2010\n",
    "\n",
    "#df_ops[\"logdeg\"] = np.log1p(df_ops[\"indeg\"])\n",
    "\n",
    "sns.set_context (\"paper\")\n",
    "fig,ax = plt.subplots (1,2, figsize=(6,1.8), sharey=False)\n",
    "sns.barplot (y=\"indeg\", x=\"max_prog_q\", \n",
    "             data=df_ops[(df_ops[\"year\"] > FROM) & (df_ops[\"year\"] <= TO)], \n",
    "             ax=ax[0], color='green',\n",
    "             order=[\"<25\", \"<50\", \"<75\", \"<100\"])\n",
    "ax[0].set_title (\"Legal opinions\")\n",
    "ax[0].set_ylabel (\"Number of citations\")\n",
    "ax[0].set_xlabel (\"Max innovation quantile\")\n",
    "ax[0].set_xticklabels ([\"Q1\", \"Q2\", \"Q3\", \"Q4\"])\n",
    "\n",
    "#df_dblp[\"logdeg\"] = np.log1p(df_dblp[\"indeg\"])\n",
    "sns.barplot (y=\"indeg\", x=\"max_prog_q\", \n",
    "             data=df_dblp[(df_dblp[\"year\"] > FROM) & (df_dblp[\"year\"] <= TO)], \n",
    "             ax=ax[1], color='brown',\n",
    "             order=[\"<25\", \"<50\", \"<75\", \"<100\"])\n",
    "ax[1].set_title (\"Scientific articles\")\n",
    "ax[1].set_ylabel (\"Number of citations\")\n",
    "ax[1].set_xlabel (\"Max innovation quantile\")\n",
    "ax[1].set_xticklabels ([\"Q1\", \"Q2\", \"Q3\", \"Q4\"])\n",
    "\n",
    "plt.subplots_adjust(wspace=.3)\n",
    "plt.axis('tight')\n",
    "plt.savefig('../figs/acl/cites-by-max-progressiveness.pdf', bbox_inches='tight')"
   ]
  },
  {
   "cell_type": "code",
   "execution_count": 93,
   "metadata": {},
   "outputs": [
    {
     "data": {
      "image/png": "[encoded data removed]",
      "text/plain": [
       "<Figure size 432x129.6 with 2 Axes>"
      ]
     },
     "metadata": {
      "needs_background": "light"
     },
     "output_type": "display_data"
    }
   ],
   "source": [
    "FROM=1980\n",
    "TO=2010\n",
    "\n",
    "#df_ops[\"logdeg\"] = np.log1p(df_ops[\"indeg\"])\n",
    "\n",
    "sns.set_context (\"paper\")\n",
    "fig,ax = plt.subplots (1,2, figsize=(6,1.8), sharey=False)\n",
    "sns.barplot (y=\"indeg\", x=\"nprog50_q\", \n",
    "             data=df_ops[(df_ops[\"year\"] > FROM) & (df_ops[\"year\"] <= TO)], \n",
    "             ax=ax[0], color='green',\n",
    "             order=[\"<25\", \"<50\", \"<75\", \"<100\"])\n",
    "ax[0].set_title (\"Legal opinions\")\n",
    "ax[0].set_ylabel (\"Number of citations\")\n",
    "ax[0].set_xlabel (\"Num innovations quantile\")\n",
    "ax[0].set_xticklabels ([\"Q1\", \"Q2\", \"Q3\", \"Q4\"])\n",
    "\n",
    "#df_dblp[\"logdeg\"] = np.log1p(df_dblp[\"indeg\"])\n",
    "sns.barplot (y=\"indeg\", x=\"nprog50_q\", \n",
    "             data=df_dblp[(df_dblp[\"year\"] > FROM) & (df_dblp[\"year\"] <= TO)], \n",
    "             ax=ax[1], color='brown',\n",
    "             order=[\"<25\", \"<50\", \"<75\", \"<100\"])\n",
    "ax[1].set_title (\"Scientific articles\")\n",
    "ax[1].set_ylabel (\"Number of citations\")\n",
    "ax[1].set_xlabel (\"Num innovations quantile\")\n",
    "ax[1].set_xticklabels ([\"Q1\", \"Q2\", \"Q3\", \"Q4\"])\n",
    "\n",
    "plt.subplots_adjust(wspace=.3)\n",
    "plt.axis('tight')\n",
    "plt.savefig('../figs/acl/cites-by-num-progressiveness.pdf', bbox_inches='tight')"
   ]
  },
  {
   "cell_type": "markdown",
   "metadata": {},
   "source": [
    "**Multivariate regressions**"
   ]
  },
  {
   "cell_type": "code",
   "execution_count": 84,
   "metadata": {},
   "outputs": [],
   "source": [
    "formulas_ops = [\"indeg ~ age + outdeg + ntokens + bows\"]\n",
    "\n",
    "formulas_ops.append(formulas_ops[0]+\" + max_prog\") # y ~ C(Location, Treatment(reference='China'))\n",
    "formulas_ops.append(formulas_ops[0]+\" + C(max_prog_q, Treatment(reference='<25'))\")\n",
    "formulas_ops.append(formulas_ops[0]+\" + nprog50\")\n",
    "formulas_ops.append(formulas_ops[0]+\" + C(nprog50_q, Treatment(reference='<25'))\")\n",
    "\n",
    "formulas_dblp = [\"indeg ~ age + outdeg + nauthors + ntokens + bows\"]\n",
    "formulas_dblp.append(formulas_dblp[0]+\" + max_prog\")\n",
    "formulas_dblp.append(formulas_dblp[0]+\" + C(max_prog_q, Treatment(reference='<25'))\")\n",
    "formulas_dblp.append(formulas_dblp[0]+\" + nprog50\")\n",
    "formulas_dblp.append(formulas_dblp[0]+\" + C(nprog50_q, Treatment(reference='<25'))\")"
   ]
  },
  {
   "cell_type": "code",
   "execution_count": 46,
   "metadata": {},
   "outputs": [],
   "source": [
    "def runAllRegressions (df, formulas):\n",
    "    results = list ()\n",
    "    for formula in formulas:\n",
    "        Y,X = patsy.dmatrices(formula,data=df)\n",
    "        results.append (sm.GLM(Y, X, family=sm.families.Poisson()).fit())\n",
    "    return results"
   ]
  },
  {
   "cell_type": "code",
   "execution_count": 85,
   "metadata": {},
   "outputs": [
    {
     "name": "stdout",
     "output_type": "stream",
     "text": [
      "[-429096.0014844783, -428527.145793919, -422036.76228773687, -427724.1786419009, -423474.2552698895]\n",
      "[-12922614.06051303, -12897491.767002095, -12896647.477705669, -12890658.970681602, -12912022.637283692]\n"
     ]
    }
   ],
   "source": [
    "results_ops = runAllRegressions (df_ops, formulas_ops)\n",
    "lls_ops = [result.llf for result in results_ops]\n",
    "\n",
    "results_dblp = runAllRegressions (df_dblp, formulas_dblp)\n",
    "lls_dblp = [result.llf for result in results_dblp]\n",
    "\n",
    "print (lls_ops)\n",
    "print (lls_dblp)"
   ]
  },
  {
   "cell_type": "code",
   "execution_count": 28,
   "metadata": {},
   "outputs": [],
   "source": [
    "def goodness_of_fit_tests (lls, formulas):\n",
    "    for i,ll_0 in enumerate(lls):\n",
    "        for j,ll_1 in enumerate(lls[:i]):\n",
    "            chi2_score = ll_0-ll_1\n",
    "            dof = len(formulas[i].split(\"+\")) - len(formulas[j].split('+'))\n",
    "            if i == 3: dof += 2 #quartiles\n",
    "            print(i,j,f'\\\\chi^2_{dof} = {chi2_score:.2f}, p < {chi2.sf(chi2_score, dof):.3e}')"
   ]
  },
  {
   "cell_type": "code",
   "execution_count": 30,
   "metadata": {},
   "outputs": [
    {
     "name": "stdout",
     "output_type": "stream",
     "text": [
      "1 0 \\chi^2_1 = 568.86, p < 9.959e-126\n",
      "2 0 \\chi^2_1 = 7059.24, p < 0.000e+00\n",
      "2 1 \\chi^2_0 = 6490.38, p < nan\n",
      "3 0 \\chi^2_3 = 1371.82, p < 3.831e-297\n",
      "3 1 \\chi^2_2 = 802.97, p < 4.344e-175\n",
      "3 2 \\chi^2_2 = -5687.42, p < 1.000e+00\n",
      "4 0 \\chi^2_1 = 5621.75, p < 0.000e+00\n",
      "4 1 \\chi^2_0 = 5052.89, p < nan\n",
      "4 2 \\chi^2_0 = -1437.49, p < nan\n",
      "4 3 \\chi^2_0 = 4249.92, p < nan\n"
     ]
    }
   ],
   "source": [
    "goodness_of_fit_tests (lls_ops, formulas_ops)"
   ]
  },
  {
   "cell_type": "markdown",
   "metadata": {},
   "source": [
    "**Write the results as Latex tables**"
   ]
  },
  {
   "cell_type": "code",
   "execution_count": 115,
   "metadata": {},
   "outputs": [],
   "source": [
    "def get_latex_table_string (model_results, coeff):\n",
    "    def get_latex_coeff_table_string (c, model_result):\n",
    "        return \"{0:.3f}\".format(round(model_result.params[model_result.model.exog_names.index(c)], 3))\n",
    "    \n",
    "    def get_latex_coeff_pair_table_string(c1, c2, model_result):\n",
    "        if c1 in model_result.model.exog_names:\n",
    "            return get_latex_coeff_table_string (c1, model_result)\n",
    "        else:\n",
    "            return get_latex_coeff_table_string (c2, model_result)\n",
    "    \n",
    "    goodnames = {\n",
    "        \"Intercept\": \"Constant\",\n",
    "        (\"C(max_prog_q, Treatment(reference='<25'))[T.<50]\", \"C(nprog50_q, Treatment(reference='<25'))[T.<50]\"): \"Prog. Q2\",\n",
    "        (\"C(max_prog_q, Treatment(reference='<25'))[T.<75]\", \"C(nprog50_q, Treatment(reference='<25'))[T.<75]\"): \"Prog. Q3\",\n",
    "        (\"C(max_prog_q, Treatment(reference='<25'))[T.<100]\", \"C(nprog50_q, Treatment(reference='<25'))[T.<100]\"): \"Prog. Q4\",\n",
    "        \"age\": \"Age\",\n",
    "        \"outdeg\": \"Outdegree\",\n",
    "        \"bows\": \"BoWs\",\n",
    "        \"ntokens\": \"Length\",\n",
    "        \"nauthors\": \"No. of Authors\",\n",
    "        (\"max_prog\", \"nprog50\"): \"Prog.\"\n",
    "    }\n",
    "\n",
    "    if type (coeff) == tuple:\n",
    "        c1, c2 = coeff\n",
    "        cols = [\" \"\n",
    "                if c1 not in model_result.model.exog_names and c2 not in model_result.model.exog_names\n",
    "                else get_latex_coeff_pair_table_string(c1, c2, model_result)\n",
    "                for model_result in model_results]\n",
    "    else:\n",
    "        cols = [\" \" \n",
    "                if coeff not in model_result.model.exog_names \n",
    "                else get_latex_coeff_table_string (coeff, model_result) \n",
    "                for model_result in model_results]\n",
    "    return \"&\".join ([goodnames[coeff]] + cols) + \"\\\\\\\\\"\n",
    "\n",
    "def get_latex_stderror_string (model_results, coeff):\n",
    "    def get_latex_coeff_stderror_string (c, model_result):\n",
    "        return \"({0:.3f})\".format(round(model_result.bse[model_result.model.exog_names.index(c)], 3))\n",
    "    \n",
    "    def get_latex_coeff_pair_stderror_string(c1, c2, model_result):\n",
    "        if c1 in model_result.model.exog_names:\n",
    "            return get_latex_coeff_stderror_string (c1, model_result)\n",
    "        else:\n",
    "            return get_latex_coeff_stderror_string (c2, model_result)\n",
    "        \n",
    "    goodnames = {\n",
    "        \"Intercept\": \"Constant\",\n",
    "        (\"C(max_prog_q, Treatment(reference='<25'))[T.<50]\", \"C(nprog50_q, Treatment(reference='<25'))[T.<50]\"): \"Prog. Q2\",\n",
    "        (\"C(max_prog_q, Treatment(reference='<25'))[T.<75]\", \"C(nprog50_q, Treatment(reference='<25'))[T.<75]\"): \"Prog. Q3\",\n",
    "        (\"C(max_prog_q, Treatment(reference='<25'))[T.<100]\", \"C(nprog50_q, Treatment(reference='<25'))[T.<100]\"): \"Prog. Q4\",\n",
    "        \"age\": \"Age\",\n",
    "        \"outdeg\": \"Outdegree\",\n",
    "        \"bows\": \"BoWs\",\n",
    "        \"ntokens\": \"Length\",\n",
    "        \"nauthors\": \"No. of Authors\",\n",
    "        (\"max_prog\", \"nprog50\"): \"Prog.\"\n",
    "    }\n",
    "    \n",
    "    if type (coeff) == tuple:\n",
    "        c1, c2 = coeff\n",
    "        cols = [\" \"\n",
    "                if c1 not in model_result.model.exog_names and c2 not in model_result.model.exog_names\n",
    "                else get_latex_coeff_pair_stderror_string(c1, c2, model_result)\n",
    "                for model_result in model_results]\n",
    "    else:\n",
    "        cols = [\" \" \n",
    "                if coeff not in model_result.model.exog_names \n",
    "                else get_latex_coeff_stderror_string (coeff, model_result)\n",
    "                #else \"({0:.3f})\".format(round(model_result.bse[model_result.model.exog_names.index(coeff)], 3)) \n",
    "                for model_result in model_results]\n",
    "    \n",
    "    #cols = list (map (lambda x:\"({0})\".format (x), cols))\n",
    "    \n",
    "    return \"&\".join ([\" \"] + cols) + \"\\\\\\\\[4pt]\"\n",
    "\n",
    "def get_latex_ll_string (model_results):\n",
    "    cols = [\"{0}\".format(str(int(round(model_result.llf)))) for model_result in model_results]\n",
    "    return \"&\".join ([\"Log Lik.\"] + cols) "
   ]
  },
  {
   "cell_type": "code",
   "execution_count": 125,
   "metadata": {},
   "outputs": [],
   "source": [
    "def results_to_latex(model_results, coeffs_order, header_format=\"lrrrrr\"):\n",
    "    # header part\n",
    "    #print (\"\\\\begin{tabular}{{0}}\".format (header_format))\n",
    "    print (\"\\\\begin{tabular}\" + \"{\" + \"{0}\".format (header_format) + \"}\")\n",
    "    print (\"\\\\toprule\\n\")\n",
    "    print (\"& & Models & & & \\\\\\\\\\n\")\n",
    "    print (\"\\midrule\\n\")\n",
    "    print (\"Predictors & M1 & M2 & M3 & M4 & M5\\\\\\\\\\n\")\n",
    "    print (\" & & \\\\textsc{max-innov} & \\\\textsc{max-innov} & \\\\textsc{num-innovs} & \\\\textsc{num-innovs}\\\\\\\\\\n\")\n",
    "    print (\"\\\\toprule\\n\")\n",
    "    # core part\n",
    "    \n",
    "    for coeff in coeffs_order:\n",
    "        print (get_latex_table_string(model_results, coeff))\n",
    "        print (get_latex_stderror_string (model_results, coeff))\n",
    "    \n",
    "    print (get_latex_ll_string (model_results))    \n",
    "    print (\"\\\\\\\\\")\n",
    "    print (\"\\\\bottomrule\\n\")\n",
    "    print (\"\\\\end{tabular}\\n\")"
   ]
  },
  {
   "cell_type": "code",
   "execution_count": 128,
   "metadata": {},
   "outputs": [
    {
     "name": "stdout",
     "output_type": "stream",
     "text": [
      "\\begin{tabular}{lp{1.1cm}p{1.1cm}p{1.1cm}p{1.1cm}p{1.1cm}}\n",
      "\\toprule\n",
      "\n",
      "& & Models & & & \\\\\n",
      "\n",
      "\\midrule\n",
      "\n",
      "Predictors & M1 & M2 & M3 & M4 & M5\\\\\n",
      "\n",
      " & & \\textsc{max-innov} & \\textsc{max-innov} & \\textsc{num-innovs} & \\textsc{num-innovs}\\\\\n",
      "\n",
      "\\toprule\n",
      "\n",
      "Constant&1.612&1.597&0.946&1.515&0.963\\\\\n",
      " &(0.003)&(0.003)&(0.007)&(0.004)&(0.007)\\\\[4pt]\n",
      "Outdegree&0.019&0.020&0.019&0.020&0.019\\\\\n",
      " &(0.000)&(0.000)&(0.000)&(0.000)&(0.000)\\\\[4pt]\n",
      "Age&0.011&0.011&0.016&0.012&0.017\\\\\n",
      " &(0.000)&(0.000)&(0.000)&(0.000)&(0.000)\\\\[4pt]\n",
      "Length&0.000&0.000&0.000&0.000&0.000\\\\\n",
      " &(0.000)&(0.000)&(0.000)&(0.000)&(0.000)\\\\[4pt]\n",
      "BoWs&0.000&0.000&0.000&0.000&0.000\\\\\n",
      " &(0.000)&(0.000)&(0.000)&(0.000)&(0.000)\\\\[4pt]\n",
      "Prog.& &0.001& &0.051& \\\\\n",
      " & &(0.000)& &(0.001)& \\\\[4pt]\n",
      "Prog. Q2& & &0.545& &0.577\\\\\n",
      " & & &(0.006)& &(0.006)\\\\[4pt]\n",
      "Prog. Q3& & &0.675& &0.615\\\\\n",
      " & & &(0.007)& &(0.007)\\\\[4pt]\n",
      "Prog. Q4& & &0.806& &0.745\\\\\n",
      " & & &(0.007)& &(0.008)\\\\[4pt]\n",
      "Log Lik.&-429096&-428527&-422037&-427724&-423474\n",
      "\\\\\n",
      "\\bottomrule\n",
      "\n",
      "\\end{tabular}\n",
      "\n"
     ]
    }
   ],
   "source": [
    "#lp{1.1cm}p{1.1cm}p{1.1cm}p{1.1cm}p{1.1cm}\n",
    "results_to_latex (results_ops,\n",
    "           [\"Intercept\", \"outdeg\", \"age\", \"ntokens\", \"bows\", \n",
    "            (\"max_prog\", \"nprog50\"), \n",
    "            (\"C(max_prog_q, Treatment(reference='<25'))[T.<50]\", \"C(nprog50_q, Treatment(reference='<25'))[T.<50]\"), \n",
    "            (\"C(max_prog_q, Treatment(reference='<25'))[T.<75]\", \"C(nprog50_q, Treatment(reference='<25'))[T.<75]\"), \n",
    "            (\"C(max_prog_q, Treatment(reference='<25'))[T.<100]\", \"C(nprog50_q, Treatment(reference='<25'))[T.<100]\")],\n",
    "            header_format=\"lp{1.1cm}p{1.1cm}p{1.1cm}p{1.1cm}p{1.1cm}\"\n",
    "            )"
   ]
  },
  {
   "cell_type": "code",
   "execution_count": 129,
   "metadata": {},
   "outputs": [
    {
     "name": "stdout",
     "output_type": "stream",
     "text": [
      "\\begin{tabular}{lrrrrr}\n",
      "\\toprule\n",
      "\n",
      "& & Models & & & \\\\\n",
      "\n",
      "\\midrule\n",
      "\n",
      "Predictors & M1 & M2 & M3 & M4 & M5\\\\\n",
      "\n",
      " & & \\textsc{max-innov} & \\textsc{max-innov} & \\textsc{num-innovs} & \\textsc{num-innovs}\\\\\n",
      "\n",
      "\\toprule\n",
      "\n",
      "Constant&2.078&2.038&1.959&2.011&2.008\\\\\n",
      " &(0.001)&(0.001)&(0.001)&(0.001)&(0.001)\\\\[4pt]\n",
      "Outdegree&0.010&0.010&0.010&0.010&0.010\\\\\n",
      " &(0.000)&(0.000)&(0.000)&(0.000)&(0.000)\\\\[4pt]\n",
      "No. of Authors&0.024&0.024&0.024&0.024&0.024\\\\\n",
      " &(0.000)&(0.000)&(0.000)&(0.000)&(0.000)\\\\[4pt]\n",
      "Age&0.074&0.076&0.078&0.077&0.076\\\\\n",
      " &(0.000)&(0.000)&(0.000)&(0.000)&(0.000)\\\\[4pt]\n",
      "Length&0.002&0.002&0.002&0.002&0.002\\\\\n",
      " &(0.000)&(0.000)&(0.000)&(0.000)&(0.000)\\\\[4pt]\n",
      "BoWs&0.000&0.000&0.000&0.000&0.000\\\\\n",
      " &(0.000)&(0.000)&(0.000)&(0.000)&(0.000)\\\\[4pt]\n",
      "Prog.& &0.012& &0.049& \\\\\n",
      " & &(0.000)& &(0.000)& \\\\[4pt]\n",
      "Prog. Q2& & &0.085& &0.105\\\\\n",
      " & & &(0.001)& &(0.001)\\\\[4pt]\n",
      "Prog. Q3& & &0.145& &0.045\\\\\n",
      " & & &(0.001)& &(0.001)\\\\[4pt]\n",
      "Prog. Q4& & &0.246& &0.137\\\\\n",
      " & & &(0.001)& &(0.001)\\\\[4pt]\n",
      "Log Lik.&-12922614&-12897492&-12896647&-12890659&-12912023\n",
      "\\\\\n",
      "\\bottomrule\n",
      "\n",
      "\\end{tabular}\n",
      "\n"
     ]
    }
   ],
   "source": [
    "results_to_latex (results_dblp,\n",
    "           [\"Intercept\", \"outdeg\", \"nauthors\", \"age\", \"ntokens\", \"bows\", \n",
    "            (\"max_prog\", \"nprog50\"), \n",
    "            (\"C(max_prog_q, Treatment(reference='<25'))[T.<50]\", \"C(nprog50_q, Treatment(reference='<25'))[T.<50]\"), \n",
    "            (\"C(max_prog_q, Treatment(reference='<25'))[T.<75]\", \"C(nprog50_q, Treatment(reference='<25'))[T.<75]\"), \n",
    "            (\"C(max_prog_q, Treatment(reference='<25'))[T.<100]\", \"C(nprog50_q, Treatment(reference='<25'))[T.<100]\")]\n",
    "            )"
   ]
  },
  {
   "cell_type": "code",
   "execution_count": 98,
   "metadata": {},
   "outputs": [
    {
     "name": "stdout",
     "output_type": "stream",
     "text": [
      "\\begin{tabular}{lrrrrr}\n",
      "\\toprule\n",
      "\n",
      "& & Models & & & \\\\\n",
      "\n",
      "\\midrule\n",
      "\n",
      "Predictors & M1 & M2 & M3 & M4 & M5\\\\\n",
      "\n",
      "\\toprule\n",
      "\n",
      "Constant&2.0784&2.0375&1.9593&2.0115&2.0082\\\\\n",
      " &(0.0009)&(0.0010)&(0.0011)&(0.0010)&(0.0011)\\\\[4pt]\n",
      "Outdegree&0.0104&0.0104&0.0104&0.0104&0.0104\\\\\n",
      " &(0.0000)&(0.0000)&(0.0000)&(0.0000)&(0.0000)\\\\[4pt]\n",
      "No. of Authors&0.0237&0.0237&0.0235&0.0237&0.0235\\\\\n",
      " &(0.0000)&(0.0000)&(0.0000)&(0.0000)&(0.0000)\\\\[4pt]\n",
      "Age&0.0745&0.0765&0.0776&0.0774&0.0760\\\\\n",
      " &(0.0000)&(0.0000)&(0.0000)&(0.0000)&(0.0000)\\\\[4pt]\n",
      "Length&0.0021&0.0019&0.0019&0.0017&0.0020\\\\\n",
      " &(0.0000)&(0.0000)&(0.0000)&(0.0000)&(0.0000)\\\\[4pt]\n",
      "BoWs&0.0001&0.0001&0.0001&0.0001&0.0001\\\\\n",
      " &(0.0000)&(0.0000)&(0.0000)&(0.0000)&(0.0000)\\\\[4pt]\n",
      "Progressiveness& &0.0119& & & \\\\\n",
      " & &(0.0000)& & & \\\\[4pt]\n",
      "Prog. Q2& & &0.0852& & \\\\\n",
      " & & &(0.0009)& & \\\\[4pt]\n",
      "Prog. Q3& & &0.1446& & \\\\\n",
      " & & &(0.0010)& & \\\\[4pt]\n",
      "Prog. Q4& & &0.2456& & \\\\\n",
      " & & &(0.0011)& & \\\\[4pt]\n",
      "Log Likelihood&-12922614&-12897492&-12896647&-12890659&-12912023\n",
      "\\\\\n",
      "\\bottomrule\n",
      "\n",
      "\\end{tabular}\n",
      "\n"
     ]
    }
   ],
   "source": [
    "results_to_latex (results_dblp,\n",
    "           [\"Intercept\", \"outdeg\", \"nauthors\", \"age\", \"ntokens\", \"bows\", \"max_prog\", \"C(max_prog_q, Treatment(reference='<25'))[T.<50]\", \"C(max_prog_q, Treatment(reference='<25'))[T.<75]\", \"C(max_prog_q, Treatment(reference='<25'))[T.<100]\"])"
   ]
  }
 ],
 "metadata": {
  "kernelspec": {
   "display_name": "Python 3",
   "language": "python",
   "name": "python3"
  },
  "language_info": {
   "codemirror_mode": {
    "name": "ipython",
    "version": 3
   },
   "file_extension": ".py",
   "mimetype": "text/x-python",
   "name": "python",
   "nbconvert_exporter": "python",
   "pygments_lexer": "ipython3",
   "version": "3.6.5"
  }
 },
 "nbformat": 4,
 "nbformat_minor": 2
}
