{
 "cells": [
  {
   "cell_type": "code",
   "execution_count": 158,
   "metadata": {},
   "outputs": [],
   "source": [
    "import os\n",
    "import numpy as np\n",
    "import statsmodels.api as sm\n",
    "import statsmodels.formula.api as smf\n",
    "import pandas as pd\n",
    "import re\n",
    "from collections import Counter"
   ]
  },
  {
   "cell_type": "code",
   "execution_count": 146,
   "metadata": {},
   "outputs": [],
   "source": [
    "from sklearn.feature_extraction.text import CountVectorizer\n",
    "from sklearn.feature_extraction.text import HashingVectorizer\n",
    "from sklearn.linear_model import LinearRegression"
   ]
  },
  {
   "cell_type": "code",
   "execution_count": 2,
   "metadata": {},
   "outputs": [],
   "source": [
    "import matplotlib.pyplot as plt\n",
    "import seaborn as sns\n",
    "%matplotlib inline"
   ]
  },
  {
   "cell_type": "code",
   "execution_count": 216,
   "metadata": {},
   "outputs": [],
   "source": [
    "STATS_DIR = \"/hg191/corpora/academic-data/semantic-scholar/stats/\"\n",
    "CURRENT_YEAR = 2018\n",
    "N=50000"
   ]
  },
  {
   "cell_type": "code",
   "execution_count": 10,
   "metadata": {},
   "outputs": [
    {
     "name": "stdout",
     "output_type": "stream",
     "text": [
      "abs.2M.early.docs  abs.docs  abs.ind\t   abs.npages\tabs.nuniqs  abs.years\r\n",
      "abs.2M.later.docs  abs.ids   abs.nauthors  abs.ntokens\tabs.outd\r\n"
     ]
    }
   ],
   "source": [
    "! ls $STATS_DIR"
   ]
  },
  {
   "cell_type": "code",
   "execution_count": 7,
   "metadata": {},
   "outputs": [],
   "source": [
    "with open (os.path.join (STATS_DIR, \"abs.ids\")) as fin:\n",
    "    ids = {line.strip(): i for i, line in enumerate (fin)}\n",
    "iids = {value: key for key, value in ids.items()}"
   ]
  },
  {
   "cell_type": "code",
   "execution_count": 38,
   "metadata": {},
   "outputs": [],
   "source": [
    "indices = np.random.choice(len(ids), N, replace=False)"
   ]
  },
  {
   "cell_type": "code",
   "execution_count": 136,
   "metadata": {},
   "outputs": [],
   "source": [
    "def partsNotNumeric (parts):\n",
    "    return any([any([c.isalpha() for c in part]) for part in parts])"
   ]
  },
  {
   "cell_type": "code",
   "execution_count": 137,
   "metadata": {},
   "outputs": [],
   "source": [
    "def doBestNonNumericExtraction (parts):\n",
    "    parts = [''.join(c for c in part if c.isdigit()) for part in parts]\n",
    "    return doBestNumericExtraction (parts)"
   ]
  },
  {
   "cell_type": "code",
   "execution_count": 138,
   "metadata": {},
   "outputs": [],
   "source": [
    "def doBestNumericExtraction (parts): \n",
    "    if len (parts[0]) <= len (parts[1]) and \":\" not in parts[0]:\n",
    "        return int(float(parts[1]) - float (parts[0]) + 1)\n",
    "    elif \":\" in parts[0]:\n",
    "        return int(float(parts[1].split(\":\")[1]) - float (parts[0].split(\":\")[1]) + 1)\n",
    "    else: \n",
    "        return int (float (parts[0][0:len(parts[0])-len (parts[1])]+parts[1]) - float (parts[0]) + 1)"
   ]
  },
  {
   "cell_type": "code",
   "execution_count": 139,
   "metadata": {},
   "outputs": [],
   "source": [
    "def npages_fromstring(string):\n",
    "    DEFAULT_PAGES = 1\n",
    "    try:\n",
    "        if len(string.strip()) == 0:\n",
    "            return DEFAULT_PAGES \n",
    "        # remove extraneous information\n",
    "        if \",\" in string:\n",
    "            string = string.strip().split(\",\")[0]\n",
    "        if \";\" in string:\n",
    "            string = string.strip().split(\";\")[0]\n",
    "\n",
    "        # if only one page number is provided\n",
    "        if len(string.strip().split(\"-\")) == 1:\n",
    "            return DEFAULT_PAGES\n",
    "        # if range is specified\n",
    "        elif len (string.strip().split(\"-\")) == 2:\n",
    "            parts = list (map(lambda x:x.strip(), string.strip().split (\"-\")))\n",
    "            # end limit of range not specified\n",
    "            if len(parts[1]) == 0:\n",
    "                return DEFAULT_PAGES\n",
    "            #parts = [''.join(c for c in part if c.isdigit()) for part in parts]\n",
    "            if partsNotNumeric (parts):\n",
    "                return doBestNonNumericExtraction (parts)\n",
    "            else:\n",
    "                return doBestNumericExtraction (parts)                \n",
    "        else:\n",
    "            return DEFAULT_PAGES\n",
    "    except Exception:\n",
    "        #print (\"Exception\", string)\n",
    "        return DEFAULT_PAGES"
   ]
  },
  {
   "cell_type": "code",
   "execution_count": 11,
   "metadata": {},
   "outputs": [],
   "source": [
    "# read the outdegrees feature\n",
    "with open (os.path.join (STATS_DIR, \"abs.outd\")) as fin:\n",
    "    outd = dict ()\n",
    "    for line in fin:\n",
    "        parts = line.strip().split (\",\")\n",
    "        outd[ids[parts[0]]] = int(parts[1])\n",
    "        \n",
    "# read the years feature\n",
    "with open (os.path.join (STATS_DIR, \"abs.years\")) as fin:\n",
    "    years = dict ()\n",
    "    for line in fin:\n",
    "        parts = line.strip().split(\",\")\n",
    "        years[ids[parts[0]]] = int (parts[1])"
   ]
  },
  {
   "cell_type": "code",
   "execution_count": 13,
   "metadata": {},
   "outputs": [],
   "source": [
    "# read the abstract length feature\n",
    "with open (os.path.join (STATS_DIR, \"abs.nuniqs\")) as fin:\n",
    "    nuniqs = dict ()\n",
    "    for line in fin:\n",
    "        parts = line.strip().split (\",\")\n",
    "        nuniqs[ids[parts[0]]] = int (parts[1])\n",
    "\n",
    "# read the number of authors feature\n",
    "with open (os.path.join (STATS_DIR, \"abs.nauthors\")) as fin:\n",
    "    nauthors = dict ()\n",
    "    for line in fin:\n",
    "        parts = line.strip().split(\",\")\n",
    "        nauthors[ids[parts[0]]] = int (parts[1])\n",
    "\n",
    "# read the indegree dependent variable\n",
    "with open (os.path.join (STATS_DIR, \"abs.ind\")) as fin:\n",
    "    ind = dict ()\n",
    "    for line in fin:\n",
    "        parts = line.strip().split(\",\")\n",
    "        ind[ids[parts[0]]] = int (parts[1])"
   ]
  },
  {
   "cell_type": "code",
   "execution_count": 140,
   "metadata": {},
   "outputs": [],
   "source": [
    "def my_clip(num, min_val, max_val):\n",
    "    if num < min_val:\n",
    "        return min_val\n",
    "    elif num > max_val:\n",
    "        return max_val\n",
    "    else:\n",
    "        return num"
   ]
  },
  {
   "cell_type": "code",
   "execution_count": 142,
   "metadata": {},
   "outputs": [
    {
     "name": "stdout",
     "output_type": "stream",
     "text": [
      "Lines processed: 0\n",
      "Lines processed: 1000000\n",
      "Lines processed: 2000000\n",
      "Lines processed: 3000000\n",
      "Lines processed: 4000000\n",
      "Lines processed: 5000000\n",
      "Lines processed: 6000000\n",
      "Lines processed: 7000000\n",
      "Lines processed: 8000000\n",
      "Lines processed: 9000000\n",
      "Lines processed: 10000000\n",
      "Lines processed: 11000000\n",
      "Lines processed: 12000000\n",
      "Lines processed: 13000000\n",
      "Lines processed: 14000000\n",
      "Lines processed: 15000000\n",
      "Lines processed: 16000000\n",
      "Lines processed: 17000000\n",
      "Lines processed: 18000000\n",
      "Lines processed: 19000000\n",
      "Lines processed: 20000000\n",
      "Lines processed: 21000000\n",
      "Lines processed: 22000000\n",
      "Lines processed: 23000000\n",
      "Lines processed: 24000000\n",
      "Lines processed: 25000000\n",
      "Lines processed: 26000000\n",
      "Lines processed: 27000000\n"
     ]
    }
   ],
   "source": [
    "# read the document length feature\n",
    "with open (os.path.join (STATS_DIR, \"abs.npages\")) as fin:\n",
    "    npages = dict ()\n",
    "    for i, line in enumerate(fin):\n",
    "        parts = line.strip().split(\",\")\n",
    "        pages_estimate = npages_fromstring(parts[1])\n",
    "        npages[ids[parts[0]]] = my_clip(pages_estimate, 1, 50)\n",
    "        if i % 1000000 == 0:\n",
    "            print (\"Lines processed: {0}\".format (i))"
   ]
  },
  {
   "cell_type": "markdown",
   "metadata": {},
   "source": [
    "**1. Dependent variable**"
   ]
  },
  {
   "cell_type": "code",
   "execution_count": 163,
   "metadata": {},
   "outputs": [],
   "source": [
    "y = np.array ([ind[index] for index in indices])"
   ]
  },
  {
   "cell_type": "markdown",
   "metadata": {},
   "source": [
    "**2. Independent variables**"
   ]
  },
  {
   "cell_type": "markdown",
   "metadata": {},
   "source": [
    "(a) Outdegree model"
   ]
  },
  {
   "cell_type": "code",
   "execution_count": 40,
   "metadata": {},
   "outputs": [],
   "source": [
    "X_outd = np.array ([outd[index] for index in indices])\n",
    "X = sm.add_constant (X_outd)"
   ]
  },
  {
   "cell_type": "code",
   "execution_count": 41,
   "metadata": {},
   "outputs": [
    {
     "name": "stdout",
     "output_type": "stream",
     "text": [
      "                 Generalized Linear Model Regression Results                  \n",
      "==============================================================================\n",
      "Dep. Variable:                      y   No. Observations:                50000\n",
      "Model:                            GLM   Df Residuals:                    49998\n",
      "Model Family:        NegativeBinomial   Df Model:                            1\n",
      "Link Function:                    log   Scale:                          1.0000\n",
      "Method:                          IRLS   Log-Likelihood:            -1.5781e+05\n",
      "Date:                Tue, 20 Nov 2018   Deviance:                   1.3736e+05\n",
      "Time:                        21:07:01   Pearson chi2:                 1.39e+06\n",
      "No. Iterations:                    13   Covariance Type:             nonrobust\n",
      "==============================================================================\n",
      "                 coef    std err          z      P>|z|      [0.025      0.975]\n",
      "------------------------------------------------------------------------------\n",
      "const          1.9522      0.005    370.340      0.000       1.942       1.963\n",
      "x1             0.0165      0.000     65.288      0.000       0.016       0.017\n",
      "==============================================================================\n"
     ]
    }
   ],
   "source": [
    "#results = sm.OLS(y, X).fit()\n",
    "results = sm.GLM(y,X,family=sm.families.NegativeBinomial()).fit()\n",
    "print(results.summary())"
   ]
  },
  {
   "cell_type": "markdown",
   "metadata": {},
   "source": [
    "(b) +age"
   ]
  },
  {
   "cell_type": "code",
   "execution_count": 42,
   "metadata": {},
   "outputs": [],
   "source": [
    "X_age = np.array ([CURRENT_YEAR - years[index] for index in indices])\n",
    "X = np.array([X_outd, X_age]).T\n",
    "X = sm.add_constant(X)"
   ]
  },
  {
   "cell_type": "code",
   "execution_count": 43,
   "metadata": {},
   "outputs": [
    {
     "name": "stdout",
     "output_type": "stream",
     "text": [
      "                 Generalized Linear Model Regression Results                  \n",
      "==============================================================================\n",
      "Dep. Variable:                      y   No. Observations:                50000\n",
      "Model:                            GLM   Df Residuals:                    49997\n",
      "Model Family:        NegativeBinomial   Df Model:                            2\n",
      "Link Function:                    log   Scale:                          1.0000\n",
      "Method:                          IRLS   Log-Likelihood:            -1.5495e+05\n",
      "Date:                Tue, 20 Nov 2018   Deviance:                   1.3166e+05\n",
      "Time:                        21:07:14   Pearson chi2:                 1.18e+06\n",
      "No. Iterations:                    17   Covariance Type:             nonrobust\n",
      "==============================================================================\n",
      "                 coef    std err          z      P>|z|      [0.025      0.975]\n",
      "------------------------------------------------------------------------------\n",
      "const          1.2498      0.008    147.773      0.000       1.233       1.266\n",
      "x1             0.0223      0.000     85.654      0.000       0.022       0.023\n",
      "x2             0.0452      0.000    101.374      0.000       0.044       0.046\n",
      "==============================================================================\n"
     ]
    }
   ],
   "source": [
    "results = sm.GLM(y,X,family=sm.families.NegativeBinomial()).fit()\n",
    "print(results.summary())"
   ]
  },
  {
   "cell_type": "markdown",
   "metadata": {},
   "source": [
    "(c) + Age^2"
   ]
  },
  {
   "cell_type": "code",
   "execution_count": 44,
   "metadata": {},
   "outputs": [],
   "source": [
    "X_age2 = np.array ([(CURRENT_YEAR - years[index]) ** 2 for index in indices])\n",
    "X = np.array([X_outd, X_age, X_age2]).T\n",
    "X = sm.add_constant(X)"
   ]
  },
  {
   "cell_type": "code",
   "execution_count": 45,
   "metadata": {},
   "outputs": [
    {
     "name": "stdout",
     "output_type": "stream",
     "text": [
      "                 Generalized Linear Model Regression Results                  \n",
      "==============================================================================\n",
      "Dep. Variable:                      y   No. Observations:                50000\n",
      "Model:                            GLM   Df Residuals:                    49996\n",
      "Model Family:        NegativeBinomial   Df Model:                            3\n",
      "Link Function:                    log   Scale:                          1.0000\n",
      "Method:                          IRLS   Log-Likelihood:            -1.4959e+05\n",
      "Date:                Tue, 20 Nov 2018   Deviance:                   1.2094e+05\n",
      "Time:                        21:07:35   Pearson chi2:                 1.37e+06\n",
      "No. Iterations:                    42   Covariance Type:             nonrobust\n",
      "==============================================================================\n",
      "                 coef    std err          z      P>|z|      [0.025      0.975]\n",
      "------------------------------------------------------------------------------\n",
      "const          0.3291      0.012     26.945      0.000       0.305       0.353\n",
      "x1             0.0248      0.000     93.789      0.000       0.024       0.025\n",
      "x2             0.1733      0.001    121.040      0.000       0.170       0.176\n",
      "x3            -0.0031   3.47e-05    -90.512      0.000      -0.003      -0.003\n",
      "==============================================================================\n"
     ]
    }
   ],
   "source": [
    "results = sm.GLM(y,X,family=sm.families.NegativeBinomial()).fit()\n",
    "print(results.summary())"
   ]
  },
  {
   "cell_type": "markdown",
   "metadata": {},
   "source": [
    "(d) abstract length"
   ]
  },
  {
   "cell_type": "code",
   "execution_count": 46,
   "metadata": {},
   "outputs": [],
   "source": [
    "X_nuniqs = np.array ([nuniqs[index] for index in indices])\n",
    "X = np.array([X_outd, X_age, X_age2, X_nuniqs]).T\n",
    "X = sm.add_constant(X)"
   ]
  },
  {
   "cell_type": "code",
   "execution_count": 47,
   "metadata": {},
   "outputs": [
    {
     "name": "stdout",
     "output_type": "stream",
     "text": [
      "                 Generalized Linear Model Regression Results                  \n",
      "==============================================================================\n",
      "Dep. Variable:                      y   No. Observations:                50000\n",
      "Model:                            GLM   Df Residuals:                    49995\n",
      "Model Family:        NegativeBinomial   Df Model:                            4\n",
      "Link Function:                    log   Scale:                          1.0000\n",
      "Method:                          IRLS   Log-Likelihood:            -1.4903e+05\n",
      "Date:                Tue, 20 Nov 2018   Deviance:                   1.1980e+05\n",
      "Time:                        21:07:56   Pearson chi2:                 1.30e+06\n",
      "No. Iterations:                    45   Covariance Type:             nonrobust\n",
      "==============================================================================\n",
      "                 coef    std err          z      P>|z|      [0.025      0.975]\n",
      "------------------------------------------------------------------------------\n",
      "const         -0.1672      0.016    -10.397      0.000      -0.199      -0.136\n",
      "x1             0.0242      0.000     91.379      0.000       0.024       0.025\n",
      "x2             0.1762      0.001    122.606      0.000       0.173       0.179\n",
      "x3            -0.0032   3.48e-05    -90.966      0.000      -0.003      -0.003\n",
      "x4             0.0041   8.62e-05     46.990      0.000       0.004       0.004\n",
      "==============================================================================\n"
     ]
    }
   ],
   "source": [
    "results = sm.GLM(y,X,family=sm.families.NegativeBinomial()).fit()\n",
    "print(results.summary())"
   ]
  },
  {
   "cell_type": "markdown",
   "metadata": {},
   "source": [
    "(e) nauthors"
   ]
  },
  {
   "cell_type": "code",
   "execution_count": 48,
   "metadata": {},
   "outputs": [],
   "source": [
    "X_nauthors = np.array ([nauthors[index] for index in indices])\n",
    "X = np.array([X_outd, X_age, X_age2, X_nuniqs, X_nauthors]).T\n",
    "X = sm.add_constant(X)"
   ]
  },
  {
   "cell_type": "code",
   "execution_count": 49,
   "metadata": {},
   "outputs": [
    {
     "name": "stdout",
     "output_type": "stream",
     "text": [
      "                 Generalized Linear Model Regression Results                  \n",
      "==============================================================================\n",
      "Dep. Variable:                      y   No. Observations:                50000\n",
      "Model:                            GLM   Df Residuals:                    49994\n",
      "Model Family:        NegativeBinomial   Df Model:                            5\n",
      "Link Function:                    log   Scale:                          1.0000\n",
      "Method:                          IRLS   Log-Likelihood:            -1.4844e+05\n",
      "Date:                Tue, 20 Nov 2018   Deviance:                   1.1863e+05\n",
      "Time:                        21:08:11   Pearson chi2:                 1.48e+06\n",
      "No. Iterations:                    48   Covariance Type:             nonrobust\n",
      "==============================================================================\n",
      "                 coef    std err          z      P>|z|      [0.025      0.975]\n",
      "------------------------------------------------------------------------------\n",
      "const         -0.3491      0.017    -20.954      0.000      -0.382      -0.316\n",
      "x1             0.0235      0.000     88.278      0.000       0.023       0.024\n",
      "x2             0.1806      0.001    125.272      0.000       0.178       0.183\n",
      "x3            -0.0032   3.49e-05    -91.664      0.000      -0.003      -0.003\n",
      "x4             0.0033   8.67e-05     38.413      0.000       0.003       0.004\n",
      "x5             0.0490      0.001     54.661      0.000       0.047       0.051\n",
      "==============================================================================\n"
     ]
    }
   ],
   "source": [
    "results = sm.GLM(y,X,family=sm.families.NegativeBinomial()).fit()\n",
    "print(results.summary())"
   ]
  },
  {
   "cell_type": "markdown",
   "metadata": {},
   "source": [
    "(f) npages"
   ]
  },
  {
   "cell_type": "code",
   "execution_count": 160,
   "metadata": {},
   "outputs": [],
   "source": [
    "X_npages = np.array ([npages[index] for index in indices])\n",
    "X = np.array ([X_outd, X_age, X_age2, X_nuniqs, X_nauthors, X_npages]).T\n",
    "X = sm.add_constant (X)"
   ]
  },
  {
   "cell_type": "code",
   "execution_count": 211,
   "metadata": {},
   "outputs": [
    {
     "name": "stdout",
     "output_type": "stream",
     "text": [
      "                 Generalized Linear Model Regression Results                  \n",
      "==============================================================================\n",
      "Dep. Variable:                      y   No. Observations:                50000\n",
      "Model:                            GLM   Df Residuals:                    49993\n",
      "Model Family:        NegativeBinomial   Df Model:                            6\n",
      "Link Function:                    log   Scale:                          1.0000\n",
      "Method:                          IRLS   Log-Likelihood:            -1.4641e+05\n",
      "Date:                Wed, 21 Nov 2018   Deviance:                   1.1458e+05\n",
      "Time:                        18:13:14   Pearson chi2:                 1.46e+06\n",
      "No. Iterations:                    47   Covariance Type:             nonrobust\n",
      "==============================================================================\n",
      "                 coef    std err          z      P>|z|      [0.025      0.975]\n",
      "------------------------------------------------------------------------------\n",
      "const         -0.6757      0.017    -38.641      0.000      -0.710      -0.641\n",
      "x1             0.0208      0.000     77.168      0.000       0.020       0.021\n",
      "x2             0.1835      0.001    124.640      0.000       0.181       0.186\n",
      "x3            -0.0033   3.59e-05    -93.057      0.000      -0.003      -0.003\n",
      "x4             0.0027   8.78e-05     31.160      0.000       0.003       0.003\n",
      "x5             0.0468      0.001     52.020      0.000       0.045       0.049\n",
      "x6             0.0555      0.001     72.691      0.000       0.054       0.057\n",
      "==============================================================================\n"
     ]
    }
   ],
   "source": [
    "results = sm.GLM(y,X,family=sm.families.NegativeBinomial()).fit()\n",
    "print(results.summary())"
   ]
  },
  {
   "cell_type": "code",
   "execution_count": 164,
   "metadata": {},
   "outputs": [
    {
     "name": "stdout",
     "output_type": "stream",
     "text": [
      "                 Generalized Linear Model Regression Results                  \n",
      "==============================================================================\n",
      "Dep. Variable:                      y   No. Observations:                50000\n",
      "Model:                            GLM   Df Residuals:                    49993\n",
      "Model Family:                 Poisson   Df Model:                            6\n",
      "Link Function:                    log   Scale:                          1.0000\n",
      "Method:                          IRLS   Log-Likelihood:            -6.5817e+05\n",
      "Date:                Wed, 21 Nov 2018   Deviance:                   1.2032e+06\n",
      "Time:                        17:36:06   Pearson chi2:                 1.93e+07\n",
      "No. Iterations:                    15   Covariance Type:             nonrobust\n",
      "==============================================================================\n",
      "                 coef    std err          z      P>|z|      [0.025      0.975]\n",
      "------------------------------------------------------------------------------\n",
      "const          0.1989      0.006     34.637      0.000       0.188       0.210\n",
      "x1             0.0106   3.73e-05    284.981      0.000       0.011       0.011\n",
      "x2             0.1849      0.001    309.964      0.000       0.184       0.186\n",
      "x3            -0.0041   1.59e-05   -260.099      0.000      -0.004      -0.004\n",
      "x4             0.0014   2.05e-05     66.336      0.000       0.001       0.001\n",
      "x5             0.0076   8.55e-05     88.305      0.000       0.007       0.008\n",
      "x6             0.0308      0.000    186.647      0.000       0.030       0.031\n",
      "==============================================================================\n"
     ]
    }
   ],
   "source": [
    "po_results = sm.GLM(y, X, family=sm.families.Poisson()).fit()\n",
    "print(po_results.summary())"
   ]
  },
  {
   "cell_type": "code",
   "execution_count": 187,
   "metadata": {},
   "outputs": [],
   "source": [
    "def estimate_overdispersion (orig_x, orig_y):\n",
    "    \"Calculates response observation for Cameron-Trivedi dispersion test\"\n",
    "    def ct_response (xx, yy):\n",
    "        return np.array([((yy[i] - xx[i])**2 - yy[i]) / xx[i] for i in range (len (xx))])\n",
    "    ct_results = sm.OLS (ct_response(orig_x, orig_y), orig_x).fit()\n",
    "    alpha_ci95 = ct_results.conf_int(0.05)\n",
    "    print('\\nC-T dispersion test: alpha = {:5.3f}, 95% CI = ({:5.3f}, {:5.3f})'\n",
    "        .format(ct_results.params[0], alpha_ci95[0,0], alpha_ci95[0,1]))\n",
    "    return ct_results.params[0]"
   ]
  },
  {
   "cell_type": "code",
   "execution_count": 188,
   "metadata": {},
   "outputs": [
    {
     "name": "stdout",
     "output_type": "stream",
     "text": [
      "\n",
      "C-T dispersion test: alpha = 10.153, 95% CI = (-12.095, 32.402)\n"
     ]
    }
   ],
   "source": [
    "overdispersion = estimate_overdispersion (po_results.mu, y)"
   ]
  },
  {
   "cell_type": "code",
   "execution_count": 192,
   "metadata": {},
   "outputs": [
    {
     "name": "stdout",
     "output_type": "stream",
     "text": [
      "                 Generalized Linear Model Regression Results                  \n",
      "==============================================================================\n",
      "Dep. Variable:                      y   No. Observations:                50000\n",
      "Model:                            GLM   Df Residuals:                    49993\n",
      "Model Family:        NegativeBinomial   Df Model:                            6\n",
      "Link Function:                    log   Scale:                          1.0000\n",
      "Method:                          IRLS   Log-Likelihood:            -1.4593e+05\n",
      "Date:                Wed, 21 Nov 2018   Deviance:                       19446.\n",
      "Time:                        18:00:01   Pearson chi2:                 1.71e+05\n",
      "No. Iterations:                   500   Covariance Type:             nonrobust\n",
      "==============================================================================\n",
      "                 coef    std err          z      P>|z|      [0.025      0.975]\n",
      "------------------------------------------------------------------------------\n",
      "const         -0.7588      0.049    -15.636      0.000      -0.854      -0.664\n",
      "x1             0.0220      0.001     26.616      0.000       0.020       0.024\n",
      "x2             0.1877      0.004     50.600      0.000       0.180       0.195\n",
      "x3            -0.0033   8.49e-05    -38.912      0.000      -0.003      -0.003\n",
      "x4             0.0028      0.000     10.824      0.000       0.002       0.003\n",
      "x5             0.0496      0.003     17.709      0.000       0.044       0.055\n",
      "x6             0.0559      0.002     23.962      0.000       0.051       0.060\n",
      "==============================================================================\n"
     ]
    }
   ],
   "source": [
    "results = sm.GLM(y,X,family=sm.families.NegativeBinomial(alpha=overdispersion)).fit(maxiter=500)\n",
    "print(results.summary())"
   ]
  },
  {
   "cell_type": "code",
   "execution_count": 208,
   "metadata": {},
   "outputs": [],
   "source": [
    "from sklearn.metrics import mean_squared_error, mean_squared_log_error, explained_variance_score, r2_score"
   ]
  },
  {
   "cell_type": "code",
   "execution_count": 212,
   "metadata": {},
   "outputs": [
    {
     "name": "stdout",
     "output_type": "stream",
     "text": [
      "2139.2139644433223\n",
      "2.0137926140715035\n",
      "-0.02300044269248902\n",
      "-0.0230004426924888\n"
     ]
    }
   ],
   "source": [
    "# Poission model\n",
    "print (mean_squared_error (y, po_results.fittedvalues))\n",
    "print (mean_squared_log_error (y, po_results.fittedvalues))\n",
    "print (explained_variance_score(y, po_results.fittedvalues))\n",
    "print (r2_score(y, po_results.fittedvalues))"
   ]
  },
  {
   "cell_type": "code",
   "execution_count": 214,
   "metadata": {},
   "outputs": [
    {
     "name": "stdout",
     "output_type": "stream",
     "text": [
      "4.650473886977446e+16\n",
      "1.9908983985650868\n",
      "-22237863070774.473\n",
      "-22239181887285.31\n"
     ]
    }
   ],
   "source": [
    "# Negative binomial\n",
    "print (mean_squared_error (y, results.fittedvalues))\n",
    "print (mean_squared_log_error (y, results.fittedvalues))\n",
    "print (explained_variance_score(y, results.fittedvalues))\n",
    "print (r2_score(y, results.fittedvalues))"
   ]
  },
  {
   "cell_type": "code",
   "execution_count": 213,
   "metadata": {},
   "outputs": [
    {
     "name": "stdout",
     "output_type": "stream",
     "text": [
      "4.650473886977446e+16\n",
      "1.9908983985650868\n",
      "-22237863070774.473\n",
      "-22239181887285.31\n"
     ]
    }
   ],
   "source": [
    "# Negative binomial (after overdispersion correction)\n",
    "print (mean_squared_error (y, results.fittedvalues))\n",
    "print (mean_squared_log_error (y, results.fittedvalues))\n",
    "print (explained_variance_score(y, results.fittedvalues))\n",
    "print (r2_score(y, results.fittedvalues))"
   ]
  },
  {
   "cell_type": "markdown",
   "metadata": {},
   "source": [
    "(g) bow\n",
    "\n",
    "Fit an ordinary least squares model with bag of words as features to predict citation count."
   ]
  }
 ],
 "metadata": {
  "kernelspec": {
   "display_name": "Python 3",
   "language": "python",
   "name": "python3"
  },
  "language_info": {
   "codemirror_mode": {
    "name": "ipython",
    "version": 3
   },
   "file_extension": ".py",
   "mimetype": "text/x-python",
   "name": "python",
   "nbconvert_exporter": "python",
   "pygments_lexer": "ipython3",
   "version": "3.6.5"
  }
 },
 "nbformat": 4,
 "nbformat_minor": 2
}
