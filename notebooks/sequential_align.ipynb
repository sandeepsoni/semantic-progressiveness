{
 "cells": [
  {
   "cell_type": "markdown",
   "metadata": {},
   "source": [
    "We are given a sequential corpora i.e a sequence of document collections where the sequence is in a chronological order. This notebook demostrates how to use the orthogonal procrustes method to align the embedding models learned on each document collection separately."
   ]
  },
  {
   "cell_type": "code",
   "execution_count": 1,
   "metadata": {},
   "outputs": [],
   "source": [
    "import gensim\n",
    "import os\n",
    "import sys\n",
    "\n",
    "MOD_DIR = \"../modules\"\n",
    "\n",
    "if MOD_DIR not in sys.path: sys.path.append (MOD_DIR)\n",
    "\n",
    "from utils import seqitertools, w2vutils\n",
    "from semshift import embeddings, alignment\n",
    "\n",
    "from utils.w2vutils import EpochLogger"
   ]
  },
  {
   "cell_type": "code",
   "execution_count": 2,
   "metadata": {},
   "outputs": [],
   "source": [
    "DATA_DIR = \"/hg191/corpora/legaldata/sc-docs/\""
   ]
  },
  {
   "cell_type": "code",
   "execution_count": 3,
   "metadata": {},
   "outputs": [],
   "source": [
    "models = [embeddings.TrainedModel(filename) for filename in seqitertools.iter_files (DATA_DIR, \"*.model\")]"
   ]
  },
  {
   "cell_type": "code",
   "execution_count": 4,
   "metadata": {},
   "outputs": [],
   "source": [
    "def sequential_align (trainedmodels):\n",
    "    aligned_models = list ()\n",
    "    base_model = None\n",
    "    first_iter = True\n",
    "    for model in trainedmodels:\n",
    "        if first_iter:\n",
    "            aligned_model = model.m\n",
    "            first_iter = False\n",
    "        else:\n",
    "            aligned_model = alignment.smart_procrustes_align_gensim (base_model, model.m)\n",
    "        base_model = aligned_model\n",
    "        aligned_models.append (aligned_model)\n",
    "    return aligned_models"
   ]
  },
  {
   "cell_type": "code",
   "execution_count": 5,
   "metadata": {},
   "outputs": [],
   "source": [
    "aligned_models = sequential_align (models)"
   ]
  }
 ],
 "metadata": {
  "kernelspec": {
   "display_name": "Python 3",
   "language": "python",
   "name": "python3"
  },
  "language_info": {
   "codemirror_mode": {
    "name": "ipython",
    "version": 3
   },
   "file_extension": ".py",
   "mimetype": "text/x-python",
   "name": "python",
   "nbconvert_exporter": "python",
   "pygments_lexer": "ipython3",
   "version": "3.6.5"
  }
 },
 "nbformat": 4,
 "nbformat_minor": 2
}
