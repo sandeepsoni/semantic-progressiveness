{
 "cells": [
  {
   "cell_type": "code",
   "execution_count": 31,
   "metadata": {},
   "outputs": [],
   "source": [
    "import pandas as pd\n",
    "import numpy as np\n",
    "import matplotlib.pyplot as plt\n",
    "import seaborn as sns\n",
    "import statsmodels.api as sm\n",
    "import patsy\n",
    "from scipy.stats.distributions import chi2\n",
    "import datetime\n",
    "\n",
    "%matplotlib inline"
   ]
  },
  {
   "cell_type": "code",
   "execution_count": 33,
   "metadata": {},
   "outputs": [],
   "source": [
    "df_ops = pd.read_csv (\"../data/frames/emnlp/ops.final\", sep=\",\")\n",
    "df_dblp = pd.read_csv (\"../data/frames/emnlp/dblp.final\", sep=\",\")"
   ]
  },
  {
   "cell_type": "markdown",
   "metadata": {},
   "source": [
    "**Univariate plots**"
   ]
  },
  {
   "cell_type": "code",
   "execution_count": 34,
   "metadata": {},
   "outputs": [
    {
     "data": {
      "image/png": "[encoded data removed]",
      "text/plain": [
       "<Figure size 432x129.6 with 2 Axes>"
      ]
     },
     "metadata": {
      "needs_background": "light"
     },
     "output_type": "display_data"
    }
   ],
   "source": [
    "FROM=1980\n",
    "TO=2010\n",
    "\n",
    "#df_ops[\"logdeg\"] = np.log1p(df_ops[\"indeg\"])\n",
    "\n",
    "sns.set_context (\"paper\")\n",
    "fig,ax = plt.subplots (1,2, figsize=(6,1.8), sharey=False)\n",
    "sns.barplot (y=\"indeg\", x=\"max_progz_q\", \n",
    "             data=df_ops[(df_ops[\"year\"] > FROM) & (df_ops[\"year\"] <= TO)], \n",
    "             ax=ax[0], color='green',\n",
    "             order=[\"<25\", \"<50\", \"<75\", \"<100\"])\n",
    "ax[0].set_title (\"Legal opinions\")\n",
    "ax[0].set_ylabel (\"Number of citations\")\n",
    "ax[0].set_xlabel (\"Progressiveness\")\n",
    "ax[0].set_xticklabels ([\"Q1\", \"Q2\", \"Q3\", \"Q4\"])\n",
    "\n",
    "#df_dblp[\"logdeg\"] = np.log1p(df_dblp[\"indeg\"])\n",
    "sns.barplot (y=\"indeg\", x=\"max_progz_q\", \n",
    "             data=df_dblp[(df_dblp[\"year\"] > FROM) & (df_dblp[\"year\"] <= TO)], \n",
    "             ax=ax[1], color='brown',\n",
    "             order=[\"<25\", \"<50\", \"<75\", \"<100\"])\n",
    "ax[1].set_title (\"Scientific articles\")\n",
    "ax[1].set_ylabel (\"Number of citations\")\n",
    "ax[1].set_xlabel (\"Progressiveness\")\n",
    "ax[1].set_xticklabels ([\"Q1\", \"Q2\", \"Q3\", \"Q4\"])\n",
    "\n",
    "plt.subplots_adjust(wspace=.3)\n",
    "plt.axis('tight')\n",
    "plt.savefig('../figs/emnlp/cites-by-max-progressiveness.pdf', bbox_inches='tight')"
   ]
  },
  {
   "cell_type": "markdown",
   "metadata": {},
   "source": [
    "**Multivariate regressions**"
   ]
  },
  {
   "cell_type": "code",
   "execution_count": 35,
   "metadata": {},
   "outputs": [],
   "source": [
    "formulas_ops = [\"indeg ~ age + outdeg + ntokens + bows\"]\n",
    "\n",
    "formulas_ops.append (formulas_ops[0]+\" + ninnovs\")\n",
    "formulas_ops.append(formulas_ops[1]+\" + max_progz\") # y ~ C(Location, Treatment(reference='China'))\n",
    "formulas_ops.append(formulas_ops[1]+\" + C(max_progz_q, Treatment(reference='<25'))\")\n",
    "\n",
    "formulas_dblp = [\"indeg ~ age + outdeg + nauthors + ntokens + bows\"]\n",
    "formulas_dblp.append (formulas_dblp[0]+\" + ninnovs\")\n",
    "formulas_dblp.append(formulas_dblp[1]+\" + max_progz\")\n",
    "formulas_dblp.append(formulas_dblp[1]+\" + C(max_progz_q, Treatment(reference='<25'))\")"
   ]
  },
  {
   "cell_type": "code",
   "execution_count": 36,
   "metadata": {},
   "outputs": [],
   "source": [
    "def runAllRegressions (df, formulas):\n",
    "    results = list ()\n",
    "    for formula in formulas:\n",
    "        Y,X = patsy.dmatrices(formula,data=df)\n",
    "        results.append (sm.GLM(Y, X, family=sm.families.Poisson()).fit())\n",
    "    return results"
   ]
  },
  {
   "cell_type": "code",
   "execution_count": 37,
   "metadata": {},
   "outputs": [
    {
     "name": "stdout",
     "output_type": "stream",
     "text": [
      "[-415195.03073418705, -410601.43724993075, -406842.9623585906, -408030.80498237524]\n",
      "[-13066495.029199079, -13058904.498834884, -12928727.65162692, -12816015.371621614]\n"
     ]
    }
   ],
   "source": [
    "results_ops = runAllRegressions (df_ops, formulas_ops)\n",
    "lls_ops = [result.llf for result in results_ops]\n",
    "\n",
    "results_dblp = runAllRegressions (df_dblp, formulas_dblp)\n",
    "lls_dblp = [result.llf for result in results_dblp]\n",
    "\n",
    "print (lls_ops)\n",
    "print (lls_dblp)"
   ]
  },
  {
   "cell_type": "code",
   "execution_count": 38,
   "metadata": {},
   "outputs": [],
   "source": [
    "def goodness_of_fit_tests (lls, formulas):\n",
    "    for i,ll_0 in enumerate(lls):\n",
    "        for j,ll_1 in enumerate(lls[:i]):\n",
    "            chi2_score = ll_0-ll_1\n",
    "            dof = len(formulas[i].split(\"+\")) - len(formulas[j].split('+'))\n",
    "            if i == 3: dof += 2 #quartiles\n",
    "            print(i,j,f'\\\\chi^2_{dof} = {chi2_score:.2f}, p < {chi2.sf(chi2_score, dof):.3e}')"
   ]
  },
  {
   "cell_type": "code",
   "execution_count": 39,
   "metadata": {},
   "outputs": [
    {
     "name": "stdout",
     "output_type": "stream",
     "text": [
      "1 0 \\chi^2_1 = 4593.59, p < 0.000e+00\n",
      "2 0 \\chi^2_2 = 8352.07, p < 0.000e+00\n",
      "2 1 \\chi^2_1 = 3758.47, p < 0.000e+00\n",
      "3 0 \\chi^2_4 = 7164.23, p < 0.000e+00\n",
      "3 1 \\chi^2_3 = 2570.63, p < 0.000e+00\n",
      "3 2 \\chi^2_2 = -1187.84, p < 1.000e+00\n"
     ]
    }
   ],
   "source": [
    "goodness_of_fit_tests (lls_ops, formulas_ops)"
   ]
  },
  {
   "cell_type": "code",
   "execution_count": 40,
   "metadata": {},
   "outputs": [
    {
     "name": "stdout",
     "output_type": "stream",
     "text": [
      "1 0 \\chi^2_1 = 7590.53, p < 0.000e+00\n",
      "2 0 \\chi^2_2 = 137767.38, p < 0.000e+00\n",
      "2 1 \\chi^2_1 = 130176.85, p < 0.000e+00\n",
      "3 0 \\chi^2_4 = 250479.66, p < 0.000e+00\n",
      "3 1 \\chi^2_3 = 242889.13, p < 0.000e+00\n",
      "3 2 \\chi^2_2 = 112712.28, p < 0.000e+00\n"
     ]
    }
   ],
   "source": [
    "goodness_of_fit_tests (lls_dblp, formulas_dblp)"
   ]
  },
  {
   "cell_type": "code",
   "execution_count": 63,
   "metadata": {},
   "outputs": [
    {
     "data": {
      "text/plain": [
       "242889.12721326947"
      ]
     },
     "execution_count": 63,
     "metadata": {},
     "output_type": "execute_result"
    }
   ],
   "source": [
    "lls_dblp[3] - lls_dblp[1]"
   ]
  },
  {
   "cell_type": "markdown",
   "metadata": {},
   "source": [
    "**Write the results as Latex tables**"
   ]
  },
  {
   "cell_type": "code",
   "execution_count": 46,
   "metadata": {},
   "outputs": [],
   "source": [
    "def get_latex_table_string (model_results, coeff):\n",
    "    def get_latex_coeff_table_string (c, model_result):\n",
    "        return \"{0:.3f}\".format(round(model_result.params[model_result.model.exog_names.index(c)], 3))\n",
    "    \n",
    "    def get_latex_coeff_pair_table_string(c1, c2, model_result):\n",
    "        if c1 in model_result.model.exog_names:\n",
    "            return get_latex_coeff_table_string (c1, model_result)\n",
    "        else:\n",
    "            return get_latex_coeff_table_string (c2, model_result)\n",
    "    \n",
    "    goodnames = {\n",
    "        \"Intercept\": \"Constant\",\n",
    "        \"C(max_progz_q, Treatment(reference='<25'))[T.<50]\": \"Prog. Q2\",\n",
    "        \"C(max_progz_q, Treatment(reference='<25'))[T.<75]\": \"Prog. Q3\",\n",
    "        \"C(max_progz_q, Treatment(reference='<25'))[T.<100]\": \"Prog. Q4\",\n",
    "        \"age\": \"Age\",\n",
    "        \"ninnovs\": \"\\\\# Innnovs\",\n",
    "        \"outdeg\": \"Outdegree\",\n",
    "        \"bows\": \"BoWs\",\n",
    "        \"ntokens\": \"Length\",\n",
    "        \"nauthors\": \"\\\\# Authors\",\n",
    "        \"max_progz\": \"Prog.\"\n",
    "    }\n",
    "\n",
    "    if type (coeff) == tuple:\n",
    "        c1, c2 = coeff\n",
    "        cols = [\" \"\n",
    "                if c1 not in model_result.model.exog_names and c2 not in model_result.model.exog_names\n",
    "                else get_latex_coeff_pair_table_string(c1, c2, model_result)\n",
    "                for model_result in model_results]\n",
    "    else:\n",
    "        cols = [\" \" \n",
    "                if coeff not in model_result.model.exog_names \n",
    "                else get_latex_coeff_table_string (coeff, model_result) \n",
    "                for model_result in model_results]\n",
    "    return \"&\".join ([goodnames[coeff]] + cols) + \"\\\\\\\\\"\n",
    "\n",
    "def get_latex_stderror_string (model_results, coeff):\n",
    "    def get_latex_coeff_stderror_string (c, model_result):\n",
    "        return \"({0:.3f})\".format(round(model_result.bse[model_result.model.exog_names.index(c)], 3))\n",
    "    \n",
    "    def get_latex_coeff_pair_stderror_string(c1, c2, model_result):\n",
    "        if c1 in model_result.model.exog_names:\n",
    "            return get_latex_coeff_stderror_string (c1, model_result)\n",
    "        else:\n",
    "            return get_latex_coeff_stderror_string (c2, model_result)\n",
    "        \n",
    "    goodnames = {\n",
    "        \"Intercept\": \"Constant\",\n",
    "        \"C(max_progz_q, Treatment(reference='<25'))[T.<50]\": \"Prog. Q2\",\n",
    "        \"C(max_progz_q, Treatment(reference='<25'))[T.<75]\": \"Prog. Q3\",\n",
    "        \"C(max_progz_q, Treatment(reference='<25'))[T.<100]\": \"Prog. Q4\",\n",
    "        \"age\": \"Age\",\n",
    "        \"ninnovs\": \"\\\\# Innnovs\",\n",
    "        \"outdeg\": \"Outdegree\",\n",
    "        \"bows\": \"BoWs\",\n",
    "        \"ntokens\": \"Length\",\n",
    "        \"nauthors\": \"\\\\# Authors\",\n",
    "        \"max_progz\": \"Prog.\"\n",
    "    }\n",
    "    \n",
    "    if type (coeff) == tuple:\n",
    "        c1, c2 = coeff\n",
    "        cols = [\" \"\n",
    "                if c1 not in model_result.model.exog_names and c2 not in model_result.model.exog_names\n",
    "                else get_latex_coeff_pair_stderror_string(c1, c2, model_result)\n",
    "                for model_result in model_results]\n",
    "    else:\n",
    "        cols = [\" \" \n",
    "                if coeff not in model_result.model.exog_names \n",
    "                else get_latex_coeff_stderror_string (coeff, model_result)\n",
    "                #else \"({0:.3f})\".format(round(model_result.bse[model_result.model.exog_names.index(coeff)], 3)) \n",
    "                for model_result in model_results]\n",
    "    \n",
    "    #cols = list (map (lambda x:\"({0})\".format (x), cols))\n",
    "    \n",
    "    return \"&\".join ([\" \"] + cols) + \"\\\\\\\\[4pt]\"\n",
    "\n",
    "def get_latex_ll_string (model_results):\n",
    "    cols = [\"{0}\".format(str(int(round(model_result.llf)))) for model_result in model_results]\n",
    "    return \"&\".join ([\"Log Lik.\"] + cols) "
   ]
  },
  {
   "cell_type": "code",
   "execution_count": 42,
   "metadata": {},
   "outputs": [],
   "source": [
    "def results_to_latex(model_results, coeffs_order, header_format=\"lrrrr\"):\n",
    "    # header part\n",
    "    #print (\"\\\\begin{tabular}{{0}}\".format (header_format))\n",
    "    print (\"\\\\begin{tabular}\" + \"{\" + \"{0}\".format (header_format) + \"}\")\n",
    "    print (\"\\\\toprule\\n\")\n",
    "    #print (\"& & Models & & & \\\\\\\\\\n\")\n",
    "    #print (\"\\midrule\\n\")\n",
    "    print (\"Predictors & M1 & M2 & M3 & M4\\\\\\\\\\n\")\n",
    "    print (\"\\midrule\\n\")\n",
    "    #print (\" & & \\\\textsc{max-innov} & \\\\textsc{max-innov} & \\\\textsc{num-innovs} & \\\\textsc{num-innovs}\\\\\\\\\\n\")\n",
    "    #print (\"\\\\toprule\\n\")\n",
    "    # core part\n",
    "    \n",
    "    for coeff in coeffs_order:\n",
    "        print (get_latex_table_string(model_results, coeff))\n",
    "        print (get_latex_stderror_string (model_results, coeff))\n",
    "    \n",
    "    print (get_latex_ll_string (model_results))    \n",
    "    print (\"\\\\\\\\\")\n",
    "    print (\"\\\\bottomrule\\n\")\n",
    "    print (\"\\\\end{tabular}\\n\")"
   ]
  },
  {
   "cell_type": "code",
   "execution_count": 47,
   "metadata": {},
   "outputs": [
    {
     "name": "stdout",
     "output_type": "stream",
     "text": [
      "\\begin{tabular}{lp{1.1cm}p{1.1cm}p{1.1cm}p{1.1cm}}\n",
      "\\toprule\n",
      "\n",
      "Predictors & M1 & M2 & M3 & M4\\\\\n",
      "\n",
      "\\midrule\n",
      "\n",
      "Constant&1.614&1.421&1.476&1.168\\\\\n",
      " &(0.003)&(0.004)&(0.004)&(0.006)\\\\[4pt]\n",
      "Outdegree&0.022&0.020&0.021&0.020\\\\\n",
      " &(0.000)&(0.000)&(0.000)&(0.000)\\\\[4pt]\n",
      "Age&0.009&0.011&0.010&0.010\\\\\n",
      " &(0.000)&(0.000)&(0.000)&(0.000)\\\\[4pt]\n",
      "Length&0.000&-0.000&-0.000&-0.000\\\\\n",
      " &(0.000)&(0.000)&(0.000)&(0.000)\\\\[4pt]\n",
      "BoWs&-0.000&-0.000&-0.000&-0.000\\\\\n",
      " &(0.000)&(0.000)&(0.000)&(0.000)\\\\[4pt]\n",
      "\\# Innnovs& &0.054&0.045&0.042\\\\\n",
      " & &(0.001)&(0.001)&(0.001)\\\\[4pt]\n",
      "Prog.& & &0.094& \\\\\n",
      " & & &(0.001)& \\\\[4pt]\n",
      "Prog. Q2& & & &0.384\\\\\n",
      " & & & &(0.007)\\\\[4pt]\n",
      "Prog. Q3& & & &0.382\\\\\n",
      " & & & &(0.007)\\\\[4pt]\n",
      "Prog. Q4& & & &0.470\\\\\n",
      " & & & &(0.007)\\\\[4pt]\n",
      "Log Lik.&-415195&-410601&-406843&-408031\n",
      "\\\\\n",
      "\\bottomrule\n",
      "\n",
      "\\end{tabular}\n",
      "\n",
      "% generated at 07:28PM on May 21, 2019 by Sandeep from notebooks/emnlp.results.ipynb\n"
     ]
    }
   ],
   "source": [
    "#lp{1.1cm}p{1.1cm}p{1.1cm}p{1.1cm}p{1.1cm}\n",
    "results_to_latex (results_ops,\n",
    "           [\"Intercept\", \"outdeg\", \"age\", \"ntokens\", \"bows\", \"ninnovs\",\n",
    "            \"max_progz\", \n",
    "            \"C(max_progz_q, Treatment(reference='<25'))[T.<50]\", \n",
    "            \"C(max_progz_q, Treatment(reference='<25'))[T.<75]\", \n",
    "            \"C(max_progz_q, Treatment(reference='<25'))[T.<100]\"],\n",
    "            header_format=\"lp{1.1cm}p{1.1cm}p{1.1cm}p{1.1cm}\"\n",
    "            )\n",
    "\n",
    "print (\"% generated at {} by {} from notebooks/emnlp.results.ipynb\".format (datetime.datetime.now().strftime(\"%I:%M%p on %B %d, %Y\"), \"Sandeep\"))"
   ]
  },
  {
   "cell_type": "code",
   "execution_count": 48,
   "metadata": {},
   "outputs": [
    {
     "name": "stdout",
     "output_type": "stream",
     "text": [
      "\\begin{tabular}{lp{1.4cm}p{1.4cm}p{1.4cm}p{1.4cm}}\n",
      "\\toprule\n",
      "\n",
      "Predictors & M1 & M2 & M3 & M4\\\\\n",
      "\n",
      "\\midrule\n",
      "\n",
      "Constant&1.983&1.943&2.032&1.770\\\\\n",
      " &(0.001)&(0.001)&(0.001)&(0.001)\\\\[4pt]\n",
      "Outdegree&0.009&0.009&0.009&0.009\\\\\n",
      " &(0.000)&(0.000)&(0.000)&(0.000)\\\\[4pt]\n",
      "\\# Authors&0.055&0.054&0.054&0.054\\\\\n",
      " &(0.000)&(0.000)&(0.000)&(0.000)\\\\[4pt]\n",
      "Age&0.079&0.079&0.078&0.073\\\\\n",
      " &(0.000)&(0.000)&(0.000)&(0.000)\\\\[4pt]\n",
      "Length&0.002&0.002&0.002&0.002\\\\\n",
      " &(0.000)&(0.000)&(0.000)&(0.000)\\\\[4pt]\n",
      "BoWs&0.000&0.000&0.000&0.000\\\\\n",
      " &(0.000)&(0.000)&(0.000)&(0.000)\\\\[4pt]\n",
      "\\# Innnovs& &0.028&-0.010&-0.034\\\\\n",
      " & &(0.000)&(0.000)&(0.000)\\\\[4pt]\n",
      "Prog.& & &0.137& \\\\\n",
      " & & &(0.000)& \\\\[4pt]\n",
      "Prog. Q2& & & &0.179\\\\\n",
      " & & & &(0.001)\\\\[4pt]\n",
      "Prog. Q3& & & &0.431\\\\\n",
      " & & & &(0.001)\\\\[4pt]\n",
      "Prog. Q4& & & &0.698\\\\\n",
      " & & & &(0.001)\\\\[4pt]\n",
      "Log Lik.&-13066495&-13058904&-12928728&-12816015\n",
      "\\\\\n",
      "\\bottomrule\n",
      "\n",
      "\\end{tabular}\n",
      "\n",
      "% generated at 07:29PM on May 21, 2019 by Sandeep from notebooks/emnlp.results.ipynb\n"
     ]
    }
   ],
   "source": [
    "results_to_latex (results_dblp,\n",
    "           [\"Intercept\", \"outdeg\", \"nauthors\", \"age\", \"ntokens\", \"bows\", \"ninnovs\",\n",
    "            \"max_progz\", \n",
    "            \"C(max_progz_q, Treatment(reference='<25'))[T.<50]\", \n",
    "            \"C(max_progz_q, Treatment(reference='<25'))[T.<75]\", \n",
    "            \"C(max_progz_q, Treatment(reference='<25'))[T.<100]\"],\n",
    "            header_format=\"lp{1.4cm}p{1.4cm}p{1.4cm}p{1.4cm}\"\n",
    "            )\n",
    "print (\"% generated at {} by {} from notebooks/emnlp.results.ipynb\".format (datetime.datetime.now().strftime(\"%I:%M%p on %B %d, %Y\"), \"Sandeep\"))"
   ]
  },
  {
   "cell_type": "code",
   "execution_count": 98,
   "metadata": {},
   "outputs": [
    {
     "name": "stdout",
     "output_type": "stream",
     "text": [
      "\\begin{tabular}{lrrrrr}\n",
      "\\toprule\n",
      "\n",
      "& & Models & & & \\\\\n",
      "\n",
      "\\midrule\n",
      "\n",
      "Predictors & M1 & M2 & M3 & M4 & M5\\\\\n",
      "\n",
      "\\toprule\n",
      "\n",
      "Constant&2.0784&2.0375&1.9593&2.0115&2.0082\\\\\n",
      " &(0.0009)&(0.0010)&(0.0011)&(0.0010)&(0.0011)\\\\[4pt]\n",
      "Outdegree&0.0104&0.0104&0.0104&0.0104&0.0104\\\\\n",
      " &(0.0000)&(0.0000)&(0.0000)&(0.0000)&(0.0000)\\\\[4pt]\n",
      "No. of Authors&0.0237&0.0237&0.0235&0.0237&0.0235\\\\\n",
      " &(0.0000)&(0.0000)&(0.0000)&(0.0000)&(0.0000)\\\\[4pt]\n",
      "Age&0.0745&0.0765&0.0776&0.0774&0.0760\\\\\n",
      " &(0.0000)&(0.0000)&(0.0000)&(0.0000)&(0.0000)\\\\[4pt]\n",
      "Length&0.0021&0.0019&0.0019&0.0017&0.0020\\\\\n",
      " &(0.0000)&(0.0000)&(0.0000)&(0.0000)&(0.0000)\\\\[4pt]\n",
      "BoWs&0.0001&0.0001&0.0001&0.0001&0.0001\\\\\n",
      " &(0.0000)&(0.0000)&(0.0000)&(0.0000)&(0.0000)\\\\[4pt]\n",
      "Progressiveness& &0.0119& & & \\\\\n",
      " & &(0.0000)& & & \\\\[4pt]\n",
      "Prog. Q2& & &0.0852& & \\\\\n",
      " & & &(0.0009)& & \\\\[4pt]\n",
      "Prog. Q3& & &0.1446& & \\\\\n",
      " & & &(0.0010)& & \\\\[4pt]\n",
      "Prog. Q4& & &0.2456& & \\\\\n",
      " & & &(0.0011)& & \\\\[4pt]\n",
      "Log Likelihood&-12922614&-12897492&-12896647&-12890659&-12912023\n",
      "\\\\\n",
      "\\bottomrule\n",
      "\n",
      "\\end{tabular}\n",
      "\n"
     ]
    }
   ],
   "source": [
    "results_to_latex (results_dblp,\n",
    "           [\"Intercept\", \"outdeg\", \"nauthors\", \"age\", \"ntokens\", \"bows\", \"max_prog\", \"C(max_prog_q, Treatment(reference='<25'))[T.<50]\", \"C(max_prog_q, Treatment(reference='<25'))[T.<75]\", \"C(max_prog_q, Treatment(reference='<25'))[T.<100]\"])"
   ]
  }
 ],
 "metadata": {
  "kernelspec": {
   "display_name": "Python 3",
   "language": "python",
   "name": "python3"
  },
  "language_info": {
   "codemirror_mode": {
    "name": "ipython",
    "version": 3
   },
   "file_extension": ".py",
   "mimetype": "text/x-python",
   "name": "python",
   "nbconvert_exporter": "python",
   "pygments_lexer": "ipython3",
   "version": "3.6.7"
  }
 },
 "nbformat": 4,
 "nbformat_minor": 2
}
