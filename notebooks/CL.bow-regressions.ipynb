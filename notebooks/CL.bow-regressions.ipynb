{
 "cells": [
  {
   "cell_type": "markdown",
   "metadata": {},
   "source": [
    "We want to use the BoW representation as a competitive baseline to predict citations. However, there are two concerns:\n",
    "\n",
    "- The size of the corpus is in the millions. So we want sparse representations of the documents for speed and accuracy.\n",
    "- We don't care about the CI for the individual features. Instead, we just want to explain as much variance through these features.\n",
    "\n",
    "Thus, the strategy we use is as follows:\n",
    "\n",
    "Get a sample of the corpus (eg. 1 million documents) and divide into training and test set. Train the best regression model and then make predictions for all documents in the corpus. Use this as a feature in the downstream regression."
   ]
  },
  {
   "cell_type": "code",
   "execution_count": 7,
   "metadata": {},
   "outputs": [],
   "source": [
    "import numpy as np\n",
    "import os\n",
    "import pandas as pd"
   ]
  },
  {
   "cell_type": "code",
   "execution_count": 2,
   "metadata": {},
   "outputs": [],
   "source": [
    "from sklearn.feature_extraction.text import CountVectorizer\n",
    "from sklearn.linear_model import LinearRegression\n",
    "from sklearn.model_selection import GridSearchCV, cross_validate\n",
    "from sklearn.pipeline import Pipeline"
   ]
  },
  {
   "cell_type": "code",
   "execution_count": 25,
   "metadata": {},
   "outputs": [],
   "source": [
    "MILLION = 1000000\n",
    "STATS_DIR = \"/hg191/corpora/legaldata/data/stats/\"\n",
    "COURTS_CATEGORIES_FILE = \"/hg191/corpora/legaldata/data/court.categories\"\n",
    "CURRENT_YEAR = 2018\n",
    "NOBS = 50000\n",
    "TRAIN_OBS_RANGE = (0,int(0.95*NOBS))\n",
    "TEST_OBS_RANGE = (int(0.95*NOBS),NOBS)"
   ]
  },
  {
   "cell_type": "code",
   "execution_count": 26,
   "metadata": {},
   "outputs": [],
   "source": [
    "with open (os.path.join (STATS_DIR, \"ops.list\")) as fin:\n",
    "    ids = [(i, int(line.strip())) for i,line in enumerate (fin)]\n",
    "dict_ids = {elem[0]: elem[1] for elem in ids}"
   ]
  },
  {
   "cell_type": "code",
   "execution_count": 27,
   "metadata": {},
   "outputs": [],
   "source": [
    "# initialize a seed for repeatability\n",
    "np.random.seed(100)\n",
    "indices = np.random.choice(len(ids), NOBS, replace=False)"
   ]
  },
  {
   "cell_type": "code",
   "execution_count": 28,
   "metadata": {},
   "outputs": [],
   "source": [
    "ind = pd.read_csv (os.path.join (STATS_DIR, \"ops.ind\"), sep=\",\", header=None, names=[\"id\", \"ind\"])"
   ]
  },
  {
   "cell_type": "code",
   "execution_count": 29,
   "metadata": {},
   "outputs": [],
   "source": [
    "def df2dict (df, key, val):\n",
    "    keys = df[key].values\n",
    "    vals = df[val].values\n",
    "    \n",
    "    assert (len(keys) == len (vals))\n",
    "    return {keys[i]: vals[i] for i in range (len(keys))}"
   ]
  },
  {
   "cell_type": "code",
   "execution_count": 30,
   "metadata": {},
   "outputs": [],
   "source": [
    "I = df2dict (ind, \"id\", \"ind\")"
   ]
  },
  {
   "cell_type": "code",
   "execution_count": 31,
   "metadata": {},
   "outputs": [],
   "source": [
    "def readCorpus (filename, indices, verbose=True):\n",
    "    corpus = dict ()\n",
    "    with open (filename) as fin:\n",
    "        for i, line in enumerate (fin):\n",
    "            if i in indices:\n",
    "                corpus[i] = line.strip()\n",
    "            if verbose and i % MILLION == 0:\n",
    "                print (\"Lines processed: {0}\".format (i))\n",
    "    return corpus"
   ]
  },
  {
   "cell_type": "code",
   "execution_count": 32,
   "metadata": {},
   "outputs": [
    {
     "name": "stdout",
     "output_type": "stream",
     "text": [
      "Lines processed: 0\n",
      "Lines processed: 1000000\n",
      "Lines processed: 2000000\n",
      "Lines processed: 3000000\n"
     ]
    }
   ],
   "source": [
    "corpus = readCorpus (os.path.join (STATS_DIR, \"ops.docs\"), indices)"
   ]
  },
  {
   "cell_type": "code",
   "execution_count": 33,
   "metadata": {},
   "outputs": [],
   "source": [
    "y = np.array ([I[ids[index][1]] for index in indices])\n",
    "raw = [corpus[index] for index in indices]"
   ]
  },
  {
   "cell_type": "code",
   "execution_count": 34,
   "metadata": {},
   "outputs": [],
   "source": [
    "count_vect = CountVectorizer(max_features=10000, min_df=3, max_df=0.9)\n",
    "lm = LinearRegression()"
   ]
  },
  {
   "cell_type": "code",
   "execution_count": 36,
   "metadata": {},
   "outputs": [],
   "source": [
    "X = count_vect.fit_transform (raw)\n",
    "lm.fit(X, np.log (y+1))\n",
    "yhat = np.exp(lm.predict (X))"
   ]
  },
  {
   "cell_type": "code",
   "execution_count": 37,
   "metadata": {},
   "outputs": [
    {
     "name": "stdout",
     "output_type": "stream",
     "text": [
      "1.0269768991014914\n"
     ]
    }
   ],
   "source": [
    "from sklearn.metrics import mean_squared_log_error\n",
    "print (mean_squared_log_error(y,yhat))"
   ]
  },
  {
   "cell_type": "code",
   "execution_count": 38,
   "metadata": {},
   "outputs": [],
   "source": [
    "ops = [dict_ids[index] for index in indices]\n",
    "with open (os.path.join (STATS_DIR, \"ops.temp.bowfeat\"), \"w\") as fout:\n",
    "    for i in range (len (ops)):\n",
    "        fout.write (\"{0},{1}\\n\".format (ops[i], yhat[i]))"
   ]
  }
 ],
 "metadata": {
  "kernelspec": {
   "display_name": "Python 3",
   "language": "python",
   "name": "python3"
  },
  "language_info": {
   "codemirror_mode": {
    "name": "ipython",
    "version": 3
   },
   "file_extension": ".py",
   "mimetype": "text/x-python",
   "name": "python",
   "nbconvert_exporter": "python",
   "pygments_lexer": "ipython3",
   "version": "3.6.5"
  }
 },
 "nbformat": 4,
 "nbformat_minor": 2
}
