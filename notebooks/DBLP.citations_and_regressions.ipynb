{
 "cells": [
  {
   "cell_type": "code",
   "execution_count": 2,
   "metadata": {},
   "outputs": [],
   "source": [
    "import pandas as pd\n",
    "import matplotlib.pyplot as plt\n",
    "import seaborn as sns\n",
    "%matplotlib inline\n",
    "\n",
    "import statsmodels.api as sm\n",
    "import patsy\n",
    "\n",
    "import numpy as np\n",
    "import os\n",
    "from collections import Counter\n",
    "from scipy.stats.distributions import chi2\n",
    "from scipy.stats import zscore"
   ]
  },
  {
   "cell_type": "code",
   "execution_count": 3,
   "metadata": {},
   "outputs": [],
   "source": [
    "dblp_dir = \"/hg191/corpora/semantic-progressiveness/acad-data/processed/\"\n",
    "dblp_features_file = os.path.join (dblp_dir, \"dblp.complete\")"
   ]
  },
  {
   "cell_type": "code",
   "execution_count": 4,
   "metadata": {},
   "outputs": [
    {
     "name": "stdout",
     "output_type": "stream",
     "text": [
      "2408010\n",
      "42508\n"
     ]
    },
    {
     "data": {
      "text/html": [
       "<div>\n",
       "<style scoped>\n",
       "    .dataframe tbody tr th:only-of-type {\n",
       "        vertical-align: middle;\n",
       "    }\n",
       "\n",
       "    .dataframe tbody tr th {\n",
       "        vertical-align: top;\n",
       "    }\n",
       "\n",
       "    .dataframe thead th {\n",
       "        text-align: right;\n",
       "    }\n",
       "</style>\n",
       "<table border=\"1\" class=\"dataframe\">\n",
       "  <thead>\n",
       "    <tr style=\"text-align: right;\">\n",
       "      <th></th>\n",
       "      <th>docid</th>\n",
       "      <th>indeg</th>\n",
       "      <th>outdeg</th>\n",
       "      <th>year</th>\n",
       "      <th>nauthors</th>\n",
       "      <th>nuniqs</th>\n",
       "      <th>ntokens</th>\n",
       "      <th>lang</th>\n",
       "      <th>bows</th>\n",
       "      <th>nprog</th>\n",
       "      <th>...</th>\n",
       "      <th>nprog75</th>\n",
       "      <th>nprog50</th>\n",
       "      <th>nprog25</th>\n",
       "      <th>nreg99</th>\n",
       "      <th>nreg95</th>\n",
       "      <th>nreg90</th>\n",
       "      <th>nreg75</th>\n",
       "      <th>nreg50</th>\n",
       "      <th>nreg25</th>\n",
       "      <th>ninnovs</th>\n",
       "    </tr>\n",
       "  </thead>\n",
       "  <tbody>\n",
       "    <tr>\n",
       "      <td>0</td>\n",
       "      <td>35b7f3ac-25dd-4b4e-8c46-adeac09aba54</td>\n",
       "      <td>92</td>\n",
       "      <td>0</td>\n",
       "      <td>1949</td>\n",
       "      <td>2</td>\n",
       "      <td>92</td>\n",
       "      <td>152</td>\n",
       "      <td>en</td>\n",
       "      <td>11.524227</td>\n",
       "      <td>0</td>\n",
       "      <td>...</td>\n",
       "      <td>0.0</td>\n",
       "      <td>0.0</td>\n",
       "      <td>0.0</td>\n",
       "      <td>0.0</td>\n",
       "      <td>0.0</td>\n",
       "      <td>0.0</td>\n",
       "      <td>1.0</td>\n",
       "      <td>1.0</td>\n",
       "      <td>1.0</td>\n",
       "      <td>1</td>\n",
       "    </tr>\n",
       "    <tr>\n",
       "      <td>1</td>\n",
       "      <td>b17b90b3-6ee1-4226-8420-b914f8fa88dc</td>\n",
       "      <td>47</td>\n",
       "      <td>1</td>\n",
       "      <td>1950</td>\n",
       "      <td>2</td>\n",
       "      <td>158</td>\n",
       "      <td>515</td>\n",
       "      <td>en</td>\n",
       "      <td>16.430503</td>\n",
       "      <td>1</td>\n",
       "      <td>...</td>\n",
       "      <td>0.0</td>\n",
       "      <td>1.0</td>\n",
       "      <td>1.0</td>\n",
       "      <td>0.0</td>\n",
       "      <td>0.0</td>\n",
       "      <td>0.0</td>\n",
       "      <td>0.0</td>\n",
       "      <td>0.0</td>\n",
       "      <td>1.0</td>\n",
       "      <td>1</td>\n",
       "    </tr>\n",
       "    <tr>\n",
       "      <td>2</td>\n",
       "      <td>01c6a1a9-3c59-42fa-9a27-d26cdcb9957c</td>\n",
       "      <td>0</td>\n",
       "      <td>0</td>\n",
       "      <td>1950</td>\n",
       "      <td>1</td>\n",
       "      <td>162</td>\n",
       "      <td>372</td>\n",
       "      <td>en</td>\n",
       "      <td>5.324948</td>\n",
       "      <td>0</td>\n",
       "      <td>...</td>\n",
       "      <td>0.0</td>\n",
       "      <td>0.0</td>\n",
       "      <td>0.0</td>\n",
       "      <td>0.0</td>\n",
       "      <td>0.0</td>\n",
       "      <td>0.0</td>\n",
       "      <td>1.0</td>\n",
       "      <td>1.0</td>\n",
       "      <td>1.0</td>\n",
       "      <td>1</td>\n",
       "    </tr>\n",
       "  </tbody>\n",
       "</table>\n",
       "<p>3 rows × 28 columns</p>\n",
       "</div>"
      ],
      "text/plain": [
       "                                  docid  indeg  outdeg  year  nauthors  \\\n",
       "0  35b7f3ac-25dd-4b4e-8c46-adeac09aba54     92       0  1949         2   \n",
       "1  b17b90b3-6ee1-4226-8420-b914f8fa88dc     47       1  1950         2   \n",
       "2  01c6a1a9-3c59-42fa-9a27-d26cdcb9957c      0       0  1950         1   \n",
       "\n",
       "   nuniqs  ntokens lang       bows  nprog  ...  nprog75  nprog50 nprog25  \\\n",
       "0      92      152   en  11.524227      0  ...      0.0      0.0     0.0   \n",
       "1     158      515   en  16.430503      1  ...      0.0      1.0     1.0   \n",
       "2     162      372   en   5.324948      0  ...      0.0      0.0     0.0   \n",
       "\n",
       "   nreg99 nreg95  nreg90  nreg75  nreg50  nreg25  ninnovs  \n",
       "0     0.0    0.0     0.0     1.0     1.0     1.0        1  \n",
       "1     0.0    0.0     0.0     0.0     0.0     1.0        1  \n",
       "2     0.0    0.0     0.0     1.0     1.0     1.0        1  \n",
       "\n",
       "[3 rows x 28 columns]"
      ]
     },
     "execution_count": 4,
     "metadata": {},
     "output_type": "execute_result"
    }
   ],
   "source": [
    "df_dblp = pd.read_csv(dblp_features_file)\n",
    "print (len (df_dblp))\n",
    "print(df_dblp['indeg'].max())\n",
    "df_dblp.head(3)"
   ]
  },
  {
   "cell_type": "markdown",
   "metadata": {},
   "source": [
    "**Filter**\n",
    "\n",
    "- Keep only English language records.\n",
    "- Remove records that contain exactly 50 citations (I felt after plotting the histograms of the citation count that there was some discrepancy with this particular value -- better just remove it)\n",
    "\n",
    "**Transform**\n",
    "- Add an extra column for age.\n",
    "- Add an extra column for not containing any semantic words."
   ]
  },
  {
   "cell_type": "code",
   "execution_count": 5,
   "metadata": {},
   "outputs": [
    {
     "name": "stdout",
     "output_type": "stream",
     "text": [
      "1671606\n"
     ]
    }
   ],
   "source": [
    "print (len(df_dblp[(df_dblp[\"lang\"] == \"en\") & (df_dblp[\"indeg\"] != 50)]))\n",
    "df_dblp = df_dblp[(df_dblp[\"lang\"] == \"en\") & (df_dblp[\"indeg\"] != 50)]\n",
    "df_dblp = df_dblp[df_dblp[\"year\"] >= 1955] # just so that the z-scores can be calculated (we don't miss out on much)"
   ]
  },
  {
   "cell_type": "code",
   "execution_count": 6,
   "metadata": {},
   "outputs": [],
   "source": [
    "df_dblp[\"age\"] = 2019 - df_dblp[\"year\"]\n",
    "df_dblp[\"isUNK\"] = (df_dblp[\"max_prog_word\"] == \"UNK\").astype(int)"
   ]
  },
  {
   "cell_type": "code",
   "execution_count": 7,
   "metadata": {},
   "outputs": [
    {
     "name": "stdout",
     "output_type": "stream",
     "text": [
      "1159345\n"
     ]
    }
   ],
   "source": [
    "# for simplicity of descriptive analysis, let's remove docs which don't hit the lexicon\n",
    "# In the regression we will have to add a dummy variable to account for this.\n",
    "drop_misses = True\n",
    "if drop_misses:\n",
    "    df_dblp = df_dblp[df_dblp[\"isUNK\"] == 0]\n",
    "print (len(df_dblp))"
   ]
  },
  {
   "cell_type": "markdown",
   "metadata": {},
   "source": [
    "**Univariate analysis**"
   ]
  },
  {
   "cell_type": "code",
   "execution_count": 8,
   "metadata": {},
   "outputs": [],
   "source": [
    "# quartile-ish bins of the innovation feature  \n",
    "df_dblp['max_prog_q'] = pd.qcut(df_dblp['max_prog'], 4, labels=[\"<25\", \"<50\", \"<75\", \"<100\"], duplicates='drop')\n",
    "\n",
    "## Used to do this for ACL' 19\n",
    "#df_dblp['nprog_q'] = pd.qcut(df_dblp['nprog'].rank(method=\"first\"), 4, labels=[\"<25\", \"<50\", \"<75\", \"<100\"], duplicates='drop')\n",
    "#df_dblp['nprog25_q'] = pd.qcut(df_dblp['nprog25'].rank(method=\"first\"), 4, labels=[\"<25\", \"<50\", \"<75\", \"<100\"], duplicates=\"drop\")\n",
    "#df_dblp['nprog50_q'] = pd.qcut(df_dblp['nprog50'].rank(method=\"first\"), 4, labels=[\"<25\", \"<50\", \"<75\", \"<100\"], duplicates=\"drop\")\n",
    "#df_dblp['nprog75_q'] = pd.qcut(df_dblp['nprog75'].rank(method=\"first\"), 4, labels=[\"<25\", \"<50\", \"<75\", \"<100\"], duplicates=\"drop\")\n",
    "#df_dblp['nprog90_q'] = pd.qcut(df_dblp['nprog90'].rank(method=\"first\"), 4, labels=[\"<25\", \"<50\", \"<75\", \"<100\"], duplicates=\"drop\")\n",
    "#df_dblp['nprog95_q'] = pd.qcut(df_dblp['nprog95'].rank(method=\"first\"), 4, labels=[\"<25\", \"<50\", \"<75\", \"<100\"], duplicates=\"drop\")\n",
    "#df_dblp['nprog99_q'] = pd.qcut(df_dblp['nprog99'].rank(method=\"first\"), 4, labels=[\"<25\", \"<50\", \"<75\", \"<100\"], duplicates=\"drop\")"
   ]
  },
  {
   "cell_type": "code",
   "execution_count": 9,
   "metadata": {},
   "outputs": [],
   "source": [
    "def give_me_zscores_per_year (frame, key):\n",
    "    years = frame.groupby(\"year\").size().reset_index(name=\"counts\")\n",
    "    years = list (years[years[\"counts\"] > 1].year.values)\n",
    "\n",
    "    zscore_lookup = dict ()\n",
    "    for year in years:\n",
    "        docids = frame[frame[\"year\"] == year][\"docid\"].values\n",
    "        zscores = zscore (frame[frame[\"year\"] == year][key].values)\n",
    "        for i in range (len (docids)):\n",
    "            zscore_lookup[docids[i]] = zscores[i]\n",
    "\n",
    "    docids = frame[\"docid\"].values\n",
    "    zscores = [zscore_lookup[docid] for docid in docids]\n",
    "    return zscores\n",
    "\n",
    "df_dblp['max_progz'] = give_me_zscores_per_year (df_dblp, 'max_prog')\n",
    "df_dblp['max_progz_q'] = pd.qcut(df_dblp['max_progz'], 4, labels=[\"<25\", \"<50\", \"<75\", \"<100\"], duplicates='drop')"
   ]
  },
  {
   "cell_type": "code",
   "execution_count": 10,
   "metadata": {},
   "outputs": [
    {
     "name": "stdout",
     "output_type": "stream",
     "text": [
      "549807\n"
     ]
    }
   ],
   "source": [
    "df_dblp_since_1980s = df_dblp[(df_dblp[\"year\"] > 1980) & (df_dblp[\"year\"] <= 2010)]\n",
    "print (len(df_dblp_since_1980s))\n",
    "df_dblp_since_1980s.to_csv (\"../data/frames/emnlp/dblp.univariate.csv\", sep=\",\", index=False)"
   ]
  },
  {
   "cell_type": "code",
   "execution_count": 11,
   "metadata": {},
   "outputs": [
    {
     "data": {
      "image/png": "[encoded data removed]",
      "text/plain": [
       "<Figure size 432x252 with 1 Axes>"
      ]
     },
     "metadata": {
      "needs_background": "light"
     },
     "output_type": "display_data"
    }
   ],
   "source": [
    "sns.set_context(\"paper\")\n",
    "fig,ax = plt.subplots(1,1,figsize=[6,3.5])\n",
    "#sns.barplot(y='indeg',x='max_prog_q',data=df_dblp_since_1980s,ax=ax);\n",
    "sns.barplot(y='indeg',x='max_prog_q',data=df_dblp_since_1980s,ax=ax);\n",
    "ax.set_title('Scientific articles');"
   ]
  },
  {
   "cell_type": "code",
   "execution_count": 12,
   "metadata": {},
   "outputs": [
    {
     "data": {
      "image/png": "[encoded data removed]",
      "text/plain": [
       "<Figure size 432x252 with 1 Axes>"
      ]
     },
     "metadata": {
      "needs_background": "light"
     },
     "output_type": "display_data"
    }
   ],
   "source": [
    "sns.set_context(\"paper\")\n",
    "fig,ax = plt.subplots(1,1,figsize=[6,3.5])\n",
    "#sns.barplot(y='indeg',x='max_prog_q',data=df_dblp_since_1980s,ax=ax);\n",
    "sns.barplot(y='indeg',x='max_progz_q',data=df_dblp_since_1980s,ax=ax);\n",
    "ax.set_title('Scientific articles');"
   ]
  },
  {
   "cell_type": "markdown",
   "metadata": {},
   "source": [
    "```python\n",
    "# Old (for ACL'19)\n",
    "sns.set_context(\"paper\")\n",
    "fig,ax = plt.subplots(1,1,figsize=[6,3.5])\n",
    "sns.barplot(y='indeg',x='max_prog_q',data=df_dblp_since_1980s,ax=ax);\n",
    "ax.set_title('Scientific articles');\n",
    "```"
   ]
  },
  {
   "cell_type": "markdown",
   "metadata": {},
   "source": [
    "```python\n",
    "# Old (for ACL'19)\n",
    "sns.set_context(\"paper\")\n",
    "fig,ax = plt.subplots(1,1,figsize=[6,3.5],sharey=True)\n",
    "\n",
    "sns.barplot(y='indeg',x='nprog50_q',data=df_dblp_since_1980s,ax=ax);\n",
    "ax.set_title('>50 percentile')\n",
    "ax.set_xlabel('Intervals')\n",
    "ax.set_ylabel('Citations')\n",
    "```"
   ]
  },
  {
   "cell_type": "markdown",
   "metadata": {},
   "source": [
    "**Multivariate regressions**"
   ]
  },
  {
   "cell_type": "code",
   "execution_count": 13,
   "metadata": {},
   "outputs": [],
   "source": [
    "formulas_dblp = [\"indeg ~ age + outdeg + nauthors + ntokens + bows + ninnovs\"]\n",
    "formulas_dblp.append(formulas_dblp[0]+\" + max_prog\")\n",
    "formulas_dblp.append(formulas_dblp[0]+\" + max_prog_q\")\n",
    "formulas_dblp.append(formulas_dblp[0]+\" + max_progz\")\n",
    "formulas_dblp.append(formulas_dblp[0]+\" + max_progz_q\")\n",
    "#formulas_dblp.append(formulas_dblp[0]+\" + nprog50\")\n",
    "#formulas_dblp.append(formulas_dblp[0]+\" + nprog50_q\")\n",
    "#formulas_dblp.append(formulas_dblp[0]+\" + nprog25\")\n",
    "#formulas_dblp.append(formulas_dblp[0]+\" + nprog25_q\")\n",
    "#formulas_dblp.append(formulas_dblp[0]+\" + nprog75\")\n",
    "#formulas_dblp.append(formulas_dblp[0]+\" + nprog75_q\")\n",
    "#formulas_dblp.append(formulas_dblp[1]+\" + nprog99\")\n",
    "#formulas_dblp.append(formulas_dblp[1]+\" + nprog99_q\")"
   ]
  },
  {
   "cell_type": "code",
   "execution_count": 14,
   "metadata": {},
   "outputs": [],
   "source": [
    "df_dblp_sample = df_dblp.sample (n=250000, axis=0)"
   ]
  },
  {
   "cell_type": "code",
   "execution_count": 16,
   "metadata": {},
   "outputs": [
    {
     "name": "stdout",
     "output_type": "stream",
     "text": [
      "62389\n",
      "62401\n",
      "62603\n",
      "62607\n",
      "250000\n"
     ]
    }
   ],
   "source": [
    "print(len(df_dblp_sample[df_dblp_sample[\"max_progz_q\"] == \"<25\"]))\n",
    "print(len(df_dblp_sample[df_dblp_sample[\"max_progz_q\"] == \"<50\"]))\n",
    "print(len(df_dblp_sample[df_dblp_sample[\"max_progz_q\"] == \"<75\"]))\n",
    "print(len(df_dblp_sample[df_dblp_sample[\"max_progz_q\"] == \"<100\"]))\n",
    "print(len(df_dblp_sample))"
   ]
  },
  {
   "cell_type": "code",
   "execution_count": 24,
   "metadata": {},
   "outputs": [
    {
     "name": "stdout",
     "output_type": "stream",
     "text": [
      "[(2016, 8580), (2015, 8146), (2013, 5380), (2014, 5200), (2012, 5036), (2011, 4095), (2010, 3656), (2009, 3052), (2008, 2568), (2007, 2391), (2017, 2196), (2006, 1956), (2005, 1730), (2004, 1399), (2003, 1074), (2002, 879), (2001, 794), (2000, 743), (1999, 553), (1998, 462), (1997, 404), (1996, 310), (1995, 273), (1994, 256), (1993, 185)]\n",
      "[(2015, 6741), (2016, 6128), (2013, 5540), (2014, 5497), (2011, 5410), (2012, 5348), (2010, 4722), (2009, 4312), (2008, 3748), (2007, 2959), (2006, 2282), (2005, 1780), (2017, 1646), (2004, 1302), (2003, 898), (2002, 687), (2001, 565), (2000, 510), (1999, 380), (1998, 286), (1997, 248), (1996, 227), (1994, 188), (1995, 148), (1992, 144)]\n",
      "[(2015, 4832), (2016, 4720), (2013, 3983), (2009, 3828), (2012, 3742), (2008, 3716), (2011, 3699), (2014, 3688), (2010, 3682), (2007, 3493), (2006, 3290), (2005, 2955), (2004, 2573), (2003, 2093), (2002, 1649), (2001, 1468), (2017, 1225), (2000, 1188), (1999, 1043), (1998, 842), (1997, 697), (1996, 530), (1994, 508), (1995, 499), (1993, 381)]\n",
      "[(2016, 6082), (2015, 5901), (2013, 4231), (2014, 4104), (2012, 4020), (2011, 3648), (2010, 3244), (2009, 2897), (2008, 2753), (2007, 2651), (2006, 2513), (2005, 2440), (2004, 2217), (2003, 1949), (2002, 1667), (2017, 1610), (2001, 1481), (2000, 1333), (1999, 1135), (1998, 998), (1997, 804), (1996, 709), (1995, 565), (1994, 532), (1993, 499)]\n"
     ]
    }
   ],
   "source": [
    "print(Counter(df_dblp_sample[df_dblp_sample[\"max_progz_q\"] == \"<25\"].year.values).most_common(25))\n",
    "print(Counter(df_dblp_sample[df_dblp_sample[\"max_progz_q\"] == \"<50\"].year.values).most_common(25))\n",
    "print(Counter(df_dblp_sample[df_dblp_sample[\"max_progz_q\"] == \"<75\"].year.values).most_common(25))\n",
    "print(Counter(df_dblp_sample[df_dblp_sample[\"max_progz_q\"] == \"<100\"].year.values).most_common(25))"
   ]
  },
  {
   "cell_type": "code",
   "execution_count": 27,
   "metadata": {},
   "outputs": [
    {
     "data": {
      "text/plain": [
       "Ks_2sampResult(statistic=0.2692307692307692, pvalue=0.30712304007383906)"
      ]
     },
     "execution_count": 27,
     "metadata": {},
     "output_type": "execute_result"
    }
   ],
   "source": [
    "from scipy.stats import ks_2samp\n",
    "years = range (1990, 2016)\n",
    "x = [Counter(df_dblp_sample[df_dblp_sample[\"max_progz_q\"] == \"<25\"].year.values)[y] for y in years]\n",
    "y = [Counter(df_dblp_sample[df_dblp_sample[\"max_progz_q\"] == \"<100\"].year.values)[y] for y in years]\n",
    "#y = [item[1] for item in Counter(df_dblp_sample[df_dblp_sample[\"max_progz_q\"] == \"<50\"].year.values).most_common(10)]\n",
    "ks_2samp(x, y)"
   ]
  },
  {
   "cell_type": "code",
   "execution_count": 225,
   "metadata": {},
   "outputs": [],
   "source": [
    "results_dblp = []\n",
    "for formula in formulas_dblp:\n",
    "    Y,X = patsy.dmatrices(formula,data=df_dblp_sample)\n",
    "    results_dblp.append(sm.GLM(Y, X, family=sm.families.Poisson()).fit())"
   ]
  },
  {
   "cell_type": "code",
   "execution_count": 226,
   "metadata": {},
   "outputs": [
    {
     "name": "stdout",
     "output_type": "stream",
     "text": [
      "[-13058904.498834884, -13045513.011874137, -13029739.018962651, -12928727.65162692, -12816015.371621614]\n",
      "-12816015.371621614\n"
     ]
    }
   ],
   "source": [
    "lls = [result.llf for result in results_dblp]\n",
    "print(lls)\n",
    "print (max(lls))"
   ]
  },
  {
   "cell_type": "code",
   "execution_count": 227,
   "metadata": {},
   "outputs": [
    {
     "name": "stdout",
     "output_type": "stream",
     "text": [
      "1 0 \\chi^2_1 = 13391.49, p < 0.000e+00\n",
      "2 0 \\chi^2_1 = 29165.48, p < 0.000e+00\n",
      "2 1 \\chi^2_0 = 15773.99, p < nan\n",
      "3 0 \\chi^2_3 = 130176.85, p < 0.000e+00\n",
      "3 1 \\chi^2_2 = 116785.36, p < 0.000e+00\n",
      "3 2 \\chi^2_2 = 101011.37, p < 0.000e+00\n",
      "4 0 \\chi^2_1 = 242889.13, p < 0.000e+00\n",
      "4 1 \\chi^2_0 = 229497.64, p < nan\n",
      "4 2 \\chi^2_0 = 213723.65, p < nan\n",
      "4 3 \\chi^2_0 = 112712.28, p < nan\n"
     ]
    }
   ],
   "source": [
    "for i,ll_0 in enumerate(lls):\n",
    "    for j,ll_1 in enumerate(lls[:i]):\n",
    "        chi2_score = ll_0-ll_1\n",
    "        dof = len(formulas_dblp[i].split(\"+\")) - len(formulas_dblp[j].split('+'))\n",
    "        if i == 3: dof += 2 #quartiles\n",
    "        print(i,j,f'\\\\chi^2_{dof} = {chi2_score:.2f}, p < {chi2.sf(chi2_score, dof):.3e}')"
   ]
  },
  {
   "cell_type": "code",
   "execution_count": 228,
   "metadata": {},
   "outputs": [
    {
     "name": "stdout",
     "output_type": "stream",
     "text": [
      "                 Generalized Linear Model Regression Results                  \n",
      "==============================================================================\n",
      "Dep. Variable:                  indeg   No. Observations:               250000\n",
      "Model:                            GLM   Df Residuals:                   249993\n",
      "Model Family:                 Poisson   Df Model:                            6\n",
      "Link Function:                    log   Scale:                          1.0000\n",
      "Method:                          IRLS   Log-Likelihood:            -1.3059e+07\n",
      "Date:                Tue, 21 May 2019   Deviance:                   2.5317e+07\n",
      "Time:                        15:31:11   Pearson chi2:                 1.59e+08\n",
      "No. Iterations:                    29   Covariance Type:             nonrobust\n",
      "==============================================================================\n",
      "                 coef    std err          z      P>|z|      [0.025      0.975]\n",
      "------------------------------------------------------------------------------\n",
      "Intercept      1.9429      0.001   1892.966      0.000       1.941       1.945\n",
      "age            0.0793   3.17e-05   2501.715      0.000       0.079       0.079\n",
      "outdeg         0.0091   6.22e-06   1458.378      0.000       0.009       0.009\n",
      "nauthors       0.0539   9.76e-05    552.362      0.000       0.054       0.054\n",
      "ntokens        0.0017   3.67e-06    467.621      0.000       0.002       0.002\n",
      "bows        5.507e-05   8.72e-07     63.131      0.000    5.34e-05    5.68e-05\n",
      "ninnovs        0.0275      0.000    124.823      0.000       0.027       0.028\n",
      "==============================================================================\n",
      "\n",
      "                 Generalized Linear Model Regression Results                  \n",
      "==============================================================================\n",
      "Dep. Variable:                  indeg   No. Observations:               250000\n",
      "Model:                            GLM   Df Residuals:                   249992\n",
      "Model Family:                 Poisson   Df Model:                            7\n",
      "Link Function:                    log   Scale:                          1.0000\n",
      "Method:                          IRLS   Log-Likelihood:            -1.3046e+07\n",
      "Date:                Tue, 21 May 2019   Deviance:                   2.5291e+07\n",
      "Time:                        15:31:11   Pearson chi2:                 1.59e+08\n",
      "No. Iterations:                    29   Covariance Type:             nonrobust\n",
      "==============================================================================\n",
      "                 coef    std err          z      P>|z|      [0.025      0.975]\n",
      "------------------------------------------------------------------------------\n",
      "Intercept      1.9424      0.001   1888.135      0.000       1.940       1.944\n",
      "age            0.0805   3.24e-05   2488.149      0.000       0.080       0.081\n",
      "outdeg         0.0091   6.24e-06   1453.136      0.000       0.009       0.009\n",
      "nauthors       0.0540   9.82e-05    549.797      0.000       0.054       0.054\n",
      "ntokens        0.0017   3.69e-06    464.657      0.000       0.002       0.002\n",
      "bows        5.601e-05   8.67e-07     64.589      0.000    5.43e-05    5.77e-05\n",
      "ninnovs        0.0124      0.000     51.917      0.000       0.012       0.013\n",
      "max_prog       0.0024    1.4e-05    172.755      0.000       0.002       0.002\n",
      "==============================================================================\n",
      "\n",
      "                 Generalized Linear Model Regression Results                  \n",
      "==============================================================================\n",
      "Dep. Variable:                  indeg   No. Observations:               250000\n",
      "Model:                            GLM   Df Residuals:                   249990\n",
      "Model Family:                 Poisson   Df Model:                            9\n",
      "Link Function:                    log   Scale:                          1.0000\n",
      "Method:                          IRLS   Log-Likelihood:            -1.3030e+07\n",
      "Date:                Tue, 21 May 2019   Deviance:                   2.5259e+07\n",
      "Time:                        15:31:11   Pearson chi2:                 1.56e+08\n",
      "No. Iterations:                    29   Covariance Type:             nonrobust\n",
      "======================================================================================\n",
      "                         coef    std err          z      P>|z|      [0.025      0.975]\n",
      "--------------------------------------------------------------------------------------\n",
      "Intercept              1.8680      0.001   1608.232      0.000       1.866       1.870\n",
      "max_prog_q[T.<50]      0.0467      0.001     50.286      0.000       0.045       0.048\n",
      "max_prog_q[T.<75]      0.0988      0.001     98.054      0.000       0.097       0.101\n",
      "max_prog_q[T.<100]     0.2679      0.001    235.824      0.000       0.266       0.270\n",
      "age                    0.0820   3.34e-05   2454.705      0.000       0.082       0.082\n",
      "outdeg                 0.0091   6.27e-06   1447.990      0.000       0.009       0.009\n",
      "nauthors               0.0536   9.98e-05    537.526      0.000       0.053       0.054\n",
      "ntokens                0.0017   3.69e-06    461.232      0.000       0.002       0.002\n",
      "bows                5.537e-05   8.62e-07     64.244      0.000    5.37e-05    5.71e-05\n",
      "ninnovs                0.0052      0.000     21.778      0.000       0.005       0.006\n",
      "======================================================================================\n",
      "\n",
      "                 Generalized Linear Model Regression Results                  \n",
      "==============================================================================\n",
      "Dep. Variable:                  indeg   No. Observations:               250000\n",
      "Model:                            GLM   Df Residuals:                   249992\n",
      "Model Family:                 Poisson   Df Model:                            7\n",
      "Link Function:                    log   Scale:                          1.0000\n",
      "Method:                          IRLS   Log-Likelihood:            -1.2929e+07\n",
      "Date:                Tue, 21 May 2019   Deviance:                   2.5057e+07\n",
      "Time:                        15:31:11   Pearson chi2:                 1.56e+08\n",
      "No. Iterations:                    29   Covariance Type:             nonrobust\n",
      "==============================================================================\n",
      "                 coef    std err          z      P>|z|      [0.025      0.975]\n",
      "------------------------------------------------------------------------------\n",
      "Intercept      2.0320      0.001   1941.584      0.000       2.030       2.034\n",
      "age            0.0785   3.18e-05   2463.408      0.000       0.078       0.079\n",
      "outdeg         0.0090   6.22e-06   1451.214      0.000       0.009       0.009\n",
      "nauthors       0.0543   9.95e-05    545.533      0.000       0.054       0.054\n",
      "ntokens        0.0017   3.71e-06    450.690      0.000       0.002       0.002\n",
      "bows        5.277e-05   8.95e-07     58.966      0.000     5.1e-05    5.45e-05\n",
      "ninnovs       -0.0096      0.000    -42.072      0.000      -0.010      -0.009\n",
      "max_progz      0.1370      0.000    652.480      0.000       0.137       0.137\n",
      "==============================================================================\n",
      "\n",
      "                 Generalized Linear Model Regression Results                  \n",
      "==============================================================================\n",
      "Dep. Variable:                  indeg   No. Observations:               250000\n",
      "Model:                            GLM   Df Residuals:                   249990\n",
      "Model Family:                 Poisson   Df Model:                            9\n",
      "Link Function:                    log   Scale:                          1.0000\n",
      "Method:                          IRLS   Log-Likelihood:            -1.2816e+07\n",
      "Date:                Tue, 21 May 2019   Deviance:                   2.4832e+07\n",
      "Time:                        15:31:11   Pearson chi2:                 1.47e+08\n",
      "No. Iterations:                    29   Covariance Type:             nonrobust\n",
      "=======================================================================================\n",
      "                          coef    std err          z      P>|z|      [0.025      0.975]\n",
      "---------------------------------------------------------------------------------------\n",
      "Intercept               1.7701      0.001   1415.538      0.000       1.768       1.773\n",
      "max_progz_q[T.<50]      0.1791      0.001    149.150      0.000       0.177       0.181\n",
      "max_progz_q[T.<75]      0.4307      0.001    389.021      0.000       0.429       0.433\n",
      "max_progz_q[T.<100]     0.6978      0.001    631.035      0.000       0.696       0.700\n",
      "age                     0.0733   3.38e-05   2168.757      0.000       0.073       0.073\n",
      "outdeg                  0.0090   6.21e-06   1446.357      0.000       0.009       0.009\n",
      "nauthors                0.0541      0.000    525.647      0.000       0.054       0.054\n",
      "ntokens                 0.0018   3.72e-06    475.487      0.000       0.002       0.002\n",
      "bows                 4.408e-05   8.76e-07     50.291      0.000    4.24e-05    4.58e-05\n",
      "ninnovs                -0.0339      0.000   -139.335      0.000      -0.034      -0.033\n",
      "=======================================================================================\n",
      "\n"
     ]
    }
   ],
   "source": [
    "for i in range (len (results_dblp)):\n",
    "    print(results_dblp[i].summary())\n",
    "    print ()"
   ]
  },
  {
   "cell_type": "code",
   "execution_count": 230,
   "metadata": {},
   "outputs": [],
   "source": [
    "df_dblp_sample.to_csv (\"../data/frames/emnlp/dblp.final\", sep=\",\", index=False)"
   ]
  }
 ],
 "metadata": {
  "kernelspec": {
   "display_name": "Python 3",
   "language": "python",
   "name": "python3"
  },
  "language_info": {
   "codemirror_mode": {
    "name": "ipython",
    "version": 3
   },
   "file_extension": ".py",
   "mimetype": "text/x-python",
   "name": "python",
   "nbconvert_exporter": "python",
   "pygments_lexer": "ipython3",
   "version": "3.7.4"
  }
 },
 "nbformat": 4,
 "nbformat_minor": 2
}
