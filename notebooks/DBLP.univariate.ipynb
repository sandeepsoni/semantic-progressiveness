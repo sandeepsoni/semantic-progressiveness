{
 "cells": [
  {
   "cell_type": "code",
   "execution_count": 13,
   "metadata": {},
   "outputs": [],
   "source": [
    "import pandas as pd\n",
    "import matplotlib.pyplot as plt\n",
    "import seaborn as sns\n",
    "%matplotlib inline\n",
    "\n",
    "import statsmodels.api as sm\n",
    "import patsy\n",
    "\n",
    "import numpy as np\n",
    "import os\n",
    "from collections import Counter"
   ]
  },
  {
   "cell_type": "code",
   "execution_count": 3,
   "metadata": {},
   "outputs": [],
   "source": [
    "dblp_dir = \"/hg190/corpora/academic-data/dblp/stats/\"\n",
    "dblp_features_file = os.path.join (dblp_dir, \"dblp.feats_manual.complete\")"
   ]
  },
  {
   "cell_type": "code",
   "execution_count": 46,
   "metadata": {},
   "outputs": [
    {
     "name": "stdout",
     "output_type": "stream",
     "text": [
      "2408010\n",
      "42508\n"
     ]
    },
    {
     "data": {
      "text/html": [
       "<div>\n",
       "<style scoped>\n",
       "    .dataframe tbody tr th:only-of-type {\n",
       "        vertical-align: middle;\n",
       "    }\n",
       "\n",
       "    .dataframe tbody tr th {\n",
       "        vertical-align: top;\n",
       "    }\n",
       "\n",
       "    .dataframe thead th {\n",
       "        text-align: right;\n",
       "    }\n",
       "</style>\n",
       "<table border=\"1\" class=\"dataframe\">\n",
       "  <thead>\n",
       "    <tr style=\"text-align: right;\">\n",
       "      <th></th>\n",
       "      <th>docid</th>\n",
       "      <th>indeg</th>\n",
       "      <th>outdeg</th>\n",
       "      <th>year</th>\n",
       "      <th>nauthors</th>\n",
       "      <th>nuniqs</th>\n",
       "      <th>ntokens</th>\n",
       "      <th>lang</th>\n",
       "      <th>bows</th>\n",
       "      <th>nprog</th>\n",
       "      <th>...</th>\n",
       "      <th>max_reg</th>\n",
       "      <th>max_reg_word</th>\n",
       "      <th>nprog99</th>\n",
       "      <th>nprog95</th>\n",
       "      <th>nprog90</th>\n",
       "      <th>nprog50</th>\n",
       "      <th>nreg99</th>\n",
       "      <th>nreg95</th>\n",
       "      <th>nreg90</th>\n",
       "      <th>nreg50</th>\n",
       "    </tr>\n",
       "  </thead>\n",
       "  <tbody>\n",
       "    <tr>\n",
       "      <th>0</th>\n",
       "      <td>35b7f3ac-25dd-4b4e-8c46-adeac09aba54</td>\n",
       "      <td>92</td>\n",
       "      <td>0</td>\n",
       "      <td>1949</td>\n",
       "      <td>2</td>\n",
       "      <td>92</td>\n",
       "      <td>152</td>\n",
       "      <td>en</td>\n",
       "      <td>11.524227</td>\n",
       "      <td>5</td>\n",
       "      <td>...</td>\n",
       "      <td>-1.476099</td>\n",
       "      <td>regenerating</td>\n",
       "      <td>0.000000</td>\n",
       "      <td>0.000000</td>\n",
       "      <td>0.000000</td>\n",
       "      <td>3.000000</td>\n",
       "      <td>0.000000</td>\n",
       "      <td>0.000000</td>\n",
       "      <td>0.000000</td>\n",
       "      <td>4.000000</td>\n",
       "    </tr>\n",
       "    <tr>\n",
       "      <th>1</th>\n",
       "      <td>b17b90b3-6ee1-4226-8420-b914f8fa88dc</td>\n",
       "      <td>47</td>\n",
       "      <td>1</td>\n",
       "      <td>1950</td>\n",
       "      <td>2</td>\n",
       "      <td>158</td>\n",
       "      <td>515</td>\n",
       "      <td>en</td>\n",
       "      <td>16.430503</td>\n",
       "      <td>2</td>\n",
       "      <td>...</td>\n",
       "      <td>-1.332051</td>\n",
       "      <td>sort</td>\n",
       "      <td>0.000000</td>\n",
       "      <td>0.000000</td>\n",
       "      <td>0.000000</td>\n",
       "      <td>0.000000</td>\n",
       "      <td>0.000000</td>\n",
       "      <td>0.000000</td>\n",
       "      <td>0.000000</td>\n",
       "      <td>3.000000</td>\n",
       "    </tr>\n",
       "    <tr>\n",
       "      <th>2</th>\n",
       "      <td>01c6a1a9-3c59-42fa-9a27-d26cdcb9957c</td>\n",
       "      <td>0</td>\n",
       "      <td>0</td>\n",
       "      <td>1950</td>\n",
       "      <td>1</td>\n",
       "      <td>162</td>\n",
       "      <td>372</td>\n",
       "      <td>en</td>\n",
       "      <td>5.324948</td>\n",
       "      <td>1</td>\n",
       "      <td>...</td>\n",
       "      <td>-1.926402</td>\n",
       "      <td>mi</td>\n",
       "      <td>0.000000</td>\n",
       "      <td>0.000000</td>\n",
       "      <td>0.000000</td>\n",
       "      <td>0.000000</td>\n",
       "      <td>0.000000</td>\n",
       "      <td>0.000000</td>\n",
       "      <td>1.000000</td>\n",
       "      <td>3.000000</td>\n",
       "    </tr>\n",
       "    <tr>\n",
       "      <th>3</th>\n",
       "      <td>ad87498e-7a57-4076-88ba-8be4f5032293</td>\n",
       "      <td>50</td>\n",
       "      <td>0</td>\n",
       "      <td>1951</td>\n",
       "      <td>1</td>\n",
       "      <td>53</td>\n",
       "      <td>79</td>\n",
       "      <td>en</td>\n",
       "      <td>12.332035</td>\n",
       "      <td>1</td>\n",
       "      <td>...</td>\n",
       "      <td>0.254160</td>\n",
       "      <td>inner</td>\n",
       "      <td>0.000000</td>\n",
       "      <td>0.000000</td>\n",
       "      <td>0.000000</td>\n",
       "      <td>0.000000</td>\n",
       "      <td>0.000000</td>\n",
       "      <td>0.000000</td>\n",
       "      <td>0.000000</td>\n",
       "      <td>1.000000</td>\n",
       "    </tr>\n",
       "    <tr>\n",
       "      <th>4</th>\n",
       "      <td>95031834-3520-4151-b0ba-eabb7ec082cf</td>\n",
       "      <td>0</td>\n",
       "      <td>0</td>\n",
       "      <td>1952</td>\n",
       "      <td>1</td>\n",
       "      <td>84</td>\n",
       "      <td>121</td>\n",
       "      <td>en</td>\n",
       "      <td>11.694387</td>\n",
       "      <td>1</td>\n",
       "      <td>...</td>\n",
       "      <td>2.012727</td>\n",
       "      <td>deep</td>\n",
       "      <td>0.000000</td>\n",
       "      <td>0.000000</td>\n",
       "      <td>0.000000</td>\n",
       "      <td>1.000000</td>\n",
       "      <td>0.000000</td>\n",
       "      <td>0.000000</td>\n",
       "      <td>0.000000</td>\n",
       "      <td>0.000000</td>\n",
       "    </tr>\n",
       "    <tr>\n",
       "      <th>5</th>\n",
       "      <td>9a6893a1-d15e-4ece-b919-5bac85711b87</td>\n",
       "      <td>50</td>\n",
       "      <td>1</td>\n",
       "      <td>1953</td>\n",
       "      <td>1</td>\n",
       "      <td>102</td>\n",
       "      <td>223</td>\n",
       "      <td>en</td>\n",
       "      <td>-0.040050</td>\n",
       "      <td>1</td>\n",
       "      <td>...</td>\n",
       "      <td>-0.368087</td>\n",
       "      <td>spectrum</td>\n",
       "      <td>0.000000</td>\n",
       "      <td>0.000000</td>\n",
       "      <td>0.000000</td>\n",
       "      <td>1.000000</td>\n",
       "      <td>0.000000</td>\n",
       "      <td>0.000000</td>\n",
       "      <td>0.000000</td>\n",
       "      <td>1.000000</td>\n",
       "    </tr>\n",
       "    <tr>\n",
       "      <th>6</th>\n",
       "      <td>ec94cddb-b89b-483a-8254-1d4ccfb5dca6</td>\n",
       "      <td>1</td>\n",
       "      <td>1</td>\n",
       "      <td>1953</td>\n",
       "      <td>1</td>\n",
       "      <td>46</td>\n",
       "      <td>61</td>\n",
       "      <td>en</td>\n",
       "      <td>8.455391</td>\n",
       "      <td>0</td>\n",
       "      <td>...</td>\n",
       "      <td>-inf</td>\n",
       "      <td>UNK</td>\n",
       "      <td>-inf</td>\n",
       "      <td>-inf</td>\n",
       "      <td>-inf</td>\n",
       "      <td>-inf</td>\n",
       "      <td>-inf</td>\n",
       "      <td>-inf</td>\n",
       "      <td>-inf</td>\n",
       "      <td>-inf</td>\n",
       "    </tr>\n",
       "    <tr>\n",
       "      <th>7</th>\n",
       "      <td>8dc7b347-e77c-46f6-ae89-1ad89607239f</td>\n",
       "      <td>12</td>\n",
       "      <td>0</td>\n",
       "      <td>1953</td>\n",
       "      <td>1</td>\n",
       "      <td>66</td>\n",
       "      <td>119</td>\n",
       "      <td>en</td>\n",
       "      <td>12.716166</td>\n",
       "      <td>1</td>\n",
       "      <td>...</td>\n",
       "      <td>0.015638</td>\n",
       "      <td>branch</td>\n",
       "      <td>0.000000</td>\n",
       "      <td>0.000000</td>\n",
       "      <td>0.000000</td>\n",
       "      <td>0.000000</td>\n",
       "      <td>0.000000</td>\n",
       "      <td>0.000000</td>\n",
       "      <td>0.000000</td>\n",
       "      <td>1.000000</td>\n",
       "    </tr>\n",
       "    <tr>\n",
       "      <th>8</th>\n",
       "      <td>b399d0fa-aa41-414d-b002-f207d72a4fbf</td>\n",
       "      <td>110</td>\n",
       "      <td>0</td>\n",
       "      <td>1953</td>\n",
       "      <td>1</td>\n",
       "      <td>155</td>\n",
       "      <td>314</td>\n",
       "      <td>en</td>\n",
       "      <td>8.140402</td>\n",
       "      <td>2</td>\n",
       "      <td>...</td>\n",
       "      <td>-1.500011</td>\n",
       "      <td>pattern</td>\n",
       "      <td>0.000000</td>\n",
       "      <td>0.000000</td>\n",
       "      <td>0.000000</td>\n",
       "      <td>0.000000</td>\n",
       "      <td>0.000000</td>\n",
       "      <td>0.000000</td>\n",
       "      <td>0.000000</td>\n",
       "      <td>4.000000</td>\n",
       "    </tr>\n",
       "    <tr>\n",
       "      <th>9</th>\n",
       "      <td>bdeb48c4-20d6-42dd-8de3-092c09c5c090</td>\n",
       "      <td>50</td>\n",
       "      <td>0</td>\n",
       "      <td>1953</td>\n",
       "      <td>1</td>\n",
       "      <td>192</td>\n",
       "      <td>453</td>\n",
       "      <td>en</td>\n",
       "      <td>1.214490</td>\n",
       "      <td>3</td>\n",
       "      <td>...</td>\n",
       "      <td>-0.716116</td>\n",
       "      <td>sub</td>\n",
       "      <td>0.000000</td>\n",
       "      <td>0.000000</td>\n",
       "      <td>0.000000</td>\n",
       "      <td>0.000000</td>\n",
       "      <td>0.000000</td>\n",
       "      <td>0.000000</td>\n",
       "      <td>0.000000</td>\n",
       "      <td>4.000000</td>\n",
       "    </tr>\n",
       "  </tbody>\n",
       "</table>\n",
       "<p>10 rows × 23 columns</p>\n",
       "</div>"
      ],
      "text/plain": [
       "                                  docid  indeg  outdeg  year  nauthors  \\\n",
       "0  35b7f3ac-25dd-4b4e-8c46-adeac09aba54     92       0  1949         2   \n",
       "1  b17b90b3-6ee1-4226-8420-b914f8fa88dc     47       1  1950         2   \n",
       "2  01c6a1a9-3c59-42fa-9a27-d26cdcb9957c      0       0  1950         1   \n",
       "3  ad87498e-7a57-4076-88ba-8be4f5032293     50       0  1951         1   \n",
       "4  95031834-3520-4151-b0ba-eabb7ec082cf      0       0  1952         1   \n",
       "5  9a6893a1-d15e-4ece-b919-5bac85711b87     50       1  1953         1   \n",
       "6  ec94cddb-b89b-483a-8254-1d4ccfb5dca6      1       1  1953         1   \n",
       "7  8dc7b347-e77c-46f6-ae89-1ad89607239f     12       0  1953         1   \n",
       "8  b399d0fa-aa41-414d-b002-f207d72a4fbf    110       0  1953         1   \n",
       "9  bdeb48c4-20d6-42dd-8de3-092c09c5c090     50       0  1953         1   \n",
       "\n",
       "   nuniqs  ntokens lang       bows  nprog    ...      max_reg  max_reg_word  \\\n",
       "0      92      152   en  11.524227      5    ...    -1.476099  regenerating   \n",
       "1     158      515   en  16.430503      2    ...    -1.332051          sort   \n",
       "2     162      372   en   5.324948      1    ...    -1.926402            mi   \n",
       "3      53       79   en  12.332035      1    ...     0.254160         inner   \n",
       "4      84      121   en  11.694387      1    ...     2.012727          deep   \n",
       "5     102      223   en  -0.040050      1    ...    -0.368087      spectrum   \n",
       "6      46       61   en   8.455391      0    ...         -inf           UNK   \n",
       "7      66      119   en  12.716166      1    ...     0.015638        branch   \n",
       "8     155      314   en   8.140402      2    ...    -1.500011       pattern   \n",
       "9     192      453   en   1.214490      3    ...    -0.716116           sub   \n",
       "\n",
       "    nprog99   nprog95   nprog90   nprog50    nreg99    nreg95    nreg90  \\\n",
       "0  0.000000  0.000000  0.000000  3.000000  0.000000  0.000000  0.000000   \n",
       "1  0.000000  0.000000  0.000000  0.000000  0.000000  0.000000  0.000000   \n",
       "2  0.000000  0.000000  0.000000  0.000000  0.000000  0.000000  1.000000   \n",
       "3  0.000000  0.000000  0.000000  0.000000  0.000000  0.000000  0.000000   \n",
       "4  0.000000  0.000000  0.000000  1.000000  0.000000  0.000000  0.000000   \n",
       "5  0.000000  0.000000  0.000000  1.000000  0.000000  0.000000  0.000000   \n",
       "6      -inf      -inf      -inf      -inf      -inf      -inf      -inf   \n",
       "7  0.000000  0.000000  0.000000  0.000000  0.000000  0.000000  0.000000   \n",
       "8  0.000000  0.000000  0.000000  0.000000  0.000000  0.000000  0.000000   \n",
       "9  0.000000  0.000000  0.000000  0.000000  0.000000  0.000000  0.000000   \n",
       "\n",
       "     nreg50  \n",
       "0  4.000000  \n",
       "1  3.000000  \n",
       "2  3.000000  \n",
       "3  1.000000  \n",
       "4  0.000000  \n",
       "5  1.000000  \n",
       "6      -inf  \n",
       "7  1.000000  \n",
       "8  4.000000  \n",
       "9  4.000000  \n",
       "\n",
       "[10 rows x 23 columns]"
      ]
     },
     "execution_count": 46,
     "metadata": {},
     "output_type": "execute_result"
    }
   ],
   "source": [
    "df_dblp = pd.read_csv(dblp_features_file)\n",
    "print (len (df_dblp))\n",
    "print(df_dblp['indeg'].max())\n",
    "df_dblp.head(3)"
   ]
  },
  {
   "cell_type": "markdown",
   "metadata": {},
   "source": [
    "**Filter**\n",
    "\n",
    "- Keep only English language records.\n",
    "- Remove records that contain exactly 50 citations (I had plotted a histograms and it seems there was some discrepancy with this value -- better just remove it)\n",
    "\n",
    "**Transform**\n",
    "- Add an extra column for age.\n",
    "- Add an extra column for not containing any semantic words."
   ]
  },
  {
   "cell_type": "code",
   "execution_count": 47,
   "metadata": {},
   "outputs": [
    {
     "name": "stdout",
     "output_type": "stream",
     "text": [
      "1671606\n"
     ]
    }
   ],
   "source": [
    "print (len(df_dblp[(df_dblp[\"lang\"] == \"en\") & (df_dblp[\"indeg\"] != 50)]))\n",
    "df_dblp = df_dblp[(df_dblp[\"lang\"] == \"en\") & (df_dblp[\"indeg\"] != 50)]"
   ]
  },
  {
   "cell_type": "code",
   "execution_count": 48,
   "metadata": {},
   "outputs": [],
   "source": [
    "df_dblp[\"age\"] = 2019 - df_dblp[\"year\"]\n",
    "df_dblp[\"isUNK\"] = (df_dblp[\"max_prog_word\"] == \"UNK\").astype(int)"
   ]
  },
  {
   "cell_type": "code",
   "execution_count": 49,
   "metadata": {},
   "outputs": [
    {
     "name": "stdout",
     "output_type": "stream",
     "text": [
      "1511088\n"
     ]
    }
   ],
   "source": [
    "# for simplicity of descriptive analysis, let's remove docs which don't hit the lexicon\n",
    "# In the regression we will have to add a dummy variable to account for this.\n",
    "drop_misses = True\n",
    "if drop_misses:\n",
    "    df_dblp = df_dblp[df_dblp[\"isUNK\"] == 0]\n",
    "print (len(df_dblp))"
   ]
  },
  {
   "cell_type": "markdown",
   "metadata": {},
   "source": [
    "**Descriptive analysis**"
   ]
  },
  {
   "cell_type": "code",
   "execution_count": 50,
   "metadata": {},
   "outputs": [],
   "source": [
    "# quartile-ish bins of the innovation feature  \n",
    "df_dblp['max_prog_q'] = pd.qcut(df_dblp['max_prog'],4, labels=[\"<25\", \"<50\", \"<75\", \"<100\"], duplicates='drop')\n",
    "# custom bins of the innovation feature  \n",
    "bins = pd.IntervalIndex.from_tuples([(0, 1), (1, 3), (3, 20)], closed=\"left\")\n",
    "df_dblp['nprog95_q'] = pd.cut (df_dblp[\"nprog95\"], bins=bins, labels=[\"0\", \"<=2\", \"3+\"], retbins=False, duplicates=\"drop\")"
   ]
  },
  {
   "cell_type": "code",
   "execution_count": 51,
   "metadata": {},
   "outputs": [
    {
     "data": {
      "text/plain": [
       "Text(0, 0.5, 'Citations')"
      ]
     },
     "execution_count": 51,
     "metadata": {},
     "output_type": "execute_result"
    },
    {
     "data": {
      "image/png": "[encoded data removed]",
      "text/plain": [
       "<Figure size 504x144 with 1 Axes>"
      ]
     },
     "metadata": {
      "needs_background": "light"
     },
     "output_type": "display_data"
    }
   ],
   "source": [
    "sns.set_context(\"paper\")\n",
    "fig,ax = plt.subplots(1,1,figsize=[7,2],sharey=True)\n",
    "\n",
    "#sns.barplot(y='indeg',x='sem_q',data=df_ops,ax=ax[0]);\n",
    "#ax[0].set_title('Legal opinions')\n",
    "#ax[0].set_xlabel('Quantiles')\n",
    "#ax[0].set_ylabel('Citations')\n",
    "sns.barplot(y='indeg',x='max_prog_q',data=df_dblp,ax=ax);\n",
    "ax.set_title('Scientific articles');\n",
    "ax.set_xlabel('Quantiles')\n",
    "ax.set_ylabel('Citations')"
   ]
  },
  {
   "cell_type": "markdown",
   "metadata": {},
   "source": [
    "This does not look great. But we have seen this before. There are two possible explanations for this:\n",
    "\n",
    "- DBLP contains a lot of seminal old papers which may have gotten popular due to other reasons besides progressiveness. Moreover, they have more coverage of papers in the recent years but contain only the most popular ones from the past.\n",
    "- The more recent papers are highly progressive but haven't had much time to have an impact.\n",
    "\n",
    "Let's just control for age and see what the story is."
   ]
  },
  {
   "cell_type": "code",
   "execution_count": 52,
   "metadata": {},
   "outputs": [
    {
     "data": {
      "text/plain": [
       "Text(0, 0.5, '')"
      ]
     },
     "execution_count": 52,
     "metadata": {},
     "output_type": "execute_result"
    },
    {
     "data": {
      "image/png": "[encoded data removed]",
      "text/plain": [
       "<Figure size 504x144 with 3 Axes>"
      ]
     },
     "metadata": {
      "needs_background": "light"
     },
     "output_type": "display_data"
    }
   ],
   "source": [
    "df_dblp_post_2010 = df_dblp[(df_dblp[\"year\"] > 2010)]\n",
    "df_dblp_post_2000 = df_dblp[(df_dblp[\"year\"] > 2000)]\n",
    "df_dblp_post_1990 = df_dblp[(df_dblp[\"year\"] > 1990)]\n",
    "\n",
    "sns.set_context(\"paper\")\n",
    "fig,ax = plt.subplots(1,3,figsize=[7,2],sharey=True)\n",
    "\n",
    "sns.barplot(y='indeg',x='max_prog_q',data=df_dblp_post_2010,ax=ax[0]);\n",
    "ax[0].set_title('Post 2010')\n",
    "ax[0].set_xlabel('Quantiles')\n",
    "ax[0].set_ylabel('Citations')\n",
    "\n",
    "sns.barplot(y='indeg',x='max_prog_q',data=df_dblp_post_2000,ax=ax[1]);\n",
    "ax[1].set_title('Post 2000');\n",
    "ax[1].set_xlabel('Quantiles')\n",
    "ax[1].set_ylabel('')\n",
    "\n",
    "sns.barplot(y='indeg',x='max_prog_q',data=df_dblp_post_1990,ax=ax[2]);\n",
    "ax[2].set_title('Post 1990');\n",
    "ax[2].set_xlabel('Quantiles')\n",
    "ax[2].set_ylabel('')"
   ]
  },
  {
   "cell_type": "markdown",
   "metadata": {},
   "source": [
    "Looks much better.\n",
    "\n",
    "- Post 2010, we see the expected trend ruling out the second explanation for the discrepancy.\n",
    "- Post 2000, almost even.\n",
    "- Post 1990, the trend reverses which aligns with the intuition that older papers get more popular because of their age.\n",
    "\n",
    "Its still not ideal, but hopefully by controlling for age of the document in the multivariate analysis, we will get the right answer.\n",
    "\n",
    "(perhaps also points to the limitation of our metric which tends to score more heavily on progressiveness for recent documents)"
   ]
  },
  {
   "cell_type": "code",
   "execution_count": 103,
   "metadata": {},
   "outputs": [
    {
     "name": "stdout",
     "output_type": "stream",
     "text": [
      "748871\n"
     ]
    }
   ],
   "source": [
    "df_dblp_2000s = df_dblp[(df_dblp[\"year\"] > 1980) & (df_dblp[\"year\"] <= 2010)]\n",
    "print (len(df_dblp_2000s))"
   ]
  },
  {
   "cell_type": "code",
   "execution_count": 104,
   "metadata": {},
   "outputs": [
    {
     "data": {
      "image/png": "[encoded data removed]",
      "text/plain": [
       "<Figure size 432x252 with 1 Axes>"
      ]
     },
     "metadata": {
      "needs_background": "light"
     },
     "output_type": "display_data"
    }
   ],
   "source": [
    "sns.set_context(\"paper\")\n",
    "fig,ax = plt.subplots(1,1,figsize=[6,3.5])\n",
    "sns.barplot(y='indeg',x='max_prog_q',data=df_dblp_2000s,ax=ax);\n",
    "ax.set_title('Scientific articles');"
   ]
  },
  {
   "cell_type": "code",
   "execution_count": 91,
   "metadata": {},
   "outputs": [],
   "source": [
    "pd.IntervalIndex.from_tuples?"
   ]
  },
  {
   "cell_type": "code",
   "execution_count": 106,
   "metadata": {},
   "outputs": [],
   "source": [
    "bins = pd.IntervalIndex.from_tuples([(0, 1), (1, 4), (4, np.inf)], closed=\"left\")\n",
    "df_dblp['nprog50_q'] = pd.cut (df_dblp[\"nprog50\"], bins=bins, labels=[\"0\", \"<=2\", \"3+\"], retbins=False, duplicates=\"drop\")\n",
    "df_dblp['nprog90_q'] = pd.cut (df_dblp[\"nprog90\"], bins=bins, labels=[\"0\", \"<=2\", \"3+\"], retbins=False, duplicates=\"drop\")\n",
    "df_dblp['nprog95_q'] = pd.cut (df_dblp[\"nprog95\"], bins=bins, labels=[\"0\", \"<=2\", \"3+\"], retbins=False, duplicates=\"drop\")\n",
    "df_dblp['nprog99_q'] = pd.cut (df_dblp[\"nprog99\"], bins=bins, labels=[\"0\", \"<=2\", \"3+\"], retbins=False, duplicates=\"drop\")"
   ]
  },
  {
   "cell_type": "code",
   "execution_count": 108,
   "metadata": {},
   "outputs": [
    {
     "name": "stdout",
     "output_type": "stream",
     "text": [
      "748871\n"
     ]
    }
   ],
   "source": [
    "df_dblp_2000s = df_dblp[(df_dblp[\"year\"] > 1980) & (df_dblp[\"year\"] <= 2010)]\n",
    "print (len(df_dblp_2000s))"
   ]
  },
  {
   "cell_type": "code",
   "execution_count": 105,
   "metadata": {},
   "outputs": [
    {
     "data": {
      "image/png": "[encoded data removed]",
      "text/plain": [
       "<Figure size 432x252 with 1 Axes>"
      ]
     },
     "metadata": {
      "needs_background": "light"
     },
     "output_type": "display_data"
    }
   ],
   "source": [
    "sns.set_context(\"paper\")\n",
    "fig,ax = plt.subplots(1,1,figsize=[6,3.5])\n",
    "sns.barplot(y='indeg',x='nprog95_q',data=df_dblp_2000s,ax=ax);\n",
    "ax.set_title('Scientific articles');"
   ]
  },
  {
   "cell_type": "code",
   "execution_count": 111,
   "metadata": {},
   "outputs": [
    {
     "data": {
      "text/plain": [
       "array(['docid', 'indeg', 'outdeg', 'year', 'nauthors', 'nuniqs',\n",
       "       'ntokens', 'lang', 'bows', 'nprog', 'nreg', 'max_prog',\n",
       "       'max_prog_word', 'max_reg', 'max_reg_word', 'nprog99', 'nprog95',\n",
       "       'nprog90', 'nprog50', 'nreg99', 'nreg95', 'nreg90', 'nreg50',\n",
       "       'age', 'isUNK', 'max_prog_q', 'nprog95_q', 'nprog50_q',\n",
       "       'nprog90_q', 'nprog99_q'], dtype=object)"
      ]
     },
     "execution_count": 111,
     "metadata": {},
     "output_type": "execute_result"
    }
   ],
   "source": [
    "df_dblp_2000s.columns.values"
   ]
  },
  {
   "cell_type": "code",
   "execution_count": 116,
   "metadata": {},
   "outputs": [
    {
     "data": {
      "text/plain": [
       "Text(0, 0.5, '')"
      ]
     },
     "execution_count": 116,
     "metadata": {},
     "output_type": "execute_result"
    },
    {
     "data": {
      "image/png": "[encoded data removed]",
      "text/plain": [
       "<Figure size 720x144 with 4 Axes>"
      ]
     },
     "metadata": {
      "needs_background": "light"
     },
     "output_type": "display_data"
    }
   ],
   "source": [
    "sns.set_context(\"paper\")\n",
    "fig,ax = plt.subplots(1,4,figsize=[10,2],sharey=True)\n",
    "\n",
    "sns.barplot(y='indeg',x='nprog50_q',data=df_dblp_2000s,ax=ax[0]);\n",
    "ax[0].set_title('>50 percentile')\n",
    "ax[0].set_xlabel('Intervals')\n",
    "ax[0].set_ylabel('Citations')\n",
    "\n",
    "\n",
    "sns.barplot(y='indeg',x='nprog90_q',data=df_dblp_2000s,ax=ax[1]);\n",
    "ax[1].set_title('>90 percentile');\n",
    "ax[1].set_xlabel('Intervals')\n",
    "ax[1].set_ylabel('')\n",
    "\n",
    "sns.barplot(y='indeg',x='nprog95_q',data=df_dblp_2000s,ax=ax[2]);\n",
    "ax[2].set_title('>95 percentile');\n",
    "ax[2].set_xlabel('Intervals')\n",
    "ax[2].set_ylabel('')\n",
    "\n",
    "sns.barplot(y='indeg',x='nprog99_q',data=df_dblp_2000s,ax=ax[3]);\n",
    "ax[3].set_title('>99 percentile');\n",
    "ax[3].set_xlabel('Intervals')\n",
    "ax[3].set_ylabel('')"
   ]
  }
 ],
 "metadata": {
  "kernelspec": {
   "display_name": "Python 3",
   "language": "python",
   "name": "python3"
  },
  "language_info": {
   "codemirror_mode": {
    "name": "ipython",
    "version": 3
   },
   "file_extension": ".py",
   "mimetype": "text/x-python",
   "name": "python",
   "nbconvert_exporter": "python",
   "pygments_lexer": "ipython3",
   "version": "3.6.6"
  }
 },
 "nbformat": 4,
 "nbformat_minor": 2
}
