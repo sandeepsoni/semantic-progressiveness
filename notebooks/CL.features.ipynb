{
 "cells": [
  {
   "cell_type": "markdown",
   "metadata": {},
   "source": [
    "This notebook implements feature extraction methods for the courtlistener dataset. It assumes that the following files are present:\n",
    "\n",
    "- **cites.csv** : get ground-truth indegree as well as network features.\n",
    "- **ops_meta.jsonl** : get metadata features (eg. court, date, precedent, *judges*, *statutes*)\n",
    "- **ops_text.jsonl** : get text features."
   ]
  },
  {
   "cell_type": "code",
   "execution_count": 23,
   "metadata": {},
   "outputs": [],
   "source": [
    "import os\n",
    "import ujson\n",
    "import pandas as pd\n",
    "from collections import Counter\n",
    "import matplotlib.pyplot as plt\n",
    "import numpy as np\n",
    "import seaborn as sns"
   ]
  },
  {
   "cell_type": "code",
   "execution_count": 16,
   "metadata": {},
   "outputs": [],
   "source": [
    "%matplotlib inline"
   ]
  },
  {
   "cell_type": "code",
   "execution_count": 2,
   "metadata": {},
   "outputs": [],
   "source": [
    "CLDIR = \"/hg191/corpora/legaldata/\"\n",
    "REGRESSIONS_DATA_DIR = os.path.join (CLDIR, \"regressions\", \"data\")"
   ]
  },
  {
   "cell_type": "markdown",
   "metadata": {},
   "source": [
    "## IDs"
   ]
  },
  {
   "cell_type": "code",
   "execution_count": 45,
   "metadata": {},
   "outputs": [],
   "source": [
    "with open (os.path.join (CLDIR, \"ops_meta.jsonl\")) as fin, open (os.path.join (REGRESSIONS_DATA_DIR, \"ids.dat\"), \"w\") as fout:\n",
    "    for line in fin:\n",
    "        js = ujson.loads (line)\n",
    "        fout.write (\"{0}\\n\".format (js[\"id\"]))"
   ]
  },
  {
   "cell_type": "markdown",
   "metadata": {},
   "source": [
    "## Courts"
   ]
  },
  {
   "cell_type": "code",
   "execution_count": 3,
   "metadata": {},
   "outputs": [],
   "source": [
    "with open (os.path.join (CLDIR, \"ops_meta.jsonl\")) as fin, open (os.path.join (REGRESSIONS_DATA_DIR, \"courts.dat\"), \"w\") as fout:\n",
    "    fout.write (\"id,court\\n\")\n",
    "    for line in fin:\n",
    "        js = ujson.loads (line)\n",
    "        fout.write (\",\".join([str(js[\"id\"]), js[\"court\"]]) + \"\\n\")"
   ]
  },
  {
   "cell_type": "code",
   "execution_count": 4,
   "metadata": {},
   "outputs": [],
   "source": [
    "df = pd.read_csv (os.path.join (REGRESSIONS_DATA_DIR, \"courts.dat\"), sep=\",\")"
   ]
  },
  {
   "cell_type": "markdown",
   "metadata": {},
   "source": [
    "## Citations"
   ]
  },
  {
   "cell_type": "code",
   "execution_count": 9,
   "metadata": {},
   "outputs": [],
   "source": [
    "net = pd.read_csv (os.path.join (CLDIR, \"cites.csv\"), sep=\",\")\n",
    "outdegree = Counter (net.citing_opinion_id.values)\n",
    "indegree = Counter (net.cited_opinion_id.values)"
   ]
  },
  {
   "cell_type": "code",
   "execution_count": 14,
   "metadata": {},
   "outputs": [
    {
     "name": "stdout",
     "output_type": "stream",
     "text": [
      "3032627\n",
      "2030098\n"
     ]
    }
   ],
   "source": [
    "print (len (outdegree))\n",
    "print (len (indegree))"
   ]
  },
  {
   "cell_type": "code",
   "execution_count": 34,
   "metadata": {},
   "outputs": [
    {
     "data": {
      "text/plain": [
       "<matplotlib.axes._subplots.AxesSubplot at 0x7fd9431acf60>"
      ]
     },
     "execution_count": 34,
     "metadata": {},
     "output_type": "execute_result"
    },
    {
     "data": {
      "image/png": "[encoded data removed]",
      "text/plain": [
       "<Figure size 432x288 with 1 Axes>"
      ]
     },
     "metadata": {
      "needs_background": "light"
     },
     "output_type": "display_data"
    }
   ],
   "source": [
    "y = np.array([val+1 for _,val in sorted (outdegree.items(), key=lambda x:x[1], reverse=True)])\n",
    "x = np.arange(1, len (y)+1)\n",
    "plt.loglog (x,y)\n",
    "sns.distplot (np.log(y), bins=20, kde=False)"
   ]
  },
  {
   "cell_type": "code",
   "execution_count": 35,
   "metadata": {},
   "outputs": [
    {
     "data": {
      "text/plain": [
       "<matplotlib.axes._subplots.AxesSubplot at 0x7fd93d2bb208>"
      ]
     },
     "execution_count": 35,
     "metadata": {},
     "output_type": "execute_result"
    },
    {
     "data": {
      "image/png": "[encoded data removed]",
      "text/plain": [
       "<Figure size 432x288 with 1 Axes>"
      ]
     },
     "metadata": {
      "needs_background": "light"
     },
     "output_type": "display_data"
    }
   ],
   "source": [
    "y = np.array([val+1 for _,val in sorted (indegree.items(), key=lambda x:x[1], reverse=True)])\n",
    "x = np.arange(1, len (y)+1)\n",
    "plt.loglog (x,y)\n",
    "sns.distplot (np.log(y), bins=20, kde=False)"
   ]
  },
  {
   "cell_type": "code",
   "execution_count": 36,
   "metadata": {},
   "outputs": [],
   "source": [
    "with open (os.path.join (REGRESSIONS_DATA_DIR, \"outdegree.dat\"), \"w\") as fout:\n",
    "    fout.write (\"id,outd\\n\")\n",
    "    for key in outdegree:\n",
    "        fout.write (\",\".join ([str (key), str (outdegree[key])]) + \"\\n\")"
   ]
  },
  {
   "cell_type": "code",
   "execution_count": 37,
   "metadata": {},
   "outputs": [],
   "source": [
    "with open (os.path.join (REGRESSIONS_DATA_DIR, \"indegree.dat\"), \"w\") as fout:\n",
    "    fout.write (\"id,ind\\n\")\n",
    "    for key in outdegree:\n",
    "        fout.write (\",\".join ([str (key), str (indegree[key])]) + \"\\n\")"
   ]
  },
  {
   "cell_type": "markdown",
   "metadata": {},
   "source": [
    "## Date"
   ]
  },
  {
   "cell_type": "code",
   "execution_count": 44,
   "metadata": {},
   "outputs": [],
   "source": [
    "with open (os.path.join (CLDIR, \"ops_meta.jsonl\")) as fin, open (os.path.join (REGRESSIONS_DATA_DIR, \"dates.dat\"), \"w\") as fout:\n",
    "    fout.write (\"id,date\\n\")\n",
    "    for line in fin:\n",
    "        js = ujson.loads (line)\n",
    "        fout.write(\",\".join([str(js[\"id\"]), js[\"date_filed\"]]) + \"\\n\")"
   ]
  },
  {
   "cell_type": "markdown",
   "metadata": {},
   "source": [
    "## Precedent Status"
   ]
  },
  {
   "cell_type": "code",
   "execution_count": 46,
   "metadata": {},
   "outputs": [],
   "source": [
    "with open (os.path.join (CLDIR, \"ops_meta.jsonl\")) as fin, open (os.path.join (REGRESSIONS_DATA_DIR, \"precedents.dat\"), \"w\") as fout:\n",
    "    fout.write (\"id,precedent\\n\")\n",
    "    for line in fin:\n",
    "        js = ujson.loads (line)\n",
    "        fout.write (\",\".join ([str(js[\"id\"]), js[\"precedential_status\"]]) + \"\\n\")"
   ]
  },
  {
   "cell_type": "markdown",
   "metadata": {},
   "source": [
    "## Judges"
   ]
  },
  {
   "cell_type": "markdown",
   "metadata": {},
   "source": [
    "## Statutes"
   ]
  },
  {
   "cell_type": "markdown",
   "metadata": {},
   "source": [
    "## Bag of Words"
   ]
  }
 ],
 "metadata": {
  "kernelspec": {
   "display_name": "Python 3",
   "language": "python",
   "name": "python3"
  },
  "language_info": {
   "codemirror_mode": {
    "name": "ipython",
    "version": 3
   },
   "file_extension": ".py",
   "mimetype": "text/x-python",
   "name": "python",
   "nbconvert_exporter": "python",
   "pygments_lexer": "ipython3",
   "version": "3.6.5"
  }
 },
 "nbformat": 4,
 "nbformat_minor": 2
}
