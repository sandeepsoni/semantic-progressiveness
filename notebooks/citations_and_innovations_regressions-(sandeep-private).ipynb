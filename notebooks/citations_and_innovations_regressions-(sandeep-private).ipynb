{
 "cells": [
  {
   "cell_type": "code",
   "execution_count": 1,
   "metadata": {},
   "outputs": [],
   "source": [
    "import pandas as pd\n",
    "import matplotlib.pyplot as plt\n",
    "import seaborn as sns\n",
    "%matplotlib inline\n",
    "\n",
    "import statsmodels.api as sm\n",
    "import patsy\n",
    "\n",
    "import numpy as np"
   ]
  },
  {
   "cell_type": "code",
   "execution_count": 2,
   "metadata": {},
   "outputs": [],
   "source": [
    "sns.set_style(\"darkgrid\")"
   ]
  },
  {
   "cell_type": "markdown",
   "metadata": {},
   "source": [
    "# Descriptive analysis"
   ]
  },
  {
   "cell_type": "code",
   "execution_count": 3,
   "metadata": {},
   "outputs": [
    {
     "name": "stdout",
     "output_type": "stream",
     "text": [
      "12733\n",
      "      opid  indeg  outdeg  age  year  nuniqs      bows      sems      word\n",
      "0    88651      0       0  145  1873     416  4.540803  4.251326    bonded\n",
      "1  2311398      1       8   21  1997     457  3.347616  7.172658  circuits\n",
      "2  2129397      0       7   27  1991     565  2.213153      -inf       UNK\n",
      "3992\n"
     ]
    }
   ],
   "source": [
    "df_ops = pd.read_csv('../data/frames/ops.final')\n",
    "print (len (df_ops))\n",
    "print(df_ops.head(3))\n",
    "print(df_ops['indeg'].max())"
   ]
  },
  {
   "cell_type": "code",
   "execution_count": 4,
   "metadata": {},
   "outputs": [
    {
     "name": "stdout",
     "output_type": "stream",
     "text": [
      "693554\n"
     ]
    },
    {
     "data": {
      "text/html": [
       "<div>\n",
       "<style scoped>\n",
       "    .dataframe tbody tr th:only-of-type {\n",
       "        vertical-align: middle;\n",
       "    }\n",
       "\n",
       "    .dataframe tbody tr th {\n",
       "        vertical-align: top;\n",
       "    }\n",
       "\n",
       "    .dataframe thead th {\n",
       "        text-align: right;\n",
       "    }\n",
       "</style>\n",
       "<table border=\"1\" class=\"dataframe\">\n",
       "  <thead>\n",
       "    <tr style=\"text-align: right;\">\n",
       "      <th></th>\n",
       "      <th>indeg</th>\n",
       "      <th>outdeg</th>\n",
       "      <th>year</th>\n",
       "      <th>authors</th>\n",
       "      <th>nuniqs</th>\n",
       "      <th>bows</th>\n",
       "      <th>lang</th>\n",
       "      <th>word</th>\n",
       "      <th>sems</th>\n",
       "      <th>age</th>\n",
       "      <th>isunk</th>\n",
       "    </tr>\n",
       "  </thead>\n",
       "  <tbody>\n",
       "    <tr>\n",
       "      <th>0</th>\n",
       "      <td>29</td>\n",
       "      <td>3</td>\n",
       "      <td>1998</td>\n",
       "      <td>2</td>\n",
       "      <td>51</td>\n",
       "      <td>21.359490</td>\n",
       "      <td>en</td>\n",
       "      <td>UNK</td>\n",
       "      <td>-inf</td>\n",
       "      <td>20</td>\n",
       "      <td>1</td>\n",
       "    </tr>\n",
       "    <tr>\n",
       "      <th>1</th>\n",
       "      <td>19</td>\n",
       "      <td>2</td>\n",
       "      <td>1999</td>\n",
       "      <td>5</td>\n",
       "      <td>69</td>\n",
       "      <td>13.925706</td>\n",
       "      <td>en</td>\n",
       "      <td>UNK</td>\n",
       "      <td>-inf</td>\n",
       "      <td>19</td>\n",
       "      <td>1</td>\n",
       "    </tr>\n",
       "    <tr>\n",
       "      <th>2</th>\n",
       "      <td>20</td>\n",
       "      <td>17</td>\n",
       "      <td>2007</td>\n",
       "      <td>3</td>\n",
       "      <td>83</td>\n",
       "      <td>27.623942</td>\n",
       "      <td>en</td>\n",
       "      <td>UNK</td>\n",
       "      <td>-inf</td>\n",
       "      <td>11</td>\n",
       "      <td>1</td>\n",
       "    </tr>\n",
       "  </tbody>\n",
       "</table>\n",
       "</div>"
      ],
      "text/plain": [
       "   indeg  outdeg  year  authors  nuniqs       bows lang word  sems  age  isunk\n",
       "0     29       3  1998        2      51  21.359490   en  UNK  -inf   20      1\n",
       "1     19       2  1999        5      69  13.925706   en  UNK  -inf   19      1\n",
       "2     20      17  2007        3      83  27.623942   en  UNK  -inf   11      1"
      ]
     },
     "execution_count": 4,
     "metadata": {},
     "output_type": "execute_result"
    }
   ],
   "source": [
    "df_dblp = pd.read_csv('../data/frames/dblp.final')\n",
    "print (len (df_dblp))\n",
    "df_dblp.head(3)"
   ]
  },
  {
   "cell_type": "code",
   "execution_count": 5,
   "metadata": {},
   "outputs": [
    {
     "name": "stdout",
     "output_type": "stream",
     "text": [
      "7544\n",
      "62474\n"
     ]
    }
   ],
   "source": [
    "# for simplicity, let's remove docs which don't hit the lexicon\n",
    "# i think we may have to do this inevitably\n",
    "# where we can add a dummy variable.\n",
    "exclude_list = [\"UNK\"] # when no innovation is present, for dblp only, i keep the word field to be UNK\n",
    "drop_misses = True\n",
    "if drop_misses:\n",
    "    df_ops = df_ops[(~df_ops['word'].isin(exclude_list))]\n",
    "    df_dblp = df_dblp[(~df_dblp['word'].isin(exclude_list))]\n",
    "print (len(df_ops))\n",
    "print (len(df_dblp))"
   ]
  },
  {
   "cell_type": "markdown",
   "metadata": {},
   "source": [
    "Let's make the plots of indegree vs semantic innovativeness quartiles."
   ]
  },
  {
   "cell_type": "code",
   "execution_count": 6,
   "metadata": {},
   "outputs": [],
   "source": [
    "# quartile-ish bins of the innovation feature  \n",
    "df_ops['sem_q'] = pd.qcut(df_ops['sems'],4,labels=[\"<25\", \"<50\", \"<75\", \"<100\"], duplicates='drop')\n",
    "df_dblp['sem_q'] = pd.qcut(df_dblp['sems'],4, labels=[\"<25\", \"<50\", \"<75\", \"<100\"], duplicates='drop')"
   ]
  },
  {
   "cell_type": "code",
   "execution_count": 27,
   "metadata": {},
   "outputs": [
    {
     "data": {
      "text/plain": [
       "Text(0.5,0,'Quantiles')"
      ]
     },
     "execution_count": 27,
     "metadata": {},
     "output_type": "execute_result"
    },
    {
     "data": {
      "image/png": "[encoded data removed]",
      "text/plain": [
       "<Figure size 1080x252 with 2 Axes>"
      ]
     },
     "metadata": {},
     "output_type": "display_data"
    }
   ],
   "source": [
    "sns.set_context(\"paper\")\n",
    "fig,ax = plt.subplots(1,2,figsize=[15,3.5],sharey=True)\n",
    "\n",
    "sns.barplot(y='indeg',x='sem_q',data=df_ops,ax=ax[0]);\n",
    "ax[0].set_title('Legal opinions')\n",
    "ax[0].set_xlabel('Quantiles')\n",
    "sns.barplot(y='indeg',x='sem_q',data=df_dblp,ax=ax[1]);\n",
    "ax[1].set_title('Scientific articles');\n",
    "ax[1].set_xlabel('Quantiles')"
   ]
  },
  {
   "cell_type": "markdown",
   "metadata": {},
   "source": [
    "For **OPS**: Already looks pretty decent!\n",
    "\n",
    "For **DBLP**: I tried different quantiles, but the story remains consistent: highly progressive *as well as* highly conservative papers get more citations! \n",
    "\n",
    "My guess is that the conservative papers are dominated by older seminal papers. Let's draw a histogram of the years in the lower quartile."
   ]
  },
  {
   "cell_type": "code",
   "execution_count": 8,
   "metadata": {},
   "outputs": [
    {
     "data": {
      "text/plain": [
       "Text(0.5,1,'Higher Quartile (Yearly distribution)')"
      ]
     },
     "execution_count": 8,
     "metadata": {},
     "output_type": "execute_result"
    },
    {
     "data": {
      "image/png": "[encoded data removed]",
      "text/plain": [
       "<Figure size 864x216 with 2 Axes>"
      ]
     },
     "metadata": {},
     "output_type": "display_data"
    }
   ],
   "source": [
    "sns.set_context (\"paper\")\n",
    "fig, ax = plt.subplots (1,2,figsize=[12,3])\n",
    "sns.distplot (df_dblp[df_dblp[\"sem_q\"] == \"<25\"][\"year\"], hist=True, rug=True, ax=ax[0], bins=5);\n",
    "ax[0].set_title (\"Lower Quartile (Yearly distribution)\")\n",
    "sns.distplot(df_dblp[df_dblp[\"sem_q\"] == \"<100\"][\"year\"], hist=True, rug=True,ax=ax[1], bins=5);\n",
    "ax[1].set_title (\"Higher Quartile (Yearly distribution)\")"
   ]
  },
  {
   "cell_type": "markdown",
   "metadata": {},
   "source": [
    "Not entirely conclusive, but there is a slight tendency towards the later years. Correction for age might be necessary. Let's look at the 2000's.\n",
    "\n",
    "### Correction for age: DBLP (2000's only) "
   ]
  },
  {
   "cell_type": "code",
   "execution_count": 23,
   "metadata": {},
   "outputs": [
    {
     "name": "stdout",
     "output_type": "stream",
     "text": [
      "15207\n"
     ]
    }
   ],
   "source": [
    "df_dblp_2000s = df_dblp[(df_dblp[\"year\"] > 2000) & (df_dblp[\"year\"] <= 2010)]\n",
    "print (len(df_dblp_2000s))"
   ]
  },
  {
   "cell_type": "code",
   "execution_count": 24,
   "metadata": {},
   "outputs": [
    {
     "data": {
      "image/png": "[encoded data removed]",
      "text/plain": [
       "<Figure size 432x252 with 1 Axes>"
      ]
     },
     "metadata": {},
     "output_type": "display_data"
    }
   ],
   "source": [
    "sns.set_context(\"paper\")\n",
    "fig,ax = plt.subplots(1,1,figsize=[6,3.5])\n",
    "sns.barplot(y='indeg',x='sem_q',data=df_dblp_2000s,ax=ax);\n",
    "ax.set_title('Scientific articles');"
   ]
  },
  {
   "cell_type": "markdown",
   "metadata": {},
   "source": [
    "I also tried other decades: 90's and 2010's. The plot look reasonable. If you go more in the past, there are less progressive papers so the variance is high."
   ]
  },
  {
   "cell_type": "markdown",
   "metadata": {},
   "source": [
    "Lets also try something like that for OPS!"
   ]
  },
  {
   "cell_type": "code",
   "execution_count": 17,
   "metadata": {},
   "outputs": [
    {
     "name": "stdout",
     "output_type": "stream",
     "text": [
      "5178\n"
     ]
    }
   ],
   "source": [
    "df_ops_80s_to_2010s = df_ops[(df_ops[\"year\"] > 1980) & (df_ops[\"year\"] <= 2010)]\n",
    "print (len(df_ops_80s_to_2010s))"
   ]
  },
  {
   "cell_type": "code",
   "execution_count": 18,
   "metadata": {},
   "outputs": [
    {
     "data": {
      "image/png": "[encoded data removed]",
      "text/plain": [
       "<Figure size 432x252 with 1 Axes>"
      ]
     },
     "metadata": {},
     "output_type": "display_data"
    }
   ],
   "source": [
    "sns.set_context(\"paper\")\n",
    "fig,ax = plt.subplots(1,1,figsize=[6,3.5])\n",
    "sns.barplot(y='indeg',x='sem_q',data=df_ops_80s_to_2010s,ax=ax);\n",
    "ax.set_title('Legal opinions');"
   ]
  },
  {
   "cell_type": "markdown",
   "metadata": {},
   "source": [
    "Again, other periods all look decent!"
   ]
  },
  {
   "cell_type": "markdown",
   "metadata": {},
   "source": [
    "Lets keep it consistent for both and draw a shared plot."
   ]
  },
  {
   "cell_type": "code",
   "execution_count": 176,
   "metadata": {},
   "outputs": [
    {
     "data": {
      "image/png": "[encoded data removed]",
      "text/plain": [
       "<Figure size 432x216 with 2 Axes>"
      ]
     },
     "metadata": {},
     "output_type": "display_data"
    }
   ],
   "source": [
    "FROM=1980\n",
    "TO=2010\n",
    "\n",
    "df_ops[\"logdeg\"] = np.log1p(df_ops[\"indeg\"])\n",
    "\n",
    "sns.set_context (\"paper\")\n",
    "fig,ax = plt.subplots (1,2, figsize=(6,3), sharey=True)\n",
    "sns.barplot (y=\"indeg\", x=\"sem_q\", data=df_ops[(df_ops[\"year\"] > FROM) & (df_ops[\"year\"] <= TO)], ax=ax[0])\n",
    "ax[0].set_title (\"Legal opinions\")\n",
    "ax[0].set_ylabel (\"Number of citations\")\n",
    "ax[0].set_xlabel (\"Quantiles\")\n",
    "\n",
    "df_dblp[\"logdeg\"] = np.log1p(df_dblp[\"indeg\"])\n",
    "sns.barplot (y=\"indeg\", x=\"sem_q\", data=df_dblp[(df_dblp[\"year\"] > FROM) & (df_dblp[\"year\"] <= TO)], ax=ax[1])\n",
    "ax[1].set_title (\"Scientific articles\")\n",
    "ax[1].set_ylabel (\"Number of citations\")\n",
    "ax[1].set_xlabel (\"Quantiles\")\n",
    "\n",
    "fig.savefig (\"../figs/cites-vs-progs.pdf\", bbox_inches=\"tight\")"
   ]
  },
  {
   "cell_type": "markdown",
   "metadata": {},
   "source": [
    "# Regression"
   ]
  },
  {
   "cell_type": "markdown",
   "metadata": {},
   "source": [
    "## OPS"
   ]
  },
  {
   "cell_type": "code",
   "execution_count": 91,
   "metadata": {},
   "outputs": [
    {
     "name": "stdout",
     "output_type": "stream",
     "text": [
      "                 Generalized Linear Model Regression Results                  \n",
      "==============================================================================\n",
      "Dep. Variable:                  indeg   No. Observations:                 7544\n",
      "Model:                            GLM   Df Residuals:                     7540\n",
      "Model Family:                 Poisson   Df Model:                            3\n",
      "Link Function:                    log   Scale:                          1.0000\n",
      "Method:                          IRLS   Log-Likelihood:            -2.3178e+05\n",
      "Date:                Mon, 10 Dec 2018   Deviance:                   4.4165e+05\n",
      "Time:                        09:37:34   Pearson chi2:                 2.50e+06\n",
      "No. Iterations:                     8   Covariance Type:             nonrobust\n",
      "==============================================================================\n",
      "                 coef    std err          z      P>|z|      [0.025      0.975]\n",
      "------------------------------------------------------------------------------\n",
      "Intercept      1.8171      0.005    355.867      0.000       1.807       1.827\n",
      "age            0.0155   7.75e-05    199.810      0.000       0.015       0.016\n",
      "outdeg         0.0150      0.000    118.134      0.000       0.015       0.015\n",
      "nuniqs         0.0003   3.65e-06     90.640      0.000       0.000       0.000\n",
      "==============================================================================\n",
      "Log-likelihood: -231777.6622467888\n"
     ]
    }
   ],
   "source": [
    "# simple poisson regression first (baseline model 1)\n",
    "Y,X = patsy.dmatrices(\"indeg ~ age + outdeg + nuniqs\",data=df_ops)\n",
    "ops_po_results1 = sm.GLM(Y, X, family=sm.families.Poisson()).fit()\n",
    "print(ops_po_results1.summary())\n",
    "print(\"Log-likelihood: {0}\".format (ops_po_results1.llf))"
   ]
  },
  {
   "cell_type": "code",
   "execution_count": 92,
   "metadata": {},
   "outputs": [
    {
     "name": "stdout",
     "output_type": "stream",
     "text": [
      "                 Generalized Linear Model Regression Results                  \n",
      "==============================================================================\n",
      "Dep. Variable:                  indeg   No. Observations:                 7544\n",
      "Model:                            GLM   Df Residuals:                     7539\n",
      "Model Family:                 Poisson   Df Model:                            4\n",
      "Link Function:                    log   Scale:                          1.0000\n",
      "Method:                          IRLS   Log-Likelihood:            -2.2854e+05\n",
      "Date:                Mon, 10 Dec 2018   Deviance:                   4.3517e+05\n",
      "Time:                        09:37:57   Pearson chi2:                 2.39e+06\n",
      "No. Iterations:                     8   Covariance Type:             nonrobust\n",
      "==============================================================================\n",
      "                 coef    std err          z      P>|z|      [0.025      0.975]\n",
      "------------------------------------------------------------------------------\n",
      "Intercept      1.9246      0.005    361.438      0.000       1.914       1.935\n",
      "age            0.0140   8.21e-05    171.077      0.000       0.014       0.014\n",
      "outdeg         0.0089      0.000     52.402      0.000       0.009       0.009\n",
      "bows           0.0002   2.95e-06     79.233      0.000       0.000       0.000\n",
      "nuniqs         0.0004   4.01e-06     94.405      0.000       0.000       0.000\n",
      "==============================================================================\n",
      "Log-likelihood: -228538.42492873129\n"
     ]
    }
   ],
   "source": [
    "# simple poisson regression first (baseline model 2)\n",
    "Y,X = patsy.dmatrices(\"indeg ~ age + outdeg + bows + nuniqs\",data=df_ops)\n",
    "ops_po_results2 = sm.GLM(Y, X, family=sm.families.Poisson()).fit()\n",
    "print(ops_po_results2.summary())\n",
    "print(\"Log-likelihood: {0}\".format (ops_po_results2.llf))"
   ]
  },
  {
   "cell_type": "code",
   "execution_count": 93,
   "metadata": {},
   "outputs": [
    {
     "name": "stdout",
     "output_type": "stream",
     "text": [
      "                 Generalized Linear Model Regression Results                  \n",
      "==============================================================================\n",
      "Dep. Variable:                  indeg   No. Observations:                 7544\n",
      "Model:                            GLM   Df Residuals:                     7538\n",
      "Model Family:                 Poisson   Df Model:                            5\n",
      "Link Function:                    log   Scale:                          1.0000\n",
      "Method:                          IRLS   Log-Likelihood:            -2.2854e+05\n",
      "Date:                Mon, 10 Dec 2018   Deviance:                   4.3517e+05\n",
      "Time:                        09:38:11   Pearson chi2:                 2.39e+06\n",
      "No. Iterations:                     8   Covariance Type:             nonrobust\n",
      "==============================================================================\n",
      "                 coef    std err          z      P>|z|      [0.025      0.975]\n",
      "------------------------------------------------------------------------------\n",
      "Intercept      1.9210      0.006    349.087      0.000       1.910       1.932\n",
      "age            0.0141   8.32e-05    169.114      0.000       0.014       0.014\n",
      "outdeg         0.0088      0.000     52.198      0.000       0.009       0.009\n",
      "bows           0.0002   2.95e-06     79.104      0.000       0.000       0.000\n",
      "nuniqs         0.0004   4.02e-06     94.070      0.000       0.000       0.000\n",
      "sems           0.0002   6.64e-05      2.556      0.011    3.96e-05       0.000\n",
      "==============================================================================\n",
      "Log-likelihood: -228535.20149221225\n"
     ]
    }
   ],
   "source": [
    "# simple poisson regression first (full model)\n",
    "Y,X = patsy.dmatrices(\"indeg ~ age + outdeg + bows + nuniqs + sems\",data=df_ops)\n",
    "ops_po_results3 = sm.GLM(Y, X, family=sm.families.Poisson()).fit()\n",
    "print(ops_po_results3.summary())\n",
    "print(\"Log-likelihood: {0}\".format (ops_po_results3.llf))"
   ]
  },
  {
   "cell_type": "markdown",
   "metadata": {},
   "source": [
    "Small effect! But significant."
   ]
  },
  {
   "cell_type": "markdown",
   "metadata": {},
   "source": [
    "Now let's try binning with the binned semantics"
   ]
  },
  {
   "cell_type": "code",
   "execution_count": 94,
   "metadata": {},
   "outputs": [
    {
     "name": "stdout",
     "output_type": "stream",
     "text": [
      "                 Generalized Linear Model Regression Results                  \n",
      "==============================================================================\n",
      "Dep. Variable:                  indeg   No. Observations:                 7544\n",
      "Model:                            GLM   Df Residuals:                     7536\n",
      "Model Family:                 Poisson   Df Model:                            7\n",
      "Link Function:                    log   Scale:                          1.0000\n",
      "Method:                          IRLS   Log-Likelihood:            -2.2766e+05\n",
      "Date:                Mon, 10 Dec 2018   Deviance:                   4.3342e+05\n",
      "Time:                        09:38:31   Pearson chi2:                 2.49e+06\n",
      "No. Iterations:                     8   Covariance Type:             nonrobust\n",
      "=================================================================================\n",
      "                    coef    std err          z      P>|z|      [0.025      0.975]\n",
      "---------------------------------------------------------------------------------\n",
      "Intercept         1.6911      0.008    208.694      0.000       1.675       1.707\n",
      "sem_q[T.<50]      0.2007      0.008     25.459      0.000       0.185       0.216\n",
      "sem_q[T.<75]      0.2566      0.008     31.423      0.000       0.241       0.273\n",
      "sem_q[T.<100]     0.3336      0.008     40.534      0.000       0.318       0.350\n",
      "age               0.0156   8.84e-05    176.568      0.000       0.015       0.016\n",
      "outdeg            0.0086      0.000     49.961      0.000       0.008       0.009\n",
      "bows              0.0002      3e-06     75.655      0.000       0.000       0.000\n",
      "nuniqs            0.0004   4.11e-06     89.055      0.000       0.000       0.000\n",
      "=================================================================================\n",
      "Log-likelihood: -227663.12367789677\n"
     ]
    }
   ],
   "source": [
    "df_ops['sem_q'] = pd.qcut(df_ops[\"sems\"], 4, labels=[\"<25\", \"<50\", \"<75\", \"<100\"], duplicates='drop')\n",
    "Y,X = patsy.dmatrices(\"indeg ~ age + outdeg + bows + nuniqs + sem_q\",data=df_ops)\n",
    "ops_po_results4 = sm.GLM(Y, X, family=sm.families.Poisson()).fit()\n",
    "print(ops_po_results4.summary())\n",
    "print(\"Log-likelihood: {0}\".format (ops_po_results4.llf))"
   ]
  },
  {
   "cell_type": "markdown",
   "metadata": {},
   "source": [
    "## DBLP"
   ]
  },
  {
   "cell_type": "code",
   "execution_count": 163,
   "metadata": {},
   "outputs": [
    {
     "name": "stdout",
     "output_type": "stream",
     "text": [
      "                 Generalized Linear Model Regression Results                  \n",
      "==============================================================================\n",
      "Dep. Variable:                  indeg   No. Observations:                62474\n",
      "Model:                            GLM   Df Residuals:                    62469\n",
      "Model Family:                 Poisson   Df Model:                            4\n",
      "Link Function:                    log   Scale:                          1.0000\n",
      "Method:                          IRLS   Log-Likelihood:            -3.0859e+06\n",
      "Date:                Mon, 10 Dec 2018   Deviance:                   5.9863e+06\n",
      "Time:                        10:28:42   Pearson chi2:                 5.03e+07\n",
      "No. Iterations:                    16   Covariance Type:             nonrobust\n",
      "==============================================================================\n",
      "                 coef    std err          z      P>|z|      [0.025      0.975]\n",
      "------------------------------------------------------------------------------\n",
      "Intercept      1.7929      0.003    707.191      0.000       1.788       1.798\n",
      "age            0.0863    7.5e-05   1151.001      0.000       0.086       0.086\n",
      "outdeg         0.0166   1.98e-05    836.601      0.000       0.017       0.017\n",
      "authors        0.0406      0.000    261.514      0.000       0.040       0.041\n",
      "nuniqs         0.0047   1.92e-05    245.843      0.000       0.005       0.005\n",
      "==============================================================================\n",
      "Log-likelihood: -3085945.1291966727\n"
     ]
    }
   ],
   "source": [
    "# simple poisson regression (baseline model 1)\n",
    "Y,X = patsy.dmatrices(\"indeg ~ age + outdeg + authors + nuniqs\",data=df_dblp)\n",
    "dblp_po_results1 = sm.GLM(Y, X, family=sm.families.Poisson()).fit()\n",
    "print(dblp_po_results1.summary())\n",
    "print(\"Log-likelihood: {0}\".format (dblp_po_results1.llf))"
   ]
  },
  {
   "cell_type": "code",
   "execution_count": 164,
   "metadata": {},
   "outputs": [
    {
     "name": "stdout",
     "output_type": "stream",
     "text": [
      "                 Generalized Linear Model Regression Results                  \n",
      "==============================================================================\n",
      "Dep. Variable:                  indeg   No. Observations:                62474\n",
      "Model:                            GLM   Df Residuals:                    62468\n",
      "Model Family:                 Poisson   Df Model:                            5\n",
      "Link Function:                    log   Scale:                          1.0000\n",
      "Method:                          IRLS   Log-Likelihood:            -3.0859e+06\n",
      "Date:                Mon, 10 Dec 2018   Deviance:                   5.9862e+06\n",
      "Time:                        10:29:02   Pearson chi2:                 5.03e+07\n",
      "No. Iterations:                    16   Covariance Type:             nonrobust\n",
      "==============================================================================\n",
      "                 coef    std err          z      P>|z|      [0.025      0.975]\n",
      "------------------------------------------------------------------------------\n",
      "Intercept      1.7964      0.003    703.939      0.000       1.791       1.801\n",
      "age            0.0863    7.5e-05   1150.241      0.000       0.086       0.086\n",
      "outdeg         0.0166   1.98e-05    836.478      0.000       0.017       0.017\n",
      "authors        0.0406      0.000    261.517      0.000       0.040       0.041\n",
      "nuniqs         0.0047   1.94e-05    241.341      0.000       0.005       0.005\n",
      "bows        1.117e-05    9.7e-07     11.515      0.000    9.27e-06    1.31e-05\n",
      "==============================================================================\n",
      "Log-likelihood: -3085890.6035801102\n"
     ]
    }
   ],
   "source": [
    "# simple poisson regression first (baseline model 2)\n",
    "Y,X = patsy.dmatrices(\"indeg ~ age + outdeg + authors + nuniqs + bows\",data=df_dblp)\n",
    "dblp_po_results2 = sm.GLM(Y, X, family=sm.families.Poisson()).fit()\n",
    "print(dblp_po_results2.summary())\n",
    "print(\"Log-likelihood: {0}\".format (dblp_po_results2.llf))"
   ]
  },
  {
   "cell_type": "code",
   "execution_count": 165,
   "metadata": {},
   "outputs": [
    {
     "name": "stdout",
     "output_type": "stream",
     "text": [
      "                 Generalized Linear Model Regression Results                  \n",
      "==============================================================================\n",
      "Dep. Variable:                  indeg   No. Observations:                62474\n",
      "Model:                            GLM   Df Residuals:                    62467\n",
      "Model Family:                 Poisson   Df Model:                            6\n",
      "Link Function:                    log   Scale:                          1.0000\n",
      "Method:                          IRLS   Log-Likelihood:            -3.0572e+06\n",
      "Date:                Mon, 10 Dec 2018   Deviance:                   5.9288e+06\n",
      "Time:                        10:29:17   Pearson chi2:                 4.67e+07\n",
      "No. Iterations:                    15   Covariance Type:             nonrobust\n",
      "==============================================================================\n",
      "                 coef    std err          z      P>|z|      [0.025      0.975]\n",
      "------------------------------------------------------------------------------\n",
      "Intercept      1.6389      0.003    616.695      0.000       1.634       1.644\n",
      "age            0.0933   7.75e-05   1203.583      0.000       0.093       0.093\n",
      "outdeg         0.0165   2.05e-05    807.096      0.000       0.016       0.017\n",
      "authors        0.0418      0.000    267.349      0.000       0.041       0.042\n",
      "nuniqs         0.0045   1.97e-05    230.011      0.000       0.004       0.005\n",
      "bows        5.877e-06    9.1e-07      6.457      0.000    4.09e-06    7.66e-06\n",
      "sems           0.0138   5.32e-05    259.607      0.000       0.014       0.014\n",
      "==============================================================================\n",
      "Log-likelihood: -3057183.8619055734\n"
     ]
    }
   ],
   "source": [
    "# simple poisson regression first (full model)\n",
    "Y,X = patsy.dmatrices(\"indeg ~ age + outdeg + authors + nuniqs + bows + sems\",data=df_dblp)\n",
    "dblp_po_results3 = sm.GLM(Y, X, family=sm.families.Poisson()).fit()\n",
    "print(dblp_po_results3.summary())\n",
    "print(\"Log-likelihood: {0}\".format (dblp_po_results3.llf))"
   ]
  },
  {
   "cell_type": "markdown",
   "metadata": {},
   "source": [
    "Reasonably strong effects!"
   ]
  },
  {
   "cell_type": "markdown",
   "metadata": {},
   "source": [
    "Lets try binned semantics like before."
   ]
  },
  {
   "cell_type": "code",
   "execution_count": 166,
   "metadata": {},
   "outputs": [
    {
     "name": "stdout",
     "output_type": "stream",
     "text": [
      "                 Generalized Linear Model Regression Results                  \n",
      "==============================================================================\n",
      "Dep. Variable:                  indeg   No. Observations:                62474\n",
      "Model:                            GLM   Df Residuals:                    62465\n",
      "Model Family:                 Poisson   Df Model:                            8\n",
      "Link Function:                    log   Scale:                          1.0000\n",
      "Method:                          IRLS   Log-Likelihood:            -3.0505e+06\n",
      "Date:                Mon, 10 Dec 2018   Deviance:                   5.9154e+06\n",
      "Time:                        10:29:57   Pearson chi2:                 4.53e+07\n",
      "No. Iterations:                    15   Covariance Type:             nonrobust\n",
      "=================================================================================\n",
      "                    coef    std err          z      P>|z|      [0.025      0.975]\n",
      "---------------------------------------------------------------------------------\n",
      "Intercept         1.4181      0.003    460.001      0.000       1.412       1.424\n",
      "sem_q[T.<50]      0.1876      0.002     87.992      0.000       0.183       0.192\n",
      "sem_q[T.<75]      0.4200      0.002    181.355      0.000       0.415       0.425\n",
      "sem_q[T.<100]     0.5862      0.002    256.024      0.000       0.582       0.591\n",
      "age               0.0973   8.25e-05   1179.596      0.000       0.097       0.097\n",
      "outdeg            0.0162   2.06e-05    786.968      0.000       0.016       0.016\n",
      "bows           8.433e-06   9.32e-07      9.051      0.000    6.61e-06    1.03e-05\n",
      "authors           0.0421      0.000    264.737      0.000       0.042       0.042\n",
      "nuniqs            0.0047   1.98e-05    235.204      0.000       0.005       0.005\n",
      "=================================================================================\n",
      "Log-likelihood: -3050473.686447588\n"
     ]
    }
   ],
   "source": [
    "df_dblp['sem_q'] = pd.qcut(df_dblp['sems'],4, labels=[\"<25\", \"<50\", \"<75\", \"<100\"], duplicates='drop')\n",
    "Y,X = patsy.dmatrices(\"indeg ~ age + outdeg + bows + authors + nuniqs + sem_q\",data=df_dblp)\n",
    "dblp_po_results4 = sm.GLM(Y, X, family=sm.families.Poisson()).fit()\n",
    "print(dblp_po_results4.summary())\n",
    "print(\"Log-likelihood: {0}\".format (dblp_po_results4.llf))"
   ]
  },
  {
   "cell_type": "markdown",
   "metadata": {},
   "source": [
    "Looks good! The regression corrects for age and the coefficients for the quartiles are all increasing monotonously."
   ]
  },
  {
   "cell_type": "markdown",
   "metadata": {},
   "source": [
    "The coefficients are statistically significant, plus the improvement in goodness of fit is high."
   ]
  },
  {
   "cell_type": "markdown",
   "metadata": {},
   "source": [
    "**Write the results as Latex tables**"
   ]
  },
  {
   "cell_type": "code",
   "execution_count": 40,
   "metadata": {},
   "outputs": [],
   "source": [
    "s2 = po_results.summary2()"
   ]
  },
  {
   "cell_type": "code",
   "execution_count": 44,
   "metadata": {},
   "outputs": [
    {
     "name": "stdout",
     "output_type": "stream",
     "text": [
      "\\begin{table}\n",
      "\\caption{Results: Generalized linear model}\n",
      "\\begin{center}\n",
      "\\begin{tabular}{llll}\n",
      "\\hline\n",
      "Model:              & GLM              & AIC:            & 6100965.3729  \\\\\n",
      "Link Function:      & log              & BIC:            & 5225583.3333  \\\\\n",
      "Dependent Variable: & indeg            & Log-Likelihood: & -3.0505e+06   \\\\\n",
      "Date:               & 2018-12-10 09:01 & LL-Null:        & -3.6066e+06   \\\\\n",
      "No. Observations:   & 62474            & Deviance:       & 5.9154e+06    \\\\\n",
      "Df Model:           & 8                & Pearson chi2:   & 4.53e+07      \\\\\n",
      "Df Residuals:       & 62465            & Scale:          & 1.0000        \\\\\n",
      "Method:             & IRLS             &                 &               \\\\\n",
      "\\hline\n",
      "\\end{tabular}\n",
      "\\end{center}\n",
      "\\hline\n",
      "\\begin{center}\n",
      "\\begin{tabular}{lcccccc}\n",
      "\\hline\n",
      "               & Coef.  & Std.Err. &     z     & P$>$$|$z$|$ & [0.025 & 0.975]  \\\\\n",
      "\\hline\n",
      "\\hline\n",
      "\\end{tabular}\n",
      "\\begin{tabular}{lrrrrrr}\n",
      "Intercept      & 1.4181 &   0.0031 &  460.0007 &      0.0000 & 1.4121 & 1.4242  \\\\\n",
      "sem\\_q[T.<50]  & 0.1876 &   0.0021 &   87.9916 &      0.0000 & 0.1834 & 0.1918  \\\\\n",
      "sem\\_q[T.<75]  & 0.4200 &   0.0023 &  181.3546 &      0.0000 & 0.4154 & 0.4245  \\\\\n",
      "sem\\_q[T.<100] & 0.5862 &   0.0023 &  256.0236 &      0.0000 & 0.5817 & 0.5907  \\\\\n",
      "age            & 0.0973 &   0.0001 & 1179.5960 &      0.0000 & 0.0972 & 0.0975  \\\\\n",
      "outdeg         & 0.0162 &   0.0000 &  786.9679 &      0.0000 & 0.0162 & 0.0163  \\\\\n",
      "bows           & 0.0000 &   0.0000 &    9.0514 &      0.0000 & 0.0000 & 0.0000  \\\\\n",
      "authors        & 0.0421 &   0.0002 &  264.7375 &      0.0000 & 0.0418 & 0.0424  \\\\\n",
      "nuniqs         & 0.0047 &   0.0000 &  235.2037 &      0.0000 & 0.0046 & 0.0047  \\\\\n",
      "\\hline\n",
      "\\end{tabular}\n",
      "\\end{center}\n",
      "\\end{table}\n"
     ]
    }
   ],
   "source": [
    "print (s2.as_latex())"
   ]
  },
  {
   "cell_type": "code",
   "execution_count": 89,
   "metadata": {},
   "outputs": [
    {
     "data": {
      "text/plain": [
       "array([3.08287339e-03, 2.13192784e-03, 2.31578070e-03, 2.28952758e-03,\n",
       "       8.25057510e-05, 2.06151623e-05, 9.31656097e-07, 1.58882309e-04,\n",
       "       1.98133672e-05])"
      ]
     },
     "execution_count": 89,
     "metadata": {},
     "output_type": "execute_result"
    }
   ],
   "source": [
    "po_results.bse"
   ]
  },
  {
   "cell_type": "code",
   "execution_count": 78,
   "metadata": {},
   "outputs": [
    {
     "data": {
      "text/plain": [
       "['Intercept',\n",
       " 'sem_q[T.<50]',\n",
       " 'sem_q[T.<75]',\n",
       " 'sem_q[T.<100]',\n",
       " 'age',\n",
       " 'outdeg',\n",
       " 'bows',\n",
       " 'authors',\n",
       " 'nuniqs']"
      ]
     },
     "execution_count": 78,
     "metadata": {},
     "output_type": "execute_result"
    }
   ],
   "source": [
    "po_results.model.exog_names"
   ]
  },
  {
   "cell_type": "code",
   "execution_count": 169,
   "metadata": {},
   "outputs": [],
   "source": [
    "def get_latex_table_string (model_results, coeff):\n",
    "    goodnames = {\n",
    "        \"Intercept\": \"Constant\",\n",
    "        \"sem_q[T.<50]\": \"$<$ 50\\%\",\n",
    "        \"sem_q[T.<75]\": \"$>$ 50\\% and $<$ 75\\%\",\n",
    "        \"sem_q[T.<100]\": \"$>$ 75\\%\",\n",
    "        \"age\": \"Age\",\n",
    "        \"outdeg\": \"Outdegree\",\n",
    "        \"bows\": \"BoWs\",\n",
    "        \"nuniqs\": \"Length\",\n",
    "        \"authors\": \"No. of Authors\",\n",
    "        \"sems\": \"Progressiveness\"\n",
    "    }\n",
    "    cols = [\" \" \n",
    "            if coeff not in model_result.model.exog_names \n",
    "            else \"{0:.4f}\".format(round(model_result.params[model_result.model.exog_names.index(coeff)], 4)) \n",
    "            for model_result in model_results]\n",
    "    return \"&\".join ([goodnames[coeff]] + cols) + \"\\\\\\\\\\n\"\n",
    "\n",
    "def get_latex_stderror_string (model_results, coeff):\n",
    "    goodnames = {\n",
    "        \"Intercept\": \"Constant\",\n",
    "        \"sem_q[T.<50]\": \"$<$ 50\\%\",\n",
    "        \"sem_q[T.<75]\": \"$>$ 50\\% and $<$ 75\\%\",\n",
    "        \"sem_q[T.<100]\": \"$>$ 75\\%\",\n",
    "        \"age\": \"Age\",\n",
    "        \"outdeg\": \"Outdegree\",\n",
    "        \"bows\": \"BoWs\",\n",
    "        \"nuniqs\": \"Length\",\n",
    "        \"authors\": \"No. of Authors\",\n",
    "        \"sems\": \"Progressiveness\"\n",
    "    }\n",
    "    cols = [\" \" \n",
    "            if coeff not in model_result.model.exog_names \n",
    "            else \"({0:.4f})\".format(round(model_result.bse[model_result.model.exog_names.index(coeff)], 4)) \n",
    "            for model_result in model_results]\n",
    "    \n",
    "    #cols = list (map (lambda x:\"({0})\".format (x), cols))\n",
    "    \n",
    "    return \"&\".join ([\" \"] + cols) + \"\\\\\\\\\\n\"\n",
    "\n",
    "def get_latex_ll_string (model_results):\n",
    "    cols = [\"{0}\".format(str(int(round(model_result.llf)))) for model_result in model_results]\n",
    "    return \"&\".join ([\"Log Likelihood\"] + cols) + \"\\\\\\\\\\n\""
   ]
  },
  {
   "cell_type": "code",
   "execution_count": 161,
   "metadata": {},
   "outputs": [],
   "source": [
    "def ops_latex(model_results, coeffs_order):    \n",
    "    print (\"\\\\begin{table*}[t!]\\n\")\n",
    "    print (\"\\centering\\n\")\n",
    "    print (\"\\small\\n\")\n",
    "    # header part\n",
    "    print (\"\\\\begin{tabular}{lrrrr}\")\n",
    "    print (\"\\\\toprule\\n\")\n",
    "    print (\"& & Models & &\\\\\\\\\\n\")\n",
    "    print (\"\\midrule\\n\")\n",
    "    print (\"Predictors & (1) & (2) & (3) & (4) \\\\\\\\\\n\")\n",
    "    print (\"\\\\toprule\\n\")\n",
    "    # core part\n",
    "    \n",
    "    for coeff in coeffs_order:\n",
    "        print (get_latex_table_string(model_results , coeff))\n",
    "        print (get_latex_stderror_string (model_results, coeff))\n",
    "        print (\"\\\\\\\\\")\n",
    "    \n",
    "    print (get_latex_ll_string (model_results))    \n",
    "    print (\"\\\\bottomrule\\n\")\n",
    "    print (\"\\\\end{tabular}\\n\")\n",
    "    print (\"\\caption{The results from regressions to predict the number of citations that a legal opinion receives.}\\n\")\n",
    "    print (\"\\label{tab:legal-regression}\\n\")\n",
    "    \n",
    "    print (\"\\end{table*}\\n\")"
   ]
  },
  {
   "cell_type": "code",
   "execution_count": 162,
   "metadata": {},
   "outputs": [
    {
     "name": "stdout",
     "output_type": "stream",
     "text": [
      "\\begin{table*}[t!]\n",
      "\n",
      "\\centering\n",
      "\n",
      "\\small\n",
      "\n",
      "\\begin{tabular}{lrrrr}\n",
      "\\toprule\n",
      "\n",
      "& & Models & &\\\\\n",
      "\n",
      "\\midrule\n",
      "\n",
      "Predictors & (1) & (2) & (3) & (4) \\\\\n",
      "\n",
      "\\toprule\n",
      "\n",
      "Constant&1.8171&1.9246&1.9210&1.6911\\\\\n",
      "\n",
      " &(0.0051)&(0.0053)&(0.0055)&(0.0081)\\\\\n",
      "\n",
      "\\\\\n",
      "Outdegree&0.0150&0.0089&0.0088&0.0086\\\\\n",
      "\n",
      " &(0.0001)&(0.0002)&(0.0002)&(0.0002)\\\\\n",
      "\n",
      "\\\\\n",
      "Age&0.0155&0.0140&0.0141&0.0156\\\\\n",
      "\n",
      " &(0.0001)&(0.0001)&(0.0001)&(0.0001)\\\\\n",
      "\n",
      "\\\\\n",
      "Length&0.0003&0.0004&0.0004&0.0004\\\\\n",
      "\n",
      " &(0.0000)&(0.0000)&(0.0000)&(0.0000)\\\\\n",
      "\n",
      "\\\\\n",
      "BoWs& &0.0002&0.0002&0.0002\\\\\n",
      "\n",
      " & &(0.0000)&(0.0000)&(0.0000)\\\\\n",
      "\n",
      "\\\\\n",
      "Progressiveness& & &0.0002& \\\\\n",
      "\n",
      " & & &(0.0001)& \\\\\n",
      "\n",
      "\\\\\n",
      "$<$ 50\\%& & & &0.2007\\\\\n",
      "\n",
      " & & & &(0.0079)\\\\\n",
      "\n",
      "\\\\\n",
      "$>$ 50\\% and $<$ 75\\%& & & &0.2566\\\\\n",
      "\n",
      " & & & &(0.0082)\\\\\n",
      "\n",
      "\\\\\n",
      "$>$ 75\\%& & & &0.3336\\\\\n",
      "\n",
      " & & & &(0.0082)\\\\\n",
      "\n",
      "\\\\\n",
      "Log Likelihood&-231778&-228538&-228535&-227663\\\\\n",
      "\n",
      "\\bottomrule\n",
      "\n",
      "\\end{tabular}\n",
      "\n",
      "\\caption{The results from regressions to predict the number of citations that a legal opinion receives.}\n",
      "\n",
      "\\label{tab:legal-regression}\n",
      "\n",
      "\\end{table*}[t!]\n",
      "\n"
     ]
    }
   ],
   "source": [
    "ops_latex ([ops_po_results1, ops_po_results2, ops_po_results3, ops_po_results4], \n",
    "           [\"Intercept\", \"outdeg\", \"age\", \"nuniqs\", \"bows\", \"sems\", \"sem_q[T.<50]\", \"sem_q[T.<75]\", \"sem_q[T.<100]\"])"
   ]
  },
  {
   "cell_type": "code",
   "execution_count": 167,
   "metadata": {},
   "outputs": [],
   "source": [
    "def dblp_latex(model_results, coeffs_order):    \n",
    "    print (\"\\\\begin{table*}[t!]\\n\")\n",
    "    print (\"\\centering\\n\")\n",
    "    print (\"\\small\\n\")\n",
    "    # header part\n",
    "    print (\"\\\\begin{tabular}{lrrrr}\")\n",
    "    print (\"\\\\toprule\\n\")\n",
    "    print (\"& & Models & &\\\\\\\\\\n\")\n",
    "    print (\"\\midrule\\n\")\n",
    "    print (\"Predictors & (1) & (2) & (3) & (4) \\\\\\\\\\n\")\n",
    "    print (\"\\\\toprule\\n\")\n",
    "    # core part\n",
    "    \n",
    "    for coeff in coeffs_order:\n",
    "        print (get_latex_table_string(model_results , coeff))\n",
    "        print (get_latex_stderror_string (model_results, coeff))\n",
    "        print (\"\\\\\\\\\")\n",
    "    \n",
    "    print (get_latex_ll_string (model_results))    \n",
    "    print (\"\\\\bottomrule\\n\")\n",
    "    print (\"\\\\end{tabular}\\n\")\n",
    "    print (\"\\caption{The results from regressions to predict the number of citations that a scientific article receives.}\\n\")\n",
    "    print (\"\\label{tab:legal-abstracts}\\n\")\n",
    "    \n",
    "    print (\"\\end{table*}\\n\")"
   ]
  },
  {
   "cell_type": "code",
   "execution_count": 170,
   "metadata": {},
   "outputs": [
    {
     "name": "stdout",
     "output_type": "stream",
     "text": [
      "\\begin{table*}[t!]\n",
      "\n",
      "\\centering\n",
      "\n",
      "\\small\n",
      "\n",
      "\\begin{tabular}{lrrrr}\n",
      "\\toprule\n",
      "\n",
      "& & Models & &\\\\\n",
      "\n",
      "\\midrule\n",
      "\n",
      "Predictors & (1) & (2) & (3) & (4) \\\\\n",
      "\n",
      "\\toprule\n",
      "\n",
      "Constant&1.7929&1.7964&1.6389&1.4181\\\\\n",
      "\n",
      " &(0.0025)&(0.0026)&(0.0027)&(0.0031)\\\\\n",
      "\n",
      "\\\\\n",
      "Outdegree&0.0166&0.0166&0.0165&0.0162\\\\\n",
      "\n",
      " &(0.0000)&(0.0000)&(0.0000)&(0.0000)\\\\\n",
      "\n",
      "\\\\\n",
      "Age&0.0863&0.0863&0.0933&0.0973\\\\\n",
      "\n",
      " &(0.0001)&(0.0001)&(0.0001)&(0.0001)\\\\\n",
      "\n",
      "\\\\\n",
      "Length&0.0047&0.0047&0.0045&0.0047\\\\\n",
      "\n",
      " &(0.0000)&(0.0000)&(0.0000)&(0.0000)\\\\\n",
      "\n",
      "\\\\\n",
      "No. of Authors&0.0406&0.0406&0.0418&0.0421\\\\\n",
      "\n",
      " &(0.0002)&(0.0002)&(0.0002)&(0.0002)\\\\\n",
      "\n",
      "\\\\\n",
      "BoWs& &0.0000&0.0000&0.0000\\\\\n",
      "\n",
      " & &(0.0000)&(0.0000)&(0.0000)\\\\\n",
      "\n",
      "\\\\\n",
      "Progressiveness& & &0.0138& \\\\\n",
      "\n",
      " & & &(0.0001)& \\\\\n",
      "\n",
      "\\\\\n",
      "$<$ 50\\%& & & &0.1876\\\\\n",
      "\n",
      " & & & &(0.0021)\\\\\n",
      "\n",
      "\\\\\n",
      "$>$ 50\\% and $<$ 75\\%& & & &0.4200\\\\\n",
      "\n",
      " & & & &(0.0023)\\\\\n",
      "\n",
      "\\\\\n",
      "$>$ 75\\%& & & &0.5862\\\\\n",
      "\n",
      " & & & &(0.0023)\\\\\n",
      "\n",
      "\\\\\n",
      "Log Likelihood&-3085945&-3085891&-3057184&-3050474\\\\\n",
      "\n",
      "\\bottomrule\n",
      "\n",
      "\\end{tabular}\n",
      "\n",
      "\\caption{The results from regressions to predict the number of citations that a scientific article receives.}\n",
      "\n",
      "\\label{tab:legal-abstracts}\n",
      "\n",
      "\\end{table*}[t!]\n",
      "\n"
     ]
    }
   ],
   "source": [
    "dblp_latex ([dblp_po_results1, dblp_po_results2, dblp_po_results3, dblp_po_results4], \n",
    "           [\"Intercept\", \"outdeg\", \"age\", \"nuniqs\", \"authors\", \"bows\", \"sems\", \"sem_q[T.<50]\", \"sem_q[T.<75]\", \"sem_q[T.<100]\"])"
   ]
  },
  {
   "cell_type": "code",
   "execution_count": 198,
   "metadata": {},
   "outputs": [
    {
     "data": {
      "text/html": [
       "<div>\n",
       "<style scoped>\n",
       "    .dataframe tbody tr th:only-of-type {\n",
       "        vertical-align: middle;\n",
       "    }\n",
       "\n",
       "    .dataframe tbody tr th {\n",
       "        vertical-align: top;\n",
       "    }\n",
       "\n",
       "    .dataframe thead th {\n",
       "        text-align: right;\n",
       "    }\n",
       "</style>\n",
       "<table border=\"1\" class=\"dataframe\">\n",
       "  <thead>\n",
       "    <tr style=\"text-align: right;\">\n",
       "      <th></th>\n",
       "      <th>opid</th>\n",
       "      <th>indeg</th>\n",
       "      <th>outdeg</th>\n",
       "      <th>age</th>\n",
       "      <th>year</th>\n",
       "      <th>nuniqs</th>\n",
       "      <th>bows</th>\n",
       "      <th>sems</th>\n",
       "      <th>word</th>\n",
       "      <th>sem_q</th>\n",
       "      <th>logdeg</th>\n",
       "    </tr>\n",
       "  </thead>\n",
       "  <tbody>\n",
       "    <tr>\n",
       "      <th>1049</th>\n",
       "      <td>93578</td>\n",
       "      <td>69</td>\n",
       "      <td>6</td>\n",
       "      <td>125</td>\n",
       "      <td>1893</td>\n",
       "      <td>696</td>\n",
       "      <td>20.815620</td>\n",
       "      <td>21.668375</td>\n",
       "      <td>asylum</td>\n",
       "      <td>&lt;100</td>\n",
       "      <td>4.248495</td>\n",
       "    </tr>\n",
       "    <tr>\n",
       "      <th>7741</th>\n",
       "      <td>1736815</td>\n",
       "      <td>5</td>\n",
       "      <td>29</td>\n",
       "      <td>36</td>\n",
       "      <td>1982</td>\n",
       "      <td>1921</td>\n",
       "      <td>16.185083</td>\n",
       "      <td>115.386283</td>\n",
       "      <td>asylum</td>\n",
       "      <td>&lt;100</td>\n",
       "      <td>1.791759</td>\n",
       "    </tr>\n",
       "    <tr>\n",
       "      <th>1291</th>\n",
       "      <td>2246408</td>\n",
       "      <td>0</td>\n",
       "      <td>6</td>\n",
       "      <td>33</td>\n",
       "      <td>1985</td>\n",
       "      <td>677</td>\n",
       "      <td>1.996375</td>\n",
       "      <td>26.990395</td>\n",
       "      <td>asylum</td>\n",
       "      <td>&lt;100</td>\n",
       "      <td>0.000000</td>\n",
       "    </tr>\n",
       "    <tr>\n",
       "      <th>8623</th>\n",
       "      <td>493976</td>\n",
       "      <td>2</td>\n",
       "      <td>18</td>\n",
       "      <td>31</td>\n",
       "      <td>1987</td>\n",
       "      <td>1135</td>\n",
       "      <td>9.883511</td>\n",
       "      <td>268.887632</td>\n",
       "      <td>asylum</td>\n",
       "      <td>&lt;100</td>\n",
       "      <td>1.098612</td>\n",
       "    </tr>\n",
       "    <tr>\n",
       "      <th>9875</th>\n",
       "      <td>1809476</td>\n",
       "      <td>0</td>\n",
       "      <td>17</td>\n",
       "      <td>27</td>\n",
       "      <td>1991</td>\n",
       "      <td>998</td>\n",
       "      <td>1.169272</td>\n",
       "      <td>229.603086</td>\n",
       "      <td>asylum</td>\n",
       "      <td>&lt;100</td>\n",
       "      <td>0.000000</td>\n",
       "    </tr>\n",
       "    <tr>\n",
       "      <th>4661</th>\n",
       "      <td>1520450</td>\n",
       "      <td>1</td>\n",
       "      <td>7</td>\n",
       "      <td>27</td>\n",
       "      <td>1991</td>\n",
       "      <td>662</td>\n",
       "      <td>3.094000</td>\n",
       "      <td>81.431927</td>\n",
       "      <td>asylum</td>\n",
       "      <td>&lt;100</td>\n",
       "      <td>0.693147</td>\n",
       "    </tr>\n",
       "    <tr>\n",
       "      <th>6992</th>\n",
       "      <td>587654</td>\n",
       "      <td>64</td>\n",
       "      <td>32</td>\n",
       "      <td>26</td>\n",
       "      <td>1992</td>\n",
       "      <td>1441</td>\n",
       "      <td>31.627218</td>\n",
       "      <td>193.774093</td>\n",
       "      <td>asylum</td>\n",
       "      <td>&lt;100</td>\n",
       "      <td>4.174387</td>\n",
       "    </tr>\n",
       "    <tr>\n",
       "      <th>1095</th>\n",
       "      <td>1396786</td>\n",
       "      <td>3</td>\n",
       "      <td>10</td>\n",
       "      <td>23</td>\n",
       "      <td>1995</td>\n",
       "      <td>1031</td>\n",
       "      <td>3.697210</td>\n",
       "      <td>55.267384</td>\n",
       "      <td>asylum</td>\n",
       "      <td>&lt;100</td>\n",
       "      <td>1.386294</td>\n",
       "    </tr>\n",
       "    <tr>\n",
       "      <th>2935</th>\n",
       "      <td>1466419</td>\n",
       "      <td>1</td>\n",
       "      <td>30</td>\n",
       "      <td>23</td>\n",
       "      <td>1995</td>\n",
       "      <td>1309</td>\n",
       "      <td>1.224238</td>\n",
       "      <td>76.494858</td>\n",
       "      <td>asylum</td>\n",
       "      <td>&lt;100</td>\n",
       "      <td>0.693147</td>\n",
       "    </tr>\n",
       "    <tr>\n",
       "      <th>5926</th>\n",
       "      <td>3023518</td>\n",
       "      <td>0</td>\n",
       "      <td>4</td>\n",
       "      <td>19</td>\n",
       "      <td>1999</td>\n",
       "      <td>655</td>\n",
       "      <td>4.207823</td>\n",
       "      <td>26.087957</td>\n",
       "      <td>asylum</td>\n",
       "      <td>&lt;100</td>\n",
       "      <td>0.000000</td>\n",
       "    </tr>\n",
       "    <tr>\n",
       "      <th>5906</th>\n",
       "      <td>139309</td>\n",
       "      <td>0</td>\n",
       "      <td>1</td>\n",
       "      <td>14</td>\n",
       "      <td>2004</td>\n",
       "      <td>47</td>\n",
       "      <td>1.677090</td>\n",
       "      <td>160.201367</td>\n",
       "      <td>asylum</td>\n",
       "      <td>&lt;100</td>\n",
       "      <td>0.000000</td>\n",
       "    </tr>\n",
       "    <tr>\n",
       "      <th>9325</th>\n",
       "      <td>143490</td>\n",
       "      <td>0</td>\n",
       "      <td>0</td>\n",
       "      <td>13</td>\n",
       "      <td>2005</td>\n",
       "      <td>36</td>\n",
       "      <td>1.010432</td>\n",
       "      <td>110.384004</td>\n",
       "      <td>asylum</td>\n",
       "      <td>&lt;100</td>\n",
       "      <td>0.000000</td>\n",
       "    </tr>\n",
       "    <tr>\n",
       "      <th>3593</th>\n",
       "      <td>2408421</td>\n",
       "      <td>1</td>\n",
       "      <td>21</td>\n",
       "      <td>13</td>\n",
       "      <td>2005</td>\n",
       "      <td>1095</td>\n",
       "      <td>1.226864</td>\n",
       "      <td>54.270166</td>\n",
       "      <td>asylum</td>\n",
       "      <td>&lt;100</td>\n",
       "      <td>0.693147</td>\n",
       "    </tr>\n",
       "    <tr>\n",
       "      <th>7518</th>\n",
       "      <td>141648</td>\n",
       "      <td>0</td>\n",
       "      <td>0</td>\n",
       "      <td>13</td>\n",
       "      <td>2005</td>\n",
       "      <td>61</td>\n",
       "      <td>1.606515</td>\n",
       "      <td>180.842126</td>\n",
       "      <td>asylum</td>\n",
       "      <td>&lt;100</td>\n",
       "      <td>0.000000</td>\n",
       "    </tr>\n",
       "    <tr>\n",
       "      <th>6909</th>\n",
       "      <td>167066</td>\n",
       "      <td>0</td>\n",
       "      <td>11</td>\n",
       "      <td>12</td>\n",
       "      <td>2006</td>\n",
       "      <td>789</td>\n",
       "      <td>1.600282</td>\n",
       "      <td>185.925178</td>\n",
       "      <td>asylum</td>\n",
       "      <td>&lt;100</td>\n",
       "      <td>0.000000</td>\n",
       "    </tr>\n",
       "    <tr>\n",
       "      <th>11137</th>\n",
       "      <td>2499905</td>\n",
       "      <td>2</td>\n",
       "      <td>18</td>\n",
       "      <td>12</td>\n",
       "      <td>2006</td>\n",
       "      <td>1324</td>\n",
       "      <td>0.856812</td>\n",
       "      <td>341.674465</td>\n",
       "      <td>asylum</td>\n",
       "      <td>&lt;100</td>\n",
       "      <td>1.098612</td>\n",
       "    </tr>\n",
       "    <tr>\n",
       "      <th>7888</th>\n",
       "      <td>1764484</td>\n",
       "      <td>3</td>\n",
       "      <td>7</td>\n",
       "      <td>11</td>\n",
       "      <td>2007</td>\n",
       "      <td>1046</td>\n",
       "      <td>2.156538</td>\n",
       "      <td>48.165123</td>\n",
       "      <td>asylum</td>\n",
       "      <td>&lt;100</td>\n",
       "      <td>1.386294</td>\n",
       "    </tr>\n",
       "    <tr>\n",
       "      <th>9580</th>\n",
       "      <td>2518224</td>\n",
       "      <td>2</td>\n",
       "      <td>36</td>\n",
       "      <td>11</td>\n",
       "      <td>2007</td>\n",
       "      <td>1689</td>\n",
       "      <td>2.420100</td>\n",
       "      <td>189.100525</td>\n",
       "      <td>asylum</td>\n",
       "      <td>&lt;100</td>\n",
       "      <td>1.098612</td>\n",
       "    </tr>\n",
       "    <tr>\n",
       "      <th>12579</th>\n",
       "      <td>3000986</td>\n",
       "      <td>0</td>\n",
       "      <td>16</td>\n",
       "      <td>11</td>\n",
       "      <td>2007</td>\n",
       "      <td>629</td>\n",
       "      <td>1.103915</td>\n",
       "      <td>103.777864</td>\n",
       "      <td>asylum</td>\n",
       "      <td>&lt;100</td>\n",
       "      <td>0.000000</td>\n",
       "    </tr>\n",
       "    <tr>\n",
       "      <th>3578</th>\n",
       "      <td>797850</td>\n",
       "      <td>3</td>\n",
       "      <td>12</td>\n",
       "      <td>11</td>\n",
       "      <td>2007</td>\n",
       "      <td>555</td>\n",
       "      <td>3.248173</td>\n",
       "      <td>398.627284</td>\n",
       "      <td>asylum</td>\n",
       "      <td>&lt;100</td>\n",
       "      <td>1.386294</td>\n",
       "    </tr>\n",
       "    <tr>\n",
       "      <th>1956</th>\n",
       "      <td>798121</td>\n",
       "      <td>1</td>\n",
       "      <td>6</td>\n",
       "      <td>11</td>\n",
       "      <td>2007</td>\n",
       "      <td>688</td>\n",
       "      <td>1.366092</td>\n",
       "      <td>183.654936</td>\n",
       "      <td>asylum</td>\n",
       "      <td>&lt;100</td>\n",
       "      <td>0.693147</td>\n",
       "    </tr>\n",
       "    <tr>\n",
       "      <th>5312</th>\n",
       "      <td>2960239</td>\n",
       "      <td>0</td>\n",
       "      <td>8</td>\n",
       "      <td>10</td>\n",
       "      <td>2008</td>\n",
       "      <td>729</td>\n",
       "      <td>2.380480</td>\n",
       "      <td>81.720844</td>\n",
       "      <td>asylum</td>\n",
       "      <td>&lt;100</td>\n",
       "      <td>0.000000</td>\n",
       "    </tr>\n",
       "    <tr>\n",
       "      <th>8062</th>\n",
       "      <td>149518</td>\n",
       "      <td>9</td>\n",
       "      <td>53</td>\n",
       "      <td>8</td>\n",
       "      <td>2010</td>\n",
       "      <td>2208</td>\n",
       "      <td>3.598525</td>\n",
       "      <td>318.981702</td>\n",
       "      <td>asylum</td>\n",
       "      <td>&lt;100</td>\n",
       "      <td>2.302585</td>\n",
       "    </tr>\n",
       "    <tr>\n",
       "      <th>8277</th>\n",
       "      <td>2467595</td>\n",
       "      <td>0</td>\n",
       "      <td>30</td>\n",
       "      <td>8</td>\n",
       "      <td>2010</td>\n",
       "      <td>1904</td>\n",
       "      <td>1.453983</td>\n",
       "      <td>44.880716</td>\n",
       "      <td>asylum</td>\n",
       "      <td>&lt;100</td>\n",
       "      <td>0.000000</td>\n",
       "    </tr>\n",
       "    <tr>\n",
       "      <th>10057</th>\n",
       "      <td>2471128</td>\n",
       "      <td>0</td>\n",
       "      <td>16</td>\n",
       "      <td>8</td>\n",
       "      <td>2010</td>\n",
       "      <td>1668</td>\n",
       "      <td>1.701096</td>\n",
       "      <td>24.110233</td>\n",
       "      <td>asylum</td>\n",
       "      <td>&lt;100</td>\n",
       "      <td>0.000000</td>\n",
       "    </tr>\n",
       "    <tr>\n",
       "      <th>241</th>\n",
       "      <td>2470421</td>\n",
       "      <td>4</td>\n",
       "      <td>11</td>\n",
       "      <td>8</td>\n",
       "      <td>2010</td>\n",
       "      <td>1077</td>\n",
       "      <td>0.989792</td>\n",
       "      <td>136.403241</td>\n",
       "      <td>asylum</td>\n",
       "      <td>&lt;100</td>\n",
       "      <td>1.609438</td>\n",
       "    </tr>\n",
       "    <tr>\n",
       "      <th>10616</th>\n",
       "      <td>801041</td>\n",
       "      <td>0</td>\n",
       "      <td>53</td>\n",
       "      <td>6</td>\n",
       "      <td>2012</td>\n",
       "      <td>3492</td>\n",
       "      <td>2.111471</td>\n",
       "      <td>37.198103</td>\n",
       "      <td>asylum</td>\n",
       "      <td>&lt;100</td>\n",
       "      <td>0.000000</td>\n",
       "    </tr>\n",
       "    <tr>\n",
       "      <th>3607</th>\n",
       "      <td>2645280</td>\n",
       "      <td>0</td>\n",
       "      <td>2</td>\n",
       "      <td>5</td>\n",
       "      <td>2013</td>\n",
       "      <td>433</td>\n",
       "      <td>1.378133</td>\n",
       "      <td>43.663282</td>\n",
       "      <td>asylum</td>\n",
       "      <td>&lt;100</td>\n",
       "      <td>0.000000</td>\n",
       "    </tr>\n",
       "    <tr>\n",
       "      <th>10670</th>\n",
       "      <td>2659824</td>\n",
       "      <td>0</td>\n",
       "      <td>11</td>\n",
       "      <td>5</td>\n",
       "      <td>2013</td>\n",
       "      <td>1068</td>\n",
       "      <td>1.328626</td>\n",
       "      <td>33.378136</td>\n",
       "      <td>asylum</td>\n",
       "      <td>&lt;100</td>\n",
       "      <td>0.000000</td>\n",
       "    </tr>\n",
       "    <tr>\n",
       "      <th>11702</th>\n",
       "      <td>816008</td>\n",
       "      <td>0</td>\n",
       "      <td>12</td>\n",
       "      <td>5</td>\n",
       "      <td>2013</td>\n",
       "      <td>826</td>\n",
       "      <td>3.491534</td>\n",
       "      <td>26.817486</td>\n",
       "      <td>asylum</td>\n",
       "      <td>&lt;100</td>\n",
       "      <td>0.000000</td>\n",
       "    </tr>\n",
       "    <tr>\n",
       "      <th>11098</th>\n",
       "      <td>2672411</td>\n",
       "      <td>0</td>\n",
       "      <td>16</td>\n",
       "      <td>4</td>\n",
       "      <td>2014</td>\n",
       "      <td>1387</td>\n",
       "      <td>1.853604</td>\n",
       "      <td>60.056593</td>\n",
       "      <td>asylum</td>\n",
       "      <td>&lt;100</td>\n",
       "      <td>0.000000</td>\n",
       "    </tr>\n",
       "    <tr>\n",
       "      <th>798</th>\n",
       "      <td>2679683</td>\n",
       "      <td>0</td>\n",
       "      <td>3</td>\n",
       "      <td>4</td>\n",
       "      <td>2014</td>\n",
       "      <td>741</td>\n",
       "      <td>1.667156</td>\n",
       "      <td>29.786586</td>\n",
       "      <td>asylum</td>\n",
       "      <td>&lt;100</td>\n",
       "      <td>0.000000</td>\n",
       "    </tr>\n",
       "    <tr>\n",
       "      <th>3221</th>\n",
       "      <td>2788117</td>\n",
       "      <td>0</td>\n",
       "      <td>37</td>\n",
       "      <td>3</td>\n",
       "      <td>2015</td>\n",
       "      <td>1554</td>\n",
       "      <td>0.902120</td>\n",
       "      <td>30.193604</td>\n",
       "      <td>asylum</td>\n",
       "      <td>&lt;100</td>\n",
       "      <td>0.000000</td>\n",
       "    </tr>\n",
       "    <tr>\n",
       "      <th>11740</th>\n",
       "      <td>2814724</td>\n",
       "      <td>0</td>\n",
       "      <td>23</td>\n",
       "      <td>3</td>\n",
       "      <td>2015</td>\n",
       "      <td>1382</td>\n",
       "      <td>1.613539</td>\n",
       "      <td>98.426254</td>\n",
       "      <td>asylum</td>\n",
       "      <td>&lt;100</td>\n",
       "      <td>0.000000</td>\n",
       "    </tr>\n",
       "    <tr>\n",
       "      <th>5941</th>\n",
       "      <td>4338423</td>\n",
       "      <td>0</td>\n",
       "      <td>8</td>\n",
       "      <td>1</td>\n",
       "      <td>2017</td>\n",
       "      <td>1359</td>\n",
       "      <td>1.494709</td>\n",
       "      <td>41.701917</td>\n",
       "      <td>asylum</td>\n",
       "      <td>&lt;100</td>\n",
       "      <td>0.000000</td>\n",
       "    </tr>\n",
       "  </tbody>\n",
       "</table>\n",
       "</div>"
      ],
      "text/plain": [
       "          opid  indeg  outdeg  age  year  nuniqs       bows        sems  \\\n",
       "1049     93578     69       6  125  1893     696  20.815620   21.668375   \n",
       "7741   1736815      5      29   36  1982    1921  16.185083  115.386283   \n",
       "1291   2246408      0       6   33  1985     677   1.996375   26.990395   \n",
       "8623    493976      2      18   31  1987    1135   9.883511  268.887632   \n",
       "9875   1809476      0      17   27  1991     998   1.169272  229.603086   \n",
       "4661   1520450      1       7   27  1991     662   3.094000   81.431927   \n",
       "6992    587654     64      32   26  1992    1441  31.627218  193.774093   \n",
       "1095   1396786      3      10   23  1995    1031   3.697210   55.267384   \n",
       "2935   1466419      1      30   23  1995    1309   1.224238   76.494858   \n",
       "5926   3023518      0       4   19  1999     655   4.207823   26.087957   \n",
       "5906    139309      0       1   14  2004      47   1.677090  160.201367   \n",
       "9325    143490      0       0   13  2005      36   1.010432  110.384004   \n",
       "3593   2408421      1      21   13  2005    1095   1.226864   54.270166   \n",
       "7518    141648      0       0   13  2005      61   1.606515  180.842126   \n",
       "6909    167066      0      11   12  2006     789   1.600282  185.925178   \n",
       "11137  2499905      2      18   12  2006    1324   0.856812  341.674465   \n",
       "7888   1764484      3       7   11  2007    1046   2.156538   48.165123   \n",
       "9580   2518224      2      36   11  2007    1689   2.420100  189.100525   \n",
       "12579  3000986      0      16   11  2007     629   1.103915  103.777864   \n",
       "3578    797850      3      12   11  2007     555   3.248173  398.627284   \n",
       "1956    798121      1       6   11  2007     688   1.366092  183.654936   \n",
       "5312   2960239      0       8   10  2008     729   2.380480   81.720844   \n",
       "8062    149518      9      53    8  2010    2208   3.598525  318.981702   \n",
       "8277   2467595      0      30    8  2010    1904   1.453983   44.880716   \n",
       "10057  2471128      0      16    8  2010    1668   1.701096   24.110233   \n",
       "241    2470421      4      11    8  2010    1077   0.989792  136.403241   \n",
       "10616   801041      0      53    6  2012    3492   2.111471   37.198103   \n",
       "3607   2645280      0       2    5  2013     433   1.378133   43.663282   \n",
       "10670  2659824      0      11    5  2013    1068   1.328626   33.378136   \n",
       "11702   816008      0      12    5  2013     826   3.491534   26.817486   \n",
       "11098  2672411      0      16    4  2014    1387   1.853604   60.056593   \n",
       "798    2679683      0       3    4  2014     741   1.667156   29.786586   \n",
       "3221   2788117      0      37    3  2015    1554   0.902120   30.193604   \n",
       "11740  2814724      0      23    3  2015    1382   1.613539   98.426254   \n",
       "5941   4338423      0       8    1  2017    1359   1.494709   41.701917   \n",
       "\n",
       "         word sem_q    logdeg  \n",
       "1049   asylum  <100  4.248495  \n",
       "7741   asylum  <100  1.791759  \n",
       "1291   asylum  <100  0.000000  \n",
       "8623   asylum  <100  1.098612  \n",
       "9875   asylum  <100  0.000000  \n",
       "4661   asylum  <100  0.693147  \n",
       "6992   asylum  <100  4.174387  \n",
       "1095   asylum  <100  1.386294  \n",
       "2935   asylum  <100  0.693147  \n",
       "5926   asylum  <100  0.000000  \n",
       "5906   asylum  <100  0.000000  \n",
       "9325   asylum  <100  0.000000  \n",
       "3593   asylum  <100  0.693147  \n",
       "7518   asylum  <100  0.000000  \n",
       "6909   asylum  <100  0.000000  \n",
       "11137  asylum  <100  1.098612  \n",
       "7888   asylum  <100  1.386294  \n",
       "9580   asylum  <100  1.098612  \n",
       "12579  asylum  <100  0.000000  \n",
       "3578   asylum  <100  1.386294  \n",
       "1956   asylum  <100  0.693147  \n",
       "5312   asylum  <100  0.000000  \n",
       "8062   asylum  <100  2.302585  \n",
       "8277   asylum  <100  0.000000  \n",
       "10057  asylum  <100  0.000000  \n",
       "241    asylum  <100  1.609438  \n",
       "10616  asylum  <100  0.000000  \n",
       "3607   asylum  <100  0.000000  \n",
       "10670  asylum  <100  0.000000  \n",
       "11702  asylum  <100  0.000000  \n",
       "11098  asylum  <100  0.000000  \n",
       "798    asylum  <100  0.000000  \n",
       "3221   asylum  <100  0.000000  \n",
       "11740  asylum  <100  0.000000  \n",
       "5941   asylum  <100  0.000000  "
      ]
     },
     "execution_count": 198,
     "metadata": {},
     "output_type": "execute_result"
    }
   ],
   "source": [
    "df_ops[(df_ops[\"sem_q\"] == \"<100\") & (df_ops[\"word\"] == \"asylum\")].sort_values(by=\"year\")"
   ]
  }
 ],
 "metadata": {
  "kernelspec": {
   "display_name": "Python 3",
   "language": "python",
   "name": "python3"
  },
  "language_info": {
   "codemirror_mode": {
    "name": "ipython",
    "version": 3
   },
   "file_extension": ".py",
   "mimetype": "text/x-python",
   "name": "python",
   "nbconvert_exporter": "python",
   "pygments_lexer": "ipython3",
   "version": "3.6.5"
  }
 },
 "nbformat": 4,
 "nbformat_minor": 2
}
