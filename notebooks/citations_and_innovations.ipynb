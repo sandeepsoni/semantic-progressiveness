{
 "cells": [
  {
   "cell_type": "code",
   "execution_count": 1,
   "metadata": {},
   "outputs": [],
   "source": [
    "import pandas as pd\n",
    "import matplotlib.pyplot as plt\n",
    "import seaborn as sns\n",
    "%matplotlib inline\n",
    "\n",
    "import statsmodels.api as sm\n",
    "import patsy\n",
    "\n",
    "import numpy as np"
   ]
  },
  {
   "cell_type": "markdown",
   "metadata": {},
   "source": [
    "# Descriptive analysis"
   ]
  },
  {
   "cell_type": "code",
   "execution_count": 50,
   "metadata": {},
   "outputs": [
    {
     "name": "stdout",
     "output_type": "stream",
     "text": [
      "   indeg  outdeg  age  nuniqs      bows          sems  isunk  ninetyfive  \\\n",
      "0      0       0  145     416  4.540803  4.395973e-49      0           0   \n",
      "1      1       8   21     457  3.347616  2.018162e-04      0           0   \n",
      "2      0       7   27     565  2.213153  0.000000e+00      1           0   \n",
      "\n",
      "   ninety percentile  log(degree)  \n",
      "0       0       <=90     0.000000  \n",
      "1       0       <=90     0.693147  \n",
      "2       0       <=90     0.000000  \n",
      "3992\n"
     ]
    }
   ],
   "source": [
    "df_ops = pd.read_csv('../data/frames/ops.final')\n",
    "print(df_ops.head(3))\n",
    "print(df_ops['indeg'].max())"
   ]
  },
  {
   "cell_type": "code",
   "execution_count": 51,
   "metadata": {},
   "outputs": [
    {
     "data": {
      "text/html": [
       "<div>\n",
       "<style scoped>\n",
       "    .dataframe tbody tr th:only-of-type {\n",
       "        vertical-align: middle;\n",
       "    }\n",
       "\n",
       "    .dataframe tbody tr th {\n",
       "        vertical-align: top;\n",
       "    }\n",
       "\n",
       "    .dataframe thead th {\n",
       "        text-align: right;\n",
       "    }\n",
       "</style>\n",
       "<table border=\"1\" class=\"dataframe\">\n",
       "  <thead>\n",
       "    <tr style=\"text-align: right;\">\n",
       "      <th></th>\n",
       "      <th>indeg</th>\n",
       "      <th>outdeg</th>\n",
       "      <th>year</th>\n",
       "      <th>authors</th>\n",
       "      <th>nuniqs</th>\n",
       "      <th>bows</th>\n",
       "      <th>lang</th>\n",
       "      <th>word</th>\n",
       "      <th>sems</th>\n",
       "      <th>age</th>\n",
       "      <th>isunk</th>\n",
       "      <th>ninety</th>\n",
       "      <th>ltninety</th>\n",
       "      <th>isunk.1</th>\n",
       "      <th>ninetyfive</th>\n",
       "    </tr>\n",
       "  </thead>\n",
       "  <tbody>\n",
       "    <tr>\n",
       "      <th>0</th>\n",
       "      <td>9</td>\n",
       "      <td>2</td>\n",
       "      <td>1999</td>\n",
       "      <td>3</td>\n",
       "      <td>64</td>\n",
       "      <td>13.954760</td>\n",
       "      <td>en</td>\n",
       "      <td>UNK</td>\n",
       "      <td>0.000</td>\n",
       "      <td>19</td>\n",
       "      <td>1</td>\n",
       "      <td>0</td>\n",
       "      <td>1</td>\n",
       "      <td>1</td>\n",
       "      <td>0</td>\n",
       "    </tr>\n",
       "    <tr>\n",
       "      <th>1</th>\n",
       "      <td>10</td>\n",
       "      <td>3</td>\n",
       "      <td>1999</td>\n",
       "      <td>2</td>\n",
       "      <td>56</td>\n",
       "      <td>17.225665</td>\n",
       "      <td>en</td>\n",
       "      <td>UNK</td>\n",
       "      <td>0.000</td>\n",
       "      <td>19</td>\n",
       "      <td>1</td>\n",
       "      <td>0</td>\n",
       "      <td>1</td>\n",
       "      <td>1</td>\n",
       "      <td>0</td>\n",
       "    </tr>\n",
       "    <tr>\n",
       "      <th>2</th>\n",
       "      <td>14</td>\n",
       "      <td>0</td>\n",
       "      <td>2008</td>\n",
       "      <td>4</td>\n",
       "      <td>106</td>\n",
       "      <td>6.484922</td>\n",
       "      <td>en</td>\n",
       "      <td>grey</td>\n",
       "      <td>0.003</td>\n",
       "      <td>10</td>\n",
       "      <td>0</td>\n",
       "      <td>1</td>\n",
       "      <td>0</td>\n",
       "      <td>0</td>\n",
       "      <td>1</td>\n",
       "    </tr>\n",
       "  </tbody>\n",
       "</table>\n",
       "</div>"
      ],
      "text/plain": [
       "   indeg  outdeg  year  authors  nuniqs       bows lang  word   sems  age  \\\n",
       "0      9       2  1999        3      64  13.954760   en   UNK  0.000   19   \n",
       "1     10       3  1999        2      56  17.225665   en   UNK  0.000   19   \n",
       "2     14       0  2008        4     106   6.484922   en  grey  0.003   10   \n",
       "\n",
       "   isunk  ninety  ltninety  isunk.1  ninetyfive  \n",
       "0      1       0         1        1           0  \n",
       "1      1       0         1        1           0  \n",
       "2      0       1         0        0           1  "
      ]
     },
     "execution_count": 51,
     "metadata": {},
     "output_type": "execute_result"
    }
   ],
   "source": [
    "df_dblp = pd.read_csv('../data/frames/dblp.final')\n",
    "df_dblp.head(3)"
   ]
  },
  {
   "cell_type": "code",
   "execution_count": 52,
   "metadata": {},
   "outputs": [],
   "source": [
    "# for simplicity, let's remove docs which don't hit the lexicon\n",
    "# results are basically the same if you don't do this\n",
    "drop_misses = True\n",
    "if drop_misses:\n",
    "    df_ops = df_ops[df_ops['sems']>0]\n",
    "    df_dblp = df_dblp[df_dblp['sems']>0]"
   ]
  },
  {
   "cell_type": "markdown",
   "metadata": {},
   "source": [
    "Now let's bin the citations to make it easier to make figures"
   ]
  },
  {
   "cell_type": "code",
   "execution_count": 53,
   "metadata": {},
   "outputs": [
    {
     "name": "stdout",
     "output_type": "stream",
     "text": [
      "OPS\n",
      " (-1, 0]         2163\n",
      "(0, 5]          2037\n",
      "(5, 20]         1836\n",
      "(20, 100000]    1508\n",
      "Name: citebins, dtype: int64\n",
      "\n",
      "DBLP\n",
      " (0, 5]          12160\n",
      "(-1, 0]         12148\n",
      "(20, 100000]    10338\n",
      "(5, 20]          9084\n",
      "Name: citebins, dtype: int64\n"
     ]
    }
   ],
   "source": [
    "df_ops['citebins'] = pd.cut(df_ops['indeg'],[-1,0,5,20,100000])\n",
    "print(\"OPS\\n\",df_ops['citebins'].value_counts())\n",
    "df_dblp['citebins'] = pd.cut(df_dblp['indeg'],[-1,0,5,20,100000])\n",
    "print(\"\\nDBLP\\n\",df_dblp['citebins'].value_counts())"
   ]
  },
  {
   "cell_type": "code",
   "execution_count": 54,
   "metadata": {},
   "outputs": [
    {
     "data": {
      "image/png": "[encoded data removed]",
      "text/plain": [
       "<Figure size 648x252 with 2 Axes>"
      ]
     },
     "metadata": {},
     "output_type": "display_data"
    }
   ],
   "source": [
    "fig,ax = plt.subplots(1,2,figsize=[9,3.5],sharey=True)\n",
    "sns.barplot(x='citebins',y='sems',data=df_ops,ax=ax[0])#,kind='point')\n",
    "ax[0].set_ylabel('semantic innovativeness')\n",
    "ax[0].set_xlabel('citations');\n",
    "ax[0].set_title('Legal opinions')\n",
    "\n",
    "sns.barplot(x='citebins',y='sems',data=df_dblp,ax=ax[1])#,kind='point')\n",
    "ax[1].set_xlabel('citations');\n",
    "ax[1].set_ylabel('')\n",
    "ax[1].set_title('Scientific articles');"
   ]
  },
  {
   "cell_type": "markdown",
   "metadata": {},
   "source": [
    "For legal documents, highly cited articles are more innovative. Not so for DBLP.\n",
    "\n",
    "Now let's bin the semantic innovativeness feature."
   ]
  },
  {
   "cell_type": "code",
   "execution_count": 55,
   "metadata": {},
   "outputs": [],
   "source": [
    "# quartile-ish bins of the innovation feature  \n",
    "df_ops['sem_q'] = pd.qcut(df_ops['sems'],6,duplicates='drop')\n",
    "df_dblp['sem_q'] = pd.qcut(df_dblp['sems'],18,duplicates='drop')"
   ]
  },
  {
   "cell_type": "code",
   "execution_count": 56,
   "metadata": {},
   "outputs": [
    {
     "data": {
      "image/png": "[encoded data removed]",
      "text/plain": [
       "<Figure size 1080x252 with 2 Axes>"
      ]
     },
     "metadata": {},
     "output_type": "display_data"
    }
   ],
   "source": [
    "fig,ax = plt.subplots(1,2,figsize=[15,3.5],sharey=True)\n",
    "\n",
    "sns.barplot(y='indeg',x='sem_q',data=df_ops,ax=ax[0]);\n",
    "ax[0].set_title('Legal opinions')\n",
    "sns.barplot(y='indeg',x='sem_q',data=df_dblp,ax=ax[1]);\n",
    "ax[1].set_title('Scientific articles');"
   ]
  },
  {
   "cell_type": "markdown",
   "metadata": {},
   "source": [
    "Pretty good picture for OPS, not so good for scientific articles. \n",
    "\n",
    "Here's an alternative binning of the scientific articles:"
   ]
  },
  {
   "cell_type": "code",
   "execution_count": 57,
   "metadata": {},
   "outputs": [],
   "source": [
    "pct90 = df_dblp[['sems']].quantile(.9).item()"
   ]
  },
  {
   "cell_type": "code",
   "execution_count": 58,
   "metadata": {},
   "outputs": [],
   "source": [
    "df_dblp['sem_bins'] = pd.cut(df_dblp['sems'],[-1,0,pct90,10000])"
   ]
  },
  {
   "cell_type": "code",
   "execution_count": 59,
   "metadata": {},
   "outputs": [
    {
     "data": {
      "image/png": "[encoded data removed]",
      "text/plain": [
       "<Figure size 432x288 with 1 Axes>"
      ]
     },
     "metadata": {},
     "output_type": "display_data"
    }
   ],
   "source": [
    "sns.barplot(y='indeg',x='sem_bins',data=df_dblp);"
   ]
  },
  {
   "cell_type": "markdown",
   "metadata": {},
   "source": [
    "Again, docs with zero innovation are less cited, but most innovative docs are not most cited."
   ]
  },
  {
   "cell_type": "markdown",
   "metadata": {},
   "source": [
    "# 90s only\n",
    "\n",
    "What if we correct for age by considering only the 90s"
   ]
  },
  {
   "cell_type": "code",
   "execution_count": 60,
   "metadata": {},
   "outputs": [],
   "source": [
    "df_dblp_90s = df_dblp[(df_dblp['age'] < 30) & (df_dblp['age'] > 20)]"
   ]
  },
  {
   "cell_type": "code",
   "execution_count": 61,
   "metadata": {},
   "outputs": [
    {
     "data": {
      "image/png": "[encoded data removed]",
      "text/plain": [
       "<Figure size 432x288 with 1 Axes>"
      ]
     },
     "metadata": {},
     "output_type": "display_data"
    }
   ],
   "source": [
    "sns.barplot(y='indeg',x='sem_bins',data=df_dblp_90s);"
   ]
  },
  {
   "cell_type": "markdown",
   "metadata": {},
   "source": [
    "Same story! Let's try regression for a better correction for age."
   ]
  },
  {
   "cell_type": "markdown",
   "metadata": {},
   "source": [
    "# Regression"
   ]
  },
  {
   "cell_type": "code",
   "execution_count": 63,
   "metadata": {},
   "outputs": [],
   "source": [
    "from scipy.stats import spearmanr"
   ]
  },
  {
   "cell_type": "markdown",
   "metadata": {},
   "source": [
    "## OPS"
   ]
  },
  {
   "cell_type": "code",
   "execution_count": 64,
   "metadata": {},
   "outputs": [
    {
     "name": "stdout",
     "output_type": "stream",
     "text": [
      "                 Generalized Linear Model Regression Results                  \n",
      "==============================================================================\n",
      "Dep. Variable:                  indeg   No. Observations:                 7544\n",
      "Model:                            GLM   Df Residuals:                     7540\n",
      "Model Family:                 Poisson   Df Model:                            3\n",
      "Link Function:                    log   Scale:                          1.0000\n",
      "Method:                          IRLS   Log-Likelihood:            -2.3825e+05\n",
      "Date:                Sun, 09 Dec 2018   Deviance:                   4.5460e+05\n",
      "Time:                        00:02:41   Pearson chi2:                 2.65e+06\n",
      "No. Iterations:                     9   Covariance Type:             nonrobust\n",
      "==============================================================================\n",
      "                 coef    std err          z      P>|z|      [0.025      0.975]\n",
      "------------------------------------------------------------------------------\n",
      "Intercept      1.7778      0.005    363.665      0.000       1.768       1.787\n",
      "age            0.0146   7.71e-05    189.661      0.000       0.014       0.015\n",
      "sems           1.0956      0.045     24.290      0.000       1.007       1.184\n",
      "nuniqs         0.0006   1.63e-06    388.749      0.000       0.001       0.001\n",
      "==============================================================================\n",
      "SpearmanrResult(correlation=0.4778569731219693, pvalue=0.0)\n"
     ]
    }
   ],
   "source": [
    "# simple poisson regression first\n",
    "Y,X = patsy.dmatrices(\"indeg ~ age + sems + nuniqs\",data=df_ops)\n",
    "po_results = sm.GLM(Y, X, family=sm.families.Poisson()).fit()\n",
    "print(po_results.summary())\n",
    "print(spearmanr(po_results.predict(X), Y))"
   ]
  },
  {
   "cell_type": "markdown",
   "metadata": {},
   "source": [
    "Very strong effect! Good!\n",
    "\n",
    "How about the log number of citations for better fit?"
   ]
  },
  {
   "cell_type": "code",
   "execution_count": 65,
   "metadata": {},
   "outputs": [],
   "source": [
    "df_ops['logdegree'] = np.log1p(df_ops['indeg'])\n",
    "df_dblp['logdegree'] = np.log1p(df_dblp['indeg'])"
   ]
  },
  {
   "cell_type": "code",
   "execution_count": 68,
   "metadata": {},
   "outputs": [
    {
     "name": "stdout",
     "output_type": "stream",
     "text": [
      "                 Generalized Linear Model Regression Results                  \n",
      "==============================================================================\n",
      "Dep. Variable:              logdegree   No. Observations:                 7544\n",
      "Model:                            GLM   Df Residuals:                     7540\n",
      "Model Family:                 Poisson   Df Model:                            3\n",
      "Link Function:                    log   Scale:                          1.0000\n",
      "Method:                          IRLS   Log-Likelihood:                -12317.\n",
      "Date:                Sun, 09 Dec 2018   Deviance:                       10335.\n",
      "Time:                        00:03:00   Pearson chi2:                 8.55e+03\n",
      "No. Iterations:                     5   Covariance Type:             nonrobust\n",
      "==============================================================================\n",
      "                 coef    std err          z      P>|z|      [0.025      0.975]\n",
      "------------------------------------------------------------------------------\n",
      "Intercept     -0.1658      0.019     -8.718      0.000      -0.203      -0.129\n",
      "age            0.0101      0.000     33.115      0.000       0.009       0.011\n",
      "sems           0.3478      0.234      1.488      0.137      -0.110       0.806\n",
      "nuniqs         0.0003   1.01e-05     34.588      0.000       0.000       0.000\n",
      "==============================================================================\n",
      "SpearmanrResult(correlation=0.492897873730513, pvalue=0.0)\n"
     ]
    }
   ],
   "source": [
    "Y,X = patsy.dmatrices(\"logdegree ~ age + sems + nuniqs\",data=df_ops)\n",
    "po_results = sm.GLM(Y, X, family=sm.families.Poisson()).fit()\n",
    "print(po_results.summary())\n",
    "print(spearmanr(po_results.predict(X), Y))"
   ]
  },
  {
   "cell_type": "markdown",
   "metadata": {},
   "source": [
    "Now let's try binning with the binned semantics"
   ]
  },
  {
   "cell_type": "code",
   "execution_count": 69,
   "metadata": {},
   "outputs": [
    {
     "name": "stdout",
     "output_type": "stream",
     "text": [
      "                 Generalized Linear Model Regression Results                  \n",
      "==============================================================================\n",
      "Dep. Variable:              logdegree   No. Observations:                 7544\n",
      "Model:                            GLM   Df Residuals:                     7536\n",
      "Model Family:                 Poisson   Df Model:                            7\n",
      "Link Function:                    log   Scale:                          1.0000\n",
      "Method:                          IRLS   Log-Likelihood:                -12311.\n",
      "Date:                Sun, 09 Dec 2018   Deviance:                       10322.\n",
      "Time:                        00:04:06   Pearson chi2:                 8.55e+03\n",
      "No. Iterations:                     5   Covariance Type:             nonrobust\n",
      "=========================================================================================================================\n",
      "                                                            coef    std err          z      P>|z|      [0.025      0.975]\n",
      "-------------------------------------------------------------------------------------------------------------------------\n",
      "Intercept                                                -0.1909      0.028     -6.837      0.000      -0.246      -0.136\n",
      "sem_q[T.Interval(4.71e-08, 1.65e-06, closed='right')]     0.0239      0.030      0.784      0.433      -0.036       0.084\n",
      "sem_q[T.Interval(1.65e-06, 1.14e-05, closed='right')]     0.0905      0.030      2.968      0.003       0.031       0.150\n",
      "sem_q[T.Interval(1.14e-05, 7.62e-05, closed='right')]     0.0310      0.031      0.987      0.324      -0.031       0.093\n",
      "sem_q[T.Interval(7.62e-05, 0.000629, closed='right')]     0.0020      0.032      0.064      0.949      -0.060       0.064\n",
      "sem_q[T.Interval(0.000629, 1.0, closed='right')]         -0.0117      0.032     -0.365      0.715      -0.075       0.051\n",
      "age                                                       0.0101      0.000     31.993      0.000       0.009       0.011\n",
      "nuniqs                                                    0.0004   1.03e-05     34.057      0.000       0.000       0.000\n",
      "=========================================================================================================================\n",
      "SpearmanrResult(correlation=0.4900718005090002, pvalue=0.0)\n"
     ]
    }
   ],
   "source": [
    "Y,X = patsy.dmatrices(\"logdegree ~ age + sem_q + nuniqs\",data=df_ops)\n",
    "po_results = sm.GLM(Y, X, family=sm.families.Poisson()).fit()\n",
    "print(po_results.summary())\n",
    "print(spearmanr(po_results.predict(X), Y))"
   ]
  },
  {
   "cell_type": "markdown",
   "metadata": {},
   "source": [
    "Less great -- all the action seems to be in distinguishing from the lowest bin."
   ]
  },
  {
   "cell_type": "markdown",
   "metadata": {},
   "source": [
    "## DBLP"
   ]
  },
  {
   "cell_type": "code",
   "execution_count": 46,
   "metadata": {},
   "outputs": [
    {
     "name": "stdout",
     "output_type": "stream",
     "text": [
      "                 Generalized Linear Model Regression Results                  \n",
      "==============================================================================\n",
      "Dep. Variable:                  indeg   No. Observations:               250000\n",
      "Model:                            GLM   Df Residuals:                   249994\n",
      "Model Family:                 Poisson   Df Model:                            5\n",
      "Link Function:                    log   Scale:                          1.0000\n",
      "Method:                          IRLS   Log-Likelihood:            -6.2058e+06\n",
      "Date:                Sun, 09 Dec 2018   Deviance:                   1.1640e+07\n",
      "Time:                        00:01:10   Pearson chi2:                 7.21e+07\n",
      "No. Iterations:                    13   Covariance Type:             nonrobust\n",
      "==============================================================================\n",
      "                 coef    std err          z      P>|z|      [0.025      0.975]\n",
      "------------------------------------------------------------------------------\n",
      "Intercept      1.4029      0.002    908.523      0.000       1.400       1.406\n",
      "outdeg         0.0173   1.48e-05   1170.606      0.000       0.017       0.017\n",
      "age            0.0669   4.34e-05   1540.831      0.000       0.067       0.067\n",
      "sems           0.9683      0.026     37.831      0.000       0.918       1.018\n",
      "nuniqs         0.0061   1.17e-05    522.460      0.000       0.006       0.006\n",
      "authors        0.0555      0.000    390.154      0.000       0.055       0.056\n",
      "==============================================================================\n",
      "SpearmanrResult(correlation=0.48288136548607935, pvalue=0.0)\n"
     ]
    }
   ],
   "source": [
    "Y,X = patsy.dmatrices(\"indeg ~ outdeg + age + sems + nuniqs + authors\",data=df_dblp)\n",
    "po_results = sm.GLM(Y, X, family=sm.families.Poisson()).fit()\n",
    "print(po_results.summary())\n",
    "print(spearmanr(po_results.predict(X), Y))"
   ]
  },
  {
   "cell_type": "markdown",
   "metadata": {},
   "source": [
    "Very strong positive weight for sems again. Good!"
   ]
  },
  {
   "cell_type": "code",
   "execution_count": 48,
   "metadata": {},
   "outputs": [
    {
     "name": "stdout",
     "output_type": "stream",
     "text": [
      "                 Generalized Linear Model Regression Results                  \n",
      "==============================================================================\n",
      "Dep. Variable:              logdegree   No. Observations:               250000\n",
      "Model:                            GLM   Df Residuals:                   249994\n",
      "Model Family:                 Poisson   Df Model:                            5\n",
      "Link Function:                    log   Scale:                          1.0000\n",
      "Method:                          IRLS   Log-Likelihood:            -4.2336e+05\n",
      "Date:                Sun, 09 Dec 2018   Deviance:                   3.5137e+05\n",
      "Time:                        00:01:28   Pearson chi2:                 2.82e+05\n",
      "No. Iterations:                     7   Covariance Type:             nonrobust\n",
      "==============================================================================\n",
      "                 coef    std err          z      P>|z|      [0.025      0.975]\n",
      "------------------------------------------------------------------------------\n",
      "Intercept     -0.3707      0.006    -63.824      0.000      -0.382      -0.359\n",
      "outdeg         0.0134   8.13e-05    164.495      0.000       0.013       0.014\n",
      "age            0.0425      0.000    241.342      0.000       0.042       0.043\n",
      "sems          -0.3182      0.129     -2.463      0.014      -0.571      -0.065\n",
      "nuniqs         0.0031   4.59e-05     68.567      0.000       0.003       0.003\n",
      "authors        0.0379      0.001     57.489      0.000       0.037       0.039\n",
      "==============================================================================\n",
      "SpearmanrResult(correlation=0.492768795820841, pvalue=0.0)\n"
     ]
    }
   ],
   "source": [
    "Y,X = patsy.dmatrices(\"logdegree ~ outdeg + age + sems + nuniqs + authors\",data=df_dblp)\n",
    "po_results = sm.GLM(Y, X, family=sm.families.Poisson()).fit()\n",
    "print(po_results.summary())\n",
    "print(spearmanr(po_results.predict(X), Y))"
   ]
  },
  {
   "cell_type": "markdown",
   "metadata": {},
   "source": [
    "After logging the degree, the weight on sems is negative! I guess the previous regression was dominated by some extreme values?"
   ]
  },
  {
   "cell_type": "code",
   "execution_count": 49,
   "metadata": {},
   "outputs": [
    {
     "name": "stdout",
     "output_type": "stream",
     "text": [
      "                 Generalized Linear Model Regression Results                  \n",
      "==============================================================================\n",
      "Dep. Variable:              logdegree   No. Observations:               250000\n",
      "Model:                            GLM   Df Residuals:                   249993\n",
      "Model Family:                 Poisson   Df Model:                            6\n",
      "Link Function:                    log   Scale:                          1.0000\n",
      "Method:                          IRLS   Log-Likelihood:            -4.2333e+05\n",
      "Date:                Sun, 09 Dec 2018   Deviance:                   3.5132e+05\n",
      "Time:                        00:01:40   Pearson chi2:                 2.82e+05\n",
      "No. Iterations:                     7   Covariance Type:             nonrobust\n",
      "=========================================================================================================================\n",
      "                                                            coef    std err          z      P>|z|      [0.025      0.975]\n",
      "-------------------------------------------------------------------------------------------------------------------------\n",
      "Intercept                                                -0.3710      0.006    -63.861      0.000      -0.382      -0.360\n",
      "sem_bins[T.Interval(0.0, 0.0004, closed='right')]         0.0411      0.005      7.735      0.000       0.031       0.052\n",
      "sem_bins[T.Interval(0.0004, 10000.0, closed='right')]     0.0025      0.005      0.469      0.639      -0.008       0.013\n",
      "outdeg                                                    0.0134   8.13e-05    164.462      0.000       0.013       0.014\n",
      "age                                                       0.0426      0.000    241.001      0.000       0.042       0.043\n",
      "nuniqs                                                    0.0031   4.64e-05     66.934      0.000       0.003       0.003\n",
      "authors                                                   0.0378      0.001     57.249      0.000       0.036       0.039\n",
      "=========================================================================================================================\n"
     ]
    }
   ],
   "source": [
    "Y,X = patsy.dmatrices(\"logdegree ~ outdeg + age + sem_bins + nuniqs + authors\",data=df_dblp)\n",
    "po_results = sm.GLM(Y, X, family=sm.families.Poisson()).fit()\n",
    "print(po_results.summary())"
   ]
  },
  {
   "cell_type": "markdown",
   "metadata": {},
   "source": [
    "Documents with non-zero semantic innovation are cited more, but the most innovative documents are cited less than the ones in the middle."
   ]
  }
 ],
 "metadata": {
  "kernelspec": {
   "display_name": "Python 3",
   "language": "python",
   "name": "python3"
  },
  "language_info": {
   "codemirror_mode": {
    "name": "ipython",
    "version": 3
   },
   "file_extension": ".py",
   "mimetype": "text/x-python",
   "name": "python",
   "nbconvert_exporter": "python",
   "pygments_lexer": "ipython3",
   "version": "3.6.5"
  }
 },
 "nbformat": 4,
 "nbformat_minor": 2
}
