{
 "cells": [
  {
   "cell_type": "code",
   "execution_count": 53,
   "metadata": {},
   "outputs": [],
   "source": [
    "import gensim, glob, logging\n",
    "from gensim.models.callbacks import CallbackAny2Vec\n",
    "\n",
    "import sys\n",
    "sys.path.append (\"../modules\")\n",
    "from utils.w2vutils import EpochLogger"
   ]
  },
  {
   "cell_type": "code",
   "execution_count": 58,
   "metadata": {},
   "outputs": [],
   "source": [
    "eqdocs_models = [gensim.models.Word2Vec.load(filename, mmap=\"r\") for filename in sorted (glob.glob(\"/hg191/corpora/legaldata/sc-docs/*.model\"), \n",
    "                                                                        key=lambda x:int(x.split(\"/\")[-1].split(\".\")[0]))]"
   ]
  },
  {
   "cell_type": "code",
   "execution_count": 62,
   "metadata": {},
   "outputs": [],
   "source": [
    "eqtime_models = [gensim.models.Word2Vec.load (filename, mmap=\"r\") for filename in sorted (glob.glob (\"/hg191/corpora/legaldata/sc-time/*.model\"), key=len)]"
   ]
  },
  {
   "cell_type": "markdown",
   "metadata": {},
   "source": [
    "Now check the synchronic validity of each model on some benchmark tasks and datasets."
   ]
  },
  {
   "cell_type": "code",
   "execution_count": 66,
   "metadata": {},
   "outputs": [
    {
     "name": "stdout",
     "output_type": "stream",
     "text": [
      "--2018-10-12 16:04:01--  https://raw.githubusercontent.com/AdrienGuille/DistributionalSemantics/master/evaluation_data/wordsim353.tsv\n",
      "Resolving raw.githubusercontent.com (raw.githubusercontent.com)... 151.101.32.133\n",
      "Connecting to raw.githubusercontent.com (raw.githubusercontent.com)|151.101.32.133|:443... connected.\n",
      "HTTP request sent, awaiting response... 200 OK\n",
      "Length: 7405 (7.2K) [text/plain]\n",
      "Saving to: ‘wordsim353.tsv’\n",
      "\n",
      "100%[======================================>] 7,405       --.-K/s   in 0s      \n",
      "\n",
      "2018-10-12 16:04:01 (45.7 MB/s) - ‘wordsim353.tsv’ saved [7405/7405]\n",
      "\n",
      "--2018-10-12 16:04:02--  https://raw.githubusercontent.com/nicholas-leonard/word2vec/master/questions-words.txt\n",
      "Resolving raw.githubusercontent.com (raw.githubusercontent.com)... 151.101.32.133\n",
      "Connecting to raw.githubusercontent.com (raw.githubusercontent.com)|151.101.32.133|:443... connected.\n",
      "HTTP request sent, awaiting response... 200 OK\n",
      "Length: 603955 (590K) [text/plain]\n",
      "Saving to: ‘questions-words.txt.1’\n",
      "\n",
      "100%[======================================>] 603,955     3.01MB/s   in 0.2s   \n",
      "\n",
      "2018-10-12 16:04:02 (3.01 MB/s) - ‘questions-words.txt.1’ saved [603955/603955]\n",
      "\n"
     ]
    }
   ],
   "source": [
    "!wget https://raw.githubusercontent.com/AdrienGuille/DistributionalSemantics/master/evaluation_data/wordsim353.tsv\n",
    "!wget https://raw.githubusercontent.com/nicholas-leonard/word2vec/master/questions-words.txt"
   ]
  },
  {
   "cell_type": "code",
   "execution_count": 85,
   "metadata": {},
   "outputs": [
    {
     "name": "stderr",
     "output_type": "stream",
     "text": [
      "/nethome/ssoni30/venvs/py36/lib/python3.6/site-packages/gensim/matutils.py:737: FutureWarning: Conversion of the second argument of issubdtype from `int` to `np.signedinteger` is deprecated. In future, it will be treated as `np.int64 == np.dtype(int).type`.\n",
      "  if np.issubdtype(vec.dtype, np.int):\n"
     ]
    },
    {
     "name": "stdout",
     "output_type": "stream",
     "text": [
      "(0.5395840044670418, 9.2791386480705e-28) SpearmanrResult(correlation=0.5570080301314163, pvalue=7.852727231162398e-30) 0.26904819863680624\n"
     ]
    }
   ],
   "source": [
    "model = eqtime_models[0]\n",
    "similarities = model.wv.evaluate_word_pairs('wordsim353.tsv', dummy4unknown=False)\n",
    "analogy_scores = model.wv.evaluate_word_analogies (\"questions-words.txt\", dummy4unknown=False)\n",
    "print (similarities[0], similarities[1], analogy_scores[0])"
   ]
  },
  {
   "cell_type": "code",
   "execution_count": 89,
   "metadata": {},
   "outputs": [
    {
     "name": "stderr",
     "output_type": "stream",
     "text": [
      "/nethome/ssoni30/venvs/py36/lib/python3.6/site-packages/gensim/matutils.py:737: FutureWarning: Conversion of the second argument of issubdtype from `int` to `np.signedinteger` is deprecated. In future, it will be treated as `np.int64 == np.dtype(int).type`.\n",
      "  if np.issubdtype(vec.dtype, np.int):\n"
     ]
    },
    {
     "name": "stdout",
     "output_type": "stream",
     "text": [
      "1 (0.4088380994317934, 1.1778705445430818e-15) SpearmanrResult(correlation=0.4334708888875906, pvalue=1.3292362041002861e-17) 0.19274457634056488\n",
      "2 (0.4147750578136015, 4.1326231017749983e-16) SpearmanrResult(correlation=0.4360834647415774, pvalue=8.082644031644541e-18) 0.19448424068767908\n",
      "3 (0.4137560100481765, 4.953878155079962e-16) SpearmanrResult(correlation=0.4371147985338671, pvalue=6.6336345319732836e-18) 0.19535407286123618\n",
      "4 (0.41041677754551165, 8.933555119628686e-16) SpearmanrResult(correlation=0.43634716424164294, pvalue=7.684980499987822e-18) 0.19315390912812117\n",
      "5 (0.4113561522568702, 7.573112300672391e-16) SpearmanrResult(correlation=0.4355623410528807, pvalue=8.928885977662406e-18) 0.19223291035611953\n"
     ]
    }
   ],
   "source": [
    "correlations = list ()\n",
    "analogy_accuracies = list ()\n",
    "for i in range (1,6):\n",
    "    similarities = eqtime_models[i].wv.evaluate_word_pairs('wordsim353.tsv', dummy4unknown=True)\n",
    "    analogy_scores = eqtime_models[i].wv.evaluate_word_analogies (\"questions-words.txt\", dummy4unknown=True)\n",
    "    print (i, similarities[0], similarities[1], analogy_scores[0])\n",
    "    correlations.append (similarities[1].correlation)\n",
    "    analogy_accuracies.append (analogy_scores[0])"
   ]
  },
  {
   "cell_type": "code",
   "execution_count": 84,
   "metadata": {},
   "outputs": [
    {
     "name": "stdout",
     "output_type": "stream",
     "text": [
      "0.43571573149151177 0.0012291599239472335\n",
      "0.19359394187474416 0.0011539627801072797\n"
     ]
    }
   ],
   "source": [
    "import numpy as np\n",
    "correlations = [0.4334708888875906, 0.4360834647415774, 0.4371147985338671, 0.43634716424164294, 0.4355623410528807]\n",
    "analogy_accuracies = [0.19274457634056488, 0.19448424068767908, 0.19535407286123618, 0.19315390912812117, 0.19223291035611953]\n",
    "print (np.mean (correlations), np.std(correlations))\n",
    "print (np.mean (analogy_accuracies), np.std(analogy_accuracies))"
   ]
  },
  {
   "cell_type": "markdown",
   "metadata": {},
   "source": [
    "Now let's evaluate on the models that have approx. equal number of documents in each of the splits."
   ]
  },
  {
   "cell_type": "code",
   "execution_count": 90,
   "metadata": {},
   "outputs": [
    {
     "name": "stderr",
     "output_type": "stream",
     "text": [
      "/nethome/ssoni30/venvs/py36/lib/python3.6/site-packages/gensim/matutils.py:737: FutureWarning: Conversion of the second argument of issubdtype from `int` to `np.signedinteger` is deprecated. In future, it will be treated as `np.int64 == np.dtype(int).type`.\n",
      "  if np.issubdtype(vec.dtype, np.int):\n"
     ]
    },
    {
     "name": "stdout",
     "output_type": "stream",
     "text": [
      "0 (0.48535237306307105, 1.1403762301404674e-20) 0.4979876320664336 0.3473179502547198\n",
      "1 (0.5210504539252125, 1.2153019805810918e-24) 0.5265069311258447 0.3253610108303249\n",
      "2 (0.4992331775216031, 4.404449802530852e-23) 0.5190960757582349 0.3077999558076158\n",
      "3 (0.5058419460263084, 6.0805499791123606e-24) 0.5225881507621538 0.3031134869609189\n",
      "4 (0.5001200494375001, 4.804786515036026e-23) 0.5208830841944035 0.3015613910574876\n",
      "5 (0.48202288459414044, 1.565624283556623e-21) 0.5014426857832559 0.3063122437024019\n",
      "6 (0.4725359346534674, 1.1999366091480957e-20) 0.4879675646695335 0.28254488360980273\n",
      "7 (0.5046689292816873, 6.91387642713424e-24) 0.5138656842999045 0.2897222030743779\n",
      "8 (0.5155868606857807, 5.847387350807945e-25) 0.5325295677644264 0.29005270092226615\n",
      "9 (0.5105085309038903, 1.7172409298959005e-24) 0.5265617110255899 0.2842859961849635\n",
      "10 (0.5337414556945873, 7.179585612852385e-27) 0.5448029209401138 0.27216535956400373\n",
      "11 (0.5332564370552508, 6.874646011316296e-27) 0.5526897528764858 0.27043808209727493\n"
     ]
    }
   ],
   "source": [
    "correlations = list ()\n",
    "analogy_accuracies = list ()\n",
    "for i, model in enumerate (eqdocs_models):\n",
    "    similarities = model.wv.evaluate_word_pairs('wordsim353.tsv', dummy4unknown=False)\n",
    "    analogy_scores = model.wv.evaluate_word_analogies (\"questions-words.txt\", dummy4unknown=False)\n",
    "    \n",
    "    print (i, similarities[0], similarities[1].correlation, analogy_scores[0])\n",
    "    \n",
    "    correlations.append (similarities[1].correlation)\n",
    "    analogy_accuracies.append (analogy_scores[0])"
   ]
  },
  {
   "cell_type": "code",
   "execution_count": 96,
   "metadata": {},
   "outputs": [
    {
     "name": "stdout",
     "output_type": "stream",
     "text": [
      "0.520576813438865 0.01784918059365494 0.4879675646695335 0.5526897528764858\n",
      "0.29838960533884645 0.02115169689860722 0.27043808209727493 0.3473179502547198\n"
     ]
    }
   ],
   "source": [
    "print (np.mean(correlations), np.std (correlations), np.min (correlations), np.max (correlations))\n",
    "print (np.mean(analogy_accuracies), np.std (analogy_accuracies), np.min (analogy_accuracies), np.max (analogy_accuracies))"
   ]
  }
 ],
 "metadata": {
  "kernelspec": {
   "display_name": "Python 3",
   "language": "python",
   "name": "python3"
  },
  "language_info": {
   "codemirror_mode": {
    "name": "ipython",
    "version": 3
   },
   "file_extension": ".py",
   "mimetype": "text/x-python",
   "name": "python",
   "nbconvert_exporter": "python",
   "pygments_lexer": "ipython3",
   "version": "3.6.5"
  }
 },
 "nbformat": 4,
 "nbformat_minor": 2
}
